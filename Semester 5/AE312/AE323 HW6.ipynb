{
 "cells": [
  {
   "cell_type": "code",
   "execution_count": 1,
   "id": "d1ff4e6b-55c7-44f5-bfe1-8610212f19c3",
   "metadata": {},
   "outputs": [],
   "source": [
    "import numpy as np\n",
    "import sympy as sy"
   ]
  },
  {
   "cell_type": "code",
   "execution_count": 2,
   "id": "82348d6f-a978-41cd-aaef-5adfa5716ba4",
   "metadata": {},
   "outputs": [],
   "source": [
    "mu_s = 69e9\n",
    "mu_a = 27.56e9\n",
    "M_t = 10000"
   ]
  },
  {
   "cell_type": "code",
   "execution_count": 3,
   "id": "4db5e9ad-78a0-4209-a542-45104b1a8306",
   "metadata": {},
   "outputs": [],
   "source": [
    "q_1, q_2, q_3 = sy.S('q_1, q_2, q_3')"
   ]
  },
  {
   "cell_type": "code",
   "execution_count": 4,
   "id": "3c7747c5-b5e6-4207-bc0a-74a1f4f066bf",
   "metadata": {},
   "outputs": [],
   "source": [
    "theta_1 = (1 / ( mu_a * 0.1**2 * sy.pi)) * (25 * sy.pi * q_1 + 20 * (q_1 - q_2))\n",
    "theta_2 = (1 / (2 * mu_a * 0.4 * 0.2)) * (100 * q_2 + 20 * (q_2 - q_1) + 20 * (q_2 - q_3))\n",
    "theta_3 = (1 / (mu_a * 0.3 * 0.2)) * (20 * (q_3 - q_2) + 2 * np.sqrt(0.1) * q_3 / 0.003)"
   ]
  },
  {
   "cell_type": "code",
   "execution_count": 5,
   "id": "1bb09aa2-fcc8-4d18-9a6b-fb5a3cfae7cb",
   "metadata": {},
   "outputs": [],
   "source": [
    "Eq1 = sy.Eq(M_t, q_1 * 0.01 * sy.pi + q_2 * 0.16 + q_3 * 0.06)\n",
    "Eq2 = sy.Eq(theta_1, theta_2)\n",
    "Eq3 = sy.Eq(theta_2, theta_3)"
   ]
  },
  {
   "cell_type": "code",
   "execution_count": 6,
   "id": "022392a3-37bd-49ad-ad1e-003d090cf5ee",
   "metadata": {},
   "outputs": [
    {
     "data": {
      "text/plain": [
       "{q_1: 23607.5640078601, q_2: 52189.4671090033, q_3: 15133.8627666171}"
      ]
     },
     "execution_count": 6,
     "metadata": {},
     "output_type": "execute_result"
    }
   ],
   "source": [
    "soln = sy.solve((Eq1,Eq2,Eq3), (q_1,q_2,q_3))\n",
    "soln"
   ]
  },
  {
   "cell_type": "code",
   "execution_count": 7,
   "id": "120674b2-c179-4784-874b-dda747072ac8",
   "metadata": {},
   "outputs": [
    {
     "data": {
      "text/latex": [
       "$\\displaystyle 0.00148124475230654$"
      ],
      "text/plain": [
       "0.00148124475230654"
      ]
     },
     "execution_count": 7,
     "metadata": {},
     "output_type": "execute_result"
    }
   ],
   "source": [
    "theta = theta_1.subs(soln).evalf()\n",
    "theta"
   ]
  },
  {
   "cell_type": "code",
   "execution_count": 8,
   "id": "2d666606-eaae-4396-afa2-a7e3e30fad6f",
   "metadata": {},
   "outputs": [
    {
     "data": {
      "text/plain": [
       "{q_1: 23607.5640078601, q_2: 52189.4671090033, q_3: 15133.8627666171}"
      ]
     },
     "execution_count": 8,
     "metadata": {},
     "output_type": "execute_result"
    }
   ],
   "source": [
    "soln"
   ]
  },
  {
   "cell_type": "code",
   "execution_count": 9,
   "id": "b6bae9ee-cfba-477e-8cab-acc0f9d5e8c7",
   "metadata": {},
   "outputs": [
    {
     "data": {
      "text/latex": [
       "$\\displaystyle 0.000244959316751898$"
      ],
      "text/plain": [
       "0.000244959316751898"
      ]
     },
     "execution_count": 9,
     "metadata": {},
     "output_type": "execute_result"
    }
   ],
   "source": [
    "M_t / (mu_a * theta)"
   ]
  },
  {
   "cell_type": "code",
   "execution_count": 10,
   "id": "0ea4bcf6-2786-4a48-a996-fac1c8204e04",
   "metadata": {},
   "outputs": [
    {
     "data": {
      "text/latex": [
       "$\\displaystyle 5901891.00196503$"
      ],
      "text/plain": [
       "5901891.00196503"
      ]
     },
     "execution_count": 10,
     "metadata": {},
     "output_type": "execute_result"
    }
   ],
   "source": [
    "soln[q_1] / 0.004"
   ]
  },
  {
   "cell_type": "code",
   "execution_count": 11,
   "id": "4568bed7-48d1-4add-b675-d458528c2746",
   "metadata": {},
   "outputs": [
    {
     "data": {
      "text/latex": [
       "$\\displaystyle 3705560.43423862$"
      ],
      "text/plain": [
       "3705560.43423862"
      ]
     },
     "execution_count": 11,
     "metadata": {},
     "output_type": "execute_result"
    }
   ],
   "source": [
    "(soln[q_2] - soln[q_3]) / 0.01"
   ]
  },
  {
   "cell_type": "code",
   "execution_count": 12,
   "id": "f59b6de3-23fe-49ad-8b65-4624f1c65c61",
   "metadata": {},
   "outputs": [
    {
     "data": {
      "text/latex": [
       "$\\displaystyle 2858190.31011432$"
      ],
      "text/plain": [
       "2858190.31011432"
      ]
     },
     "execution_count": 12,
     "metadata": {},
     "output_type": "execute_result"
    }
   ],
   "source": [
    "(soln[q_2] - soln[q_1]) / 0.01"
   ]
  },
  {
   "cell_type": "code",
   "execution_count": 13,
   "id": "d15c69b9-ceab-41a0-bda1-5ce0ec9a58ad",
   "metadata": {},
   "outputs": [
    {
     "data": {
      "text/latex": [
       "$\\displaystyle 5044620.9222057$"
      ],
      "text/plain": [
       "5044620.92220570"
      ]
     },
     "execution_count": 13,
     "metadata": {},
     "output_type": "execute_result"
    }
   ],
   "source": [
    "soln[q_3] / 0.003"
   ]
  },
  {
   "cell_type": "code",
   "execution_count": 14,
   "id": "effe3798-47d1-4afe-ae07-d0e8625225d8",
   "metadata": {},
   "outputs": [],
   "source": [
    "P_D, P_o, L, x, E, I = sy.S('P_D, P_o, L, x, E, I')"
   ]
  },
  {
   "cell_type": "code",
   "execution_count": 15,
   "id": "e4e67cd0-01ed-42b2-8565-fc754c259504",
   "metadata": {},
   "outputs": [],
   "source": [
    "M_y = P_D * (L - x) + P_o * (L - x)**3 / (6 * L)"
   ]
  },
  {
   "cell_type": "code",
   "execution_count": 21,
   "id": "32ffe461-1604-4041-94bf-c95542b5e505",
   "metadata": {},
   "outputs": [],
   "source": [
    "U = sy.integrate(M_y**2 / (E*I), x)"
   ]
  },
  {
   "cell_type": "code",
   "execution_count": 23,
   "id": "a6009886-5742-455d-90fb-a6ec1a91eb7d",
   "metadata": {},
   "outputs": [
    {
     "data": {
      "text/latex": [
       "$\\displaystyle \\frac{i L^{3} \\left(- \\frac{L^{2} P_{o}^{2}}{252} - \\frac{L P_{D} P_{o}}{15} - \\frac{P_{D}^{2}}{3}\\right)}{e}$"
      ],
      "text/plain": [
       "I*L**3*(-L**2*P_o**2/252 - L*P_D*P_o/15 - P_D**2/3)*exp(-1)"
      ]
     },
     "execution_count": 23,
     "metadata": {},
     "output_type": "execute_result"
    }
   ],
   "source": [
    "sy.simplify(U.subs(x,L)) - U.subs(x, 0)"
   ]
  },
  {
   "cell_type": "code",
   "execution_count": 17,
   "id": "4bf99609-2170-473b-a7cf-ccd11f5bc884",
   "metadata": {},
   "outputs": [],
   "source": [
    "A_2 = 9.633333333333\n",
    "A_3 = 65.36\n",
    "A_4 = 17.15\n",
    "A_6 = 57.85\n",
    "\n",
    "# P_2 = 2.0054\n",
    "# P_3 = 0.7357\n",
    "# P_4 = 2.149\n",
    "# P_6 = 1.741\n",
    "\n",
    "P_2 = 5.24\n",
    "P_3 = 0.251\n",
    "P_4 = 6.21\n",
    "P_6 = 3.53"
   ]
  },
  {
   "cell_type": "code",
   "execution_count": 18,
   "id": "2ae16825-1814-4aca-90c3-0153952a60f6",
   "metadata": {},
   "outputs": [],
   "source": [
    "u_2 = np.array([np.sin(np.radians(7)), -np.cos(np.radians(7))])\n",
    "u_3 = np.array([-np.sin(np.radians(6)), - np.cos(np.radians(6))])\n",
    "u_4 = np.array([np.sin(np.radians(8)), np.cos(np.radians(8))])\n",
    "u_6 = np.array([np.sin(np.radians(5)), np.cos(np.radians(5))])"
   ]
  },
  {
   "cell_type": "code",
   "execution_count": 19,
   "id": "b2e38cbe-42b1-4832-a07b-ec8cd0857de0",
   "metadata": {},
   "outputs": [
    {
     "data": {
      "text/plain": [
       "array([ 37.05723671, 242.48055606])"
      ]
     },
     "execution_count": 19,
     "metadata": {},
     "output_type": "execute_result"
    }
   ],
   "source": [
    "P_2 * A_2 * u_2 +  P_3 * A_3 * u_3 + P_4 * A_4 * u_4 + A_6 * P_6 * u_6"
   ]
  },
  {
   "cell_type": "code",
   "execution_count": 20,
   "id": "0cc3c853-5c69-43de-8053-8e0abdc14949",
   "metadata": {},
   "outputs": [],
   "source": [
    "x = sy.S('x')\n",
    "F = sy.Matrix([\n",
    "    [sy.sin(x) - x, sy.cos(x) - 1],\n",
    "    [-x**2 * sy.sin(x), -x**2 * sy.cos(x)]\n",
    "])"
   ]
  },
  {
   "cell_type": "code",
   "execution_count": 22,
   "id": "3b2d5bb1-a100-483b-9f75-f4efdd91e98c",
   "metadata": {},
   "outputs": [
    {
     "data": {
      "text/latex": [
       "$\\displaystyle x^{3} \\cos{\\left(x \\right)} - x^{2} \\sin{\\left(x \\right)}$"
      ],
      "text/plain": [
       "x**3*cos(x) - x**2*sin(x)"
      ]
     },
     "execution_count": 22,
     "metadata": {},
     "output_type": "execute_result"
    }
   ],
   "source": [
    "F.det()"
   ]
  },
  {
   "cell_type": "code",
   "execution_count": 25,
   "id": "719d3b53-921e-4f81-8ab7-2aec4bb78cb2",
   "metadata": {},
   "outputs": [
    {
     "data": {
      "text/latex": [
       "$\\displaystyle -0.000837574463503188$"
      ],
      "text/plain": [
       "-0.000837574463503188"
      ]
     },
     "execution_count": 25,
     "metadata": {},
     "output_type": "execute_result"
    }
   ],
   "source": [
    "F.det().subs(x,4.4934)"
   ]
  },
  {
   "cell_type": "code",
   "execution_count": 29,
   "id": "95b5d4da-c5d9-4f5b-a7d5-9dc086bb7506",
   "metadata": {},
   "outputs": [],
   "source": [
    "a_4, a_3, a_2,L = sy.S('a_4, a_3, a_2,L')"
   ]
  },
  {
   "cell_type": "code",
   "execution_count": 32,
   "id": "10aea3a7-1370-4c06-a761-ee6500e7d696",
   "metadata": {},
   "outputs": [
    {
     "data": {
      "text/latex": [
       "$\\displaystyle 4 L^{3} a_{4} + 3 L^{2} a_{3} + 2 L a_{2} = 0$"
      ],
      "text/plain": [
       "Eq(4*L**3*a_4 + 3*L**2*a_3 + 2*L*a_2, 0)"
      ]
     },
     "execution_count": 32,
     "metadata": {},
     "output_type": "execute_result"
    }
   ],
   "source": [
    "Eq1 = sy.Eq(a_2*L**2 + a_3*L**3 + a_4*L**4,0)\n",
    "Eq2 = sy.Eq(2*a_2*L + 3 * a_3 * L**2 + 4 * a_4 * L**3,0)\n",
    "Eq2"
   ]
  },
  {
   "cell_type": "code",
   "execution_count": 33,
   "id": "539b14c9-82d7-4dea-95a1-81a5f63aa8d1",
   "metadata": {},
   "outputs": [
    {
     "data": {
      "text/plain": [
       "{a_2: L**2*a_4, a_3: -2*L*a_4}"
      ]
     },
     "execution_count": 33,
     "metadata": {},
     "output_type": "execute_result"
    }
   ],
   "source": [
    "sy.solve((Eq1, Eq2), (a_2, a_3))"
   ]
  },
  {
   "cell_type": "code",
   "execution_count": null,
   "id": "12d2e0c0-325b-4a41-8fbd-b1e094f81369",
   "metadata": {},
   "outputs": [],
   "source": []
  }
 ],
 "metadata": {
  "kernelspec": {
   "display_name": "Python 3 (ipykernel)",
   "language": "python",
   "name": "python3"
  },
  "language_info": {
   "codemirror_mode": {
    "name": "ipython",
    "version": 3
   },
   "file_extension": ".py",
   "mimetype": "text/x-python",
   "name": "python",
   "nbconvert_exporter": "python",
   "pygments_lexer": "ipython3",
   "version": "3.11.5"
  }
 },
 "nbformat": 4,
 "nbformat_minor": 5
}
