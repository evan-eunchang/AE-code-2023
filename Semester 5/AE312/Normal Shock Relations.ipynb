{
 "cells": [
  {
   "cell_type": "code",
   "execution_count": 2,
   "id": "ac614522-3e55-4ed6-b34d-2bb111f566a3",
   "metadata": {},
   "outputs": [],
   "source": [
    "import numpy as np"
   ]
  },
  {
   "cell_type": "code",
   "execution_count": 33,
   "id": "8f75354a-b508-4b51-8fa1-b1b780b49a36",
   "metadata": {},
   "outputs": [],
   "source": [
    "Mru = 1.8704\n",
    "gamma = 1.4"
   ]
  },
  {
   "cell_type": "code",
   "execution_count": 34,
   "id": "bf3e05ca-7c17-410b-adfb-7be336411da1",
   "metadata": {},
   "outputs": [
    {
     "data": {
      "text/plain": [
       "1.5849874100761838"
      ]
     },
     "execution_count": 34,
     "metadata": {},
     "output_type": "execute_result"
    }
   ],
   "source": [
    "#static temperature ratio\n",
    "TdTu = 1 + (2 * (gamma - 1) / (gamma + 1)**2 ) * ( (Mru**2 - 1) / Mru**2 ) * (gamma * Mru**2 + 1)\n",
    "TdTu"
   ]
  },
  {
   "cell_type": "code",
   "execution_count": 35,
   "id": "b4f6d498-f044-481d-bf37-7f518c2ce2ee",
   "metadata": {},
   "outputs": [
    {
     "data": {
      "text/plain": [
       "478.15312852432385"
      ]
     },
     "execution_count": 35,
     "metadata": {},
     "output_type": "execute_result"
    }
   ],
   "source": [
    "301.67629438857244 * TdTu"
   ]
  },
  {
   "cell_type": "code",
   "execution_count": 36,
   "id": "2a8b1b5d-50d7-43c4-b402-2735b0db96af",
   "metadata": {},
   "outputs": [
    {
     "data": {
      "text/plain": [
       "0.6015037227993434"
      ]
     },
     "execution_count": 36,
     "metadata": {},
     "output_type": "execute_result"
    }
   ],
   "source": [
    "#downstream relative Mach Number\n",
    "Mrd = np.sqrt((Mru**2 + 2 / (gamma - 1)) / ( ( 2 * gamma * Mru**2 / ( gamma - 1 ) ) - 1 ))\n",
    "Mrd"
   ]
  },
  {
   "cell_type": "code",
   "execution_count": 37,
   "id": "76b18ed3-c5d3-4778-a7ec-a0343ca359fd",
   "metadata": {},
   "outputs": [
    {
     "data": {
      "text/plain": [
       "3.9147955200000006"
      ]
     },
     "execution_count": 37,
     "metadata": {},
     "output_type": "execute_result"
    }
   ],
   "source": [
    "#static pressure ratio\n",
    "PdPu = 1 + ( 2 * gamma / (gamma + 1) ) * (Mru**2 - 1)\n",
    "PdPu"
   ]
  },
  {
   "cell_type": "code",
   "execution_count": 38,
   "id": "15ade3e2-f079-497f-a2f3-2b1977808ed6",
   "metadata": {},
   "outputs": [
    {
     "data": {
      "text/plain": [
       "6.401538881515926"
      ]
     },
     "execution_count": 38,
     "metadata": {},
     "output_type": "execute_result"
    }
   ],
   "source": [
    "PouPu = (1 + (gamma - 1) * Mru**2 / 2)**(gamma / (gamma - 1))\n",
    "PouPu"
   ]
  },
  {
   "cell_type": "code",
   "execution_count": 39,
   "id": "af62e45c-1a75-49c2-be84-ec374f791425",
   "metadata": {},
   "outputs": [
    {
     "name": "stdout",
     "output_type": "stream",
     "text": [
      "0.7809418980167034\n"
     ]
    }
   ],
   "source": [
    "A = ( ( ( (gamma + 1) * Mru**2 / 2 ) / ( 1 + (gamma - 1) * Mru**2 / 2 ) )**( gamma / ( gamma - 1 ) ) )\n",
    "B =  ( (2 * gamma * Mru**2)/(gamma + 1) - (gamma - 1)/(gamma + 1) )**(-1/(gamma - 1))\n",
    "PodPou = A * B\n",
    "print(PodPou)"
   ]
  },
  {
   "cell_type": "code",
   "execution_count": 23,
   "id": "689463c9-fa7e-4e99-8c0b-2884d55646c2",
   "metadata": {},
   "outputs": [
    {
     "data": {
      "text/plain": [
       "2.7947881094324476"
      ]
     },
     "execution_count": 23,
     "metadata": {},
     "output_type": "execute_result"
    }
   ],
   "source": [
    "PodPu = PodPou * PouPu\n",
    "PodPu"
   ]
  },
  {
   "cell_type": "code",
   "execution_count": 64,
   "id": "6cd2b33e-d6ed-4e03-8692-068c34e66f37",
   "metadata": {},
   "outputs": [],
   "source": [
    "#Shock Tube equations\n",
    "a1 = 347.219\n",
    "a4 = 347.219\n",
    "gamma1 = 1.4\n",
    "gamma4 = 1.4\n",
    "P4P1 = 200\n",
    "P2P1 = 7.78"
   ]
  },
  {
   "cell_type": "code",
   "execution_count": 80,
   "id": "001c3915-2bb9-4308-8b1e-fa56c5c802ba",
   "metadata": {},
   "outputs": [
    {
     "data": {
      "text/plain": [
       "2.609871370667254"
      ]
     },
     "execution_count": 80,
     "metadata": {},
     "output_type": "execute_result"
    }
   ],
   "source": [
    "Vw = a1 * np.sqrt(1 + (gamma1 + 1) * (P2P1 - 1) / (2 * gamma1))\n",
    "Vw / a1"
   ]
  },
  {
   "cell_type": "code",
   "execution_count": 66,
   "id": "90495798-3449-44c5-a803-f0415d7d0e51",
   "metadata": {},
   "outputs": [
    {
     "data": {
      "text/plain": [
       "644.296892630308"
      ]
     },
     "execution_count": 66,
     "metadata": {},
     "output_type": "execute_result"
    }
   ],
   "source": [
    "V2 = (a1  * (P2P1 - 1) / gamma1) / np.sqrt(1 + (gamma1 + 1) * (P2P1 - 1) / (2 * gamma1))\n",
    "V2"
   ]
  },
  {
   "cell_type": "code",
   "execution_count": 71,
   "id": "61a85d80-962a-404a-8261-251aaecc2997",
   "metadata": {},
   "outputs": [],
   "source": [
    "P3P4 = (1 - (gamma4 - 1) * V2 / (2 * a4))**(2 * gamma4 / (gamma4 - 1))"
   ]
  },
  {
   "cell_type": "code",
   "execution_count": 75,
   "id": "3f88112b-4e8e-4648-b686-46eaecb35fc6",
   "metadata": {},
   "outputs": [
    {
     "data": {
      "text/plain": [
       "7.780579621752952"
      ]
     },
     "execution_count": 75,
     "metadata": {},
     "output_type": "execute_result"
    }
   ],
   "source": [
    "P3P4 * 200"
   ]
  },
  {
   "cell_type": "code",
   "execution_count": 79,
   "id": "48a8a6d9-8048-4e65-a34e-0978c4c8e972",
   "metadata": {},
   "outputs": [
    {
     "data": {
      "text/plain": [
       "118.64759961912537"
      ]
     },
     "execution_count": 79,
     "metadata": {},
     "output_type": "execute_result"
    }
   ],
   "source": [
    "T3T4 = P3P4**((gamma4 - 1)/gamma4)\n",
    "T3T4 * 300"
   ]
  },
  {
   "cell_type": "code",
   "execution_count": null,
   "id": "cd1979b0-31af-4109-8382-6ccb159514e8",
   "metadata": {},
   "outputs": [],
   "source": []
  }
 ],
 "metadata": {
  "kernelspec": {
   "display_name": "Python 3 (ipykernel)",
   "language": "python",
   "name": "python3"
  },
  "language_info": {
   "codemirror_mode": {
    "name": "ipython",
    "version": 3
   },
   "file_extension": ".py",
   "mimetype": "text/x-python",
   "name": "python",
   "nbconvert_exporter": "python",
   "pygments_lexer": "ipython3",
   "version": "3.11.5"
  }
 },
 "nbformat": 4,
 "nbformat_minor": 5
}
