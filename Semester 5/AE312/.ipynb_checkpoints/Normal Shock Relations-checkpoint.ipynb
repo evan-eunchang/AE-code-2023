{
 "cells": [
  {
   "cell_type": "code",
   "execution_count": 47,
   "id": "ac614522-3e55-4ed6-b34d-2bb111f566a3",
   "metadata": {},
   "outputs": [],
   "source": [
    "import numpy as np"
   ]
  },
  {
   "cell_type": "code",
   "execution_count": 53,
   "id": "8f75354a-b508-4b51-8fa1-b1b780b49a36",
   "metadata": {},
   "outputs": [],
   "source": [
    "Mru = 1.791\n",
    "gamma = 1.4"
   ]
  },
  {
   "cell_type": "code",
   "execution_count": 54,
   "id": "bf3e05ca-7c17-410b-adfb-7be336411da1",
   "metadata": {},
   "outputs": [
    {
     "data": {
      "text/plain": [
       "1.5248613474303898"
      ]
     },
     "execution_count": 54,
     "metadata": {},
     "output_type": "execute_result"
    }
   ],
   "source": [
    "#static temperature ratio\n",
    "TdTu = 1 + (2 * (gamma - 1) / (gamma + 1)**2 ) * ( (Mru**2 - 1) / Mru**2 ) * (gamma * Mru**2 + 1)\n",
    "TdTu"
   ]
  },
  {
   "cell_type": "code",
   "execution_count": 55,
   "id": "b4f6d498-f044-481d-bf37-7f518c2ce2ee",
   "metadata": {},
   "outputs": [
    {
     "data": {
      "text/plain": [
       "871.7812756080303"
      ]
     },
     "execution_count": 55,
     "metadata": {},
     "output_type": "execute_result"
    }
   ],
   "source": [
    "571.711832736207 * TdTu"
   ]
  },
  {
   "cell_type": "code",
   "execution_count": 41,
   "id": "2a8b1b5d-50d7-43c4-b402-2735b0db96af",
   "metadata": {},
   "outputs": [
    {
     "data": {
      "text/plain": [
       "0.6185267042457154"
      ]
     },
     "execution_count": 41,
     "metadata": {},
     "output_type": "execute_result"
    }
   ],
   "source": [
    "#downstream relative Mach Number\n",
    "Mrd = np.sqrt((Mru**2 + 2 / (gamma - 1)) / ( ( 2 * gamma * Mru**2 / ( gamma - 1 ) ) - 1 ))\n",
    "Mrd"
   ]
  },
  {
   "cell_type": "code",
   "execution_count": 43,
   "id": "76b18ed3-c5d3-4778-a7ec-a0343ca359fd",
   "metadata": {},
   "outputs": [
    {
     "data": {
      "text/plain": [
       "725.614728840921"
      ]
     },
     "execution_count": 43,
     "metadata": {},
     "output_type": "execute_result"
    }
   ],
   "source": [
    "#static pressure ratio\n",
    "PdPu = 1 + ( 2 * gamma / (gamma + 1) ) * (Mru**2 - 1)\n",
    "PdPu * 202.93351620000004"
   ]
  },
  {
   "cell_type": "code",
   "execution_count": 56,
   "id": "15ade3e2-f079-497f-a2f3-2b1977808ed6",
   "metadata": {},
   "outputs": [
    {
     "data": {
      "text/plain": [
       "1.0086512989745093"
      ]
     },
     "execution_count": 56,
     "metadata": {},
     "output_type": "execute_result"
    }
   ],
   "source": [
    "M = 1\n",
    "PoP = (1 + (gamma - 1) * M**2 / 2)**(gamma / (gamma - 1))\n",
    "PoP"
   ]
  },
  {
   "cell_type": "code",
   "execution_count": null,
   "id": "001c3915-2bb9-4308-8b1e-fa56c5c802ba",
   "metadata": {},
   "outputs": [],
   "source": []
  }
 ],
 "metadata": {
  "kernelspec": {
   "display_name": "Python 3 (ipykernel)",
   "language": "python",
   "name": "python3"
  },
  "language_info": {
   "codemirror_mode": {
    "name": "ipython",
    "version": 3
   },
   "file_extension": ".py",
   "mimetype": "text/x-python",
   "name": "python",
   "nbconvert_exporter": "python",
   "pygments_lexer": "ipython3",
   "version": "3.11.5"
  }
 },
 "nbformat": 4,
 "nbformat_minor": 5
}
