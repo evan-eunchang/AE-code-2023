{
 "cells": [
  {
   "cell_type": "code",
   "execution_count": 1,
   "id": "5c4c6563-225e-443b-aac4-f74007adcbe4",
   "metadata": {},
   "outputs": [],
   "source": [
    "import numpy as np\n",
    "from numpy import linalg as la"
   ]
  },
  {
   "cell_type": "code",
   "execution_count": 6,
   "id": "fd2b89d5-1abd-4027-9520-567231c5366a",
   "metadata": {},
   "outputs": [],
   "source": [
    "A = np.array([[-0.4, 0.1, 0.9, -0.4], [0.4, 0.9, -0.9, 0.4], [-0.9, 0.6, -0.7, 0.9], [-0.7, 0.9, -0.3, -0.4]])\n",
    "B = np.array([[0.6], [0.7], [0.8], [-0.1]])\n",
    "C = np.array([[-0.4, -0.5, -0.9, -0.6]])\n",
    "D = np.array([[0.0]])\n",
    "K = np.array([[9.5, 47.1, -34.8, 0.9]])"
   ]
  },
  {
   "cell_type": "code",
   "execution_count": 7,
   "id": "35e03c9c-d25b-47f4-b24e-eed4529163eb",
   "metadata": {},
   "outputs": [
    {
     "data": {
      "text/plain": [
       "array([[-6.29718819]])"
      ]
     },
     "execution_count": 7,
     "metadata": {},
     "output_type": "execute_result"
    }
   ],
   "source": [
    "-1 / (C @ la.inv(A - B @ K) @ B)"
   ]
  },
  {
   "cell_type": "code",
   "execution_count": 10,
   "id": "8630bf91-e559-4ca1-b6aa-d14414ad822c",
   "metadata": {},
   "outputs": [],
   "source": [
    "A = np.array([[ 0,  2], [-2,  0]])\n",
    "B = np.array([[ 0], [-6]])\n",
    "C = np.array([[ 0, -9]])\n",
    "D = np.array([[0]])\n",
    "K = np.array([[-3.2, -2.3]])"
   ]
  },
  {
   "cell_type": "code",
   "execution_count": 12,
   "id": "9c2e7e47-a43a-421f-9cc6-c3cf62c1b009",
   "metadata": {},
   "outputs": [
    {
     "name": "stderr",
     "output_type": "stream",
     "text": [
      "C:\\Users\\phlee\\AppData\\Local\\Temp\\ipykernel_42752\\2332959363.py:1: RuntimeWarning: divide by zero encountered in divide\n",
      "  -1 / (C @ la.inv(A - B @ K) @ B)\n"
     ]
    },
    {
     "data": {
      "text/plain": [
       "array([[-inf]])"
      ]
     },
     "execution_count": 12,
     "metadata": {},
     "output_type": "execute_result"
    }
   ],
   "source": [
    "-1 / (C @ la.inv(A - B @ K) @ B)"
   ]
  },
  {
   "cell_type": "code",
   "execution_count": 13,
   "id": "bfc9f75c-f08d-4e98-9940-d604cc14c982",
   "metadata": {},
   "outputs": [],
   "source": [
    "A = np.array([[0.60000000, -0.50000000, 0.40000000, -0.30000000], [-0.70000000, 0.80000000, 0.50000000, 0.80000000], [0.60000000, 0.00000000, -0.70000000, -0.70000000], [0.80000000, 0.30000000, -0.10000000, 0.70000000]])\n",
    "B = np.array([[-0.50000000], [-0.70000000], [0.80000000], [-0.60000000]])\n",
    "C = np.array([[0.60000000, 0.50000000, -0.40000000, -0.80000000]])\n",
    "D = np.array([[0.00000000]])\n",
    "K = np.array([[8.10000000, -12.50000000, -2.10000000, -5.10000000]])\n",
    "kRef = np.array([[7.00000000]])"
   ]
  },
  {
   "cell_type": "code",
   "execution_count": 14,
   "id": "c58f9358-9b4a-4f50-8db7-77331b34a8e3",
   "metadata": {},
   "outputs": [
    {
     "data": {
      "text/plain": [
       "array([[0.76783334]])"
      ]
     },
     "execution_count": 14,
     "metadata": {},
     "output_type": "execute_result"
    }
   ],
   "source": [
    "(-C @ la.inv(A - B @ K) @ B * kRef - 1)"
   ]
  },
  {
   "cell_type": "code",
   "execution_count": 15,
   "id": "d49b583e-4af1-479e-aad6-e99af572842c",
   "metadata": {},
   "outputs": [],
   "source": [
    "A = np.array([[-0.30000000, 0.50000000], [-0.20000000, 0.30000000]])\n",
    "B = np.array([[0.90000000], [-0.10000000]])\n",
    "C = np.array([[-0.70000000, -0.70000000]])\n",
    "D = np.array([[0.00000000]])\n",
    "K = np.array([[4.10000000, -10.40000000]])\n",
    "kRef = np.array([[2.37735849]])"
   ]
  },
  {
   "cell_type": "code",
   "execution_count": 16,
   "id": "ac5a2287-fd83-4d7b-afc9-755bcd20c65b",
   "metadata": {},
   "outputs": [
    {
     "data": {
      "text/plain": [
       "(array([[-3.99,  9.86],\n",
       "        [ 0.21, -0.74]]),\n",
       " array([[ 2.13962264],\n",
       "        [-0.23773585]]))"
      ]
     },
     "execution_count": 16,
     "metadata": {},
     "output_type": "execute_result"
    }
   ],
   "source": [
    "E = A - B @ K\n",
    "F = B * kRef\n",
    "E,F"
   ]
  },
  {
   "cell_type": "code",
   "execution_count": 1,
   "id": "1302d1da-3eb2-438d-b8a1-ff197fad7ea8",
   "metadata": {},
   "outputs": [
    {
     "ename": "NameError",
     "evalue": "name 'np' is not defined",
     "output_type": "error",
     "traceback": [
      "\u001b[1;31m---------------------------------------------------------------------------\u001b[0m",
      "\u001b[1;31mNameError\u001b[0m                                 Traceback (most recent call last)",
      "Cell \u001b[1;32mIn[1], line 1\u001b[0m\n\u001b[1;32m----> 1\u001b[0m A \u001b[38;5;241m=\u001b[39m \u001b[43mnp\u001b[49m\u001b[38;5;241m.\u001b[39marray([[\u001b[38;5;241m0.50\u001b[39m, \u001b[38;5;241m-\u001b[39m\u001b[38;5;241m0.60\u001b[39m], [\u001b[38;5;241m-\u001b[39m\u001b[38;5;241m0.80\u001b[39m, \u001b[38;5;241m-\u001b[39m\u001b[38;5;241m0.50\u001b[39m]])\n\u001b[0;32m      2\u001b[0m B \u001b[38;5;241m=\u001b[39m np\u001b[38;5;241m.\u001b[39marray([[\u001b[38;5;241m0.40\u001b[39m], [\u001b[38;5;241m-\u001b[39m\u001b[38;5;241m0.80\u001b[39m]])\n\u001b[0;32m      3\u001b[0m C \u001b[38;5;241m=\u001b[39m np\u001b[38;5;241m.\u001b[39marray([[\u001b[38;5;241m-\u001b[39m\u001b[38;5;241m0.50\u001b[39m, \u001b[38;5;241m0.70\u001b[39m]])\n",
      "\u001b[1;31mNameError\u001b[0m: name 'np' is not defined"
     ]
    }
   ],
   "source": [
    "G = "
   ]
  },
  {
   "cell_type": "code",
   "execution_count": null,
   "id": "13cc2dc1-22b4-4ca1-a2a0-5fdf9fb93edb",
   "metadata": {},
   "outputs": [],
   "source": []
  }
 ],
 "metadata": {
  "kernelspec": {
   "display_name": "Python 3 (ipykernel)",
   "language": "python",
   "name": "python3"
  },
  "language_info": {
   "codemirror_mode": {
    "name": "ipython",
    "version": 3
   },
   "file_extension": ".py",
   "mimetype": "text/x-python",
   "name": "python",
   "nbconvert_exporter": "python",
   "pygments_lexer": "ipython3",
   "version": "3.11.5"
  }
 },
 "nbformat": 4,
 "nbformat_minor": 5
}
