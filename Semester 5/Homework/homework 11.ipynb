{
 "cells": [
  {
   "cell_type": "code",
   "execution_count": 32,
   "id": "678be488-9e45-4452-81dd-7ac33102d58d",
   "metadata": {},
   "outputs": [],
   "source": [
    "import numpy as np\n",
    "from numpy import linalg as la\n",
    "import control as ctl\n",
    "from scipy import linalg\n",
    "from scipy import integrate\n",
    "from scipy import signal\n",
    "import sympy as sy\n",
    "import matplotlib.pyplot as plt"
   ]
  },
  {
   "cell_type": "code",
   "execution_count": 4,
   "id": "f2cec745-8d01-4cf0-8406-104c22d6ee28",
   "metadata": {},
   "outputs": [],
   "source": [
    "A1 = np.array([[6.4, -3.5, 1.3], [-22.6, 13.2, -4.8], [-90.4, 52.8, -19.2]])\n",
    "B1 = np.array([[-0.1], [0.3], [1.2]])\n",
    "A2 = np.array([[-0.4, 0.4], [-0.4, 0.4]])\n",
    "B2 = np.array([[0.1], [0.1]])\n",
    "A3 = np.array([[-0.8, -0.4], [1.6, 0.8]])\n",
    "B3 = np.array([[0.1], [-0.2]])\n",
    "A4 = np.array([[-2.1, -8.4, 6.3], [11.0, 35.6, -26.3], [13.1, 44.0, -32.6]])\n",
    "B4 = np.array([[-1.0], [4.2], [5.3]])\n",
    "A5 = np.array([[16.3, -1.4, 6.5, -5.6], [68.6, -7.7, 32.2, -29.3], [-158.8, 14.8, -66.9, 58.7], [-158.8, 14.8, -66.9, 58.7]])\n",
    "B5 = np.array([[-0.7], [-3.6], [7.2], [7.2]])"
   ]
  },
  {
   "cell_type": "code",
   "execution_count": 5,
   "id": "8e5b8620-bfe0-417f-9ab2-dafc7dfeda71",
   "metadata": {},
   "outputs": [
    {
     "data": {
      "text/plain": [
       "3"
      ]
     },
     "execution_count": 5,
     "metadata": {},
     "output_type": "execute_result"
    }
   ],
   "source": [
    "W = ctl.ctrb(A5,B5)\n",
    "la.matrix_rank(W)"
   ]
  },
  {
   "cell_type": "code",
   "execution_count": 34,
   "id": "3f1923d2-08c4-4371-bf31-b62ad8766612",
   "metadata": {},
   "outputs": [],
   "source": [
    "A = np.array([[-5.00, 9.00, -6.00], [-8.00, 13.00, -8.00], [-10.00, 15.00, -9.00]])\n",
    "B = np.array([[-1.00], [-1.00], [-1.00]])\n",
    "pdes = -1.00"
   ]
  },
  {
   "cell_type": "code",
   "execution_count": 47,
   "id": "dd026e6b-f00e-4b33-b834-3bfcabc59326",
   "metadata": {},
   "outputs": [],
   "source": [
    "K1 = np.array([[1,2,2]])\n",
    "K2 = np.array([[3,5,5]])"
   ]
  },
  {
   "cell_type": "code",
   "execution_count": 36,
   "id": "b0e09b55-b863-4d12-a6b1-16abbac50650",
   "metadata": {},
   "outputs": [
    {
     "data": {
      "text/plain": [
       "EigResult(eigenvalues=array([1.5+0.8660254j, 1.5-0.8660254j, 1. +0.j       ]), eigenvectors=array([[ 7.74596669e-01+0.j       ,  7.74596669e-01-0.j       ,\n",
       "        -8.08452083e-01+0.j       ],\n",
       "       [ 3.87298335e-01+0.2236068j,  3.87298335e-01-0.2236068j,\n",
       "        -1.61690417e-01+0.j       ],\n",
       "       [ 1.59098677e-14+0.4472136j,  1.59098677e-14-0.4472136j,\n",
       "         5.65916458e-01+0.j       ]]))"
      ]
     },
     "execution_count": 36,
     "metadata": {},
     "output_type": "execute_result"
    }
   ],
   "source": [
    "la.eig(A - B @ K1)"
   ]
  },
  {
   "cell_type": "code",
   "execution_count": 37,
   "id": "b516bfff-b4db-4c69-9243-87345f4e1833",
   "metadata": {},
   "outputs": [
    {
     "data": {
      "text/plain": [
       "EigResult(eigenvalues=array([9.77200187, 1.22799813, 1.        ]), eigenvectors=array([[ 0.64039948,  0.83633143, -0.78978003],\n",
       "       [ 0.57486536,  0.15527874, -0.1263648 ],\n",
       "       [ 0.50933125, -0.52577395,  0.60023282]]))"
      ]
     },
     "execution_count": 37,
     "metadata": {},
     "output_type": "execute_result"
    }
   ],
   "source": [
    "la.eig(A - B @ K2)"
   ]
  },
  {
   "cell_type": "code",
   "execution_count": 33,
   "id": "26f1d5fb-a466-4b91-bc85-b3c670e5f75c",
   "metadata": {},
   "outputs": [
    {
     "ename": "ValueError",
     "evalue": "at least one of the requested pole is repeated more than rank(B) times",
     "output_type": "error",
     "traceback": [
      "\u001b[1;31m---------------------------------------------------------------------------\u001b[0m",
      "\u001b[1;31mValueError\u001b[0m                                Traceback (most recent call last)",
      "Cell \u001b[1;32mIn[33], line 2\u001b[0m\n\u001b[0;32m      1\u001b[0m poles \u001b[38;5;241m=\u001b[39m np\u001b[38;5;241m.\u001b[39marray([ pdes, \u001b[38;5;241m1\u001b[39m ,\u001b[38;5;241m1\u001b[39m])\n\u001b[1;32m----> 2\u001b[0m K \u001b[38;5;241m=\u001b[39m \u001b[43msignal\u001b[49m\u001b[38;5;241;43m.\u001b[39;49m\u001b[43mplace_poles\u001b[49m\u001b[43m(\u001b[49m\u001b[43mA\u001b[49m\u001b[43m,\u001b[49m\u001b[43m \u001b[49m\u001b[43mB\u001b[49m\u001b[43m,\u001b[49m\u001b[43m \u001b[49m\u001b[43mpoles\u001b[49m\u001b[43m)\u001b[49m\u001b[38;5;241m.\u001b[39mgain_matrix\n\u001b[0;32m      3\u001b[0m K\n",
      "File \u001b[1;32m~\\anaconda3\\envs\\ae353\\Lib\\site-packages\\scipy\\signal\\_ltisys.py:3288\u001b[0m, in \u001b[0;36mplace_poles\u001b[1;34m(A, B, poles, method, rtol, maxiter)\u001b[0m\n\u001b[0;32m   3108\u001b[0m \u001b[38;5;250m\u001b[39m\u001b[38;5;124;03m\"\"\"\u001b[39;00m\n\u001b[0;32m   3109\u001b[0m \u001b[38;5;124;03mCompute K such that eigenvalues (A - dot(B, K))=poles.\u001b[39;00m\n\u001b[0;32m   3110\u001b[0m \n\u001b[1;32m   (...)\u001b[0m\n\u001b[0;32m   3285\u001b[0m \n\u001b[0;32m   3286\u001b[0m \u001b[38;5;124;03m\"\"\"\u001b[39;00m\n\u001b[0;32m   3287\u001b[0m \u001b[38;5;66;03m# Move away all the inputs checking, it only adds noise to the code\u001b[39;00m\n\u001b[1;32m-> 3288\u001b[0m update_loop, poles \u001b[38;5;241m=\u001b[39m \u001b[43m_valid_inputs\u001b[49m\u001b[43m(\u001b[49m\u001b[43mA\u001b[49m\u001b[43m,\u001b[49m\u001b[43m \u001b[49m\u001b[43mB\u001b[49m\u001b[43m,\u001b[49m\u001b[43m \u001b[49m\u001b[43mpoles\u001b[49m\u001b[43m,\u001b[49m\u001b[43m \u001b[49m\u001b[43mmethod\u001b[49m\u001b[43m,\u001b[49m\u001b[43m \u001b[49m\u001b[43mrtol\u001b[49m\u001b[43m,\u001b[49m\u001b[43m \u001b[49m\u001b[43mmaxiter\u001b[49m\u001b[43m)\u001b[49m\n\u001b[0;32m   3290\u001b[0m \u001b[38;5;66;03m# The current value of the relative tolerance we achieved\u001b[39;00m\n\u001b[0;32m   3291\u001b[0m cur_rtol \u001b[38;5;241m=\u001b[39m \u001b[38;5;241m0\u001b[39m\n",
      "File \u001b[1;32m~\\anaconda3\\envs\\ae353\\Lib\\site-packages\\scipy\\signal\\_ltisys.py:2752\u001b[0m, in \u001b[0;36m_valid_inputs\u001b[1;34m(A, B, poles, method, rtol, maxiter)\u001b[0m\n\u001b[0;32m   2750\u001b[0m \u001b[38;5;28;01mfor\u001b[39;00m p \u001b[38;5;129;01min\u001b[39;00m poles:\n\u001b[0;32m   2751\u001b[0m     \u001b[38;5;28;01mif\u001b[39;00m \u001b[38;5;28msum\u001b[39m(p \u001b[38;5;241m==\u001b[39m poles) \u001b[38;5;241m>\u001b[39m r:\n\u001b[1;32m-> 2752\u001b[0m         \u001b[38;5;28;01mraise\u001b[39;00m \u001b[38;5;167;01mValueError\u001b[39;00m(\u001b[38;5;124m\"\u001b[39m\u001b[38;5;124mat least one of the requested pole is repeated \u001b[39m\u001b[38;5;124m\"\u001b[39m\n\u001b[0;32m   2753\u001b[0m                          \u001b[38;5;124m\"\u001b[39m\u001b[38;5;124mmore than rank(B) times\u001b[39m\u001b[38;5;124m\"\u001b[39m)\n\u001b[0;32m   2754\u001b[0m \u001b[38;5;66;03m# Choose update method\u001b[39;00m\n\u001b[0;32m   2755\u001b[0m update_loop \u001b[38;5;241m=\u001b[39m _YT_loop\n",
      "\u001b[1;31mValueError\u001b[0m: at least one of the requested pole is repeated more than rank(B) times"
     ]
    }
   ],
   "source": [
    "poles = np.array([ pdes, 1 ,1])\n",
    "K = signal.place_poles(A, B, poles).gain_matrix\n",
    "K"
   ]
  },
  {
   "cell_type": "code",
   "execution_count": 48,
   "id": "cc0b92c4-412e-4b98-85cc-fc9d542da867",
   "metadata": {},
   "outputs": [],
   "source": [
    "A1 = np.array([[1217.0, -612.0, 468.0, -141.0], [-6486.0, 3271.0, -2500.0, 753.0], [-1538.0, 778.0, -593.0, 179.0], [33550.0, -16890.0, 12916.0, -3890.0]])\n",
    "B1 = np.array([[-23.0], [123.0], [30.0], [-632.0]])\n",
    "A2 = np.array([[-654.0, -78.0, -237.0, 128.0], [525.0, 49.0, 185.0, -98.0], [6234.0, 684.0, 2237.0, -1200.0], [8514.0, 900.0, 3042.0, -1627.0]])\n",
    "B2 = np.array([[-1.0], [1.0], [10.0], [14.0]])\n",
    "K1 = np.array([[1,2,3,4]])\n",
    "K2 = np.array([[5,6,7,8]])"
   ]
  },
  {
   "cell_type": "code",
   "execution_count": 49,
   "id": "face849c-6de3-48fe-b7e3-d6e689f502b2",
   "metadata": {},
   "outputs": [
    {
     "data": {
      "text/plain": [
       "EigResult(eigenvalues=array([ 2.22e+03, -5.00e+00,  2.00e+00,  3.00e+00]), eigenvectors=array([[ 0.03566076,  0.0610663 , -0.00797664,  0.09687212],\n",
       "       [-0.19070753, -0.49416064, -0.57272296, -0.33130266],\n",
       "       [-0.04651403, -0.70810924, -0.52805376, -0.49986016],\n",
       "       [ 0.9798956 , -0.50065705,  0.62696413,  0.79435141]]))"
      ]
     },
     "execution_count": 49,
     "metadata": {},
     "output_type": "execute_result"
    }
   ],
   "source": [
    "la.eig(A1 - B1 @ K1)"
   ]
  },
  {
   "cell_type": "code",
   "execution_count": 50,
   "id": "4a3d0c90-eba3-40a5-819b-448e2730037e",
   "metadata": {},
   "outputs": [
    {
     "data": {
      "text/plain": [
       "EigResult(eigenvalues=array([ 4.228e+03, -5.000e+00,  2.000e+00,  3.000e+00]), eigenvectors=array([[ 0.03566076, -0.08557079, -0.00203313,  0.09869002],\n",
       "       [-0.19070753,  0.60584117,  0.5089604 , -0.33491612],\n",
       "       [-0.04651403,  0.66745214,  0.43847853, -0.51444796],\n",
       "       [ 0.9798956 , -0.4244311 , -0.7407373 ,  0.78322077]]))"
      ]
     },
     "execution_count": 50,
     "metadata": {},
     "output_type": "execute_result"
    }
   ],
   "source": [
    "la.eig(A1 - B1 @ K2)"
   ]
  },
  {
   "cell_type": "code",
   "execution_count": 51,
   "id": "380e2bb2-2c09-4b69-9756-c9ec0156c741",
   "metadata": {},
   "outputs": [
    {
     "data": {
      "text/plain": [
       "EigResult(eigenvalues=array([-85.,  -5.,   5.,   3.]), eigenvectors=array([[-0.05792844,  0.04537235,  0.03235805,  0.31622777],\n",
       "       [ 0.05792844,  0.21389824,  0.05864896,  0.31622777],\n",
       "       [ 0.57928445,  0.32408824,  0.40447561, -0.63245553],\n",
       "       [ 0.81099822,  0.92041062,  0.9120925 ,  0.63245553]]))"
      ]
     },
     "execution_count": 51,
     "metadata": {},
     "output_type": "execute_result"
    }
   ],
   "source": [
    "la.eig(A2 - B2 @ K1)"
   ]
  },
  {
   "cell_type": "code",
   "execution_count": 52,
   "id": "1614a622-6e68-406f-bf21-ad01cfa3b955",
   "metadata": {},
   "outputs": [
    {
     "data": {
      "text/plain": [
       "EigResult(eigenvalues=array([-181.,   -5.,    5.,    3.]), eigenvectors=array([[-0.05792844,  0.16435938,  0.12438234,  0.33218192],\n",
       "       [ 0.05792844,  0.37133046,  0.05636075,  0.30450009],\n",
       "       [ 0.57928445, -0.03652431,  0.2021213 , -0.77509115],\n",
       "       [ 0.81099822,  0.91310769,  0.96979353,  0.44290923]]))"
      ]
     },
     "execution_count": 52,
     "metadata": {},
     "output_type": "execute_result"
    }
   ],
   "source": [
    "la.eig(A2 - B2 @ K2)"
   ]
  },
  {
   "cell_type": "code",
   "execution_count": 38,
   "id": "a4615f28-501a-421a-a17c-dbc118895acb",
   "metadata": {},
   "outputs": [],
   "source": [
    "A = np.array([[0.20, 1.00, 0.10], [-0.90, -0.10, 1.00], [0.90, -0.20, 0.60]])\n",
    "B = np.array([[0.20], [-0.90], [-0.10]])\n",
    "x0 = np.array([[0.00], [0.00], [0.00]])\n",
    "xn = np.array([[0.30], [-0.90], [-0.20]])\n",
    "h = 0.40"
   ]
  },
  {
   "cell_type": "code",
   "execution_count": 39,
   "id": "d9bd6eed-dbba-4f9e-aa40-ff2fa8474c88",
   "metadata": {},
   "outputs": [],
   "source": [
    "F = linalg.expm(A * h)\n",
    "G = la.inv(A) @ (linalg.expm(A*h) - np.eye(3)) @ B"
   ]
  },
  {
   "cell_type": "code",
   "execution_count": 40,
   "id": "8d1a8249-3a21-4011-8755-36e727429f2a",
   "metadata": {},
   "outputs": [],
   "source": [
    "u_1 = sy.S('u_1')\n",
    "u_2 = sy.S('u_2')\n",
    "u_3 = sy.S('u_3')"
   ]
  },
  {
   "cell_type": "code",
   "execution_count": 41,
   "id": "5d53f3e3-24a3-4725-8492-8e92db7138e3",
   "metadata": {},
   "outputs": [
    {
     "data": {
      "text/plain": [
       "array([[0.00784914107325491*u_1],\n",
       "       [-0.363984878264216*u_1],\n",
       "       [-0.0229048878210154*u_1]], dtype=object)"
      ]
     },
     "execution_count": 41,
     "metadata": {},
     "output_type": "execute_result"
    }
   ],
   "source": [
    "x_1 = F @ x0 + G * u_1\n",
    "x_1"
   ]
  },
  {
   "cell_type": "code",
   "execution_count": 42,
   "id": "90c633fd-70f9-4f2c-b338-55306d15b978",
   "metadata": {},
   "outputs": [
    {
     "data": {
      "text/plain": [
       "array([[-0.139364793850178*u_1 + 0.00784914107325491*u_2],\n",
       "       [-0.333447238244789*u_1 - 0.363984878264216*u_2],\n",
       "       [-0.0227163445431351*u_1 - 0.0229048878210154*u_2]], dtype=object)"
      ]
     },
     "execution_count": 42,
     "metadata": {},
     "output_type": "execute_result"
    }
   ],
   "source": [
    "x_2 = F @ x_1 + G * u_2\n",
    "x_2"
   ]
  },
  {
   "cell_type": "code",
   "execution_count": 43,
   "id": "8aff5ef5-3558-4718-a026-ae5601ba0a75",
   "metadata": {},
   "outputs": [],
   "source": [
    "x_3 = F @ x_2 + G * u_3"
   ]
  },
  {
   "cell_type": "code",
   "execution_count": 44,
   "id": "8a6f9453-8c14-49fe-99b8-2810be5c3acd",
   "metadata": {},
   "outputs": [
    {
     "data": {
      "text/plain": [
       "{u_1: 2.22782365466053, u_2: -6.23601712951931, u_3: 6.56275627536369}"
      ]
     },
     "execution_count": 44,
     "metadata": {},
     "output_type": "execute_result"
    }
   ],
   "source": [
    "sy.solve(sy.Eq(sy.Matrix(x_3), sy.Matrix(xn)), (u_1,u_2,u_3))"
   ]
  },
  {
   "cell_type": "code",
   "execution_count": 84,
   "id": "4dfe0a05-aaf0-4459-a01d-07ed8ab0daf4",
   "metadata": {},
   "outputs": [],
   "source": [
    "# A = np.array([[0, 1], [0, 0]])\n",
    "# B = np.array([[0], [1]])\n",
    "# C = np.array([[1, 0]])\n",
    "# uMax = 1.80\n",
    "\n",
    "# Q = np.array([[1., 0], [0., 0.]])\n",
    "\n",
    "\n",
    "A = np.array([[0.07, 1.01], [0.04, -0.03]])\n",
    "B = np.array([[-0.07], [0.97]])\n",
    "C = np.array([[0.94, -0.06]])\n",
    "D = np.array([[0]])\n",
    "K = np.array([[2.08, 2.95]])\n",
    "\n",
    "time_series = np.linspace(0,10,501)"
   ]
  },
  {
   "cell_type": "code",
   "execution_count": 85,
   "id": "7304938f-37e9-494b-8815-8cf2a8d3d41f",
   "metadata": {},
   "outputs": [],
   "source": [
    "def ddot_x(t,x):\n",
    "    x = x.reshape((2,1))\n",
    "    u = (- K @ x + K_ref)\n",
    "    # if (u > uMax) or (u < -uMax):\n",
    "        # print(\"invalid R\")\n",
    "    dx =  A @ x + B * u\n",
    "    return [dx[0][0], dx[1][0]]\n"
   ]
  },
  {
   "cell_type": "code",
   "execution_count": 86,
   "id": "a6992bce-6556-4c0f-afed-94e51f1e3f8c",
   "metadata": {},
   "outputs": [
    {
     "data": {
      "image/png": "[encoded data removed]",
      "text/plain": [
       "<Figure size 640x480 with 1 Axes>"
      ]
     },
     "metadata": {},
     "output_type": "display_data"
    },
    {
     "name": "stdout",
     "output_type": "stream",
     "text": [
      "3.7\n"
     ]
    }
   ],
   "source": [
    "# R = np.array([[0.309]])\n",
    "# P = linalg.solve_continuous_are(A, B, Q, R)\n",
    "# K = linalg.inv(R) @  B.T @ P\n",
    "K_ref = -1 / (C @ la.inv(A - B @ K) @ B)\n",
    "soln = integrate.solve_ivp(ddot_x,[0,10],[0,0],t_eval = time_series)\n",
    "x = soln.y\n",
    "y = C @ x\n",
    "y = y[0]\n",
    "y_ss = y[-1]\n",
    "plt.plot(soln.t, y)\n",
    "plt.xlabel('t')\n",
    "plt.legend(['x', 'y'], shadow=True)\n",
    "plt.title('Lotka-Volterra System')\n",
    "plt.show()\n",
    "set_time = 0\n",
    "for i in range (0,250):\n",
    "    if ((y[i:] > 0.95 * y_ss).all() and (y[i:] < 1.05 * y_ss).all()):\n",
    "        set_time = time_series[i]\n",
    "        \n",
    "        break\n",
    "print(set_time)"
   ]
  },
  {
   "cell_type": "code",
   "execution_count": 87,
   "id": "5d2bb01b-3937-42ae-8931-73cd34b351d7",
   "metadata": {},
   "outputs": [
    {
     "name": "stdout",
     "output_type": "stream",
     "text": [
      "3.7 2.52 0.0 10.0\n"
     ]
    }
   ],
   "source": [
    "for i in range (0,500):\n",
    "    if ((y[i:] > 0.95 * y_ss).all() and (y[i:] < 1.05 * y_ss).all()):\n",
    "        set_time = time_series[i]\n",
    "        break\n",
    "for i in range (0,500):\n",
    "    if (abs(y[i]) > abs(0.9 * y_ss)):\n",
    "        t90 = time_series[i]\n",
    "        break\n",
    "\n",
    "for i in range (0,500):\n",
    "    if (abs(y[i]) > abs(0.1 * y_ss)):\n",
    "        t0 = time_series[i]\n",
    "        break\n",
    "\n",
    "y_max = np.max(y)\n",
    "t_max = time_series[np.argmax(y)]\n",
    "y_ss = y[-1]\n",
    "        \n",
    "print(set_time, t90 - t0, (y_max - y_ss)/y_ss, t_max)"
   ]
  },
  {
   "cell_type": "code",
   "execution_count": 60,
   "id": "f6ff3dc5-f098-4413-9880-019e7cbb79ac",
   "metadata": {},
   "outputs": [
    {
     "data": {
      "text/plain": [
       "1.6600000000000001"
      ]
     },
     "execution_count": 60,
     "metadata": {},
     "output_type": "execute_result"
    }
   ],
   "source": [
    "1.6600000000000001"
   ]
  },
  {
   "cell_type": "code",
   "execution_count": 69,
   "id": "198bd82f-c7d0-4f4e-b326-0a34e0a77616",
   "metadata": {},
   "outputs": [
    {
     "data": {
      "text/plain": [
       "0.0005399997750000316"
      ]
     },
     "execution_count": 69,
     "metadata": {},
     "output_type": "execute_result"
    }
   ],
   "source": [
    "y[1]"
   ]
  },
  {
   "cell_type": "code",
   "execution_count": null,
   "id": "8f423e5f-fee3-4efc-ab23-0e401c0a246e",
   "metadata": {},
   "outputs": [],
   "source": []
  }
 ],
 "metadata": {
  "kernelspec": {
   "display_name": "Python 3 (ipykernel)",
   "language": "python",
   "name": "python3"
  },
  "language_info": {
   "codemirror_mode": {
    "name": "ipython",
    "version": 3
   },
   "file_extension": ".py",
   "mimetype": "text/x-python",
   "name": "python",
   "nbconvert_exporter": "python",
   "pygments_lexer": "ipython3",
   "version": "3.11.5"
  }
 },
 "nbformat": 4,
 "nbformat_minor": 5
}
