{
 "cells": [
  {
   "cell_type": "code",
   "execution_count": 15,
   "id": "23f3a43b-5cbc-458c-bfd7-5e3556b914de",
   "metadata": {},
   "outputs": [],
   "source": [
    "import numpy as np\n",
    "import sympy as sy\n",
    "np.set_printoptions(suppress=True)"
   ]
  },
  {
   "cell_type": "code",
   "execution_count": 4,
   "id": "f81d4185-fba3-4750-a8a6-90a08e9b227f",
   "metadata": {},
   "outputs": [],
   "source": [
    "A = np.array([[-2,  4], [-1, -5]])\n",
    "B = np.array([[ 1], [-4]])\n",
    "C = np.array([[5, 4]])\n",
    "K = np.array([[ 1, -2]])\n",
    "L = np.array([[1], [3]])"
   ]
  },
  {
   "cell_type": "code",
   "execution_count": 5,
   "id": "6453572f-5898-49db-94d3-1debf8464324",
   "metadata": {},
   "outputs": [],
   "source": [
    "A = sy.Matrix(A)\n",
    "B = sy.Matrix(B)\n",
    "C = sy.Matrix(C)\n",
    "I = sy.eye(2)\n",
    "s = sy.S('s')"
   ]
  },
  {
   "cell_type": "code",
   "execution_count": 4,
   "id": "f9e27c9b-7710-4b84-bed0-440de6c9f701",
   "metadata": {},
   "outputs": [
    {
     "name": "stdout",
     "output_type": "stream",
     "text": [
      "Matrix([[-(7 - 5*s)/(s**2 + 33*s + 224)]])\n"
     ]
    }
   ],
   "source": [
    "print(-sy.simplify(K * (s * I - (A - B * K - L * C)).inv() * L))"
   ]
  },
  {
   "cell_type": "code",
   "execution_count": 5,
   "id": "3ef1537e-bfbc-4a2c-ad59-444143ff3937",
   "metadata": {},
   "outputs": [],
   "source": [
    "F = 2\n",
    "G = s + 4 + 9/s\n",
    "H = (- s) / (s**2 - 5)"
   ]
  },
  {
   "cell_type": "code",
   "execution_count": 6,
   "id": "1fe5bb84-638d-4f3b-8505-567afbd62240",
   "metadata": {},
   "outputs": [
    {
     "data": {
      "text/latex": [
       "$\\displaystyle \\frac{s^{3}}{4 s + 14} + \\frac{4 s^{2}}{4 s + 14} + \\frac{4 s}{4 s + 14} - \\frac{45}{4 s^{2} + 14 s} - \\frac{20}{4 s + 14}$"
      ],
      "text/plain": [
       "s**3/(4*s + 14) + 4*s**2/(4*s + 14) + 4*s/(4*s + 14) - 45/(4*s**2 + 14*s) - 20/(4*s + 14)"
      ]
     },
     "execution_count": 6,
     "metadata": {},
     "output_type": "execute_result"
    }
   ],
   "source": [
    "T = -(sy.expand(((G / H) / (G + 1 / H))))\n",
    "T"
   ]
  },
  {
   "cell_type": "code",
   "execution_count": 7,
   "id": "4bef273d-8ecf-4eea-ae61-fe9800af4b2f",
   "metadata": {},
   "outputs": [
    {
     "name": "stdout",
     "output_type": "stream",
     "text": [
      "s**3/(4*s + 14) + 4*s**2/(4*s + 14) + 4*s/(4*s + 14) - 45/(4*s**2 + 14*s) - 20/(4*s + 14)\n"
     ]
    }
   ],
   "source": [
    "print(T)"
   ]
  },
  {
   "cell_type": "code",
   "execution_count": 8,
   "id": "b100f0b2-6010-4871-b6f9-d4d528a703d0",
   "metadata": {},
   "outputs": [
    {
     "data": {
      "text/latex": [
       "$\\displaystyle s \\left(2 s + 11\\right)$"
      ],
      "text/plain": [
       "s*(2*s + 11)"
      ]
     },
     "execution_count": 8,
     "metadata": {},
     "output_type": "execute_result"
    }
   ],
   "source": [
    "sy.factor(2 * s**2 + 11 * s )"
   ]
  },
  {
   "cell_type": "code",
   "execution_count": 6,
   "id": "5dec5950-82cf-4acb-9bca-9066c6ede30d",
   "metadata": {},
   "outputs": [],
   "source": [
    "F = 5\n",
    "G = 2 + 7 / s\n",
    "H = (-2 * s - 2) / (s**2 + 5)"
   ]
  },
  {
   "cell_type": "code",
   "execution_count": 7,
   "id": "afbc3a03-7a7d-44f1-8351-d163db0dab8a",
   "metadata": {},
   "outputs": [
    {
     "data": {
      "text/latex": [
       "$\\displaystyle - \\frac{20 s^{2}}{s^{3} - 4 s^{2} - 13 s - 14} - \\frac{90 s}{s^{3} - 4 s^{2} - 13 s - 14} - \\frac{70}{s^{3} - 4 s^{2} - 13 s - 14}$"
      ],
      "text/plain": [
       "-20*s**2/(s**3 - 4*s**2 - 13*s - 14) - 90*s/(s**3 - 4*s**2 - 13*s - 14) - 70/(s**3 - 4*s**2 - 13*s - 14)"
      ]
     },
     "execution_count": 7,
     "metadata": {},
     "output_type": "execute_result"
    }
   ],
   "source": [
    "T = sy.expand(sy.simplify(H * G * F / (1 + H * G)))\n",
    "T"
   ]
  },
  {
   "cell_type": "code",
   "execution_count": 8,
   "id": "d5e4a26f-b32b-4387-98f1-0e84a47755d2",
   "metadata": {},
   "outputs": [
    {
     "name": "stdout",
     "output_type": "stream",
     "text": [
      "-20*s**2/(s**3 - 4*s**2 - 13*s - 14) - 90*s/(s**3 - 4*s**2 - 13*s - 14) - 70/(s**3 - 4*s**2 - 13*s - 14)\n"
     ]
    }
   ],
   "source": [
    "print(T)"
   ]
  },
  {
   "cell_type": "code",
   "execution_count": 12,
   "id": "8c3b5058-f7f7-4e75-9aaf-a19262fd66e7",
   "metadata": {},
   "outputs": [],
   "source": [
    "F = 3\n",
    "G = 4 * s + 5 + 4 / s\n",
    "H = (5 - s) / (s**2 + 12)"
   ]
  },
  {
   "cell_type": "code",
   "execution_count": 13,
   "id": "9b9a9716-7215-4501-8ad0-26530666e10b",
   "metadata": {},
   "outputs": [
    {
     "data": {
      "text/latex": [
       "$\\displaystyle \\frac{12 s^{3}}{3 s^{3} - 15 s^{2} - 33 s - 20} - \\frac{45 s^{2}}{3 s^{3} - 15 s^{2} - 33 s - 20} - \\frac{63 s}{3 s^{3} - 15 s^{2} - 33 s - 20} - \\frac{60}{3 s^{3} - 15 s^{2} - 33 s - 20}$"
      ],
      "text/plain": [
       "12*s**3/(3*s**3 - 15*s**2 - 33*s - 20) - 45*s**2/(3*s**3 - 15*s**2 - 33*s - 20) - 63*s/(3*s**3 - 15*s**2 - 33*s - 20) - 60/(3*s**3 - 15*s**2 - 33*s - 20)"
      ]
     },
     "execution_count": 13,
     "metadata": {},
     "output_type": "execute_result"
    }
   ],
   "source": [
    "T = sy.expand(sy.simplify(F * G * H / (1 + G* H)))\n",
    "T"
   ]
  },
  {
   "cell_type": "code",
   "execution_count": 14,
   "id": "b7917cde-8021-45ca-8e10-42c4f7326d81",
   "metadata": {},
   "outputs": [
    {
     "name": "stdout",
     "output_type": "stream",
     "text": [
      "12*s**3/(3*s**3 - 15*s**2 - 33*s - 20) - 45*s**2/(3*s**3 - 15*s**2 - 33*s - 20) - 63*s/(3*s**3 - 15*s**2 - 33*s - 20) - 60/(3*s**3 - 15*s**2 - 33*s - 20)\n"
     ]
    }
   ],
   "source": [
    "print(T)"
   ]
  },
  {
   "cell_type": "code",
   "execution_count": 15,
   "id": "f6b47576-13f3-4907-8268-554506f36eee",
   "metadata": {},
   "outputs": [
    {
     "data": {
      "text/plain": [
       "{5/3 + 58/(9*(sqrt(8353)/18 + 925/54)**(1/3)) + (sqrt(8353)/18 + 925/54)**(1/3): 1,\n",
       " 5/3 + 58/(9*(-1/2 + sqrt(3)*I/2)*(sqrt(8353)/18 + 925/54)**(1/3)) + (-1/2 + sqrt(3)*I/2)*(sqrt(8353)/18 + 925/54)**(1/3): 1,\n",
       " 5/3 + (-1/2 - sqrt(3)*I/2)*(sqrt(8353)/18 + 925/54)**(1/3) + 58/(9*(-1/2 - sqrt(3)*I/2)*(sqrt(8353)/18 + 925/54)**(1/3)): 1}"
      ]
     },
     "execution_count": 15,
     "metadata": {},
     "output_type": "execute_result"
    }
   ],
   "source": [
    "sy.roots((3*s**3 - 15*s**2 - 33*s - 20))"
   ]
  },
  {
   "cell_type": "code",
   "execution_count": 16,
   "id": "34c5aa9b-bcd1-47ba-bd33-c9164ddde5bd",
   "metadata": {},
   "outputs": [
    {
     "data": {
      "text/latex": [
       "$\\displaystyle 6.77021144994924$"
      ],
      "text/plain": [
       "6.77021144994924"
      ]
     },
     "execution_count": 16,
     "metadata": {},
     "output_type": "execute_result"
    }
   ],
   "source": [
    "(5/3 + 58/(9*(sy.sqrt(8353)/18 + 925/54)**(1/3)) + (sy.sqrt(8353)/18 + 925/54)**(1/3)).evalf()"
   ]
  },
  {
   "cell_type": "code",
   "execution_count": 17,
   "id": "c179d03c-46c4-4dc2-9a3c-d58eb537ec58",
   "metadata": {},
   "outputs": [],
   "source": [
    "G = 4*s + 4 + 4/s\n",
    "H = (-3 * s - 1) / (s**2 - 28)"
   ]
  },
  {
   "cell_type": "code",
   "execution_count": 18,
   "id": "09181955-b8d5-4cb2-89b9-3b8985dc732b",
   "metadata": {},
   "outputs": [
    {
     "data": {
      "text/latex": [
       "$\\displaystyle \\frac{s^{3}}{11 s^{3} + 16 s^{2} + 44 s + 4} - \\frac{28 s}{11 s^{3} + 16 s^{2} + 44 s + 4}$"
      ],
      "text/plain": [
       "s**3/(11*s**3 + 16*s**2 + 44*s + 4) - 28*s/(11*s**3 + 16*s**2 + 44*s + 4)"
      ]
     },
     "execution_count": 18,
     "metadata": {},
     "output_type": "execute_result"
    }
   ],
   "source": [
    "T = sy.expand(sy.simplify(-1 / (1 + H * G)))\n",
    "T"
   ]
  },
  {
   "cell_type": "code",
   "execution_count": 19,
   "id": "a85979a5-3423-4280-acd8-17a60a74d9f7",
   "metadata": {},
   "outputs": [
    {
     "name": "stdout",
     "output_type": "stream",
     "text": [
      "s**3/(11*s**3 + 16*s**2 + 44*s + 4) - 28*s/(11*s**3 + 16*s**2 + 44*s + 4)\n"
     ]
    }
   ],
   "source": [
    "print(T)"
   ]
  },
  {
   "cell_type": "code",
   "execution_count": 20,
   "id": "ec529304-1e4c-4b11-9ea0-86726c2ddaa1",
   "metadata": {},
   "outputs": [
    {
     "data": {
      "text/plain": [
       "[-0.0939089149667988,\n",
       " -0.680318269789328 - 1.8464536687106*I,\n",
       " -0.680318269789328 + 1.8464536687106*I]"
      ]
     },
     "execution_count": 20,
     "metadata": {},
     "output_type": "execute_result"
    }
   ],
   "source": [
    "sy.nroots(11*s**3 + 16*s**2 + 44*s + 4)"
   ]
  },
  {
   "cell_type": "code",
   "execution_count": 130,
   "id": "88c88a44-1013-40bf-95fc-90f92d57b411",
   "metadata": {},
   "outputs": [],
   "source": [
    "tau = 0.7\n",
    "T_D = (2 - s * tau) / (2 + s * tau)\n",
    "G = (s + 7) / (s + 2)\n",
    "H = (1) / (s - 2)"
   ]
  },
  {
   "cell_type": "code",
   "execution_count": 131,
   "id": "f64843e6-fdda-4718-8b51-3ebb9e2d0e9e",
   "metadata": {},
   "outputs": [
    {
     "data": {
      "text/latex": [
       "$\\displaystyle \\frac{0.7 s^{3}}{0.7 s^{3} + 1.3 s^{2} - 5.7 s + 6.0} + \\frac{1.5 s^{2}}{0.7 s^{3} + 1.3 s^{2} - 5.7 s + 6.0} - \\frac{19.8 s}{0.7 s^{3} + 1.3 s^{2} - 5.7 s + 6.0} + \\frac{28.0}{0.7 s^{3} + 1.3 s^{2} - 5.7 s + 6.0}$"
      ],
      "text/plain": [
       "0.7*s**3/(0.7*s**3 + 1.3*s**2 - 5.7*s + 6.0) + 1.5*s**2/(0.7*s**3 + 1.3*s**2 - 5.7*s + 6.0) - 19.8*s/(0.7*s**3 + 1.3*s**2 - 5.7*s + 6.0) + 28.0/(0.7*s**3 + 1.3*s**2 - 5.7*s + 6.0)"
      ]
     },
     "execution_count": 131,
     "metadata": {},
     "output_type": "execute_result"
    }
   ],
   "source": [
    "T = sy.expand(sy.simplify(-G * T_D / (G * T_D * H + 1)))\n",
    "T"
   ]
  },
  {
   "cell_type": "code",
   "execution_count": 132,
   "id": "2d076d92-bede-4dfd-9b12-97f4715c6385",
   "metadata": {},
   "outputs": [
    {
     "name": "stdout",
     "output_type": "stream",
     "text": [
      "0.7*s**3/(0.7*s**3 + 1.3*s**2 - 5.7*s + 6.0) + 1.5*s**2/(0.7*s**3 + 1.3*s**2 - 5.7*s + 6.0) - 19.8*s/(0.7*s**3 + 1.3*s**2 - 5.7*s + 6.0) + 28.0/(0.7*s**3 + 1.3*s**2 - 5.7*s + 6.0)\n"
     ]
    }
   ],
   "source": [
    "print(T)"
   ]
  },
  {
   "cell_type": "code",
   "execution_count": 133,
   "id": "6b2f8745-3308-4c21-9cca-509edaf475aa",
   "metadata": {},
   "outputs": [
    {
     "data": {
      "text/plain": [
       "[-4.24859769880245,\n",
       " 1.1957274208298 - 0.766621372832437*I,\n",
       " 1.1957274208298 + 0.766621372832437*I]"
      ]
     },
     "execution_count": 133,
     "metadata": {},
     "output_type": "execute_result"
    }
   ],
   "source": [
    "sy.nroots(0.7*s**3 + 1.3*s**2 - 5.7*s + 6.0)"
   ]
  },
  {
   "cell_type": "code",
   "execution_count": 134,
   "id": "028402c2-9f97-4b8f-b9d9-c063c26b012a",
   "metadata": {},
   "outputs": [
    {
     "name": "stdout",
     "output_type": "stream",
     "text": [
      "7.0*s**3 + 13.0*s**2 - 57.0*s + 60.0\n"
     ]
    }
   ],
   "source": [
    "print((0.7*s**3 + 1.3*s**2 - 5.7*s + 6.0)*10)"
   ]
  },
  {
   "cell_type": "code",
   "execution_count": 135,
   "id": "f893e32c-154e-4b73-aa30-738ffd743460",
   "metadata": {},
   "outputs": [
    {
     "data": {
      "text/latex": [
       "$\\displaystyle 7 s^{3} + 15 s^{2} - 198 s + 280$"
      ],
      "text/plain": [
       "7*s**3 + 15*s**2 - 198*s + 280"
      ]
     },
     "execution_count": 135,
     "metadata": {},
     "output_type": "execute_result"
    }
   ],
   "source": [
    "(7 * s**3 + 15 * s**2 - 198 * s + 280)"
   ]
  },
  {
   "cell_type": "code",
   "execution_count": 170,
   "id": "7cc44cbb-f401-4759-859e-04958119e754",
   "metadata": {},
   "outputs": [],
   "source": [
    "tau = 1.11\n",
    "T_D = (2 - s * tau) / (2 + s * tau)\n",
    "G = (s + 3) / (s + 9)\n",
    "H = (s) / (s**2 + 7)"
   ]
  },
  {
   "cell_type": "code",
   "execution_count": 171,
   "id": "1ecf822c-be31-4786-bbe2-b9144146f9f2",
   "metadata": {},
   "outputs": [
    {
     "data": {
      "text/latex": [
       "$\\displaystyle - \\frac{3.33 s^{3}}{1.11 s^{4} + 10.88 s^{3} + 24.44 s^{2} + 89.93 s + 126.0} - \\frac{3.99 s^{2}}{1.11 s^{4} + 10.88 s^{3} + 24.44 s^{2} + 89.93 s + 126.0} + \\frac{18.0 s}{1.11 s^{4} + 10.88 s^{3} + 24.44 s^{2} + 89.93 s + 126.0}$"
      ],
      "text/plain": [
       "-3.33*s**3/(1.11*s**4 + 10.88*s**3 + 24.44*s**2 + 89.93*s + 126.0) - 3.99*s**2/(1.11*s**4 + 10.88*s**3 + 24.44*s**2 + 89.93*s + 126.0) + 18.0*s/(1.11*s**4 + 10.88*s**3 + 24.44*s**2 + 89.93*s + 126.0)"
      ]
     },
     "execution_count": 171,
     "metadata": {},
     "output_type": "execute_result"
    }
   ],
   "source": [
    "T = sy.expand(sy.simplify(T_D * H * G * F / (G * T_D * H + 1)))\n",
    "T"
   ]
  },
  {
   "cell_type": "code",
   "execution_count": 172,
   "id": "da7c87d9-7e71-45a7-9188-d33aae77efde",
   "metadata": {},
   "outputs": [
    {
     "name": "stdout",
     "output_type": "stream",
     "text": [
      "-3.33*s**3/(1.11*s**4 + 10.88*s**3 + 24.44*s**2 + 89.93*s + 126.0) - 3.99*s**2/(1.11*s**4 + 10.88*s**3 + 24.44*s**2 + 89.93*s + 126.0) + 18.0*s/(1.11*s**4 + 10.88*s**3 + 24.44*s**2 + 89.93*s + 126.0)\n"
     ]
    }
   ],
   "source": [
    "print(T)"
   ]
  },
  {
   "cell_type": "code",
   "execution_count": 173,
   "id": "949ab0fd-bd47-485c-af93-b1fb23a377ad",
   "metadata": {},
   "outputs": [
    {
     "data": {
      "text/plain": [
       "[-8.10536358388149,\n",
       " -1.69455123551001,\n",
       " -0.000943491205148645 - 2.87481668730921*I,\n",
       " -0.000943491205148645 + 2.87481668730921*I]"
      ]
     },
     "execution_count": 173,
     "metadata": {},
     "output_type": "execute_result"
    }
   ],
   "source": [
    "sy.nroots(1.11*s**4 + 10.88*s**3 + 24.44*s**2 + 89.93*s + 126.0)"
   ]
  },
  {
   "cell_type": "code",
   "execution_count": 16,
   "id": "9c19d080-1fcf-4089-a43f-7b1762721846",
   "metadata": {},
   "outputs": [],
   "source": [
    "w = np.array([[0.0100000000, 0.0128264983, 0.0164519059, 0.0211020343, 0.0270665207,  0.0347168682, 0.0445295851, 0.0571158648, 0.0732596543, 0.0939664831,  0.1205260937, 0.1545927736, 0.1982883949, 0.2543345761, 0.3262222010,  0.4184288508, 0.5366976946, 0.6883952070, 0.8829699955, 1.1325413152,  1.4526539259, 1.8632463119, 2.3898925662, 3.0653952951, 3.9318287557,  5.0431594872, 6.4686076615, 8.2969585208, 10.6420924406, 13.6500780655,  17.5082703174, 22.4569799554, 28.8044415340, 36.9460120520,  47.3887960972, 60.7832312830, 77.9636013041, 100.0000000000]])\n",
    "mag = np.array([[1.6259442537, 1.6261859468, 1.6264162953, 1.6267948216, 1.6276998230,  1.6291950262, 1.6312679878, 1.6349836653, 1.6412874704, 1.6513593162,  1.6678676213, 1.6955650349, 1.7413866652, 1.8183531682, 1.9471676107,  2.1639833519, 2.5154575767, 2.9793803666, 3.1614008408, 2.6820282023,  2.0720549255, 1.6403014246, 1.3507523463, 1.1384265939, 0.9634414020,  0.8077811251, 0.6673547765, 0.5428442281, 0.4355604717, 0.3458246046,  0.2730164251, 0.2145235148, 0.1679809240, 0.1314977652, 0.1024551557,  0.0802452511, 0.0624113796, 0.0485990008]])\n",
    "ang = np.array([[-3.1361323696, -3.1345208364, -3.1324618911, -3.1300575319,  -3.1266511659, -3.1224676736, -3.1169364573, -3.1097939371,  -3.1007372936, -3.0887351923, -3.0730877982, -3.0517616301,  -3.0229108222, -2.9811000413, -2.9187523744, -2.8181693259,  -2.6455736453, -2.3391076239, -1.8727131170, -1.4224293365,  -1.1494133805, -1.0209236663, -0.9801284862, -0.9938642402,  -1.0411654679, -1.1067304876, -1.1784344505, -1.2481051442,  -1.3103977588, -1.3630596056, -1.4066773890, -1.4415294513,  -1.4697687822, -1.4917249358, -1.5088854818, -1.5225015764,  -1.5330751238, -1.5415740208]])"
   ]
  },
  {
   "cell_type": "code",
   "execution_count": 17,
   "id": "bb382f67-c67c-4cbe-b774-b0ad335d0ad3",
   "metadata": {},
   "outputs": [
    {
     "name": "stdout",
     "output_type": "stream",
     "text": [
      "(1, 38) (1, 38) (1, 38)\n"
     ]
    }
   ],
   "source": [
    "print(w.shape, mag.shape, ang.shape)"
   ]
  },
  {
   "cell_type": "code",
   "execution_count": 18,
   "id": "79a74318-dd1b-4836-8f3b-46b28313b7a7",
   "metadata": {},
   "outputs": [],
   "source": [
    "k = 38"
   ]
  },
  {
   "cell_type": "code",
   "execution_count": 19,
   "id": "d64d315a-ff21-4eae-b748-0724b787e6fe",
   "metadata": {},
   "outputs": [],
   "source": [
    "H = np.zeros((k,1)) * 1j\n",
    "for i in range(k):\n",
    "    theta = ang[0][i]\n",
    "    H[i] = mag[0][i] * (np.cos(theta) + 1j * np.sin(theta))"
   ]
  },
  {
   "cell_type": "code",
   "execution_count": 21,
   "id": "73c6ded7-d21c-4cbe-9302-53facbee58db",
   "metadata": {},
   "outputs": [
    {
     "data": {
      "text/plain": [
       "array([[    -0.0001    +0.j],\n",
       "       [    -0.00016452+0.j],\n",
       "       [    -0.00027067+0.j],\n",
       "       [    -0.0004453 +0.j],\n",
       "       [    -0.0007326 +0.j],\n",
       "       [    -0.00120526+0.j],\n",
       "       [    -0.00198288+0.j],\n",
       "       [    -0.00326222+0.j],\n",
       "       [    -0.00536698+0.j],\n",
       "       [    -0.0088297 +0.j],\n",
       "       [    -0.01452654+0.j],\n",
       "       [    -0.02389893+0.j],\n",
       "       [    -0.03931829+0.j],\n",
       "       [    -0.06468608+0.j],\n",
       "       [    -0.10642092+0.j],\n",
       "       [    -0.1750827 +0.j],\n",
       "       [    -0.28804442+0.j],\n",
       "       [    -0.47388796+0.j],\n",
       "       [    -0.77963601+0.j],\n",
       "       [    -1.28264983+0.j],\n",
       "       [    -2.11020343+0.j],\n",
       "       [    -3.47168682+0.j],\n",
       "       [    -5.71158648+0.j],\n",
       "       [    -9.39664832+0.j],\n",
       "       [   -15.45927736+0.j],\n",
       "       [   -25.43345761+0.j],\n",
       "       [   -41.84288508+0.j],\n",
       "       [   -68.8395207 +0.j],\n",
       "       [  -113.25413151+0.j],\n",
       "       [  -186.32463119+0.j],\n",
       "       [  -306.53952951+0.j],\n",
       "       [  -504.31594872+0.j],\n",
       "       [  -829.69585209+0.j],\n",
       "       [ -1365.00780655+0.j],\n",
       "       [ -2245.69799554+0.j],\n",
       "       [ -3694.6012052 +0.j],\n",
       "       [ -6078.3231283 +0.j],\n",
       "       [-10000.        +0.j]])"
      ]
     },
     "execution_count": 21,
     "metadata": {},
     "output_type": "execute_result"
    }
   ],
   "source": [
    "(1j * w.T)**2"
   ]
  },
  {
   "cell_type": "code",
   "execution_count": 23,
   "id": "382fb7ca-ac14-4847-bcd3-177f3e25ddff",
   "metadata": {},
   "outputs": [],
   "source": [
    "P1 = np.zeros((k,1)) * 1j\n",
    "for i in range(k):\n",
    "    P1[i] = -H[i] * (1j * w[0][i])\n",
    "\n",
    "P2 = np.zeros((k,1)) * 1j\n",
    "for i in range(k):\n",
    "    P2[i] = -H[i] * (1j * w[0][i])**2\n",
    "    \n",
    "P = np.concatenate((P1, P2, -H, (1j * w.T)**2, 1j * w.T, np.ones((k,1))), axis=1)\n",
    "##print(P)"
   ]
  },
  {
   "cell_type": "code",
   "execution_count": 24,
   "id": "0c656785-d557-49f7-bb2b-e29088148aea",
   "metadata": {},
   "outputs": [],
   "source": [
    "r = np.zeros((k,1)) * 1j\n",
    "for i in range(k):\n",
    "    r[i] = H[i] * (1j * w[0][i])**3"
   ]
  },
  {
   "cell_type": "code",
   "execution_count": 25,
   "id": "d64640ff-d22f-4606-915f-9c91da1ce221",
   "metadata": {},
   "outputs": [
    {
     "name": "stdout",
     "output_type": "stream",
     "text": [
      "(76, 1)\n"
     ]
    }
   ],
   "source": [
    "P_hat = np.concatenate( ( np.real(P), np.imag(P) ), axis=0)\n",
    "r_hat = np.concatenate( ( np.real(r), np.imag(r) ), axis=0)\n",
    "print(r_hat.shape)"
   ]
  },
  {
   "cell_type": "code",
   "execution_count": 26,
   "id": "eb734226-d0df-4b30-a284-e108ca2b8ff4",
   "metadata": {},
   "outputs": [
    {
     "name": "stdout",
     "output_type": "stream",
     "text": [
      "[[-2.76893198]\n",
      " [ 2.36980166]\n",
      " [ 3.50055727]\n",
      " [ 4.86566184]\n",
      " [-2.73660169]\n",
      " [-5.66354927]]\n"
     ]
    }
   ],
   "source": [
    "q = np.linalg.inv(P_hat.T @ P_hat) @ P_hat.T @ r_hat\n",
    "print(q)"
   ]
  },
  {
   "cell_type": "code",
   "execution_count": null,
   "id": "79c1c576-173d-480f-b9dd-0bc4610e8ddf",
   "metadata": {},
   "outputs": [],
   "source": []
  }
 ],
 "metadata": {
  "kernelspec": {
   "display_name": "Python 3 (ipykernel)",
   "language": "python",
   "name": "python3"
  },
  "language_info": {
   "codemirror_mode": {
    "name": "ipython",
    "version": 3
   },
   "file_extension": ".py",
   "mimetype": "text/x-python",
   "name": "python",
   "nbconvert_exporter": "python",
   "pygments_lexer": "ipython3",
   "version": "3.11.5"
  }
 },
 "nbformat": 4,
 "nbformat_minor": 5
}
