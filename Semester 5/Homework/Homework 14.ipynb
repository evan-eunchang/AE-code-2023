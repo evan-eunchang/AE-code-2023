{
 "cells": [
  {
   "cell_type": "code",
   "execution_count": 1,
   "id": "b4622479-1aca-43fb-93c7-e15c44ee8b79",
   "metadata": {},
   "outputs": [],
   "source": [
    "import numpy as np\n",
    "from scipy import linalg\n",
    "from scipy import integrate\n",
    "from numpy import linalg as la"
   ]
  },
  {
   "cell_type": "code",
   "execution_count": 2,
   "id": "a25e8746-cfc8-4c04-ab7c-ef2755bf0ae0",
   "metadata": {},
   "outputs": [],
   "source": [
    "A = -0.40;\n",
    "B = -0.80;\n",
    "Q = 9.80;\n",
    "R = 0.40;\n",
    "M = 1.00;\n",
    "t0 = 0.00;\n",
    "x0 = -0.27;\n",
    "t1 = 0.20;"
   ]
  },
  {
   "cell_type": "code",
   "execution_count": 3,
   "id": "42d0044c-7208-4662-938c-2093837ea23f",
   "metadata": {},
   "outputs": [],
   "source": [
    "t = np.linspace(t1,t0,1000)"
   ]
  },
  {
   "cell_type": "code",
   "execution_count": 4,
   "id": "b2778439-7eac-40c6-b60d-df37e7e97642",
   "metadata": {},
   "outputs": [],
   "source": [
    "def func(x,t):\n",
    "    return -Q + -2 * A * x + B**2 * x**2 / R"
   ]
  },
  {
   "cell_type": "code",
   "execution_count": 5,
   "id": "7e7b3a85-84f5-49bf-827e-325cdb3955cc",
   "metadata": {},
   "outputs": [],
   "source": [
    "P = integrate.odeint(func, M, t)"
   ]
  },
  {
   "cell_type": "code",
   "execution_count": 6,
   "id": "ee335773-672c-41cf-ae51-3cd6b5656a8c",
   "metadata": {},
   "outputs": [
    {
     "data": {
      "text/plain": [
       "array([-1.03863206])"
      ]
     },
     "execution_count": 6,
     "metadata": {},
     "output_type": "execute_result"
    }
   ],
   "source": [
    "- B * P[-1] * x0 / R"
   ]
  },
  {
   "cell_type": "code",
   "execution_count": 7,
   "id": "0a07f6e1-0995-4e5d-ae59-b4f6c2049a8d",
   "metadata": {},
   "outputs": [],
   "source": [
    "A = -0.70;\n",
    "B = 0.50;\n",
    "Q = 6.00;\n",
    "R = 4.50;\n",
    "M = 0.30;\n",
    "t0 = 0.70;\n",
    "x0 = 0.26;\n",
    "t1 = 0.80;"
   ]
  },
  {
   "cell_type": "code",
   "execution_count": 8,
   "id": "7583ba17-6dad-4f15-b13e-0c5538e56505",
   "metadata": {},
   "outputs": [],
   "source": [
    "t = np.linspace(t1,t0,1001)\n",
    "dt = (t1 - t0)/1000"
   ]
  },
  {
   "cell_type": "code",
   "execution_count": 9,
   "id": "98caadcb-46aa-4c88-b9af-e331cae94f18",
   "metadata": {},
   "outputs": [],
   "source": [
    "def func(x,t):\n",
    "    return -Q + -2 * A * x + B**2 * x**2 / R\n",
    "P = integrate.odeint(func, M, t)\n",
    "P = np.flip(P)"
   ]
  },
  {
   "cell_type": "code",
   "execution_count": 10,
   "id": "a0eabc40-5263-4e82-96e2-ec06fb2c1f1b",
   "metadata": {},
   "outputs": [
    {
     "name": "stdout",
     "output_type": "stream",
     "text": [
      "[[0.05535951]]\n"
     ]
    }
   ],
   "source": [
    "cost = np.array([[0]], dtype=float)\n",
    "x = x0\n",
    "u = - B * P[0] * x / R\n",
    "for i in range(1000):\n",
    "    cost += (Q * x**2 + R * u**2) * dt\n",
    "    x = x + (A * x + B * u) * dt\n",
    "    u = - B * P[i] * x / R\n",
    "print(cost + M * x**2)"
   ]
  },
  {
   "cell_type": "code",
   "execution_count": 11,
   "id": "34508acb-dacd-471a-b033-278371a88b2f",
   "metadata": {},
   "outputs": [],
   "source": [
    "A = 0.60;\n",
    "B = -0.20;\n",
    "Q = 9.50;\n",
    "R = 6.50;\n",
    "M = 0.10;\n",
    "t0 = 0.40;\n",
    "x0 = -0.27;"
   ]
  },
  {
   "cell_type": "code",
   "execution_count": 18,
   "id": "4ef9f807-d7ba-483b-b42d-7c2fcd8b5695",
   "metadata": {},
   "outputs": [],
   "source": [
    "t1 = t0 + 2000"
   ]
  },
  {
   "cell_type": "code",
   "execution_count": 19,
   "id": "cc59bf47-02f0-4e63-b17d-c3df3aff7b90",
   "metadata": {},
   "outputs": [
    {
     "data": {
      "text/plain": [
       "array([-6.23443016])"
      ]
     },
     "execution_count": 19,
     "metadata": {},
     "output_type": "execute_result"
    }
   ],
   "source": [
    "t = np.linspace(t1,t0,1001)\n",
    "dt = (t1 - t0)/1000\n",
    "def func(x,t):\n",
    "    return -Q + -2 * A * x + B**2 * x**2 / R\n",
    "P = integrate.odeint(func, M, t)\n",
    "B * P[-1] / R"
   ]
  },
  {
   "cell_type": "code",
   "execution_count": null,
   "id": "ebfe1f5a-5802-4ab3-b7a2-9c4692bdf126",
   "metadata": {},
   "outputs": [],
   "source": []
  }
 ],
 "metadata": {
  "kernelspec": {
   "display_name": "Python 3 (ipykernel)",
   "language": "python",
   "name": "python3"
  },
  "language_info": {
   "codemirror_mode": {
    "name": "ipython",
    "version": 3
   },
   "file_extension": ".py",
   "mimetype": "text/x-python",
   "name": "python",
   "nbconvert_exporter": "python",
   "pygments_lexer": "ipython3",
   "version": "3.11.5"
  }
 },
 "nbformat": 4,
 "nbformat_minor": 5
}
