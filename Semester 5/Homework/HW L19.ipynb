{
 "cells": [
  {
   "cell_type": "code",
   "execution_count": 1,
   "id": "6ca2ba42-e893-4580-8110-97c02c35b824",
   "metadata": {},
   "outputs": [],
   "source": [
    "import numpy as np\n",
    "import sympy as sy"
   ]
  },
  {
   "cell_type": "code",
   "execution_count": 22,
   "id": "4b47cb25-bf24-4132-bb20-c230fb60a320",
   "metadata": {},
   "outputs": [
    {
     "data": {
      "text/plain": [
       "16.278820596099706"
      ]
     },
     "execution_count": 22,
     "metadata": {},
     "output_type": "execute_result"
    }
   ],
   "source": [
    "x = 16\n",
    "y = -3\n",
    "np.sqrt(x**2 + y**2)"
   ]
  },
  {
   "cell_type": "code",
   "execution_count": 23,
   "id": "fef0bd2d-93c1-4786-8ca4-1fbd4cdefe19",
   "metadata": {},
   "outputs": [
    {
     "data": {
      "text/plain": [
       "-0.18534794999569476"
      ]
     },
     "execution_count": 23,
     "metadata": {},
     "output_type": "execute_result"
    }
   ],
   "source": [
    "np.arctan2(y,x)"
   ]
  },
  {
   "cell_type": "code",
   "execution_count": 107,
   "id": "adcb657b-6631-4087-8d85-f1254023ab03",
   "metadata": {},
   "outputs": [],
   "source": [
    "A = -5\n",
    "B = -1\n",
    "C = -3\n",
    "D = 0\n",
    "w = 2.9"
   ]
  },
  {
   "cell_type": "code",
   "execution_count": 108,
   "id": "d9cd8d0b-97a5-4ebc-ae2c-142bc6e2e119",
   "metadata": {},
   "outputs": [],
   "source": [
    "s = sy.S('s')\n",
    "i = sy.S('i')"
   ]
  },
  {
   "cell_type": "code",
   "execution_count": 109,
   "id": "02304d57-19e8-4bb0-bdec-356170e274ce",
   "metadata": {},
   "outputs": [],
   "source": [
    "# C = sy.Matrix(C)\n",
    "# B = sy.Matrix(B)\n",
    "# A = sy.Matrix(A)\n",
    "# I = sy.Matrix(np.eye(1))"
   ]
  },
  {
   "cell_type": "code",
   "execution_count": 110,
   "id": "c34a5f42-1b73-47be-8806-5ecf7645c4ed",
   "metadata": {},
   "outputs": [
    {
     "data": {
      "text/latex": [
       "$\\displaystyle \\frac{8.7 i - 15.0}{8.41 i^{2} - 25.0}$"
      ],
      "text/plain": [
       "(8.7*i - 15.0)/(8.41*i**2 - 25.0)"
      ]
     },
     "execution_count": 110,
     "metadata": {},
     "output_type": "execute_result"
    }
   ],
   "source": [
    "(C * B * (-w * i - A) / ((w * i - A)*(-w * i - A))).simplify()"
   ]
  },
  {
   "cell_type": "code",
   "execution_count": 111,
   "id": "a4975709-12d0-4fe5-ab2d-ce1d82026754",
   "metadata": {},
   "outputs": [],
   "source": [
    "mag = 2.9**2 + 5**2"
   ]
  },
  {
   "cell_type": "code",
   "execution_count": 112,
   "id": "2096cac3-71ce-46fe-aa42-411c858b7c66",
   "metadata": {},
   "outputs": [
    {
     "data": {
      "text/plain": [
       "0.5190187135570822"
      ]
     },
     "execution_count": 112,
     "metadata": {},
     "output_type": "execute_result"
    }
   ],
   "source": [
    "x = 15/mag\n",
    "y = -8.7/mag\n",
    "np.sqrt(x**2 + y**2)"
   ]
  },
  {
   "cell_type": "code",
   "execution_count": 113,
   "id": "dbf0fb97-0e89-440a-bb5d-b552769dcef1",
   "metadata": {},
   "outputs": [
    {
     "data": {
      "text/plain": [
       "-0.5255837935516101"
      ]
     },
     "execution_count": 113,
     "metadata": {},
     "output_type": "execute_result"
    }
   ],
   "source": [
    "np.arctan2(y,x)"
   ]
  },
  {
   "cell_type": "code",
   "execution_count": 17,
   "id": "91f72195-766b-4f77-9627-2347e1b1e84c",
   "metadata": {},
   "outputs": [],
   "source": [
    "i = sy.S('i')"
   ]
  },
  {
   "cell_type": "code",
   "execution_count": 20,
   "id": "30515ea4-caa3-489c-9e64-5e7446d47d47",
   "metadata": {},
   "outputs": [
    {
     "data": {
      "text/latex": [
       "$\\displaystyle - 157500 i^{2} - 658650 i + 8810$"
      ],
      "text/plain": [
       "-157500*i**2 - 658650*i + 8810"
      ]
     },
     "execution_count": 20,
     "metadata": {},
     "output_type": "execute_result"
    }
   ],
   "source": [
    "((750*i-10)*(-881-210*i)).simplify()"
   ]
  },
  {
   "cell_type": "code",
   "execution_count": 21,
   "id": "a5c050c4-8412-43f6-b1ef-6ad134f87cb7",
   "metadata": {},
   "outputs": [
    {
     "data": {
      "text/latex": [
       "$\\displaystyle 776161 - 44100 i^{2}$"
      ],
      "text/plain": [
       "776161 - 44100*i**2"
      ]
     },
     "execution_count": 21,
     "metadata": {},
     "output_type": "execute_result"
    }
   ],
   "source": [
    "((-881+210*i)*(-881-210*i)).simplify()"
   ]
  },
  {
   "cell_type": "code",
   "execution_count": null,
   "id": "0e8bfcd5-b1f0-4fe2-993f-84c31819daa5",
   "metadata": {},
   "outputs": [],
   "source": []
  }
 ],
 "metadata": {
  "kernelspec": {
   "display_name": "Python 3 (ipykernel)",
   "language": "python",
   "name": "python3"
  },
  "language_info": {
   "codemirror_mode": {
    "name": "ipython",
    "version": 3
   },
   "file_extension": ".py",
   "mimetype": "text/x-python",
   "name": "python",
   "nbconvert_exporter": "python",
   "pygments_lexer": "ipython3",
   "version": "3.11.5"
  }
 },
 "nbformat": 4,
 "nbformat_minor": 5
}
