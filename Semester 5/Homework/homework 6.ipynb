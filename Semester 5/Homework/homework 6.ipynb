{
 "cells": [
  {
   "cell_type": "code",
   "execution_count": 5,
   "id": "26485150-6d94-4778-8594-f8b9f0bc0ee6",
   "metadata": {},
   "outputs": [],
   "source": [
    "import numpy as np\n",
    "from numpy import linalg as la\n",
    "import sympy as sy\n",
    "from scipy import signal"
   ]
  },
  {
   "cell_type": "code",
   "execution_count": 14,
   "id": "7edc9ed3-bc27-4748-8923-f0c8148e18af",
   "metadata": {},
   "outputs": [],
   "source": [
    "A = np.array([[-0.80, -0.80, 0.20], [-0.50, -0.60, -0.60], [-0.50, 0.70, 0.90]])\n",
    "B = np.array([[0.00], [0.10], [-0.80]])\n",
    "C = np.array([[0.00, 0.00, -0.30]])\n",
    "D = np.array([[0]])\n",
    "p = np.array([[1, 5]])"
   ]
  },
  {
   "cell_type": "code",
   "execution_count": 10,
   "id": "c3bfb03f-bd59-4f24-acf1-2c2470965bb9",
   "metadata": {},
   "outputs": [
    {
     "data": {
      "text/plain": [
       "array([[-862.04556502],\n",
       "       [-520.01021581],\n",
       "       [ -80.06377698]])"
      ]
     },
     "execution_count": 10,
     "metadata": {},
     "output_type": "execute_result"
    }
   ],
   "source": [
    "signal.place_poles(A, B, p[0]).gain_matrix.T"
   ]
  },
  {
   "cell_type": "code",
   "execution_count": 11,
   "id": "d0ec96d7-ffbd-4235-96c1-7d6abc89c81e",
   "metadata": {},
   "outputs": [
    {
     "data": {
      "text/latex": [
       "$\\displaystyle \\operatorname{PurePoly}{\\left( 1.0 \\lambda^{3} + 0.5 \\lambda^{2} - 0.66 \\lambda + 0.634, \\lambda, domain=\\mathbb{R} \\right)}$"
      ],
      "text/plain": [
       "PurePoly(1.0*lambda**3 + 0.5*lambda**2 - 0.66*lambda + 0.634, lambda, domain='RR')"
      ]
     },
     "execution_count": 11,
     "metadata": {},
     "output_type": "execute_result"
    }
   ],
   "source": [
    "Am = sy.Matrix(A)\n",
    "Am.charpoly()"
   ]
  },
  {
   "cell_type": "code",
   "execution_count": 15,
   "id": "1df21a34-530b-4c4d-8695-12c3c4277b72",
   "metadata": {},
   "outputs": [
    {
     "name": "stdout",
     "output_type": "stream",
     "text": [
      "Poly(x**2 - 6*x + 5, x, domain='ZZ')\n"
     ]
    }
   ],
   "source": [
    "x = sy.S('x')\n",
    "print(sy.poly((x - p[0][0]) * (x - p[0][1]) \n",
    "              # * (x - p[0][2])\n",
    "              # * (x - p[0][3])\n",
    "             ))"
   ]
  },
  {
   "cell_type": "code",
   "execution_count": 118,
   "id": "77a23695-8a5f-45b7-8e24-4d627cb1d464",
   "metadata": {},
   "outputs": [
    {
     "data": {
      "text/plain": [
       "array([[ 0.8   , -0.53  ,  0.678 , -1.0093],\n",
       "       [-0.4   , -0.53  ,  0.424 , -0.3575],\n",
       "       [ 0.3   , -0.12  , -0.069 , -0.3588],\n",
       "       [ 0.7   ,  0.01  ,  0.445 , -0.3767]])"
      ]
     },
     "execution_count": 118,
     "metadata": {},
     "output_type": "execute_result"
    }
   ],
   "source": [
    "W = np.concatenate((B, A @ B, A @ A @ B, A @ A @ A @ B), axis = 1)\n",
    "W"
   ]
  },
  {
   "cell_type": "code",
   "execution_count": 119,
   "id": "d7980c66-228d-4320-868d-c07d6fbe251b",
   "metadata": {},
   "outputs": [
    {
     "data": {
      "text/plain": [
       "array([[ 1.   , -0.2  ,  1.22 , -0.772],\n",
       "       [ 0.   ,  1.   , -0.2  ,  1.22 ],\n",
       "       [ 0.   ,  0.   ,  1.   , -0.2  ],\n",
       "       [ 0.   ,  0.   ,  0.   ,  1.   ]])"
      ]
     },
     "execution_count": 119,
     "metadata": {},
     "output_type": "execute_result"
    }
   ],
   "source": [
    "ACCF = np.array([\n",
    "    [-0.2,1.18,-0.292,-0.2043],\n",
    "    [1,0,0,0],\n",
    "    [0,1,0,0],\n",
    "    [0,0,1,0]\n",
    "])\n",
    "BCCF = np.array([\n",
    "    [1],\n",
    "    [0],\n",
    "    [0],\n",
    "    [0]\n",
    "])\n",
    "WCCF = np.concatenate((BCCF, ACCF @ BCCF, ACCF @ ACCF @ BCCF, ACCF @ ACCF @ ACCF @BCCF), axis=1)\n",
    "WCCF"
   ]
  },
  {
   "cell_type": "code",
   "execution_count": 120,
   "id": "b78d8ad2-c288-4fb1-8dcd-935728757b02",
   "metadata": {},
   "outputs": [
    {
     "data": {
      "text/plain": [
       "array([ 22.1      , 188.1698   , 690.495696 , 902.1985416])"
      ]
     },
     "execution_count": 120,
     "metadata": {},
     "output_type": "execute_result"
    }
   ],
   "source": [
    "L = np.array([22.3 - 0.2, 186.9898  + 1.18, 690.787696  - 0.292, 902.4028416 - 0.2043])\n",
    "L"
   ]
  },
  {
   "cell_type": "code",
   "execution_count": 121,
   "id": "db4e0c45-199f-47f1-b656-18e3b7007957",
   "metadata": {},
   "outputs": [
    {
     "data": {
      "text/plain": [
       "array([  7249.68272527,  -5157.18046857, -11302.85495303,  -6356.65983106])"
      ]
     },
     "execution_count": 121,
     "metadata": {},
     "output_type": "execute_result"
    }
   ],
   "source": [
    "L @ WCCF @ la.inv(W)"
   ]
  },
  {
   "cell_type": "code",
   "execution_count": 122,
   "id": "7cf39347-6c43-4a17-8c71-715306a7fb17",
   "metadata": {},
   "outputs": [
    {
     "name": "stdout",
     "output_type": "stream",
     "text": [
      "Poly(1.0*x**2 - 10.0*x + 26.0, x, domain='CC')\n"
     ]
    }
   ],
   "source": [
    "p = np.array([[5.0-1.0j, 5.0+1.0j]])\n",
    "x = sy.S('x')\n",
    "print(sy.poly((x - p[0][0]) * (x - p[0][1]) \n",
    "             ))"
   ]
  },
  {
   "cell_type": "code",
   "execution_count": 16,
   "id": "f4ae3286-ded6-4536-a4e3-02674b18d7f1",
   "metadata": {},
   "outputs": [
    {
     "data": {
      "text/latex": [
       "$\\displaystyle \\operatorname{PurePoly}{\\left( \\lambda^{3} + 2 \\lambda^{2} - 17 \\lambda - 54, \\lambda, domain=\\mathbb{Z} \\right)}$"
      ],
      "text/plain": [
       "PurePoly(lambda**3 + 2*lambda**2 - 17*lambda - 54, lambda, domain='ZZ')"
      ]
     },
     "execution_count": 16,
     "metadata": {},
     "output_type": "execute_result"
    }
   ],
   "source": [
    "A = np.array([[ 3, -2, -3], [ 0, -3,  1], [-3, -1, -2]])\n",
    "Am = sy.Matrix(A)\n",
    "Am.charpoly()"
   ]
  },
  {
   "cell_type": "code",
   "execution_count": 21,
   "id": "77f7824b-a2fb-4e67-8ac6-fa98a078fe2a",
   "metadata": {},
   "outputs": [],
   "source": [
    "A = np.array([[-0.8, -1.0], [-0.2, 0.3]])\n",
    "B = np.array([[-0.1], [-0.7]])"
   ]
  },
  {
   "cell_type": "code",
   "execution_count": 22,
   "id": "591efcdd-010c-4c60-a3bd-3411c0cde414",
   "metadata": {},
   "outputs": [
    {
     "data": {
      "text/latex": [
       "$\\displaystyle \\operatorname{PurePoly}{\\left( 1.0 \\lambda^{2} + 0.5 \\lambda - 0.44, \\lambda, domain=\\mathbb{R} \\right)}$"
      ],
      "text/plain": [
       "PurePoly(1.0*lambda**2 + 0.5*lambda - 0.44, lambda, domain='RR')"
      ]
     },
     "execution_count": 22,
     "metadata": {},
     "output_type": "execute_result"
    }
   ],
   "source": [
    "Am = sy.Matrix(A)\n",
    "Am.charpoly()"
   ]
  },
  {
   "cell_type": "code",
   "execution_count": 126,
   "id": "e6091ff0-dfb4-4627-bc4f-5d7cc6905938",
   "metadata": {},
   "outputs": [],
   "source": [
    "ACCF = np.array([\n",
    "    [0.8,0.52,-0.392],\n",
    "    [1,0,0],\n",
    "    [0,1,0]\n",
    "])\n",
    "BCCF = np.array([\n",
    "    [1],\n",
    "    [0],\n",
    "    [0]\n",
    "])"
   ]
  },
  {
   "cell_type": "code",
   "execution_count": 25,
   "id": "fc764574-a1e8-4e89-9a95-3d4863dfca27",
   "metadata": {},
   "outputs": [],
   "source": [
    "A = np.array([[0.9, 0.1], [-1.0, -0.9]])\n",
    "B = np.array([[0.2], [-0.4]])\n",
    "F = np.array([[1.9, 2.9], [-1.0, -1.9]])\n",
    "G = np.array([[-0.6], [0.4]])"
   ]
  },
  {
   "cell_type": "code",
   "execution_count": 26,
   "id": "55e4cd18-6d8d-4da5-b156-558f87bfbd2a",
   "metadata": {},
   "outputs": [],
   "source": [
    "W1 = np.concatenate((B, A @ B), axis = 1)\n",
    "W2 = np.concatenate((G, F @ G), axis = 1)"
   ]
  },
  {
   "cell_type": "code",
   "execution_count": 27,
   "id": "32c6038a-4b67-4e13-910e-feda9a8ada1b",
   "metadata": {},
   "outputs": [
    {
     "data": {
      "text/plain": [
       "array([[-1.00000000e+00, -1.00000000e+00],\n",
       "       [ 1.78443119e-16, -1.00000000e+00]])"
      ]
     },
     "execution_count": 27,
     "metadata": {},
     "output_type": "execute_result"
    }
   ],
   "source": [
    "W1 @ la.inv(W2)"
   ]
  },
  {
   "cell_type": "code",
   "execution_count": 130,
   "id": "7f6821d8-3ff3-4c0f-9797-3f30c198e0d9",
   "metadata": {},
   "outputs": [],
   "source": [
    "A = np.array([[3.0, 5.0, 3.0, 3.0], [1.0, 0.0, 0.0, 0.0], [0.0, 1.0, 0.0, 0.0], [0.0, 0.0, 1.0, 0.0]])\n",
    "B = np.array([[1.0], [0.0], [0.0], [0.0]])\n",
    "r = np.array([[13.0, 37.0, 75.0, 50.0]])"
   ]
  },
  {
   "cell_type": "code",
   "execution_count": 131,
   "id": "0da8821d-9f88-4e58-a41e-1dfeee0b22e6",
   "metadata": {},
   "outputs": [
    {
     "data": {
      "text/latex": [
       "$\\displaystyle \\operatorname{PurePoly}{\\left( 1.0 \\lambda^{4} - 3.0 \\lambda^{3} - 5.0 \\lambda^{2} - 3.0 \\lambda - 3.0, \\lambda, domain=\\mathbb{R} \\right)}$"
      ],
      "text/plain": [
       "PurePoly(1.0*lambda**4 - 3.0*lambda**3 - 5.0*lambda**2 - 3.0*lambda - 3.0, lambda, domain='RR')"
      ]
     },
     "execution_count": 131,
     "metadata": {},
     "output_type": "execute_result"
    }
   ],
   "source": [
    "Am = sy.Matrix(A)\n",
    "Am.charpoly()"
   ]
  },
  {
   "cell_type": "code",
   "execution_count": 28,
   "id": "a3030b94-70c1-4f92-8bdc-4b9ecf2af6eb",
   "metadata": {},
   "outputs": [],
   "source": [
    "A = np.array([[0.3, 0.4, 0.9, 0.6], [0.1, -0.4, 0.4, -0.3], [1.0, 0.1, 0.5, -0.6], [-0.6, -0.2, 0.3, 0.3]])\n",
    "B = np.array([[0.4], [0.2], [0.5], [-1.0]])\n",
    "F = np.array([[2.5, -24.3, 6.5, 0.6], [-5.4, 35.0, -11.1, -0.3], [-16.2, 111.9, -34.7, -1.2], [-41.8, 266.1, -85.0, -2.1]])\n",
    "G = np.array([[-1.5], [2.2], [6.9], [15.7]])\n",
    "V = np.array([[ 1,  4, -1,  0], [-2,  5, -2,  0], [-2,  2, -1,  0], [-1, -2, -2,  1]])\n",
    "L = np.array([[ 1, -5,  1, -5]])"
   ]
  },
  {
   "cell_type": "code",
   "execution_count": 29,
   "id": "b8290dcf-188b-4f3a-9c8a-4cd9d7b2f8c3",
   "metadata": {},
   "outputs": [
    {
     "data": {
      "text/plain": [
       "array([[ -80.,  127., -165.,   -5.]])"
      ]
     },
     "execution_count": 29,
     "metadata": {},
     "output_type": "execute_result"
    }
   ],
   "source": [
    "# W1 = np.concatenate((B, A @ B), axis = 1)\n",
    "# W2 = np.concatenate((G, F @ G), axis = 1)\n",
    "# V = W1 @ la.inv(W2)\n",
    "L @ la.inv(V)"
   ]
  },
  {
   "cell_type": "code",
   "execution_count": 65,
   "id": "b19e83f6-2f67-4b53-97de-2ad1ac34c97d",
   "metadata": {},
   "outputs": [],
   "source": [
    "A = np.array([[0.8, 1.0], [-0.9, 0.7]])\n",
    "B = np.array([[0.1], [-0.2]])\n",
    "p = np.array([[-5.0+4.0j, -5.0-4.0j]])"
   ]
  },
  {
   "cell_type": "code",
   "execution_count": 66,
   "id": "c180a950-0d3d-4144-84c0-858456401654",
   "metadata": {},
   "outputs": [
    {
     "name": "stdout",
     "output_type": "stream",
     "text": [
      "PurePoly(1.0*lambda**2 - 1.5*lambda + 1.46, lambda, domain='RR')\n",
      "Poly(1.0*x**2 + 10.0*x + 41.0, x, domain='CC')\n"
     ]
    }
   ],
   "source": [
    "Am = sy.Matrix(A)\n",
    "print(Am.charpoly())\n",
    "x = sy.S('x')\n",
    "print(sy.poly((x - p[0][0]) * (x - p[0][1]) \n",
    "              # * (x - p[0][2])\n",
    "              # * (x - p[0][3])\n",
    "              # * (x - p[0][4])\n",
    "             ))"
   ]
  },
  {
   "cell_type": "code",
   "execution_count": 67,
   "id": "b096240d-6c52-41e2-8364-e40c10eca874",
   "metadata": {},
   "outputs": [],
   "source": [
    "# W = np.concatenate((B, A @ B, A @ A @ B, A @ A @ A @ B, A @ A @ A @ A @ B), axis = 1)\n",
    "# ACCF = np.array([\n",
    "#     [-0.4,-0.28, 0.031, 2.9868, 1.9872],\n",
    "#     [1,0,0,0,0],\n",
    "#     [0,1,0,0,0],\n",
    "#     [0,0,1,0,0],\n",
    "#     [0,0,0,1,0]\n",
    "# ])\n",
    "# BCCF = np.array([\n",
    "#     [1],\n",
    "#     [0],\n",
    "#     [0],\n",
    "#     [0],\n",
    "#     [0]\n",
    "# ])\n",
    "# WCCF = np.concatenate((BCCF, ACCF @ BCCF, ACCF @ ACCF @ BCCF, ACCF @ ACCF @ ACCF @BCCF, ACCF @ ACCF @ ACCF @ ACCF @BCCF), axis=1)\n",
    "# BCCF\n",
    "ACCF = np.array([\n",
    "    [1.5,-1.46],\n",
    "    [1,0]\n",
    "])\n",
    "BCCF = np.array([\n",
    "    [1],\n",
    "    [0]\n",
    "])\n",
    "W = np.concatenate((B, A @ B), axis = 1)\n",
    "WCCF = np.concatenate((BCCF, ACCF @ BCCF), axis=1)"
   ]
  },
  {
   "cell_type": "code",
   "execution_count": 68,
   "id": "54678af5-cbb3-465d-8003-456bf5b6573a",
   "metadata": {},
   "outputs": [
    {
     "data": {
      "text/plain": [
       "array([11.5 , 39.54])"
      ]
     },
     "execution_count": 68,
     "metadata": {},
     "output_type": "execute_result"
    }
   ],
   "source": [
    "KCCF = np.array([10,41]) + ACCF[0]\n",
    "KCCF"
   ]
  },
  {
   "cell_type": "code",
   "execution_count": 69,
   "id": "b6ed1d97-1bc9-46bf-a6c9-c548f4751ee0",
   "metadata": {},
   "outputs": [
    {
     "data": {
      "text/plain": [
       "array([[ 0.1 , -0.27],\n",
       "       [-0.2 ,  0.07]])"
      ]
     },
     "execution_count": 69,
     "metadata": {},
     "output_type": "execute_result"
    }
   ],
   "source": [
    "V_inv = WCCF @ la.inv(W)\n",
    "la.inv(V_inv)"
   ]
  },
  {
   "cell_type": "code",
   "execution_count": 70,
   "id": "390c9289-73f9-4846-975f-94e4ecf7c2b0",
   "metadata": {},
   "outputs": [
    {
     "data": {
      "text/plain": [
       "array([-185.38297872, -150.19148936])"
      ]
     },
     "execution_count": 70,
     "metadata": {},
     "output_type": "execute_result"
    }
   ],
   "source": [
    "KCCF @ V_inv"
   ]
  },
  {
   "cell_type": "code",
   "execution_count": 71,
   "id": "aec477da-d101-469e-a76d-b52ca3711030",
   "metadata": {},
   "outputs": [
    {
     "data": {
      "text/plain": [
       "array([[-185.38297872],\n",
       "       [-150.19148936]])"
      ]
     },
     "execution_count": 71,
     "metadata": {},
     "output_type": "execute_result"
    }
   ],
   "source": [
    "signal.place_poles(A, B, p[0]).gain_matrix.T"
   ]
  },
  {
   "cell_type": "code",
   "execution_count": null,
   "id": "f41eb04c-1aac-4245-bde4-9030cda04553",
   "metadata": {},
   "outputs": [],
   "source": []
  }
 ],
 "metadata": {
  "kernelspec": {
   "display_name": "Python 3 (ipykernel)",
   "language": "python",
   "name": "python3"
  },
  "language_info": {
   "codemirror_mode": {
    "name": "ipython",
    "version": 3
   },
   "file_extension": ".py",
   "mimetype": "text/x-python",
   "name": "python",
   "nbconvert_exporter": "python",
   "pygments_lexer": "ipython3",
   "version": "3.11.5"
  }
 },
 "nbformat": 4,
 "nbformat_minor": 5
}
