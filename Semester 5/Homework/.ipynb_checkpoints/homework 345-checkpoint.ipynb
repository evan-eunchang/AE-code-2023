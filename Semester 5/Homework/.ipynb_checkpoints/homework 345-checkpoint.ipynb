{
 "cells": [
  {
   "cell_type": "code",
   "execution_count": 1,
   "id": "f7e4b011-30f2-4dcd-ab43-5bb46bcb81e1",
   "metadata": {},
   "outputs": [],
   "source": [
    "import numpy as np\n",
    "from numpy import linalg as la"
   ]
  },
  {
   "cell_type": "code",
   "execution_count": 2,
   "id": "d0809005-3101-4c20-8579-bab089a4670e",
   "metadata": {},
   "outputs": [],
   "source": [
    "A = np.array([[-0.1, 0.2, 0.9, -0.3], [-0.4, 0.2, 0.0, -0.8], [0.1, -0.7, 0.3, 0.7], [0.8, -0.7, -0.3, -0.7]])\n"
   ]
  },
  {
   "cell_type": "code",
   "execution_count": 4,
   "id": "13580fd7-941c-4c86-a2ac-4e882a2c0150",
   "metadata": {},
   "outputs": [],
   "source": [
    "Eig = np.linalg.eig(A)"
   ]
  },
  {
   "cell_type": "code",
   "execution_count": 5,
   "id": "5bba8f46-2607-45ee-8dc5-679a27ee260b",
   "metadata": {},
   "outputs": [],
   "source": [
    "D = np.diag(np.exp(Eig[0]))\n",
    "V = Eig[1]\n",
    "inv_V = la.inv(V)"
   ]
  },
  {
   "cell_type": "code",
   "execution_count": 6,
   "id": "b38ad83e-ac3e-489d-8169-4a535ab68497",
   "metadata": {},
   "outputs": [
    {
     "name": "stdout",
     "output_type": "stream",
     "text": [
      "[[(0.932023183611684-8.58997893212863e-17j), (-0.13195946368690525-3.232658168772692e-17j), (1.0074668899357262-1.5627433103146686e-17j), (0.0748860712662539+1.323974068138992e-17j)], [(-0.7202112802361968+6.092752733358344e-16j), (1.4504884402887652-1.1532839544339553e-16j), (-0.18980707145040532-2.184404248408626e-17j), (-0.6516449734498944-7.677473414205684e-17j)], [(0.6187098491310281-5.987187782129698e-16j), (-1.1644437327760566+1.0252130456738862e-16j), (1.4256246593229394-1.6776060788705456e-17j), (0.877076467597517+7.383525143727732e-17j)], [(0.664524255631161-2.8520794998048223e-16j), (-0.4902379873852595+1.3112585657654185e-17j), (0.08586326418544893-1.6421098985134174e-17j), (0.5759467669550384+3.079135563567857e-17j)]]\n"
     ]
    }
   ],
   "source": [
    "np.set_printoptions(suppress=True)\n",
    "sol = V @ D @ inv_V\n",
    "print(sol.tolist())"
   ]
  },
  {
   "cell_type": "code",
   "execution_count": 7,
   "id": "654031bc-15e7-401d-9331-70b3be13e940",
   "metadata": {},
   "outputs": [],
   "source": [
    "A = np.array([[1.00000000, 0.20000000, -0.50000000], [-0.20000000, -0.30000000, 0.20000000], [-0.30000000, 0.40000000, -0.70000000]])\n",
    "M = np.array([[1.66648016, 0.09656915, -0.27460386], [-0.12975013, 0.86394246, 0.09146439], [-0.17803470, 0.14974780, 0.73078515]])"
   ]
  },
  {
   "cell_type": "code",
   "execution_count": 8,
   "id": "13559c84-4385-4404-b8f9-645d408ec4bc",
   "metadata": {},
   "outputs": [
    {
     "data": {
      "text/plain": [
       "array([[ 1.72954748,  0.19448374, -0.62170356],\n",
       "       [-0.32997793, -0.24854701,  0.17363849],\n",
       "       [-0.42721981,  0.21178278, -0.39258269]])"
      ]
     },
     "execution_count": 8,
     "metadata": {},
     "output_type": "execute_result"
    }
   ],
   "source": [
    "A @ M"
   ]
  },
  {
   "cell_type": "code",
   "execution_count": 9,
   "id": "43c9cd4c-5322-4cda-8490-fa507ac87a2f",
   "metadata": {},
   "outputs": [],
   "source": [
    "A = np.array([[-1, -4, -2], [ 6,  4,  6], [-5, -7,  6]])\n",
    "B = np.array([[-1, -1], [-8, -4], [-9,  1]])\n",
    "C = np.array([[-9, -3, -1], [ 0, -5,  3]])\n",
    "D = np.array([[0, 0], [0, 0]])\n",
    "K = np.array([[-7, -2, -6], [-7, -6, -9]])"
   ]
  },
  {
   "cell_type": "code",
   "execution_count": 10,
   "id": "838fbd14-c350-454e-b076-8b229802b872",
   "metadata": {},
   "outputs": [],
   "source": [
    "F = A + B @ -K\n",
    "G = C + D @ - K"
   ]
  },
  {
   "cell_type": "code",
   "execution_count": 12,
   "id": "54a9262b-2d8c-4dff-82b3-114ee06d46e6",
   "metadata": {},
   "outputs": [
    {
     "data": {
      "text/plain": [
       "array([[-9, -3, -1],\n",
       "       [ 0, -5,  3]])"
      ]
     },
     "execution_count": 12,
     "metadata": {},
     "output_type": "execute_result"
    }
   ],
   "source": [
    "G"
   ]
  },
  {
   "cell_type": "code",
   "execution_count": 13,
   "id": "00090487-96df-4def-9709-67362c92308b",
   "metadata": {},
   "outputs": [],
   "source": [
    "A = np.array([[0.6, 0.4], [0.7, 0.3]])\n",
    "B = np.array([[0.0], [0.3]])\n",
    "C = np.array([[-0.4, 0.3]])\n",
    "D = np.array([[0.0]])\n",
    "K = np.array([[0.8, 0.8]])\n",
    "t0 = 1.0\n",
    "x0 = np.array([[-0.6], [0.8]])\n",
    "t1 = 1.2"
   ]
  },
  {
   "cell_type": "code",
   "execution_count": 14,
   "id": "59047ab8-8fb7-43b6-8608-bb5973b5ce46",
   "metadata": {},
   "outputs": [],
   "source": [
    "F = A + B @ -K\n",
    "G = C + D @ - K"
   ]
  },
  {
   "cell_type": "code",
   "execution_count": 15,
   "id": "75e77827-cf13-43d9-875b-60e18818dbed",
   "metadata": {},
   "outputs": [],
   "source": [
    "x1 = x0 + (F @ x0) * (t1-t0)"
   ]
  },
  {
   "cell_type": "code",
   "execution_count": 16,
   "id": "64e0d133-544e-4521-91a3-efff280c91e7",
   "metadata": {},
   "outputs": [
    {
     "data": {
      "text/plain": [
       "array([[-0.608 ],\n",
       "       [ 0.7544]])"
      ]
     },
     "execution_count": 16,
     "metadata": {},
     "output_type": "execute_result"
    }
   ],
   "source": [
    "x1"
   ]
  },
  {
   "cell_type": "code",
   "execution_count": 17,
   "id": "131ed9be-b8c4-4528-9686-829fa2f4366e",
   "metadata": {},
   "outputs": [],
   "source": [
    "y1 = G @ x1"
   ]
  },
  {
   "cell_type": "code",
   "execution_count": 18,
   "id": "0b828347-9493-4643-bfcd-2f37b9391fa4",
   "metadata": {},
   "outputs": [
    {
     "data": {
      "text/plain": [
       "array([[0.46952]])"
      ]
     },
     "execution_count": 18,
     "metadata": {},
     "output_type": "execute_result"
    }
   ],
   "source": [
    "y1"
   ]
  },
  {
   "cell_type": "code",
   "execution_count": 19,
   "id": "501f1cfc-9205-4655-9f4a-c961771fc4fe",
   "metadata": {},
   "outputs": [],
   "source": [
    "\n",
    "A = np.array([[-1.0, -5.0], [-6.0, 7.0]])\n",
    "B = np.array([[-2.0], [9.0]])\n",
    "C = np.array([[1.0, -9.0]])\n",
    "D = np.array([[0.0]])\n",
    "K = np.array([[-6.0, -4.0]])\n",
    "V = np.array([[-1.0, -7.0], [-9.0, -1.0]])"
   ]
  },
  {
   "cell_type": "code",
   "execution_count": 21,
   "id": "961242e3-11a1-4ee1-bb46-397db7779547",
   "metadata": {},
   "outputs": [],
   "source": [
    "Vin = la.inv(V)"
   ]
  },
  {
   "cell_type": "code",
   "execution_count": 22,
   "id": "2cecc341-9768-4ef3-ade4-362ffeb47485",
   "metadata": {},
   "outputs": [],
   "source": [
    "G = (C - D @ K) @ V\n",
    "F = Vin @ (A - B @ K) @ V"
   ]
  },
  {
   "cell_type": "code",
   "execution_count": 24,
   "id": "1d41f049-b6f3-41ee-8f2b-71a728b7c6c4",
   "metadata": {},
   "outputs": [
    {
     "data": {
      "text/plain": [
       "array([[ 51.20967742,  44.46774194],\n",
       "       [-25.88709677, -21.20967742]])"
      ]
     },
     "execution_count": 24,
     "metadata": {},
     "output_type": "execute_result"
    }
   ],
   "source": [
    "F"
   ]
  },
  {
   "cell_type": "code",
   "execution_count": 25,
   "id": "1b310baa-22a5-4d10-8172-e238a7e5252f",
   "metadata": {},
   "outputs": [],
   "source": [
    "A = np.array([[-0.4, 0.1, 0.6, -0.8], [-0.2, 0.4, 0.6, 0.9], [0.7, 0.6, 0.7, 0.8], [-0.9, 0.4, 0.4, 0.8]])\n",
    "B = np.array([[0.3], [-0.8], [0.3], [-0.2]])\n",
    "C = np.array([[5.0, -4.0, 1.0, -3.0]])\n",
    "D = np.array([[0.0]])\n",
    "K = np.array([[0.1, -0.6, 0.1, -0.4]])"
   ]
  },
  {
   "cell_type": "code",
   "execution_count": 26,
   "id": "a5d034ab-7c6b-49d8-bb2a-5295fc481951",
   "metadata": {},
   "outputs": [],
   "source": [
    "F = A + B @ -K"
   ]
  },
  {
   "cell_type": "code",
   "execution_count": 27,
   "id": "cba9c444-fa90-49c4-b976-2bd64d673f41",
   "metadata": {},
   "outputs": [],
   "source": [
    "Eig = np.linalg.eig(F)"
   ]
  },
  {
   "cell_type": "code",
   "execution_count": 28,
   "id": "d6e504fc-8de3-496c-92e2-041c44177457",
   "metadata": {},
   "outputs": [],
   "source": [
    "S = np.diag(Eig[0])\n",
    "V = Eig[1]"
   ]
  },
  {
   "cell_type": "code",
   "execution_count": 30,
   "id": "877ae9fd-dcf9-4447-805c-f8dc98a6cbc2",
   "metadata": {},
   "outputs": [
    {
     "data": {
      "text/plain": [
       "array([[ 0.16975846,  0.52238451, -0.70677541,  0.05053723],\n",
       "       [ 0.43279162,  0.23336741, -0.1893193 , -0.8650437 ],\n",
       "       [ 0.81375746,  0.74346406,  0.53968613,  0.49498464],\n",
       "       [ 0.34881553, -0.34628784, -0.41637195,  0.0643086 ]])"
      ]
     },
     "execution_count": 30,
     "metadata": {},
     "output_type": "execute_result"
    }
   ],
   "source": [
    "V"
   ]
  },
  {
   "cell_type": "code",
   "execution_count": 31,
   "id": "0a1359f8-a85f-465c-a644-811e41344f6d",
   "metadata": {},
   "outputs": [],
   "source": [
    "F = np.array([[-9.0, 7.0, 6.0, 3.0], [6.0, 8.0, -9.0, -5.0], [-3.0, -5.0, 3.0, -1.0], [6.0, -7.0, -8.0, -1.0]])"
   ]
  },
  {
   "cell_type": "code",
   "execution_count": 32,
   "id": "e66a0eb9-3504-44cd-bf5c-a231ebcb155b",
   "metadata": {},
   "outputs": [],
   "source": [
    "Eig = np.linalg.eig(F)\n",
    "S = np.diag(Eig[0])\n",
    "V = Eig[1]"
   ]
  },
  {
   "cell_type": "code",
   "execution_count": 36,
   "id": "dbc9ef8b-083e-4148-b79c-cdc43cc83b4c",
   "metadata": {},
   "outputs": [
    {
     "data": {
      "text/plain": [
       "array([[ 0.77847956, -0.14064579, -0.07142033, -0.7945418 ],\n",
       "       [-0.33055882, -0.88387247, -0.03589077, -0.12167022],\n",
       "       [ 0.00879359,  0.42730338, -0.53237188, -0.54595226],\n",
       "       [-0.5335008 ,  0.12806263,  0.84272841, -0.23629604]])"
      ]
     },
     "execution_count": 36,
     "metadata": {},
     "output_type": "execute_result"
    }
   ],
   "source": [
    "V"
   ]
  },
  {
   "cell_type": "code",
   "execution_count": 35,
   "id": "1b76a203-1965-4dc1-ad37-631e6bad27ae",
   "metadata": {},
   "outputs": [
    {
     "data": {
      "text/plain": [
       "array([[-13.9605061 ,   0.        ,  -0.        ,  -0.        ],\n",
       "       [ -0.        ,  14.03018924,  -0.        ,  -0.        ],\n",
       "       [ -0.        ,  -0.        ,   3.84342089,   0.        ],\n",
       "       [  0.        ,  -0.        ,  -0.        ,  -2.91310403]])"
      ]
     },
     "execution_count": 35,
     "metadata": {},
     "output_type": "execute_result"
    }
   ],
   "source": [
    "Vin = la.inv(V)\n",
    "Vin @ F @ V"
   ]
  },
  {
   "cell_type": "code",
   "execution_count": null,
   "id": "a1a28bbe-a74f-4e21-ae16-a110cc66151f",
   "metadata": {},
   "outputs": [],
   "source": []
  }
 ],
 "metadata": {
  "kernelspec": {
   "display_name": "Python 3 (ipykernel)",
   "language": "python",
   "name": "python3"
  },
  "language_info": {
   "codemirror_mode": {
    "name": "ipython",
    "version": 3
   },
   "file_extension": ".py",
   "mimetype": "text/x-python",
   "name": "python",
   "nbconvert_exporter": "python",
   "pygments_lexer": "ipython3",
   "version": "3.11.5"
  }
 },
 "nbformat": 4,
 "nbformat_minor": 5
}
