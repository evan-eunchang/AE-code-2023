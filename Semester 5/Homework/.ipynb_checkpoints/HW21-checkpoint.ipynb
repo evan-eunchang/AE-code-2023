{
 "cells": [
  {
   "cell_type": "code",
   "execution_count": 1,
   "id": "23f3a43b-5cbc-458c-bfd7-5e3556b914de",
   "metadata": {},
   "outputs": [],
   "source": [
    "import numpy as np\n",
    "import sympy as sy"
   ]
  },
  {
   "cell_type": "code",
   "execution_count": 47,
   "id": "f81d4185-fba3-4750-a8a6-90a08e9b227f",
   "metadata": {},
   "outputs": [],
   "source": [
    "A = np.array([[-2,  4], [-1, -5]])\n",
    "B = np.array([[ 1], [-4]])\n",
    "C = np.array([[5, 4]])\n",
    "K = np.array([[ 1, -2]])\n",
    "L = np.array([[1], [3]])"
   ]
  },
  {
   "cell_type": "code",
   "execution_count": 48,
   "id": "6453572f-5898-49db-94d3-1debf8464324",
   "metadata": {},
   "outputs": [],
   "source": [
    "A = sy.Matrix(A)\n",
    "B = sy.Matrix(B)\n",
    "C = sy.Matrix(C)\n",
    "I = sy.eye(2)\n",
    "s = sy.S('s')"
   ]
  },
  {
   "cell_type": "code",
   "execution_count": 49,
   "id": "f9e27c9b-7710-4b84-bed0-440de6c9f701",
   "metadata": {},
   "outputs": [
    {
     "name": "stdout",
     "output_type": "stream",
     "text": [
      "Matrix([[-(7 - 5*s)/(s**2 + 33*s + 224)]])\n"
     ]
    }
   ],
   "source": [
    "print(-sy.simplify(K * (s * I - (A - B * K - L * C)).inv() * L))"
   ]
  },
  {
   "cell_type": "code",
   "execution_count": 83,
   "id": "3ef1537e-bfbc-4a2c-ad59-444143ff3937",
   "metadata": {},
   "outputs": [],
   "source": [
    "F = 2\n",
    "G = s + 4 + 9/s\n",
    "H = (- s) / (s**2 - 5)"
   ]
  },
  {
   "cell_type": "code",
   "execution_count": 88,
   "id": "1fe5bb84-638d-4f3b-8505-567afbd62240",
   "metadata": {},
   "outputs": [
    {
     "data": {
      "text/latex": [
       "$\\displaystyle \\frac{s^{4}}{4 s^{2} + 14 s} + \\frac{4 s^{3}}{4 s^{2} + 14 s} + \\frac{4 s^{2}}{4 s^{2} + 14 s} - \\frac{20 s}{4 s^{2} + 14 s} - \\frac{45}{4 s^{2} + 14 s}$"
      ],
      "text/plain": [
       "s**4/(4*s**2 + 14*s) + 4*s**3/(4*s**2 + 14*s) + 4*s**2/(4*s**2 + 14*s) - 20*s/(4*s**2 + 14*s) - 45/(4*s**2 + 14*s)"
      ]
     },
     "execution_count": 88,
     "metadata": {},
     "output_type": "execute_result"
    }
   ],
   "source": [
    "T = -(sy.expand(((G / H) / (G + 1 / H))))\n",
    "T"
   ]
  },
  {
   "cell_type": "code",
   "execution_count": 85,
   "id": "4bef273d-8ecf-4eea-ae61-fe9800af4b2f",
   "metadata": {},
   "outputs": [
    {
     "name": "stdout",
     "output_type": "stream",
     "text": [
      "s**4/(4*s**2 + 14*s) + 4*s**3/(4*s**2 + 14*s) + 4*s**2/(4*s**2 + 14*s) - 20*s/(4*s**2 + 14*s) - 45/(4*s**2 + 14*s)\n"
     ]
    }
   ],
   "source": [
    "print(T)"
   ]
  },
  {
   "cell_type": "code",
   "execution_count": 82,
   "id": "b100f0b2-6010-4871-b6f9-d4d528a703d0",
   "metadata": {},
   "outputs": [
    {
     "ename": "AttributeError",
     "evalue": "'dict' object has no attribute 'size'",
     "output_type": "error",
     "traceback": [
      "\u001b[1;31m---------------------------------------------------------------------------\u001b[0m",
      "\u001b[1;31mAttributeError\u001b[0m                            Traceback (most recent call last)",
      "Cell \u001b[1;32mIn[82], line 1\u001b[0m\n\u001b[1;32m----> 1\u001b[0m \u001b[43msy\u001b[49m\u001b[38;5;241;43m.\u001b[39;49m\u001b[43mroots\u001b[49m\u001b[43m(\u001b[49m\u001b[38;5;241;43m7\u001b[39;49m\u001b[43m \u001b[49m\u001b[38;5;241;43m*\u001b[39;49m\u001b[43m \u001b[49m\u001b[43ms\u001b[49m\u001b[38;5;241;43m*\u001b[39;49m\u001b[38;5;241;43m*\u001b[39;49m\u001b[38;5;241;43m3\u001b[39;49m\u001b[43m \u001b[49m\u001b[38;5;241;43m-\u001b[39;49m\u001b[43m \u001b[49m\u001b[38;5;241;43m2\u001b[39;49m\u001b[43m \u001b[49m\u001b[38;5;241;43m*\u001b[39;49m\u001b[43m \u001b[49m\u001b[43ms\u001b[49m\u001b[38;5;241;43m*\u001b[39;49m\u001b[38;5;241;43m*\u001b[39;49m\u001b[38;5;241;43m2\u001b[39;49m\u001b[43m \u001b[49m\u001b[38;5;241;43m+\u001b[39;49m\u001b[43m \u001b[49m\u001b[38;5;241;43m21\u001b[39;49m\u001b[43m \u001b[49m\u001b[38;5;241;43m*\u001b[39;49m\u001b[43m \u001b[49m\u001b[43ms\u001b[49m\u001b[43m \u001b[49m\u001b[38;5;241;43m+\u001b[39;49m\u001b[43m \u001b[49m\u001b[38;5;241;43m-\u001b[39;49m\u001b[38;5;241;43m30\u001b[39;49m\u001b[43m)\u001b[49m\u001b[38;5;241;43m.\u001b[39;49m\u001b[43msize\u001b[49m\n",
      "\u001b[1;31mAttributeError\u001b[0m: 'dict' object has no attribute 'size'"
     ]
    }
   ],
   "source": [
    "sy.factor(2 * s**2 + 11 * s )"
   ]
  },
  {
   "cell_type": "code",
   "execution_count": 89,
   "id": "5dec5950-82cf-4acb-9bca-9066c6ede30d",
   "metadata": {},
   "outputs": [],
   "source": [
    "G = 1 + 10/s\n",
    "H = 1 / (s + 6)"
   ]
  },
  {
   "cell_type": "code",
   "execution_count": 93,
   "id": "afbc3a03-7a7d-44f1-8351-d163db0dab8a",
   "metadata": {},
   "outputs": [
    {
     "data": {
      "text/latex": [
       "$\\displaystyle \\frac{s}{s^{2} + 7 s + 10}$"
      ],
      "text/plain": [
       "s/(s**2 + 7*s + 10)"
      ]
     },
     "execution_count": 93,
     "metadata": {},
     "output_type": "execute_result"
    }
   ],
   "source": [
    "T = sy.expand(sy.simplify(H / (1 + G* H)))\n",
    "T"
   ]
  },
  {
   "cell_type": "code",
   "execution_count": 94,
   "id": "d5e4a26f-b32b-4387-98f1-0e84a47755d2",
   "metadata": {},
   "outputs": [
    {
     "name": "stdout",
     "output_type": "stream",
     "text": [
      "s/(s**2 + 7*s + 10)\n"
     ]
    }
   ],
   "source": [
    "print(T)"
   ]
  },
  {
   "cell_type": "code",
   "execution_count": 95,
   "id": "8c3b5058-f7f7-4e75-9aaf-a19262fd66e7",
   "metadata": {},
   "outputs": [],
   "source": [
    "F = 3\n",
    "G = 4 * s + 5 + 4 / s\n",
    "H = (5 - s) / (s**2 + 12)"
   ]
  },
  {
   "cell_type": "code",
   "execution_count": 96,
   "id": "9b9a9716-7215-4501-8ad0-26530666e10b",
   "metadata": {},
   "outputs": [
    {
     "data": {
      "text/latex": [
       "$\\displaystyle \\frac{12 s^{3}}{3 s^{3} - 15 s^{2} - 33 s - 20} - \\frac{45 s^{2}}{3 s^{3} - 15 s^{2} - 33 s - 20} - \\frac{63 s}{3 s^{3} - 15 s^{2} - 33 s - 20} - \\frac{60}{3 s^{3} - 15 s^{2} - 33 s - 20}$"
      ],
      "text/plain": [
       "12*s**3/(3*s**3 - 15*s**2 - 33*s - 20) - 45*s**2/(3*s**3 - 15*s**2 - 33*s - 20) - 63*s/(3*s**3 - 15*s**2 - 33*s - 20) - 60/(3*s**3 - 15*s**2 - 33*s - 20)"
      ]
     },
     "execution_count": 96,
     "metadata": {},
     "output_type": "execute_result"
    }
   ],
   "source": [
    "T = sy.expand(sy.simplify(F * G * H / (1 + G* H)))\n",
    "T"
   ]
  },
  {
   "cell_type": "code",
   "execution_count": 97,
   "id": "b7917cde-8021-45ca-8e10-42c4f7326d81",
   "metadata": {},
   "outputs": [
    {
     "name": "stdout",
     "output_type": "stream",
     "text": [
      "12*s**3/(3*s**3 - 15*s**2 - 33*s - 20) - 45*s**2/(3*s**3 - 15*s**2 - 33*s - 20) - 63*s/(3*s**3 - 15*s**2 - 33*s - 20) - 60/(3*s**3 - 15*s**2 - 33*s - 20)\n"
     ]
    }
   ],
   "source": [
    "print(T)"
   ]
  },
  {
   "cell_type": "code",
   "execution_count": 101,
   "id": "f6b47576-13f3-4907-8268-554506f36eee",
   "metadata": {},
   "outputs": [
    {
     "data": {
      "text/plain": [
       "{5/3 + 58/(9*(sqrt(8353)/18 + 925/54)**(1/3)) + (sqrt(8353)/18 + 925/54)**(1/3): 1,\n",
       " 5/3 + 58/(9*(-1/2 + sqrt(3)*I/2)*(sqrt(8353)/18 + 925/54)**(1/3)) + (-1/2 + sqrt(3)*I/2)*(sqrt(8353)/18 + 925/54)**(1/3): 1,\n",
       " 5/3 + (-1/2 - sqrt(3)*I/2)*(sqrt(8353)/18 + 925/54)**(1/3) + 58/(9*(-1/2 - sqrt(3)*I/2)*(sqrt(8353)/18 + 925/54)**(1/3)): 1}"
      ]
     },
     "execution_count": 101,
     "metadata": {},
     "output_type": "execute_result"
    }
   ],
   "source": [
    "sy.roots((3*s**3 - 15*s**2 - 33*s - 20))"
   ]
  },
  {
   "cell_type": "code",
   "execution_count": 103,
   "id": "34c5aa9b-bcd1-47ba-bd33-c9164ddde5bd",
   "metadata": {},
   "outputs": [
    {
     "data": {
      "text/latex": [
       "$\\displaystyle 6.77021144994924$"
      ],
      "text/plain": [
       "6.77021144994924"
      ]
     },
     "execution_count": 103,
     "metadata": {},
     "output_type": "execute_result"
    }
   ],
   "source": [
    "(5/3 + 58/(9*(sy.sqrt(8353)/18 + 925/54)**(1/3)) + (sy.sqrt(8353)/18 + 925/54)**(1/3)).evalf()"
   ]
  },
  {
   "cell_type": "code",
   "execution_count": 104,
   "id": "c179d03c-46c4-4dc2-9a3c-d58eb537ec58",
   "metadata": {},
   "outputs": [],
   "source": [
    "G = 3 * s + 2 + 3/s\n",
    "H = (-3 * s - 1) / (s**2 - 6)"
   ]
  },
  {
   "cell_type": "code",
   "execution_count": 105,
   "id": "09181955-b8d5-4cb2-89b9-3b8985dc732b",
   "metadata": {},
   "outputs": [
    {
     "data": {
      "text/latex": [
       "$\\displaystyle \\frac{s^{3}}{8 s^{3} + 9 s^{2} + 17 s + 3} - \\frac{6 s}{8 s^{3} + 9 s^{2} + 17 s + 3}$"
      ],
      "text/plain": [
       "s**3/(8*s**3 + 9*s**2 + 17*s + 3) - 6*s/(8*s**3 + 9*s**2 + 17*s + 3)"
      ]
     },
     "execution_count": 105,
     "metadata": {},
     "output_type": "execute_result"
    }
   ],
   "source": [
    "T = sy.expand(sy.simplify(-1 / (1 + H * G)))\n",
    "T"
   ]
  },
  {
   "cell_type": "code",
   "execution_count": 106,
   "id": "a85979a5-3423-4280-acd8-17a60a74d9f7",
   "metadata": {},
   "outputs": [
    {
     "name": "stdout",
     "output_type": "stream",
     "text": [
      "s**3/(8*s**3 + 9*s**2 + 17*s + 3) - 6*s/(8*s**3 + 9*s**2 + 17*s + 3)\n"
     ]
    }
   ],
   "source": [
    "print(T)"
   ]
  },
  {
   "cell_type": "code",
   "execution_count": 109,
   "id": "ec529304-1e4c-4b11-9ea0-86726c2ddaa1",
   "metadata": {},
   "outputs": [
    {
     "data": {
      "text/plain": [
       "[-0.192773145869514,\n",
       " -0.466113427065243 - 1.31454553735301*I,\n",
       " -0.466113427065243 + 1.31454553735301*I]"
      ]
     },
     "execution_count": 109,
     "metadata": {},
     "output_type": "execute_result"
    }
   ],
   "source": [
    "sy.nroots(8*s**3 + 9*s**2 + 17*s + 3)"
   ]
  },
  {
   "cell_type": "code",
   "execution_count": 130,
   "id": "88c88a44-1013-40bf-95fc-90f92d57b411",
   "metadata": {},
   "outputs": [],
   "source": [
    "tau = 0.7\n",
    "T_D = (2 - s * tau) / (2 + s * tau)\n",
    "G = (s + 7) / (s + 2)\n",
    "H = (1) / (s - 2)"
   ]
  },
  {
   "cell_type": "code",
   "execution_count": 131,
   "id": "f64843e6-fdda-4718-8b51-3ebb9e2d0e9e",
   "metadata": {},
   "outputs": [
    {
     "data": {
      "text/latex": [
       "$\\displaystyle \\frac{0.7 s^{3}}{0.7 s^{3} + 1.3 s^{2} - 5.7 s + 6.0} + \\frac{1.5 s^{2}}{0.7 s^{3} + 1.3 s^{2} - 5.7 s + 6.0} - \\frac{19.8 s}{0.7 s^{3} + 1.3 s^{2} - 5.7 s + 6.0} + \\frac{28.0}{0.7 s^{3} + 1.3 s^{2} - 5.7 s + 6.0}$"
      ],
      "text/plain": [
       "0.7*s**3/(0.7*s**3 + 1.3*s**2 - 5.7*s + 6.0) + 1.5*s**2/(0.7*s**3 + 1.3*s**2 - 5.7*s + 6.0) - 19.8*s/(0.7*s**3 + 1.3*s**2 - 5.7*s + 6.0) + 28.0/(0.7*s**3 + 1.3*s**2 - 5.7*s + 6.0)"
      ]
     },
     "execution_count": 131,
     "metadata": {},
     "output_type": "execute_result"
    }
   ],
   "source": [
    "T = sy.expand(sy.simplify(-G * T_D / (G * T_D * H + 1)))\n",
    "T"
   ]
  },
  {
   "cell_type": "code",
   "execution_count": 132,
   "id": "2d076d92-bede-4dfd-9b12-97f4715c6385",
   "metadata": {},
   "outputs": [
    {
     "name": "stdout",
     "output_type": "stream",
     "text": [
      "0.7*s**3/(0.7*s**3 + 1.3*s**2 - 5.7*s + 6.0) + 1.5*s**2/(0.7*s**3 + 1.3*s**2 - 5.7*s + 6.0) - 19.8*s/(0.7*s**3 + 1.3*s**2 - 5.7*s + 6.0) + 28.0/(0.7*s**3 + 1.3*s**2 - 5.7*s + 6.0)\n"
     ]
    }
   ],
   "source": [
    "print(T)"
   ]
  },
  {
   "cell_type": "code",
   "execution_count": 133,
   "id": "6b2f8745-3308-4c21-9cca-509edaf475aa",
   "metadata": {},
   "outputs": [
    {
     "data": {
      "text/plain": [
       "[-4.24859769880245,\n",
       " 1.1957274208298 - 0.766621372832437*I,\n",
       " 1.1957274208298 + 0.766621372832437*I]"
      ]
     },
     "execution_count": 133,
     "metadata": {},
     "output_type": "execute_result"
    }
   ],
   "source": [
    "sy.nroots(0.7*s**3 + 1.3*s**2 - 5.7*s + 6.0)"
   ]
  },
  {
   "cell_type": "code",
   "execution_count": 134,
   "id": "028402c2-9f97-4b8f-b9d9-c063c26b012a",
   "metadata": {},
   "outputs": [
    {
     "name": "stdout",
     "output_type": "stream",
     "text": [
      "7.0*s**3 + 13.0*s**2 - 57.0*s + 60.0\n"
     ]
    }
   ],
   "source": [
    "print((0.7*s**3 + 1.3*s**2 - 5.7*s + 6.0)*10)"
   ]
  },
  {
   "cell_type": "code",
   "execution_count": 135,
   "id": "f893e32c-154e-4b73-aa30-738ffd743460",
   "metadata": {},
   "outputs": [
    {
     "data": {
      "text/latex": [
       "$\\displaystyle 7 s^{3} + 15 s^{2} - 198 s + 280$"
      ],
      "text/plain": [
       "7*s**3 + 15*s**2 - 198*s + 280"
      ]
     },
     "execution_count": 135,
     "metadata": {},
     "output_type": "execute_result"
    }
   ],
   "source": [
    "(7 * s**3 + 15 * s**2 - 198 * s + 280)"
   ]
  },
  {
   "cell_type": "code",
   "execution_count": 170,
   "id": "7cc44cbb-f401-4759-859e-04958119e754",
   "metadata": {},
   "outputs": [],
   "source": [
    "tau = 1.11\n",
    "T_D = (2 - s * tau) / (2 + s * tau)\n",
    "G = (s + 3) / (s + 9)\n",
    "H = (s) / (s**2 + 7)"
   ]
  },
  {
   "cell_type": "code",
   "execution_count": 171,
   "id": "1ecf822c-be31-4786-bbe2-b9144146f9f2",
   "metadata": {},
   "outputs": [
    {
     "data": {
      "text/latex": [
       "$\\displaystyle - \\frac{3.33 s^{3}}{1.11 s^{4} + 10.88 s^{3} + 24.44 s^{2} + 89.93 s + 126.0} - \\frac{3.99 s^{2}}{1.11 s^{4} + 10.88 s^{3} + 24.44 s^{2} + 89.93 s + 126.0} + \\frac{18.0 s}{1.11 s^{4} + 10.88 s^{3} + 24.44 s^{2} + 89.93 s + 126.0}$"
      ],
      "text/plain": [
       "-3.33*s**3/(1.11*s**4 + 10.88*s**3 + 24.44*s**2 + 89.93*s + 126.0) - 3.99*s**2/(1.11*s**4 + 10.88*s**3 + 24.44*s**2 + 89.93*s + 126.0) + 18.0*s/(1.11*s**4 + 10.88*s**3 + 24.44*s**2 + 89.93*s + 126.0)"
      ]
     },
     "execution_count": 171,
     "metadata": {},
     "output_type": "execute_result"
    }
   ],
   "source": [
    "T = sy.expand(sy.simplify(T_D * H * G * F / (G * T_D * H + 1)))\n",
    "T"
   ]
  },
  {
   "cell_type": "code",
   "execution_count": 172,
   "id": "da7c87d9-7e71-45a7-9188-d33aae77efde",
   "metadata": {},
   "outputs": [
    {
     "name": "stdout",
     "output_type": "stream",
     "text": [
      "-3.33*s**3/(1.11*s**4 + 10.88*s**3 + 24.44*s**2 + 89.93*s + 126.0) - 3.99*s**2/(1.11*s**4 + 10.88*s**3 + 24.44*s**2 + 89.93*s + 126.0) + 18.0*s/(1.11*s**4 + 10.88*s**3 + 24.44*s**2 + 89.93*s + 126.0)\n"
     ]
    }
   ],
   "source": [
    "print(T)"
   ]
  },
  {
   "cell_type": "code",
   "execution_count": 173,
   "id": "949ab0fd-bd47-485c-af93-b1fb23a377ad",
   "metadata": {},
   "outputs": [
    {
     "data": {
      "text/plain": [
       "[-8.10536358388149,\n",
       " -1.69455123551001,\n",
       " -0.000943491205148645 - 2.87481668730921*I,\n",
       " -0.000943491205148645 + 2.87481668730921*I]"
      ]
     },
     "execution_count": 173,
     "metadata": {},
     "output_type": "execute_result"
    }
   ],
   "source": [
    "sy.nroots(1.11*s**4 + 10.88*s**3 + 24.44*s**2 + 89.93*s + 126.0)"
   ]
  },
  {
   "cell_type": "code",
   "execution_count": 326,
   "id": "9c19d080-1fcf-4089-a43f-7b1762721846",
   "metadata": {},
   "outputs": [],
   "source": [
    "w = np.array([[0.0100000000, 0.0134596032, 0.0181160919, 0.0243835410, 0.0328192787,  0.0441734470, 0.0594557071, 0.0800250228, 0.1077105056, 0.1449740670,  0.1951293423, 0.2626363528, 0.3534981105, 0.4757944314, 0.6404004271,  0.8619535665, 1.1601553017, 1.5615230060, 2.1017480113, 2.8288694346,  3.8075460212, 5.1248058770, 6.8977853794, 9.2841454452, 12.4960914129,  16.8192432488, 22.6380340952, 30.4698957090, 41.0112707055,  55.1995432128, 74.2963950759, 100.0000000000]])\n",
    "mag = np.array([[1.5169657723, 1.5172141363, 1.5173235258, 1.5174835644, 1.5184199055,  1.5195669476, 1.5220998725, 1.5261101208, 1.5337323653, 1.5476011313,  1.5725685060, 1.6176087914, 1.6985540383, 1.8439524357, 2.0995445488,  2.5155452968, 2.9642819882, 2.7844534037, 2.0153689289, 1.3754120763,  0.9585684503, 0.6847296473, 0.4973275122, 0.3649354703, 0.2690646573,  0.1991334192, 0.1476417311, 0.1095105424, 0.0814489166, 0.0603475770,  0.0446926730, 0.0335545113]])\n",
    "ang = np.array([[3.1230251699, 3.1163852839, 3.1077099955, 3.0961079064, 3.0801182379,  3.0588625044, 3.0306700524, 2.9924869777, 2.9409590350, 2.8718577927,  2.7792721489, 2.6557106611, 2.4913981821, 2.2732393799, 1.9796222866,  1.5700545896, 0.9747593789, 0.2395173022, -0.3527231056, -0.7289374863,  -0.9701469779, -1.1345943619, -1.2505270182, -1.3345630707,  -1.3956999847, -1.4408985889, -1.4745442781, -1.4993987114,  -1.5177379600, -1.5314063905, -1.5412857875, -1.5489787524]])"
   ]
  },
  {
   "cell_type": "code",
   "execution_count": 327,
   "id": "bb382f67-c67c-4cbe-b774-b0ad335d0ad3",
   "metadata": {},
   "outputs": [
    {
     "name": "stdout",
     "output_type": "stream",
     "text": [
      "(1, 32) (1, 32) (1, 32)\n"
     ]
    }
   ],
   "source": [
    "print(w.shape, mag.shape, ang.shape)"
   ]
  },
  {
   "cell_type": "code",
   "execution_count": 330,
   "id": "79a74318-dd1b-4836-8f3b-46b28313b7a7",
   "metadata": {},
   "outputs": [],
   "source": [
    "d = 2\n",
    "n = 2\n",
    "k = 32"
   ]
  },
  {
   "cell_type": "code",
   "execution_count": 331,
   "id": "d64d315a-ff21-4eae-b748-0724b787e6fe",
   "metadata": {},
   "outputs": [],
   "source": [
    "H = np.zeros((k,1)) * 1j\n",
    "for i in range(k):\n",
    "    theta = ang[0][i]\n",
    "    H[i] = mag[0][i] * (np.cos(theta) + 1j * np.sin(theta))"
   ]
  },
  {
   "cell_type": "code",
   "execution_count": 332,
   "id": "382fb7ca-ac14-4847-bcd3-177f3e25ddff",
   "metadata": {},
   "outputs": [],
   "source": [
    "P1 = np.zeros((k,1)) * 1j\n",
    "for i in range(k):\n",
    "    P1[i] = -H[i] * (1j * w[0][i])\n",
    "    \n",
    "P = np.concatenate((P1, -H, 1j * w.T, np.ones((k,1))), axis=1)\n",
    "##print(P)"
   ]
  },
  {
   "cell_type": "code",
   "execution_count": 333,
   "id": "0c656785-d557-49f7-bb2b-e29088148aea",
   "metadata": {},
   "outputs": [],
   "source": [
    "r = np.zeros((k,1)) * 1j\n",
    "for i in range(k):\n",
    "    r[i] = H[i] * (1j * w[0][i])**d"
   ]
  },
  {
   "cell_type": "code",
   "execution_count": 334,
   "id": "d64640ff-d22f-4606-915f-9c91da1ce221",
   "metadata": {},
   "outputs": [
    {
     "name": "stdout",
     "output_type": "stream",
     "text": [
      "(64, 1)\n"
     ]
    }
   ],
   "source": [
    "P_hat = np.concatenate( ( np.real(P), np.imag(P) ), axis=0)\n",
    "r_hat = np.concatenate( ( np.real(r), np.imag(r) ), axis=0)\n",
    "print(r_hat.shape)"
   ]
  },
  {
   "cell_type": "code",
   "execution_count": 335,
   "id": "eb734226-d0df-4b30-a284-e108ca2b8ff4",
   "metadata": {},
   "outputs": [
    {
     "name": "stdout",
     "output_type": "stream",
     "text": [
      "[[ 1.32370134]\n",
      " [ 1.88114396]\n",
      " [ 3.33943546]\n",
      " [-2.85408629]]\n"
     ]
    }
   ],
   "source": [
    "q = np.linalg.inv(P_hat.T @ P_hat) @ P_hat.T @ r_hat\n",
    "print(q)"
   ]
  },
  {
   "cell_type": "code",
   "execution_count": null,
   "id": "79c1c576-173d-480f-b9dd-0bc4610e8ddf",
   "metadata": {},
   "outputs": [],
   "source": []
  }
 ],
 "metadata": {
  "kernelspec": {
   "display_name": "Python 3 (ipykernel)",
   "language": "python",
   "name": "python3"
  },
  "language_info": {
   "codemirror_mode": {
    "name": "ipython",
    "version": 3
   },
   "file_extension": ".py",
   "mimetype": "text/x-python",
   "name": "python",
   "nbconvert_exporter": "python",
   "pygments_lexer": "ipython3",
   "version": "3.11.5"
  }
 },
 "nbformat": 4,
 "nbformat_minor": 5
}
