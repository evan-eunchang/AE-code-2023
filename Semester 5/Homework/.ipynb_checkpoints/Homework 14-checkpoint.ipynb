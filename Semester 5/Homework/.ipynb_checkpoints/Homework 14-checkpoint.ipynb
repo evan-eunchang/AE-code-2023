{
 "cells": [
  {
   "cell_type": "code",
   "execution_count": 1,
   "id": "b4622479-1aca-43fb-93c7-e15c44ee8b79",
   "metadata": {},
   "outputs": [],
   "source": [
    "import numpy as np\n",
    "from scipy import linalg\n",
    "from numpy import linalg as la"
   ]
  },
  {
   "cell_type": "code",
   "execution_count": 18,
   "id": "a25e8746-cfc8-4c04-ab7c-ef2755bf0ae0",
   "metadata": {},
   "outputs": [],
   "source": [
    "A = 0.10;\n",
    "B = 0.40;\n",
    "Q = 5.70;\n",
    "R = 2.00;\n",
    "M = 0.10;\n",
    "t0 = 0.40;\n",
    "x0 = -0.84;\n",
    "t1 = 1.10;"
   ]
  },
  {
   "cell_type": "code",
   "execution_count": 19,
   "id": "42d0044c-7208-4662-938c-2093837ea23f",
   "metadata": {},
   "outputs": [],
   "source": [
    "P = linalg.solve_continuous_are(A, B, Q, R)\n",
    "P = P[0][0]"
   ]
  },
  {
   "cell_type": "code",
   "execution_count": 23,
   "id": "b2778439-7eac-40c6-b60d-df37e7e97642",
   "metadata": {},
   "outputs": [
    {
     "name": "stdout",
     "output_type": "stream",
     "text": [
      "4.276649060532499\n"
     ]
    }
   ],
   "source": [
    "dt = (t1 - t0)/1000\n",
    "cost = 0\n",
    "x = x0\n",
    "u = 0.92336948992\n",
    "for i in range(1000):\n",
    "    cost += (Q * x**2 + R * u**2) * dt\n",
    "    x += (A * x + B * u) * dt\n",
    "    u = -(1/R) * B * P  * x\n",
    "print(cost + M * x**2)"
   ]
  },
  {
   "cell_type": "code",
   "execution_count": 21,
   "id": "7e7b3a85-84f5-49bf-827e-325cdb3955cc",
   "metadata": {},
   "outputs": [
    {
     "data": {
      "text/plain": [
       "1.0195928969754326"
      ]
     },
     "execution_count": 21,
     "metadata": {},
     "output_type": "execute_result"
    }
   ],
   "source": [
    "-(1/R) * B * P  * x"
   ]
  },
  {
   "cell_type": "code",
   "execution_count": null,
   "id": "ee335773-672c-41cf-ae51-3cd6b5656a8c",
   "metadata": {},
   "outputs": [],
   "source": []
  }
 ],
 "metadata": {
  "kernelspec": {
   "display_name": "Python 3 (ipykernel)",
   "language": "python",
   "name": "python3"
  },
  "language_info": {
   "codemirror_mode": {
    "name": "ipython",
    "version": 3
   },
   "file_extension": ".py",
   "mimetype": "text/x-python",
   "name": "python",
   "nbconvert_exporter": "python",
   "pygments_lexer": "ipython3",
   "version": "3.11.5"
  }
 },
 "nbformat": 4,
 "nbformat_minor": 5
}
