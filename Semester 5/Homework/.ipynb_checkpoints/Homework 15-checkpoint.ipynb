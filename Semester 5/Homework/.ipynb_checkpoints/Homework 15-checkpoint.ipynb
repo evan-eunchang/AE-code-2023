{
 "cells": [
  {
   "cell_type": "code",
   "execution_count": 130,
   "id": "ae71e9a5-85e4-46d2-b519-30baeead0e6a",
   "metadata": {},
   "outputs": [],
   "source": [
    "import numpy as np\n",
    "from numpy import linalg as la\n",
    "import control as ctl\n",
    "from scipy import linalg\n",
    "from scipy import signal as sig"
   ]
  },
  {
   "cell_type": "code",
   "execution_count": 26,
   "id": "e4c58598-3667-43f9-96e1-4b1f9e4dba40",
   "metadata": {},
   "outputs": [],
   "source": [
    "A1 = np.array([[-60.2, 18.9, -29.1, 415.9], [30.0, -9.3, 14.4, -206.7], [-23.7, 7.4, -11.5, 163.7], [-11.8, 3.7, -5.7, 81.5]])\n",
    "A2 = np.array([[-0.5, 0.0], [-2.6, 0.0]])\n",
    "A3 = np.array([[28.9, -161.9, -416.0, 0.0], [-9.2, 55.5, 140.7, 0.0], [5.6, -32.9, -83.8, 0.0], [5.8, -31.2, -80.6, 0.0]])\n",
    "A4 = np.array([[-1.2, 4.8], [-0.3, 1.2]])\n",
    "A5 = np.array([[-23.4, -99.6, -281.4, 1125.6], [3.5, 15.4, 45.5, -182.0], [72.7, 307.6, 860.0, -3440.0], [18.0, 76.2, 213.2, -852.8]])\n",
    "C1 = np.array([[-1.1, 0.4, -0.2, 7.0]])\n",
    "C2 = np.array([[-0.6, 0.1]])\n",
    "C3 = np.array([[-0.4, 2.1, 5.5, 0.0]])\n",
    "C4 = np.array([[-0.5, 1.9]])\n",
    "C5 = np.array([[-0.5, -2.1, -5.8, 23.2]])"
   ]
  },
  {
   "cell_type": "code",
   "execution_count": 27,
   "id": "26975dc4-9ab8-4cb6-95db-ca66a6f55eee",
   "metadata": {},
   "outputs": [
    {
     "data": {
      "text/plain": [
       "3"
      ]
     },
     "execution_count": 27,
     "metadata": {},
     "output_type": "execute_result"
    }
   ],
   "source": [
    "W = ctl.ctrb(A5.T,C5.T)\n",
    "la.matrix_rank(W)"
   ]
  },
  {
   "cell_type": "code",
   "execution_count": 73,
   "id": "f2735bbc-db34-4409-abaf-dcf369e34a9e",
   "metadata": {},
   "outputs": [],
   "source": [
    "A = np.array([[0.10, -0.80], [0.40, -0.10]])\n",
    "B = np.array([[-0.70], [0.80]])\n",
    "C = np.array([[-0.60, -0.80]])\n",
    "K = np.array([[-2.60, 1.10]])\n",
    "L = np.array([[-48.00], [23.80]])"
   ]
  },
  {
   "cell_type": "code",
   "execution_count": 74,
   "id": "e6a52c2d-f4d9-4841-9b20-ae163292f501",
   "metadata": {},
   "outputs": [],
   "source": [
    "\n",
    "F = np.concatenate((np.concatenate((A- B @ K, -B @ K), axis=1), np.concatenate((np.zeros(A), A - L @ C), axis = 1)), axis = 0)"
   ]
  },
  {
   "cell_type": "code",
   "execution_count": 75,
   "id": "d024de70-2bba-41cd-b862-4563437ddbe4",
   "metadata": {},
   "outputs": [
    {
     "data": {
      "text/plain": [
       "array([[-1.720e+00, -3.000e-02, -1.820e+00,  7.700e-01],\n",
       "       [ 2.480e+00, -9.800e-01,  2.080e+00, -8.800e-01],\n",
       "       [ 0.000e+00,  0.000e+00, -2.870e+01, -3.920e+01],\n",
       "       [ 0.000e+00,  0.000e+00,  1.468e+01,  1.894e+01]])"
      ]
     },
     "execution_count": 75,
     "metadata": {},
     "output_type": "execute_result"
    }
   ],
   "source": [
    "F"
   ]
  },
  {
   "cell_type": "code",
   "execution_count": 76,
   "id": "70f464cb-959a-4a16-85b8-7f8b77efd6dc",
   "metadata": {},
   "outputs": [
    {
     "data": {
      "text/plain": [
       "array([[-1.7254902],\n",
       "       [ 1.9719888],\n",
       "       [ 0.       ],\n",
       "       [ 0.       ]])"
      ]
     },
     "execution_count": 76,
     "metadata": {},
     "output_type": "execute_result"
    }
   ],
   "source": [
    "G = np.concatenate((-B / (C @ la.inv(A - B @ K) @ B), np.zeros(B.shape)))\n",
    "G"
   ]
  },
  {
   "cell_type": "code",
   "execution_count": 77,
   "id": "b400210e-57ec-47d8-97f6-c3c250b2e656",
   "metadata": {},
   "outputs": [
    {
     "data": {
      "text/plain": [
       "array([[-0.6, -0.8,  0. ,  0. ]])"
      ]
     },
     "execution_count": 77,
     "metadata": {},
     "output_type": "execute_result"
    }
   ],
   "source": [
    "H = np.concatenate((C, np.zeros(C.shape)), axis=1)\n",
    "H"
   ]
  },
  {
   "cell_type": "code",
   "execution_count": 102,
   "id": "d29bbbd1-b8f8-4b27-a6ee-75d958681965",
   "metadata": {},
   "outputs": [],
   "source": [
    "A = np.array([[0.80, 0.20, 0.00], [-0.50, 0.40, 0.20], [-0.70, -0.70, -0.70]])\n",
    "B = np.array([[-0.20], [0.50], [-0.50]])\n",
    "C = np.array([[-0.90, -0.30, 0.90]])\n",
    "K = np.array([[48.80, 29.90, 4.40]])\n",
    "L = np.array([[72.30], [-143.90], [33.20]])\n",
    "x0 = np.array([-0.80, -0.40, 0.30])\n",
    "xhat0 = np.array([-1.80, 0.00, 0.40])\n",
    "t0 = 0.90\n",
    "t1 = 1.30"
   ]
  },
  {
   "cell_type": "code",
   "execution_count": 103,
   "id": "7521c0f9-af38-4775-b655-1c6e1ff15975",
   "metadata": {},
   "outputs": [],
   "source": [
    "steps = 1000\n",
    "dt = (t1 - t0) / steps"
   ]
  },
  {
   "cell_type": "code",
   "execution_count": 104,
   "id": "dc2333c5-18a6-414f-9c96-d32f80df66f5",
   "metadata": {},
   "outputs": [],
   "source": [
    "F = np.concatenate((np.concatenate((A- B @ K, -B @ K), axis=1), np.concatenate((np.zeros(A.shape), A - L @ C), axis = 1)), axis = 0)"
   ]
  },
  {
   "cell_type": "code",
   "execution_count": 105,
   "id": "7e4a12d8-594a-4937-9077-ef2f8eca0380",
   "metadata": {},
   "outputs": [
    {
     "data": {
      "text/plain": [
       "array([[-0.8],\n",
       "       [-0.4],\n",
       "       [ 0.3],\n",
       "       [-1. ],\n",
       "       [ 0.4],\n",
       "       [ 0.1]])"
      ]
     },
     "execution_count": 105,
     "metadata": {},
     "output_type": "execute_result"
    }
   ],
   "source": [
    "initial = np.concatenate((x0, xhat0 - x0))\n",
    "initial = np.array([initial]).T\n",
    "initial"
   ]
  },
  {
   "cell_type": "code",
   "execution_count": 106,
   "id": "2e1df421-efc2-44ff-a9e2-562ae867a41d",
   "metadata": {},
   "outputs": [],
   "source": [
    "for i in range(steps):\n",
    "    initial += dt * F @ initial\n",
    "    "
   ]
  },
  {
   "cell_type": "code",
   "execution_count": 108,
   "id": "12704657-696d-44b5-b926-a3359903b805",
   "metadata": {},
   "outputs": [
    {
     "data": {
      "text/plain": [
       "array([[-2.58478425],\n",
       "       [ 3.57469873],\n",
       "       [-2.47839463]])"
      ]
     },
     "execution_count": 108,
     "metadata": {},
     "output_type": "execute_result"
    }
   ],
   "source": [
    "x = np.array([\n",
    "    initial[0],\n",
    "    initial[1],\n",
    "    initial[2]\n",
    "])\n",
    "e = np.array([\n",
    "    initial[3],\n",
    "    initial[4],\n",
    "    initial[5]\n",
    "])\n",
    "xhat = e + x\n",
    "x"
   ]
  },
  {
   "cell_type": "code",
   "execution_count": 114,
   "id": "2bbc1804-70a2-4f34-855d-0b4b2627ef31",
   "metadata": {},
   "outputs": [],
   "source": [
    "A = np.array([[-0.8, -0.6, -0.9, 0.4], [-0.7, 0.7, -0.2, -0.8], [-0.6, 0.2, 0.7, 0.0], [0.2, -0.1, 0.5, -0.1]])\n",
    "B = np.array([[-0.6], [0.2], [-0.1], [-0.3]])\n",
    "C = np.array([[0.7, -0.7, 0.2, -0.1]])\n",
    "K1 = np.array([[-1279.9, -2038.8, 6823.6, -1164.2]])\n",
    "K2 = np.array([[-320.6, -633.5, 1977.0, -497.7]])\n",
    "K3 = np.array([[-213.9, -818.9, 2080.7, -829.4]])\n",
    "K4 = np.array([[-2989.5, -9517.6, 23684.1, -8345.9]])\n",
    "K5 = np.array([[-834.5, -917.9, 3833.4, -313.7]])\n",
    "L1 = np.array([[-3596.2], [-1510.8], [8443.1], [2005.2]])\n",
    "L2 = np.array([[-3039.7], [-1395.3], [6419.2], [1116.6]])\n",
    "L3 = np.array([[-3258.1], [-1556.4], [6298.3], [635.4]])\n",
    "L4 = np.array([[-4808.3], [-2218.3], [9953.5], [1554.4]])\n",
    "L5 = np.array([[-7082.7], [-3284.7], [14576.2], [2248.3]])"
   ]
  },
  {
   "cell_type": "code",
   "execution_count": 125,
   "id": "37b0035f-d648-44a5-ab83-fa89bfe0f271",
   "metadata": {},
   "outputs": [
    {
     "data": {
      "text/plain": [
       "array([-4.2780214+9.08175716j, -4.2780214-9.08175716j,\n",
       "       -8.2419786+5.98686606j, -8.2419786-5.98686606j])"
      ]
     },
     "execution_count": 125,
     "metadata": {},
     "output_type": "execute_result"
    }
   ],
   "source": [
    "la.eig(A - B @ K4)[0]"
   ]
  },
  {
   "cell_type": "code",
   "execution_count": 126,
   "id": "8b2860b0-ca59-4e90-ac60-2109c53d0b07",
   "metadata": {},
   "outputs": [
    {
     "data": {
      "text/plain": [
       "array([-5.09116724+8.45616183j, -5.09116724-8.45616183j,\n",
       "       -7.8873809 +0.j        , -3.69028461+0.j        ])"
      ]
     },
     "execution_count": 126,
     "metadata": {},
     "output_type": "execute_result"
    }
   ],
   "source": [
    "la.eig(A - L4 @ C)[0]"
   ]
  },
  {
   "cell_type": "code",
   "execution_count": 153,
   "id": "1f709bde-ea2d-4add-88a4-323ed11a28c4",
   "metadata": {},
   "outputs": [],
   "source": [
    "A = np.array([[-0.70, 0.10], [-0.40, 0.40]])\n",
    "B = np.array([[0.10], [-0.80]])\n",
    "C = np.array([[-0.80, -0.50]])\n",
    "pObsv = np.array([[-2, -4]])\n",
    "pCont = np.array([[-1, -1]])"
   ]
  },
  {
   "cell_type": "code",
   "execution_count": 154,
   "id": "04fd84b0-0c5a-4b09-92af-4b5306e38b38",
   "metadata": {},
   "outputs": [],
   "source": [
    "L = ctl.acker(A.T, C.T, pObsv[0]).T\n",
    "K = ctl.acker(A, B, pCont[0])"
   ]
  },
  {
   "cell_type": "code",
   "execution_count": 155,
   "id": "42ae0a52-1046-4078-a707-ec20cc07c94d",
   "metadata": {},
   "outputs": [
    {
     "data": {
      "text/plain": [
       "array([[ 0.17948718, -2.1025641 ]])"
      ]
     },
     "execution_count": 155,
     "metadata": {},
     "output_type": "execute_result"
    }
   ],
   "source": [
    "K"
   ]
  },
  {
   "cell_type": "code",
   "execution_count": 156,
   "id": "fb8b1fad-636e-4098-a0a4-1f9005093fb8",
   "metadata": {},
   "outputs": [
    {
     "data": {
      "text/plain": [
       "array([[  2.76324503],\n",
       "       [-15.82119205]])"
      ]
     },
     "execution_count": 156,
     "metadata": {},
     "output_type": "execute_result"
    }
   ],
   "source": [
    "L"
   ]
  },
  {
   "cell_type": "code",
   "execution_count": 157,
   "id": "a3e3bc17-5c37-45ef-b982-57cf045a9a0b",
   "metadata": {},
   "outputs": [
    {
     "data": {
      "text/plain": [
       "array([[2.52525253]])"
      ]
     },
     "execution_count": 157,
     "metadata": {},
     "output_type": "execute_result"
    }
   ],
   "source": [
    "-1 / (C @ la.inv(A - B @ K) @ B)"
   ]
  },
  {
   "cell_type": "code",
   "execution_count": 158,
   "id": "fa873112-d3cc-41b9-9c9d-188599c6f947",
   "metadata": {},
   "outputs": [
    {
     "data": {
      "text/plain": [
       "array([[-2, -4, -1, -1]])"
      ]
     },
     "execution_count": 158,
     "metadata": {},
     "output_type": "execute_result"
    }
   ],
   "source": [
    "np.concatenate((pObsv, pCont), axis=1)"
   ]
  },
  {
   "cell_type": "code",
   "execution_count": 168,
   "id": "68b89b59-e704-4562-b76c-9dd6eefb9453",
   "metadata": {},
   "outputs": [],
   "source": [
    "A = np.array([[0.70, 0.80, 0.60], [-0.90, -0.70, 0.20], [0.30, -0.30, -0.30]])\n",
    "B = np.array([[-0.40], [-0.30], [-0.30]])\n",
    "C = np.array([[0.50, -0.40, 0.70]])\n",
    "K = np.array([[-19.10, -1.80, 5.00]])\n",
    "L = np.array([[5.50], [-2.70], [0.00]])\n",
    "t0 = 0.00\n",
    "h = 0.02\n",
    "xhat0 = np.array([[0.20], [-0.30], [0.50]])\n",
    "r0 = 0.90\n",
    "y0 = np.array([[-0.70]])"
   ]
  },
  {
   "cell_type": "code",
   "execution_count": 169,
   "id": "f3962797-0261-4fd2-b58e-3bf36d3206d2",
   "metadata": {},
   "outputs": [
    {
     "data": {
      "text/plain": [
       "array([[-3.36256619]])"
      ]
     },
     "execution_count": 169,
     "metadata": {},
     "output_type": "execute_result"
    }
   ],
   "source": [
    "kref = -1 / (C @ la.inv(A - B @ K) @ B)\n",
    "u0 = -K @ xhat0 + r0 * kref\n",
    "u0"
   ]
  },
  {
   "cell_type": "code",
   "execution_count": 170,
   "id": "38e3081c-d3c1-4754-8a44-a80f0dc01269",
   "metadata": {},
   "outputs": [
    {
     "data": {
      "text/plain": [
       "array([[ 0.09120053],\n",
       "       [-0.2086446 ],\n",
       "       [ 0.5201754 ]])"
      ]
     },
     "execution_count": 170,
     "metadata": {},
     "output_type": "execute_result"
    }
   ],
   "source": [
    "xhat = xhat0\n",
    "xhat += h * (A @ xhat + B @ u0 - L @ (C @ xhat - y0))\n",
    "xhat"
   ]
  },
  {
   "cell_type": "code",
   "execution_count": null,
   "id": "996b9485-65d0-4050-a41f-03bfc98a35e3",
   "metadata": {},
   "outputs": [],
   "source": []
  }
 ],
 "metadata": {
  "kernelspec": {
   "display_name": "Python 3 (ipykernel)",
   "language": "python",
   "name": "python3"
  },
  "language_info": {
   "codemirror_mode": {
    "name": "ipython",
    "version": 3
   },
   "file_extension": ".py",
   "mimetype": "text/x-python",
   "name": "python",
   "nbconvert_exporter": "python",
   "pygments_lexer": "ipython3",
   "version": "3.11.5"
  }
 },
 "nbformat": 4,
 "nbformat_minor": 5
}
