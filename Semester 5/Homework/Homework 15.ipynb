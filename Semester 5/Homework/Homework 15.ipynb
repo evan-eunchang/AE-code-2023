{
 "cells": [
  {
   "cell_type": "code",
   "execution_count": 3,
   "id": "ae71e9a5-85e4-46d2-b519-30baeead0e6a",
   "metadata": {},
   "outputs": [],
   "source": [
    "import numpy as np\n",
    "from numpy import linalg as la\n",
    "import control as ctl\n",
    "from scipy import linalg\n",
    "from scipy import signal as sig"
   ]
  },
  {
   "cell_type": "code",
   "execution_count": 4,
   "id": "e4c58598-3667-43f9-96e1-4b1f9e4dba40",
   "metadata": {},
   "outputs": [],
   "source": [
    "A1 = np.array([[-9.8, -48.3, -18.9], [3.0, 14.8, 5.8], [-2.4, -11.9, -4.7]])\n",
    "A2 = np.array([[0.3, -0.3], [0.3, -0.3]])\n",
    "A3 = np.array([[-0.5, -0.5], [1.0, 1.0]])\n",
    "A4 = np.array([[9.7, 17.0, 0.0], [-5.6, -9.8, 0.0], [13.3, 23.4, 0.0]])\n",
    "A5 = np.array([[-43.0, -73.3, -151.5], [38.7, 65.5, 134.0], [-6.7, -11.2, -22.5]])\n",
    "C1 = np.array([[-0.3, -0.9, 0.1]])\n",
    "C2 = np.array([[0.1, -0.1]])\n",
    "C3 = np.array([[0.0, -0.1]])\n",
    "C4 = np.array([[-0.4, -0.7, 0.0]])\n",
    "C5 = np.array([[2.1, 3.7, 7.9]])"
   ]
  },
  {
   "cell_type": "code",
   "execution_count": 9,
   "id": "26975dc4-9ab8-4cb6-95db-ca66a6f55eee",
   "metadata": {},
   "outputs": [
    {
     "data": {
      "text/plain": [
       "3"
      ]
     },
     "execution_count": 9,
     "metadata": {},
     "output_type": "execute_result"
    }
   ],
   "source": [
    "W = ctl.ctrb(A1.T,C1.T)\n",
    "la.matrix_rank(W)"
   ]
  },
  {
   "cell_type": "code",
   "execution_count": 40,
   "id": "f2735bbc-db34-4409-abaf-dcf369e34a9e",
   "metadata": {},
   "outputs": [],
   "source": [
    "A = np.array([[-0.10, -0.90, 0.80, -0.50], [0.60, 0.00, -0.70, 0.30], [0.90, 0.90, 0.60, 0.50], [0.90, -0.90, -0.20, 0.90]])\n",
    "B = np.array([[0.20], [0.20], [0.70], [0.80]])\n",
    "C = np.array([[0.30, -0.10, -0.60, -0.40]])\n",
    "K = np.array([[-6.00, -14.50, -0.80, 10.60]])\n",
    "L = np.array([[-251.30], [37.90], [-262.00], [160.30]])"
   ]
  },
  {
   "cell_type": "code",
   "execution_count": 41,
   "id": "e6a52c2d-f4d9-4841-9b20-ae163292f501",
   "metadata": {},
   "outputs": [],
   "source": [
    "\n",
    "# F = np.concatenate((np.concatenate((A, -B @ K), axis=1), np.concatenate((L @ C, A - B @ K - L @ C), axis = 1)), axis = 0)\n",
    "\n",
    "F = np.concatenate((np.concatenate((A - B @ K, -B @ K), axis=1), np.concatenate((np.zeros(A.shape), A - L @ C), axis = 1)), axis = 0)"
   ]
  },
  {
   "cell_type": "code",
   "execution_count": 42,
   "id": "d024de70-2bba-41cd-b862-4563437ddbe4",
   "metadata": {},
   "outputs": [
    {
     "data": {
      "text/plain": [
       "array([[   1.1 ,    2.  ,    0.96,   -2.62,    1.2 ,    2.9 ,    0.16,\n",
       "          -2.12],\n",
       "       [   1.8 ,    2.9 ,   -0.54,   -1.82,    1.2 ,    2.9 ,    0.16,\n",
       "          -2.12],\n",
       "       [   5.1 ,   11.05,    1.16,   -6.92,    4.2 ,   10.15,    0.56,\n",
       "          -7.42],\n",
       "       [   5.7 ,   10.7 ,    0.44,   -7.58,    4.8 ,   11.6 ,    0.64,\n",
       "          -8.48],\n",
       "       [   0.  ,    0.  ,    0.  ,    0.  ,   75.29,  -26.03, -149.98,\n",
       "        -101.02],\n",
       "       [   0.  ,    0.  ,    0.  ,    0.  ,  -10.77,    3.79,   22.04,\n",
       "          15.46],\n",
       "       [   0.  ,    0.  ,    0.  ,    0.  ,   79.5 ,  -25.3 , -156.6 ,\n",
       "        -104.3 ],\n",
       "       [   0.  ,    0.  ,    0.  ,    0.  ,  -47.19,   15.13,   95.98,\n",
       "          65.02]])"
      ]
     },
     "execution_count": 42,
     "metadata": {},
     "output_type": "execute_result"
    }
   ],
   "source": [
    "F"
   ]
  },
  {
   "cell_type": "code",
   "execution_count": 43,
   "id": "70f464cb-959a-4a16-85b8-7f8b77efd6dc",
   "metadata": {},
   "outputs": [
    {
     "data": {
      "text/plain": [
       "array([[0.30095272],\n",
       "       [0.30095272],\n",
       "       [1.05333453],\n",
       "       [1.20381089],\n",
       "       [0.        ],\n",
       "       [0.        ],\n",
       "       [0.        ],\n",
       "       [0.        ]])"
      ]
     },
     "execution_count": 43,
     "metadata": {},
     "output_type": "execute_result"
    }
   ],
   "source": [
    "# G = np.concatenate((-B / (C @ la.inv(A - B @ K) @ B), -B / (C @ la.inv(A - B @ K) @ B)))\n",
    "G = np.concatenate((-B / (C @ la.inv(A - B @ K) @ B), np.zeros(B.shape)))\n",
    "\n",
    "G"
   ]
  },
  {
   "cell_type": "code",
   "execution_count": 44,
   "id": "b400210e-57ec-47d8-97f6-c3c250b2e656",
   "metadata": {},
   "outputs": [
    {
     "data": {
      "text/plain": [
       "array([[ 0.3, -0.1, -0.6, -0.4,  0. ,  0. ,  0. ,  0. ]])"
      ]
     },
     "execution_count": 44,
     "metadata": {},
     "output_type": "execute_result"
    }
   ],
   "source": [
    "H = np.concatenate((C, np.zeros(C.shape)), axis=1)\n",
    "H"
   ]
  },
  {
   "cell_type": "code",
   "execution_count": 48,
   "id": "d29bbbd1-b8f8-4b27-a6ee-75d958681965",
   "metadata": {},
   "outputs": [],
   "source": [
    "A = np.array([[0.30, 0.60, 0.90], [0.90, -0.10, 0.10], [-0.10, -0.80, -0.30]])\n",
    "B = np.array([[0.70], [0.30], [0.00]])\n",
    "C = np.array([[0.00, 0.70, 0.90]])\n",
    "K = np.array([[1.50, 1.60, 1.10]])\n",
    "L = np.array([[-11.70], [-21.30], [21.60]])\n",
    "x0 = np.array([0.50, 0.60, -0.40])\n",
    "xhat0 = np.array([0.40, -0.30, -0.10])\n",
    "t0 = 0.10\n",
    "t1 = 0.60"
   ]
  },
  {
   "cell_type": "code",
   "execution_count": 54,
   "id": "dc2333c5-18a6-414f-9c96-d32f80df66f5",
   "metadata": {},
   "outputs": [],
   "source": [
    "F = np.concatenate((np.concatenate((A, -B @ K), axis=1), np.concatenate((L @ C, A - B @ K - L @ C), axis = 1)), axis = 0)"
   ]
  },
  {
   "cell_type": "code",
   "execution_count": 55,
   "id": "12704657-696d-44b5-b926-a3359903b805",
   "metadata": {},
   "outputs": [
    {
     "name": "stdout",
     "output_type": "stream",
     "text": [
      "[ 0.71150834  0.8726681  -0.64820137] [ 0.34655784 -0.55891051  0.58794283]\n"
     ]
    }
   ],
   "source": [
    "e0 = np.concatenate((x0,xhat0), axis = 0)\n",
    "e = linalg.expm(F * (t1 - t0)) @ e0\n",
    "print(e[0:3], e[3:])"
   ]
  },
  {
   "cell_type": "code",
   "execution_count": 2,
   "id": "df70686e-5180-447f-9180-1b41055bce15",
   "metadata": {},
   "outputs": [],
   "source": [
    "A = np.array([[0.60, 0.60, -0.90, -0.80], [0.40, 0.00, 0.70, 0.40], [-0.20, 0.80, -0.60, 0.10], [-0.10, -0.80, -0.80, 0.80]])\n",
    "B = np.array([[0.50], [-0.60], [0.80], [-0.70]])\n",
    "C = np.array([[-0.10, 0.30, 0.50, -0.80]])\n",
    "K = np.array([[59.10, 57.10, 1.90, -16.60]])\n",
    "L = np.array([[1259.60], [107.50], [-376.00], [-364.80]])\n",
    "x0 = np.array([0.40, 0.80, 0.50, 0.50])\n",
    "xhat0 = np.array([0.00, 1.80, 0.30, 1.50])\n",
    "t0 = 0.20\n",
    "t1 = 0.60"
   ]
  },
  {
   "cell_type": "code",
   "execution_count": 3,
   "id": "0f3d47c6-7a55-421b-8397-5c6b16b4a239",
   "metadata": {},
   "outputs": [
    {
     "name": "stdout",
     "output_type": "stream",
     "text": [
      "[[-2.89500e+01 -2.79500e+01 -1.85000e+00  7.50000e+00 -2.95500e+01\n",
      "  -2.85500e+01 -9.50000e-01  8.30000e+00]\n",
      " [ 3.58600e+01  3.42600e+01  1.84000e+00 -9.56000e+00  3.54600e+01\n",
      "   3.42600e+01  1.14000e+00 -9.96000e+00]\n",
      " [-4.74800e+01 -4.48800e+01 -2.12000e+00  1.33800e+01 -4.72800e+01\n",
      "  -4.56800e+01 -1.52000e+00  1.32800e+01]\n",
      " [ 4.12700e+01  3.91700e+01  5.30000e-01 -1.08200e+01  4.13700e+01\n",
      "   3.99700e+01  1.33000e+00 -1.16200e+01]\n",
      " [ 0.00000e+00  0.00000e+00  0.00000e+00  0.00000e+00  1.26560e+02\n",
      "  -3.77280e+02 -6.30700e+02  1.00688e+03]\n",
      " [ 0.00000e+00  0.00000e+00  0.00000e+00  0.00000e+00  1.11500e+01\n",
      "  -3.22500e+01 -5.30500e+01  8.64000e+01]\n",
      " [ 0.00000e+00  0.00000e+00  0.00000e+00  0.00000e+00 -3.78000e+01\n",
      "   1.13600e+02  1.87400e+02 -3.00700e+02]\n",
      " [ 0.00000e+00  0.00000e+00  0.00000e+00  0.00000e+00 -3.65800e+01\n",
      "   1.08640e+02  1.81600e+02 -2.91040e+02]]\n"
     ]
    }
   ],
   "source": [
    "F = np.concatenate((np.concatenate((A - B @ K, -B @ K), axis=1), np.concatenate((np.zeros(A.shape), A - L @ C), axis = 1)), axis = 0)\n",
    "print(F)"
   ]
  },
  {
   "cell_type": "code",
   "execution_count": 45,
   "id": "db6b9ce6-b135-420e-b0db-72faaa0597e7",
   "metadata": {},
   "outputs": [],
   "source": [
    "e0 = np.concatenate((x0, xhat0 - x0))"
   ]
  },
  {
   "cell_type": "code",
   "execution_count": 46,
   "id": "8b896679-2147-40a4-b854-e5cca4732d04",
   "metadata": {},
   "outputs": [
    {
     "data": {
      "text/plain": [
       "array([ 30.06008613, -55.20300072, 104.51400238, -13.10704875,\n",
       "       -22.06575042,  -0.23061851,   9.12448679,   8.08913676])"
      ]
     },
     "execution_count": 46,
     "metadata": {},
     "output_type": "execute_result"
    }
   ],
   "source": [
    "ef = linalg.expm(F * (t1 - t0)) @ e0\n",
    "ef"
   ]
  },
  {
   "cell_type": "code",
   "execution_count": 47,
   "id": "3adfa5fa-fd44-4389-8cd2-ad51e94ff2e0",
   "metadata": {},
   "outputs": [
    {
     "data": {
      "text/plain": [
       "array([  7.99433571, -55.43361922, 113.63848917,  -5.017912  ])"
      ]
     },
     "execution_count": 47,
     "metadata": {},
     "output_type": "execute_result"
    }
   ],
   "source": [
    "xhat = ef[0:4] + ef[4:]\n",
    "xhat"
   ]
  },
  {
   "cell_type": "code",
   "execution_count": 114,
   "id": "2bbc1804-70a2-4f34-855d-0b4b2627ef31",
   "metadata": {},
   "outputs": [],
   "source": [
    "A = np.array([[-0.8, -0.6, -0.9, 0.4], [-0.7, 0.7, -0.2, -0.8], [-0.6, 0.2, 0.7, 0.0], [0.2, -0.1, 0.5, -0.1]])\n",
    "B = np.array([[-0.6], [0.2], [-0.1], [-0.3]])\n",
    "C = np.array([[0.7, -0.7, 0.2, -0.1]])\n",
    "K1 = np.array([[-1279.9, -2038.8, 6823.6, -1164.2]])\n",
    "K2 = np.array([[-320.6, -633.5, 1977.0, -497.7]])\n",
    "K3 = np.array([[-213.9, -818.9, 2080.7, -829.4]])\n",
    "K4 = np.array([[-2989.5, -9517.6, 23684.1, -8345.9]])\n",
    "K5 = np.array([[-834.5, -917.9, 3833.4, -313.7]])\n",
    "L1 = np.array([[-3596.2], [-1510.8], [8443.1], [2005.2]])\n",
    "L2 = np.array([[-3039.7], [-1395.3], [6419.2], [1116.6]])\n",
    "L3 = np.array([[-3258.1], [-1556.4], [6298.3], [635.4]])\n",
    "L4 = np.array([[-4808.3], [-2218.3], [9953.5], [1554.4]])\n",
    "L5 = np.array([[-7082.7], [-3284.7], [14576.2], [2248.3]])"
   ]
  },
  {
   "cell_type": "code",
   "execution_count": 125,
   "id": "37b0035f-d648-44a5-ab83-fa89bfe0f271",
   "metadata": {},
   "outputs": [
    {
     "data": {
      "text/plain": [
       "array([-4.2780214+9.08175716j, -4.2780214-9.08175716j,\n",
       "       -8.2419786+5.98686606j, -8.2419786-5.98686606j])"
      ]
     },
     "execution_count": 125,
     "metadata": {},
     "output_type": "execute_result"
    }
   ],
   "source": [
    "la.eig(A - B @ K4)[0]"
   ]
  },
  {
   "cell_type": "code",
   "execution_count": 126,
   "id": "8b2860b0-ca59-4e90-ac60-2109c53d0b07",
   "metadata": {},
   "outputs": [
    {
     "data": {
      "text/plain": [
       "array([-5.09116724+8.45616183j, -5.09116724-8.45616183j,\n",
       "       -7.8873809 +0.j        , -3.69028461+0.j        ])"
      ]
     },
     "execution_count": 126,
     "metadata": {},
     "output_type": "execute_result"
    }
   ],
   "source": [
    "la.eig(A - L4 @ C)[0]"
   ]
  },
  {
   "cell_type": "code",
   "execution_count": 57,
   "id": "1f709bde-ea2d-4add-88a4-323ed11a28c4",
   "metadata": {},
   "outputs": [],
   "source": [
    "A = np.array([[-0.60, -0.50], [-0.50, -0.60]])\n",
    "B = np.array([[-0.70], [0.30]])\n",
    "C = np.array([[0.40, 0.00]])\n",
    "pObsv = np.array([[-4.00-2.00j, -4.00+2.00j]])\n",
    "pCont = np.array([[-1.00-1.00j, -1.00+1.00j]])"
   ]
  },
  {
   "cell_type": "code",
   "execution_count": 58,
   "id": "04fd84b0-0c5a-4b09-92af-4b5306e38b38",
   "metadata": {},
   "outputs": [],
   "source": [
    "L = ctl.acker(A.T, C.T, pObsv[0]).T\n",
    "K = ctl.acker(A, B, pCont[0])"
   ]
  },
  {
   "cell_type": "code",
   "execution_count": 59,
   "id": "42ae0a52-1046-4078-a707-ec20cc07c94d",
   "metadata": {},
   "outputs": [
    {
     "data": {
      "text/plain": [
       "array([[0.715, 4.335]])"
      ]
     },
     "execution_count": 59,
     "metadata": {},
     "output_type": "execute_result"
    }
   ],
   "source": [
    "K"
   ]
  },
  {
   "cell_type": "code",
   "execution_count": 60,
   "id": "fb8b1fad-636e-4098-a0a4-1f9005093fb8",
   "metadata": {},
   "outputs": [
    {
     "data": {
      "text/plain": [
       "array([[ 17.  ],\n",
       "       [-79.05]])"
      ]
     },
     "execution_count": 60,
     "metadata": {},
     "output_type": "execute_result"
    }
   ],
   "source": [
    "L"
   ]
  },
  {
   "cell_type": "code",
   "execution_count": 61,
   "id": "a3e3bc17-5c37-45ef-b982-57cf045a9a0b",
   "metadata": {},
   "outputs": [
    {
     "data": {
      "text/plain": [
       "array([[-8.77192982]])"
      ]
     },
     "execution_count": 61,
     "metadata": {},
     "output_type": "execute_result"
    }
   ],
   "source": [
    "-1 / (C @ la.inv(A - B @ K) @ B)"
   ]
  },
  {
   "cell_type": "code",
   "execution_count": 158,
   "id": "fa873112-d3cc-41b9-9c9d-188599c6f947",
   "metadata": {},
   "outputs": [
    {
     "data": {
      "text/plain": [
       "array([[-2, -4, -1, -1]])"
      ]
     },
     "execution_count": 158,
     "metadata": {},
     "output_type": "execute_result"
    }
   ],
   "source": [
    "np.concatenate((pObsv, pCont), axis=1)"
   ]
  },
  {
   "cell_type": "code",
   "execution_count": 14,
   "id": "68b89b59-e704-4562-b76c-9dd6eefb9453",
   "metadata": {},
   "outputs": [],
   "source": [
    "A = np.array([[-0.10, -0.40, 0.70, 0.30], [-0.50, 0.40, 0.40, -0.20], [0.10, 0.50, 0.70, -0.70], [0.90, 0.80, 0.80, 0.80]])\n",
    "B = np.array([[-0.70], [0.80], [-0.80], [0.30]])\n",
    "C = np.array([[-0.60, -0.10, 0.60, 0.90]])\n",
    "K = np.array([[-20.60, 16.40, 10.00, -36.90]])\n",
    "L = np.array([[-47.00], [66.70], [22.40], [-26.90]])\n",
    "t0 = 1.00\n",
    "h = 0.03\n",
    "xhat0 = np.array([[-0.60], [1.00], [0.50], [0.80]])\n",
    "r0 = -0.30\n",
    "y0 = np.array([[0.20]])"
   ]
  },
  {
   "cell_type": "code",
   "execution_count": 15,
   "id": "f3962797-0261-4fd2-b58e-3bf36d3206d2",
   "metadata": {},
   "outputs": [
    {
     "data": {
      "text/plain": [
       "array([[-4.51971331]])"
      ]
     },
     "execution_count": 15,
     "metadata": {},
     "output_type": "execute_result"
    }
   ],
   "source": [
    "kref = -1 / (C @ la.inv(A - B @ K) @ B)\n",
    "u0 = -K @ xhat0 + r0 * kref\n",
    "u0"
   ]
  },
  {
   "cell_type": "code",
   "execution_count": 13,
   "id": "38e3081c-d3c1-4754-8a44-a80f0dc01269",
   "metadata": {},
   "outputs": [
    {
     "data": {
      "text/plain": [
       "array([[ 1.02521398],\n",
       "       [-1.24735312],\n",
       "       [-0.11038688],\n",
       "       [ 1.66988258]])"
      ]
     },
     "execution_count": 13,
     "metadata": {},
     "output_type": "execute_result"
    }
   ],
   "source": [
    "xhat = xhat0\n",
    "xhat += h * (A @ xhat + B @ u0 - L @ (C @ xhat - y0))\n",
    "xhat"
   ]
  },
  {
   "cell_type": "code",
   "execution_count": null,
   "id": "996b9485-65d0-4050-a41f-03bfc98a35e3",
   "metadata": {},
   "outputs": [],
   "source": []
  }
 ],
 "metadata": {
  "kernelspec": {
   "display_name": "Python 3 (ipykernel)",
   "language": "python",
   "name": "python3"
  },
  "language_info": {
   "codemirror_mode": {
    "name": "ipython",
    "version": 3
   },
   "file_extension": ".py",
   "mimetype": "text/x-python",
   "name": "python",
   "nbconvert_exporter": "python",
   "pygments_lexer": "ipython3",
   "version": "3.11.5"
  }
 },
 "nbformat": 4,
 "nbformat_minor": 5
}
