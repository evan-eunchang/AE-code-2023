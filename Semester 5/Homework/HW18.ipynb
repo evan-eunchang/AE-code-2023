{
 "cells": [
  {
   "cell_type": "code",
   "execution_count": 2,
   "id": "6cdade87-8e2e-4a49-82a1-ba55e3c0ce2e",
   "metadata": {},
   "outputs": [],
   "source": [
    "import numpy as np\n",
    "from numpy import linalg as la\n",
    "from scipy import linalg"
   ]
  },
  {
   "cell_type": "code",
   "execution_count": 3,
   "id": "af02ab08-4f6b-4c1c-8de8-5e05be33e135",
   "metadata": {},
   "outputs": [],
   "source": [
    "A = np.array([[0.70, 0.20, 0.00], [-0.80, 0.40, -0.70], [0.90, -0.40, 0.10]])\n",
    "B = np.array([[-0.50], [0.20], [-0.10]])\n",
    "C = np.array([[0.80, -0.50, -1.00]])\n",
    "Qo = np.array([[1.90]])\n",
    "Ro = np.array([[3.90, -0.60, -0.50], [-0.60, 2.40, 0.40], [-0.50, 0.40, 2.80]])"
   ]
  },
  {
   "cell_type": "code",
   "execution_count": 4,
   "id": "379c78ec-52c3-4f6f-bf6f-ecbf2ab6e2fb",
   "metadata": {},
   "outputs": [
    {
     "name": "stdout",
     "output_type": "stream",
     "text": [
      "P = [[20.340592685883983, -60.63874934201721, 48.12948632735029], [-60.63874934201721, 311.1499480069485, -222.69779034604153], [48.12948632735029, -222.69779034604153, 162.3685090067782]]\n"
     ]
    }
   ],
   "source": [
    "P = linalg.solve_continuous_are(A.T, C.T, la.inv(Ro), la.inv(Qo))\n",
    "print(f'P = {P.tolist()}')"
   ]
  },
  {
   "cell_type": "code",
   "execution_count": 5,
   "id": "b7601733-2cc4-406b-a974-9af8afb0a638",
   "metadata": {},
   "outputs": [
    {
     "data": {
      "text/plain": [
       "array([[ -2.92151126],\n",
       "       [ 35.36245205],\n",
       "       [-23.78044707]])"
      ]
     },
     "execution_count": 5,
     "metadata": {},
     "output_type": "execute_result"
    }
   ],
   "source": [
    "P @ C.T @ Qo"
   ]
  },
  {
   "cell_type": "code",
   "execution_count": 3,
   "id": "a6ba98a4-f38d-4ed1-9432-215ada06de51",
   "metadata": {},
   "outputs": [],
   "source": [
    "A = np.array([[0.90000000, -0.60000000], [0.30000000, 0.70000000]])\n",
    "B = np.array([[0.90000000], [-0.90000000]])\n",
    "C = np.array([[0.00000000, -0.60000000]])\n",
    "D = np.array([[0.00000000]])\n",
    "K = np.array([[6.00000000, 0.40000000]])\n",
    "kRef = np.array([[-1.00000000]])"
   ]
  },
  {
   "cell_type": "code",
   "execution_count": 4,
   "id": "fd31cb40-f23a-41ff-8582-e53208fc784b",
   "metadata": {},
   "outputs": [
    {
     "data": {
      "text/plain": [
       "array([[-0.07692308]])"
      ]
     },
     "execution_count": 4,
     "metadata": {},
     "output_type": "execute_result"
    }
   ],
   "source": [
    "-C @ la.inv(A - B @ K) @ B @ kRef - 1"
   ]
  },
  {
   "cell_type": "code",
   "execution_count": null,
   "id": "05d800c6-5177-4af0-8a2e-2defc717f988",
   "metadata": {},
   "outputs": [],
   "source": []
  }
 ],
 "metadata": {
  "kernelspec": {
   "display_name": "Python 3 (ipykernel)",
   "language": "python",
   "name": "python3"
  },
  "language_info": {
   "codemirror_mode": {
    "name": "ipython",
    "version": 3
   },
   "file_extension": ".py",
   "mimetype": "text/x-python",
   "name": "python",
   "nbconvert_exporter": "python",
   "pygments_lexer": "ipython3",
   "version": "3.11.5"
  }
 },
 "nbformat": 4,
 "nbformat_minor": 5
}
