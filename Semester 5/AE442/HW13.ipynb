{
 "cells": [
  {
   "cell_type": "code",
   "execution_count": 53,
   "id": "6adb36b0-6cea-41c8-bd1a-2de4bba2192d",
   "metadata": {},
   "outputs": [],
   "source": [
    "import numpy as np\n",
    "import matplotlib.pyplot as plt"
   ]
  },
  {
   "cell_type": "markdown",
   "id": "74ba3a56-f641-49e2-b538-890083e966db",
   "metadata": {},
   "source": [
    "**Problem 1**"
   ]
  },
  {
   "cell_type": "code",
   "execution_count": 54,
   "id": "9f9245d6-5c48-4a5f-a679-d9761f58f3c8",
   "metadata": {},
   "outputs": [],
   "source": [
    "altitude = 400 #km\n",
    "h = altitude * 1000 #m\n",
    "r_earth = 6378 #km\n",
    "r = r_earth + altitude #km\n",
    "m = 12 #kg\n",
    "x = 0.2 #m\n",
    "y = 0.3 #m\n",
    "z = 0.1 #m\n",
    "I_x = m * (y**2 + z**2)/12\n",
    "I_y = m * (x**2 + z**2)/12\n",
    "I_z = m * (x**2 + y**2)/12\n",
    "CD = 2\n",
    "r_cp = 0.001 #m"
   ]
  },
  {
   "cell_type": "code",
   "execution_count": 55,
   "id": "2a23e066-1d25-4a8b-96f7-3ace90581c65",
   "metadata": {},
   "outputs": [],
   "source": [
    "Temperature = -131.21 + 0.00299 * h #C\n",
    "P = 2.488 * ((Temperature + 273.1)/216.6)**(-11.388) #kPa\n",
    "density = P / (0.2869 * (Temperature + 273.1)) #kg / m^3"
   ]
  },
  {
   "cell_type": "code",
   "execution_count": 56,
   "id": "45d81fb6-38ff-4def-9077-cd3fc12cdd11",
   "metadata": {},
   "outputs": [
    {
     "data": {
      "text/plain": [
       "5553.458974626875"
      ]
     },
     "execution_count": 56,
     "metadata": {},
     "output_type": "execute_result"
    }
   ],
   "source": [
    "#calculate orbital parameters\n",
    "mu = 398600 #km^3/s^2\n",
    "v = np.sqrt(mu/r) * 1000 #from vis viva, m/s\n",
    "period = 2 * np.pi * np.sqrt(r**3 / mu) #s\n",
    "period"
   ]
  },
  {
   "cell_type": "code",
   "execution_count": 57,
   "id": "0cd86fe6-fedb-467e-88f1-ec29bb2763be",
   "metadata": {},
   "outputs": [
    {
     "name": "stdout",
     "output_type": "stream",
     "text": [
      "max torque due to air drag: 2.2599001600747827e-08 Nm\n"
     ]
    }
   ],
   "source": [
    "#calculate max torque: drag is hitting the largest face of the satellite head-on\n",
    "A = x * y\n",
    "F = 0.5 * density * CD * A * v**2\n",
    "T = F * r_cp\n",
    "print(\"max torque due to air drag: \" + str(T) + \" Nm\")"
   ]
  },
  {
   "cell_type": "code",
   "execution_count": 68,
   "id": "f9681949-9876-4020-9890-a70de29e5b23",
   "metadata": {},
   "outputs": [],
   "source": [
    "#calculate change new angle, new force, new area, etc. every second\n",
    "dt = 1 #s\n",
    "steps = int(np.floor(period/dt))\n",
    "A = x * y\n",
    "F = 0.5 * density * CD * A * v**2\n",
    "T = F * r_cp\n",
    "theta = 0. #angle of satellite, 0 is vertical wrt to Earth\n",
    "omega = 0. #angular velocity\n",
    "alpha = 0. #angular acceleration\n",
    "total_rot = 0. #total rotation\n",
    "alphas = np.zeros(steps)\n",
    "omegas = np.zeros(steps)\n",
    "for i in range(steps):\n",
    "    d_theta = omega #update theta\n",
    "    theta += d_theta\n",
    "    alphas[i] = alpha\n",
    "    omegas[i] = omega\n",
    "    total_rot += abs(d_theta) #update total rotation\n",
    "    A = abs(x*y*np.cos(theta)) #calculate cross-sectional area in flow\n",
    "    F = 0.5 * density * CD * A * v**2 #calculate drag force\n",
    "    T = F * r_cp * np.cos(theta) #calculate torque\n",
    "    alpha = T / I_x #update angular acceleration\n",
    "    omega += alpha*dt #update angular velocity"
   ]
  },
  {
   "cell_type": "code",
   "execution_count": 69,
   "id": "a5a7dce9-8d29-4201-8061-f3b100e59124",
   "metadata": {},
   "outputs": [
    {
     "name": "stdout",
     "output_type": "stream",
     "text": [
      "total rotation from drag: 2.439163414782944 rad\n"
     ]
    }
   ],
   "source": [
    "print(\"total rotation from drag: \" + str(total_rot) + \" rad\")"
   ]
  },
  {
   "cell_type": "markdown",
   "id": "1cb912cc-c1c4-4351-8397-96ead824975f",
   "metadata": {},
   "source": [
    "**Problem 2**"
   ]
  },
  {
   "cell_type": "code",
   "execution_count": 60,
   "id": "7919ea31-ebaf-4e8d-bb5e-2f849292d4be",
   "metadata": {},
   "outputs": [],
   "source": [
    "#solar radiation parameters\n",
    "Fs = 1350 #W/m^2\n",
    "c = 3 * 10**8 #m/s\n",
    "q = 0.93 #worst case scenario reflectance\n",
    "r_cp = 0.001 #m, same as radius of center of pressure"
   ]
  },
  {
   "cell_type": "code",
   "execution_count": 61,
   "id": "a1039a7a-7aed-472a-b4ea-4a680ff3899f",
   "metadata": {},
   "outputs": [
    {
     "name": "stdout",
     "output_type": "stream",
     "text": [
      "maximum torque from solar radiation: 5.211000000000001e-10 Nm\n"
     ]
    }
   ],
   "source": [
    "#calculate maximum solar radiation torque: the sun hits the satellite head on\n",
    "A = x * y #m^2\n",
    "i = 0 #angle of incidence to the sun\n",
    "T = (Fs/c) * A * (1+q) * np.cos(i) * r_cp\n",
    "print(\"maximum torque from solar radiation: \" + str(T) + \" Nm\")"
   ]
  },
  {
   "cell_type": "code",
   "execution_count": 62,
   "id": "f80a9ca7-cf46-48be-b34f-fe84d6578914",
   "metadata": {},
   "outputs": [],
   "source": [
    "#calculate change new angle, new force, new area, etc. every second\n",
    "dt = 1 #s\n",
    "steps = int(np.floor(period/dt))\n",
    "A = x * y\n",
    "T = (Fs/c) * A * (1+q) * np.cos(i) * r_cp\n",
    "i = 0. #angle of incidence to the sun, 0 is vertical wrt to Earth\n",
    "omega = 0. #angular velocity\n",
    "alpha = 0. #angular acceleration\n",
    "total_rot = 0. #total rotation\n",
    "alphas = np.zeros(steps)\n",
    "omegas = np.zeros(steps)\n",
    "for j in range(steps):\n",
    "    d_i = omega #update theta\n",
    "    i += d_i\n",
    "    alphas[j] = alpha\n",
    "    omegas[j] = omega\n",
    "    total_rot += abs(d_i) #update total rotation\n",
    "    A = abs(x*y*np.cos(i)) #calculate cross-sectional area in flow\n",
    "    T = (Fs/c) * A * (1+q) * np.cos(i) * r_cp #calculate torque\n",
    "    alpha = T / I_x #update angular acceleration\n",
    "    omega += alpha*dt #update angular velocity"
   ]
  },
  {
   "cell_type": "code",
   "execution_count": 63,
   "id": "fbc353f1-b8f9-4414-aa2e-f30927d4a1d1",
   "metadata": {},
   "outputs": [
    {
     "name": "stdout",
     "output_type": "stream",
     "text": [
      "total rotation from solar radiation: 0.08029371146185132 rad\n"
     ]
    }
   ],
   "source": [
    "print(\"total rotation from solar radiation: \" + str(total_rot) + \" rad\")"
   ]
  },
  {
   "cell_type": "markdown",
   "id": "990729f8-0b2d-493c-b892-59229a629f78",
   "metadata": {},
   "source": [
    "**Problem 3**"
   ]
  },
  {
   "cell_type": "code",
   "execution_count": 64,
   "id": "8d2c9593-46d4-4257-a92f-d21bf53f8808",
   "metadata": {},
   "outputs": [
    {
     "name": "stdout",
     "output_type": "stream",
     "text": [
      "gravity gradient torque at 1 degree of deviation: -5.360842041272934e-09 Nm\n"
     ]
    }
   ],
   "source": [
    "theta = np.radians(1) #angle of deviation of z axis from lcoal vertical\n",
    "T_g = (3 * mu / (2 * r**3)) * (I_z - I_y) * np.cos(2*(theta + np.pi/4))\n",
    "print(\"gravity gradient torque at 1 degree of deviation: \" + str(T_g) + \" Nm\")"
   ]
  },
  {
   "cell_type": "code",
   "execution_count": 70,
   "id": "fa4b4285-8e3a-4001-b871-b2281fb6a956",
   "metadata": {},
   "outputs": [],
   "source": [
    "#calculate change new angle, new force, new area, etc. every second\n",
    "#start from 1 deg perturbation\n",
    "#the satellite does not automatically rotate to stay perfectly veritcal, so it essentially always has an angular velocity\n",
    "dt = 1 #s\n",
    "steps = int(np.floor(period/dt))\n",
    "alphas = np.zeros(steps)\n",
    "omegas = np.zeros(steps)\n",
    "thetas = np.zeros(steps)\n",
    "times = np.linspace(0, steps, steps)\n",
    "T_g = (3 * mu / (2 * r**3)) * np.abs(I_z - I_y) * np.cos(2*(theta  + np.pi/4))\n",
    "theta = np.radians(1) #angle of incidence to the sun, 0 is vertical wrt to Earth\n",
    "omega = 0. #angular velocity\n",
    "alpha = T_g / I_x #angular acceleration\n",
    "total_rot = 0. #total rotation\n",
    "for j in range(steps):\n",
    "    d_theta = omega #change in rotation from gravity torque\n",
    "    theta += d_theta\n",
    "    alphas[j] = alpha\n",
    "    omegas[j] = omega\n",
    "    thetas[j] = theta\n",
    "    total_rot += abs(d_theta) #update total rotation\n",
    "    T_g = (3 * mu / (2 * r**3)) * np.abs(I_z - I_y) * np.cos(2*(theta + np.pi/4)) #calculate torque\n",
    "    alpha = T_g / I_x #update angular acceleration\n",
    "    omega += alpha*dt #update angular velocity"
   ]
  },
  {
   "cell_type": "code",
   "execution_count": 72,
   "id": "75828f1d-c2f8-4ebd-83c6-0e56cc3e06a4",
   "metadata": {},
   "outputs": [
    {
     "data": {
      "image/png": "[encoded data removed]",
      "text/plain": [
       "<Figure size 640x480 with 1 Axes>"
      ]
     },
     "metadata": {},
     "output_type": "display_data"
    }
   ],
   "source": [
    "plt.plot(times, (thetas))\n",
    "plt.ylabel('angle wrt vertical, rad')\n",
    "plt.xlabel('time, s')\n",
    "plt.grid()\n",
    "plt.title('rotation vs time')\n",
    "plt.savefig('initial_1.5.png', facecolor='white', transparent=False)"
   ]
  },
  {
   "cell_type": "markdown",
   "id": "52c18304-45ba-4f13-88f4-961229e84624",
   "metadata": {},
   "source": [
    "**Problem 4**"
   ]
  },
  {
   "cell_type": "code",
   "execution_count": 67,
   "id": "8e5d7b99-e823-4432-8894-804effd3e2d6",
   "metadata": {},
   "outputs": [
    {
     "name": "stdout",
     "output_type": "stream",
     "text": [
      "maximum magnetic torque: 1.5337678306848668e-06 Nm\n"
     ]
    }
   ],
   "source": [
    "#this one is simple, calculate parameters and use them to calculate torque\n",
    "M_earth = 7.96e15 #Tesla\n",
    "B = 2 * M_earth / (r * 1000)**3 #magnetic field strength\n",
    "D = 0.03 #Am^2\n",
    "T_mag = D * B\n",
    "print(\"maximum magnetic torque: \" + str(T_mag) + \" Nm\")"
   ]
  },
  {
   "cell_type": "code",
   "execution_count": null,
   "id": "7c757db9-1e07-41c7-b21c-5131e75cf819",
   "metadata": {},
   "outputs": [],
   "source": []
  }
 ],
 "metadata": {
  "kernelspec": {
   "display_name": "Python 3 (ipykernel)",
   "language": "python",
   "name": "python3"
  },
  "language_info": {
   "codemirror_mode": {
    "name": "ipython",
    "version": 3
   },
   "file_extension": ".py",
   "mimetype": "text/x-python",
   "name": "python",
   "nbconvert_exporter": "python",
   "pygments_lexer": "ipython3",
   "version": "3.11.5"
  }
 },
 "nbformat": 4,
 "nbformat_minor": 5
}
