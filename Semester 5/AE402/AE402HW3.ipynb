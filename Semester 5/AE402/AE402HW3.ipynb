{
 "cells": [
  {
   "cell_type": "code",
   "execution_count": 1,
   "id": "8758e250-c6c7-43f9-87c4-092db3ecf2bf",
   "metadata": {},
   "outputs": [],
   "source": [
    "import numpy as np\n",
    "from numpy import linalg as la\n",
    "import sympy as sy\n",
    "import matplotlib.pyplot as plt\n",
    "from scipy import optimize as op\n",
    "np.set_printoptions(suppress=True)"
   ]
  },
  {
   "cell_type": "markdown",
   "id": "871669f4-0046-4cb4-be35-3af86daa6bcd",
   "metadata": {},
   "source": [
    "## Problem 1"
   ]
  },
  {
   "cell_type": "markdown",
   "id": "2d8b69a5-4ac6-4327-ae8e-2ba6f9f755af",
   "metadata": {},
   "source": [
    "### a)"
   ]
  },
  {
   "cell_type": "code",
   "execution_count": 2,
   "id": "f6b525d1-e2ba-454b-9c9e-e680f6a0a7f3",
   "metadata": {},
   "outputs": [],
   "source": [
    "#mass and mu values\n",
    "m_sun = 1.989e30\n",
    "m_Jupiter = 1.898e27\n",
    "mu_js = m_Jupiter / (m_sun + m_Jupiter)"
   ]
  },
  {
   "cell_type": "code",
   "execution_count": 19,
   "id": "b91a474a-5918-4771-847d-b057129be785",
   "metadata": {},
   "outputs": [],
   "source": [
    "#set up functions to use newton's method to solve for y=0 lagrange points\n",
    "def solve_L1(mu):\n",
    "    x_curr = 0.8\n",
    "    err = 1\n",
    "    tol = 1e-15\n",
    "    while (abs(err) > tol):\n",
    "        err = x_curr - (1 - mu) / (mu + x_curr)**2 + mu / (x_curr - 1 + mu)**2\n",
    "        dL1dx = 1 + 2 * (1 - mu) / (mu + x_curr)**3 - 2 * mu / (x_curr - 1 + mu)**3\n",
    "        x_next = x_curr - err / dL1dx\n",
    "        x_curr = x_next\n",
    "    return x_curr\n",
    "\n",
    "def solve_L2(mu):\n",
    "    x_curr = 1\n",
    "    err = 1\n",
    "    tol = 1e-15\n",
    "    while (abs(err) > tol):\n",
    "        err = x_curr - (1 - mu) / (mu + x_curr)**2 - mu / (x_curr - 1 + mu)**2\n",
    "        dL2dx = 1 + 2 * (1 - mu) / (mu + x_curr)**3 + 2 * mu / (x_curr - 1 + mu)**3\n",
    "        x_next = x_curr - err / dL2dx\n",
    "        x_curr = x_next\n",
    "    return x_curr\n",
    "\n",
    "def solve_L3(mu):\n",
    "    x_curr = 1\n",
    "    err = 1\n",
    "    tol = 1e-10\n",
    "    while (abs(err) > tol):\n",
    "        err = x_curr + (1 - mu) / (mu + x_curr)**2 + mu / (x_curr - 1 + mu)**2\n",
    "        dL3dx = 1 - 2 * (1 - mu) / (mu + x_curr)**3 - 2 * mu / (x_curr - 1 + mu)**3\n",
    "        x_next = x_curr - err / dL3dx\n",
    "        x_curr = x_next\n",
    "    return x_curr"
   ]
  },
  {
   "cell_type": "code",
   "execution_count": 4,
   "id": "ab24b896-e0a4-4680-b1a5-0db4cd15d85b",
   "metadata": {},
   "outputs": [
    {
     "data": {
      "text/plain": [
       "0.9900276710713891"
      ]
     },
     "execution_count": 4,
     "metadata": {},
     "output_type": "execute_result"
    }
   ],
   "source": [
    "#test case\n",
    "m_E = 5.972e24\n",
    "mu_ES = m_E / (m_sun + m_E)\n",
    "solve_L1(mu_ES)"
   ]
  },
  {
   "cell_type": "code",
   "execution_count": 5,
   "id": "2d6f166e-799e-4b41-af98-228bbc1836bf",
   "metadata": {},
   "outputs": [
    {
     "data": {
      "text/plain": [
       "0.9323783368654114"
      ]
     },
     "execution_count": 5,
     "metadata": {},
     "output_type": "execute_result"
    }
   ],
   "source": [
    "#P1.1\n",
    "solve_L1(mu_js)"
   ]
  },
  {
   "cell_type": "code",
   "execution_count": 6,
   "id": "840e8dd7-2835-45b5-8721-bf4efd5c5a0d",
   "metadata": {},
   "outputs": [
    {
     "data": {
      "text/plain": [
       "1.0688176812557593"
      ]
     },
     "execution_count": 6,
     "metadata": {},
     "output_type": "execute_result"
    }
   ],
   "source": [
    "#P1.2\n",
    "solve_L2(mu_js)"
   ]
  },
  {
   "cell_type": "code",
   "execution_count": 7,
   "id": "d335d762-c20a-4fb3-a87b-ce12bda6ed63",
   "metadata": {},
   "outputs": [
    {
     "data": {
      "text/plain": [
       "-1.0003972243879533"
      ]
     },
     "execution_count": 7,
     "metadata": {},
     "output_type": "execute_result"
    }
   ],
   "source": [
    "#P1.3\n",
    "solve_L3(mu_js)"
   ]
  },
  {
   "cell_type": "code",
   "execution_count": 8,
   "id": "0f374f2d-b011-4e68-ac70-05d4ee576019",
   "metadata": {},
   "outputs": [
    {
     "data": {
      "text/plain": [
       "0.49904666135583037"
      ]
     },
     "execution_count": 8,
     "metadata": {},
     "output_type": "execute_result"
    }
   ],
   "source": [
    "#P1.4, P1.5\n",
    "#x-coord of L4 L5\n",
    "0.5 - mu_js"
   ]
  },
  {
   "cell_type": "code",
   "execution_count": 9,
   "id": "3101c366-6f06-4128-9b82-a6ac2e32e08c",
   "metadata": {},
   "outputs": [
    {
     "data": {
      "text/plain": [
       "0.8660254037844386"
      ]
     },
     "execution_count": 9,
     "metadata": {},
     "output_type": "execute_result"
    }
   ],
   "source": [
    "#P1.4, P1.5\n",
    "np.sqrt(3)/2"
   ]
  },
  {
   "cell_type": "code",
   "execution_count": 10,
   "id": "3ff120cb-9fe4-4cae-9811-4f6a22b85b8e",
   "metadata": {},
   "outputs": [
    {
     "data": {
      "image/png": "[encoded data removed]",
      "text/plain": [
       "<Figure size 640x480 with 1 Axes>"
      ]
     },
     "metadata": {},
     "output_type": "display_data"
    }
   ],
   "source": [
    "#P1.6, create plot w/ labels\n",
    "fig, ax = plt.subplots()\n",
    "plt.title(\"Lagrange Points of Sun-Jupiter System\")\n",
    "plt.xlim(-1.3, 1.3)\n",
    "plt.xlabel('x (Canonical Distance Units)')\n",
    "plt.ylabel('y (Canonical Distance Units)')\n",
    "plt.ylim(-1.2, 1.2)\n",
    "ax.set_aspect('equal', adjustable='box')\n",
    "plt.plot(0,0, 'yo')\n",
    "ax.annotate('Sun', (0,0))\n",
    "plt.plot(1,0, 'ro')\n",
    "ax.annotate('Jupiter', (0.87,0.05))\n",
    "plt.plot(0.932378336865411,0, 'k.')\n",
    "ax.annotate('L1', (0.80,-0.05))\n",
    "plt.plot(1.06881768125576,0, 'k.')\n",
    "ax.annotate('L2', (1.1,-0.05))\n",
    "plt.plot(-1.00039722438795,0, 'k.')\n",
    "ax.annotate('L3', (-1.05,-0.1))\n",
    "plt.plot(0.49904666135583037,0.8660254037844386, 'k.')\n",
    "ax.annotate('L4', (0.45,0.9))\n",
    "plt.plot(0.49904666135583037,-0.8660254037844386, 'k.')\n",
    "ax.annotate('L5', (0.45,-0.98))\n",
    "plt.show()\n"
   ]
  },
  {
   "cell_type": "code",
   "execution_count": 11,
   "id": "b1f8d1be-6c71-42d5-99db-9b8db357193e",
   "metadata": {},
   "outputs": [],
   "source": [
    "fig.savefig('jupiter_sun_lagrange_points.png', facecolor='white', transparent=False)"
   ]
  },
  {
   "cell_type": "markdown",
   "id": "12e9fdbc-d1dc-44d9-8e68-4e255a5a12d1",
   "metadata": {},
   "source": [
    "### b)"
   ]
  },
  {
   "cell_type": "code",
   "execution_count": 20,
   "id": "114194f7-60a3-4b50-99e8-7f9b9a7a24e9",
   "metadata": {},
   "outputs": [],
   "source": [
    "#more constants for Europa problem: mass, distance, mu\n",
    "m_Europa = 4.799e22 #kg\n",
    "mu_ej = m_Europa / ( m_Jupiter + m_Europa ) #mu for Europa and Jupiter System\n",
    "d_ej = 670e3 #km"
   ]
  },
  {
   "cell_type": "code",
   "execution_count": 21,
   "id": "642de213-9e09-42af-a2cc-422585bb0525",
   "metadata": {},
   "outputs": [
    {
     "data": {
      "text/plain": [
       "0.9797631229509058"
      ]
     },
     "execution_count": 21,
     "metadata": {},
     "output_type": "execute_result"
    }
   ],
   "source": [
    "#P1.7\n",
    "solve_L1(mu_ej)"
   ]
  },
  {
   "cell_type": "code",
   "execution_count": 22,
   "id": "42eb8302-de6b-4986-bca6-ccdf9fc5c80d",
   "metadata": {},
   "outputs": [
    {
     "data": {
      "text/plain": [
       "1.0204623871289948"
      ]
     },
     "execution_count": 22,
     "metadata": {},
     "output_type": "execute_result"
    }
   ],
   "source": [
    "#P1.8\n",
    "solve_L2(mu_ej)"
   ]
  },
  {
   "cell_type": "code",
   "execution_count": 24,
   "id": "c17e0576-5288-4b00-a8d9-ebd3e81ccb2e",
   "metadata": {},
   "outputs": [
    {
     "name": "stdout",
     "output_type": "stream",
     "text": [
      "13541.767429510475 13709.79937642327\n"
     ]
    }
   ],
   "source": [
    "#Europa is at 1 CDU from Jupiter, we need to calculate magnitude of distance from Europa in CDU, then convert to km\n",
    "d_L1 = (1 - mu_ej - 0.979763122950906) * d_ej\n",
    "d_L2 = (1.02046238712899 - 1) * d_ej\n",
    "print(d_L1, d_L2)"
   ]
  },
  {
   "cell_type": "markdown",
   "id": "9a3650c4-7ccc-452e-81a9-377c97177a1f",
   "metadata": {},
   "source": [
    "### c)"
   ]
  },
  {
   "cell_type": "code",
   "execution_count": 16,
   "id": "85acdaa8-2e9f-42a2-869b-311af9fc49f4",
   "metadata": {},
   "outputs": [],
   "source": [
    "#constants for Apophis problem\n",
    "m_Apophis = 2.699e10 #kg\n",
    "mu_as = m_Apophis / ( m_sun + m_Apophis ) #mu for Europa and Jupiter System\n",
    "d_as = 149e6 #km"
   ]
  },
  {
   "cell_type": "code",
   "execution_count": 17,
   "id": "eb61e747-e4b6-447e-809a-3d953e2eeb4a",
   "metadata": {},
   "outputs": [
    {
     "data": {
      "text/plain": [
       "0.9999998346202777"
      ]
     },
     "execution_count": 17,
     "metadata": {},
     "output_type": "execute_result"
    }
   ],
   "source": [
    "#P1.9\n",
    "solve_L1(mu_as)"
   ]
  },
  {
   "cell_type": "code",
   "execution_count": 18,
   "id": "0f674b8f-8321-447f-8da4-77db5e24b567",
   "metadata": {},
   "outputs": [
    {
     "name": "stdout",
     "output_type": "stream",
     "text": [
      "24.64157861525873\n"
     ]
    }
   ],
   "source": [
    "#Apophis is at 1 CDU from the Sun, we need to calculate magnitude of distance from Apophis in CDU, then convert to km\n",
    "d_L1 = (1 - 0.9999998346202777) * d_as\n",
    "print(d_L1)"
   ]
  },
  {
   "cell_type": "markdown",
   "id": "f88744ac-3eca-409d-8d65-03a177c5c7ee",
   "metadata": {},
   "source": [
    "## Problem 2"
   ]
  },
  {
   "cell_type": "code",
   "execution_count": 47,
   "id": "adbc9afc-6e99-4758-afd7-9ae7bda9c4b1",
   "metadata": {},
   "outputs": [],
   "source": [
    "#use canonical units to make calculations easier. define each CU here, along with mu\n",
    "AU = 1.496e+8 #km\n",
    "TU = (365.256 * 24 * 60 * 60) / (2 * np.pi) #s, time taken to sweep out one radian\n",
    "t_f = (410 * 24 * 60 * 60) / TU #TU, time of flight covnerted from days to seconds to TU\n",
    "mu = 1"
   ]
  },
  {
   "cell_type": "code",
   "execution_count": 48,
   "id": "2c0d0601-e1ed-4f3b-b42f-dc6c6cd06599",
   "metadata": {},
   "outputs": [],
   "source": [
    "#radius and velocity vectors from JPL Horizons, converted to CU\n",
    "r_E = np.array([ -1.152298994309664E+08, -9.900155838813813E+07, 3.696167672807723E+04 ]) / AU #radius in km converted to AU\n",
    "r_Apophis = np.array([ -7.850925799584286E+07, 1.374546686621155E+08, -9.195926177911177E+06 ]) / AU\n",
    "v_E = np.array([1.897300201461335E+01, -2.268665080580648E+01, 5.966729305662000E-04]) * TU / AU\n",
    "v_Apopohis = np.array([-2.455504320996803E+01, -1.023862607480736E+01, -3.504079061601750E-02]) * TU / AU"
   ]
  },
  {
   "cell_type": "code",
   "execution_count": 49,
   "id": "99044245-1d6c-425d-9d69-7c4e87042c61",
   "metadata": {},
   "outputs": [],
   "source": [
    "#calculate chord vector, vector from Earth at start to Apophis at end, and the magnitude\n",
    "#P2.3\n",
    "c = r_Apophis - r_E\n",
    "c_mag = la.norm(c)"
   ]
  },
  {
   "cell_type": "code",
   "execution_count": 50,
   "id": "80e101a7-c320-416c-afc8-a11afc2c706c",
   "metadata": {},
   "outputs": [
    {
     "name": "stdout",
     "output_type": "stream",
     "text": [
      "1.0154981928761537 1.059909510213292 1.60072577742366\n"
     ]
    }
   ],
   "source": [
    "#P2.1, P2.2, P2.3\n",
    "print(la.norm(r_E), la.norm(r_Apophis), la.norm(c))"
   ]
  },
  {
   "cell_type": "code",
   "execution_count": 51,
   "id": "74d3d4ac-07d0-49db-953e-ff34c86f3d2e",
   "metadata": {},
   "outputs": [],
   "source": [
    "#P2.4, calcualte semiperimeter\n",
    "s = (la.norm(r_E) + la.norm(r_Apophis) + la.norm(c)) / 2 #semiperimeter"
   ]
  },
  {
   "cell_type": "code",
   "execution_count": 52,
   "id": "93624b19-6095-4357-9c03-8e9c132639ad",
   "metadata": {},
   "outputs": [
    {
     "name": "stdout",
     "output_type": "stream",
     "text": [
      "1.838066740256553\n"
     ]
    }
   ],
   "source": [
    "print(s)"
   ]
  },
  {
   "cell_type": "code",
   "execution_count": 53,
   "id": "afe7d99e-2675-4be9-b0b7-67c95da1ed68",
   "metadata": {},
   "outputs": [],
   "source": [
    "#P2.5, calcuate minimum semimajor axis for an elliptic transfer\n",
    "a_min = s / 2"
   ]
  },
  {
   "cell_type": "code",
   "execution_count": 54,
   "id": "c355f8c1-4241-4c7e-ad45-8a92e8e720e0",
   "metadata": {},
   "outputs": [
    {
     "name": "stdout",
     "output_type": "stream",
     "text": [
      "0.9190333701282765\n"
     ]
    }
   ],
   "source": [
    "print(a_min)"
   ]
  },
  {
   "cell_type": "code",
   "execution_count": 55,
   "id": "d752f772-5ead-4d34-92f0-9d3fc5f40638",
   "metadata": {},
   "outputs": [],
   "source": [
    "#P2.6, calculate theta. we need to use 2 * np.pi - (calulated theta) to get a prograde transfer\n",
    "theta = 2 * np.pi - np.arccos(np.dot(r_E, r_Apophis) / (la.norm(r_E) * la.norm(r_Apophis)))"
   ]
  },
  {
   "cell_type": "code",
   "execution_count": 56,
   "id": "2b90b9ae-d974-4ed9-9966-899ff97f8302",
   "metadata": {},
   "outputs": [
    {
     "name": "stdout",
     "output_type": "stream",
     "text": [
      "4.521855853377742\n"
     ]
    }
   ],
   "source": [
    "print(theta)"
   ]
  },
  {
   "cell_type": "code",
   "execution_count": 57,
   "id": "a6cec6af-2a6d-49e3-83e7-830746f1793d",
   "metadata": {},
   "outputs": [],
   "source": [
    "#P2.7, calculate beta at this minimum semimajor axis, then the time required to complete this orbit\n",
    "beta_m = 2 * np.arcsin(np.sqrt(1 - la.norm(c)/s))\n",
    "t_m = np.sqrt( (a_min**3) / mu ) * ( np.pi - beta_m + np.sin(beta_m))"
   ]
  },
  {
   "cell_type": "code",
   "execution_count": 58,
   "id": "95909e6a-0223-4996-b44e-5bbc0f06f311",
   "metadata": {},
   "outputs": [
    {
     "name": "stdout",
     "output_type": "stream",
     "text": [
      "2.7110989712371283 True 7.05287791560886\n"
     ]
    }
   ],
   "source": [
    "print(t_m, (t_m < t_f), t_f)"
   ]
  },
  {
   "cell_type": "code",
   "execution_count": 59,
   "id": "c6d42e0c-229b-4dce-a3ce-b7abd2f5d329",
   "metadata": {},
   "outputs": [],
   "source": [
    "#function that returns the equation that needs to be solved numerically\n",
    "#theta > pi and tf > tm, so alpha = 2pi - alpha_0 and beta = -beta_0\n",
    "def lambert(a):\n",
    "    alpha = 2 * np.pi - 2 * np.arcsin( np.sqrt( s / (2 * a) ) )\n",
    "    beta = -2 * np.arcsin( np.sqrt( ( s - c_mag ) / ( 2 * a ) ) )\n",
    "    return -t_f + np.sqrt(a**3 / mu) * (alpha - np.sin(alpha) - (beta - np.sin(beta)))"
   ]
  },
  {
   "cell_type": "code",
   "execution_count": 60,
   "id": "1b0021d6-aa44-4e62-94a8-4ea58f9cd5fe",
   "metadata": {},
   "outputs": [
    {
     "name": "stdout",
     "output_type": "stream",
     "text": [
      "1.237801376793634\n"
     ]
    }
   ],
   "source": [
    "#P2.8, solve for the a that fits our time using fsolve\n",
    "a = op.fsolve(lambert, 1.1)[0]\n",
    "print(a)"
   ]
  },
  {
   "cell_type": "code",
   "execution_count": 61,
   "id": "c1823205-ffaf-4f67-b38b-13e5a6b0b556",
   "metadata": {},
   "outputs": [],
   "source": [
    "#P2.9, P2.10, P2.11 calculate unit vectors in the direction of Earth at start, Apophis at end, chord at beginning\n",
    "u_1 = r_E / la.norm(r_E)\n",
    "u_2 = r_Apophis / la.norm(r_Apophis)\n",
    "u_c = c / c_mag"
   ]
  },
  {
   "cell_type": "code",
   "execution_count": 62,
   "id": "b7c441d2-7613-4f80-b271-22ba1d78d7df",
   "metadata": {},
   "outputs": [
    {
     "name": "stdout",
     "output_type": "stream",
     "text": [
      "[-0.75849799 -0.65167533  0.0002433 ] [-0.49513142  0.86688026 -0.05799561] [ 0.15334221  0.98742069 -0.03855574]\n"
     ]
    }
   ],
   "source": [
    "print(u_1, u_2, u_c)"
   ]
  },
  {
   "cell_type": "code",
   "execution_count": 63,
   "id": "884694bf-67d7-4c6f-a214-f58464b2f33c",
   "metadata": {},
   "outputs": [
    {
     "name": "stdout",
     "output_type": "stream",
     "text": [
      "4.206088911713054 -0.6296120271238741\n"
     ]
    }
   ],
   "source": [
    "#P2.12, P2.13 calculate the alpha and beta at our solution semimajor axis\n",
    "alpha = 2 * np.pi - 2 * np.arcsin( np.sqrt( s / (2 * a) ) )\n",
    "beta = -2 * np.arcsin( np.sqrt( ( s - c_mag ) / ( 2 * a ) ) )\n",
    "print(alpha, beta)"
   ]
  },
  {
   "cell_type": "code",
   "execution_count": 64,
   "id": "31fb19d7-5022-4604-943d-32f748fe588d",
   "metadata": {},
   "outputs": [
    {
     "data": {
      "text/plain": [
       "7.052877915608858"
      ]
     },
     "execution_count": 64,
     "metadata": {},
     "output_type": "execute_result"
    }
   ],
   "source": [
    "np.sqrt(a**3 / mu) * (alpha - beta - np.sin(alpha) + np.sin(beta))"
   ]
  },
  {
   "cell_type": "code",
   "execution_count": 65,
   "id": "e0aa752e-9b36-4d33-9213-38b1e3f40e53",
   "metadata": {},
   "outputs": [
    {
     "name": "stdout",
     "output_type": "stream",
     "text": [
      "-0.2646770262410441 -1.3801097186939844\n"
     ]
    }
   ],
   "source": [
    "#P2.14, P2.15 calculate A and B parameters for velocity vectors\n",
    "A = np.sqrt( mu / (4 * a) ) / np.tan(alpha / 2)\n",
    "B = np.sqrt( mu / (4 * a) ) / np.tan(beta / 2)\n",
    "print(A, B)"
   ]
  },
  {
   "cell_type": "code",
   "execution_count": 66,
   "id": "b771b9fb-8f62-4be4-85c1-6da5f8346d50",
   "metadata": {},
   "outputs": [
    {
     "name": "stdout",
     "output_type": "stream",
     "text": [
      "[ 0.59383822 -0.89719649  0.06314458]\n"
     ]
    }
   ],
   "source": [
    "#P2.16 calculate velocity vector right after first burn in transfer\n",
    "v1 = (B + A) * u_c + (B - A) * u_1\n",
    "print(v1)"
   ]
  },
  {
   "cell_type": "code",
   "execution_count": 69,
   "id": "edb64c4a-3499-4e21-8c51-7ead77be3a5b",
   "metadata": {},
   "outputs": [
    {
     "name": "stdout",
     "output_type": "stream",
     "text": [
      "4.634741544117753 [ 0.63699451 -0.76167557  0.00002003]\n"
     ]
    }
   ],
   "source": [
    "#P2.17, P2.18 find the difference between Earth's velocity and the velocity needed to start the transfer\n",
    "delta_v = la.norm(v1 - v_E) * AU / TU\n",
    "print(delta_v, v_E)"
   ]
  },
  {
   "cell_type": "code",
   "execution_count": 115,
   "id": "5c5825f3-402e-4717-a41f-07a4467a13c2",
   "metadata": {},
   "outputs": [
    {
     "data": {
      "text/plain": [
       "array([-0.04156584,  0.04878405,  1.08405595])"
      ]
     },
     "execution_count": 115,
     "metadata": {},
     "output_type": "execute_result"
    }
   ],
   "source": [
    "#check again that we are in prograde\n",
    "np.cross(r_E, v1)"
   ]
  },
  {
   "cell_type": "markdown",
   "id": "297e4fa0-40cf-444f-85a1-3e8b7fec1343",
   "metadata": {},
   "source": [
    "## Problem 3"
   ]
  },
  {
   "cell_type": "code",
   "execution_count": 116,
   "id": "7470e965-9c26-4702-a247-33aea6962baa",
   "metadata": {},
   "outputs": [],
   "source": [
    "#radii and mu for the Hohmann transfer\n",
    "r_1 = AU\n",
    "r_2 = 695700.0 #km\n",
    "mu_sun = 1.327e11 #km^3 / s^2"
   ]
  },
  {
   "cell_type": "code",
   "execution_count": 117,
   "id": "c403ae11-721e-4a8b-8cd8-65fca9520a07",
   "metadata": {},
   "outputs": [
    {
     "name": "stdout",
     "output_type": "stream",
     "text": [
      "75147850.0\n"
     ]
    }
   ],
   "source": [
    "#P3.1 calculate semimajor axis of the Hohmann transfer orbit\n",
    "a_H = (r_1 + r_2) / 2\n",
    "print(a_H)"
   ]
  },
  {
   "cell_type": "code",
   "execution_count": 118,
   "id": "5c3ade3f-6282-4eba-aa60-fb147bbe2ae7",
   "metadata": {},
   "outputs": [
    {
     "name": "stdout",
     "output_type": "stream",
     "text": [
      "29.783083882658914\n"
     ]
    }
   ],
   "source": [
    "#P3.2 calculate velocity of the Earth on its circular orbit around the sun\n",
    "v_E = np.sqrt(mu_sun / r_1)\n",
    "print(v_E)"
   ]
  },
  {
   "cell_type": "code",
   "execution_count": 119,
   "id": "b358c86a-66b4-4e24-ad5e-f25c7bf8d06c",
   "metadata": {},
   "outputs": [
    {
     "name": "stdout",
     "output_type": "stream",
     "text": [
      "2.865644987030405\n"
     ]
    }
   ],
   "source": [
    "#P3.3 calculate the velocity at the start of the transfer orbit (apoapse)\n",
    "v_1 = np.sqrt( mu_sun * ( ( 2 / r_1 ) - ( 1 / a_H ) ) )\n",
    "print(v_1)"
   ]
  },
  {
   "cell_type": "code",
   "execution_count": 245,
   "id": "559f8a08-8fff-4ab4-9fdf-935414ab33be",
   "metadata": {},
   "outputs": [
    {
     "name": "stdout",
     "output_type": "stream",
     "text": [
      "616.2145897078489\n"
     ]
    }
   ],
   "source": [
    "#P3.4 calculate the velocity at the end of the transfer orbit (periapse)\n",
    "v_2 = np.sqrt( mu_sun * ( ( 2 / r_2 ) - ( 1 / a_H ) ) )\n",
    "print(v_2)"
   ]
  },
  {
   "cell_type": "code",
   "execution_count": 246,
   "id": "4487c50b-756c-4f92-95bf-a03028337f28",
   "metadata": {},
   "outputs": [
    {
     "name": "stdout",
     "output_type": "stream",
     "text": [
      "26.91743889562851\n"
     ]
    }
   ],
   "source": [
    "#P3.5 calculate delta v to leave earth using most basic Hohmann transfer method\n",
    "print(v_E - v_1)"
   ]
  },
  {
   "cell_type": "code",
   "execution_count": 249,
   "id": "8688a07e-f43c-4171-b308-c3fb28e1d4f7",
   "metadata": {},
   "outputs": [
    {
     "name": "stdout",
     "output_type": "stream",
     "text": [
      "66.88210986751709\n"
     ]
    }
   ],
   "source": [
    "#P3.6 calculate the time the Hohmann transfer will take, then convert to days\n",
    "t_H = (np.pi * np.sqrt(a_H**3 / mu_sun)) / 84000\n",
    "print(t_H)"
   ]
  },
  {
   "cell_type": "code",
   "execution_count": 251,
   "id": "8fb1635b-3ae8-4cff-b289-8c69c42556c0",
   "metadata": {},
   "outputs": [
    {
     "name": "stdout",
     "output_type": "stream",
     "text": [
      "7.725835197559566\n"
     ]
    }
   ],
   "source": [
    "#P3.8 use Earth radius and mu to calculate the velocity of a probe in a 300 km altitude circular parking orbit \n",
    "r_circE = 6378 + 300 #radius of earth plus altitude\n",
    "mu_E = 398600 #km^3 / m^2\n",
    "v_circE = np.sqrt( mu_E / r_circE)\n",
    "print(v_circE)"
   ]
  },
  {
   "cell_type": "code",
   "execution_count": 252,
   "id": "9e70a9f0-c478-40af-9ee9-fd5f90f8ea26",
   "metadata": {},
   "outputs": [
    {
     "name": "stdout",
     "output_type": "stream",
     "text": [
      "29.050397169395037\n"
     ]
    }
   ],
   "source": [
    "#P3.7 calculate v_inf: the hyperbolic excess velocity relative to earth, this is the same as deltav from a basic Hohmann transfer\n",
    "#P3.9 then use this to calculate the periapse velocity of the probe at the periapse, which would be on the transfer orbit\n",
    "v_inf = v_E - v_1\n",
    "v_hp = np.sqrt( (2 * mu_E / r_circE) + v_inf**2 )\n",
    "print(v_hp)"
   ]
  },
  {
   "cell_type": "code",
   "execution_count": 253,
   "id": "fa457287-2007-4a51-a732-fc47c960759b",
   "metadata": {},
   "outputs": [
    {
     "name": "stdout",
     "output_type": "stream",
     "text": [
      "21.32456197183547\n"
     ]
    }
   ],
   "source": [
    "#P3.10 calculate the delta v for going from a circular orbit to a hyperbolic orbit that would result in a Hohmann transfer to the sun\n",
    "delta_v = v_hp - v_circE\n",
    "print(delta_v)"
   ]
  },
  {
   "cell_type": "code",
   "execution_count": null,
   "id": "b20f9bc6-848e-4c4d-90c0-01da4f754e44",
   "metadata": {},
   "outputs": [],
   "source": []
  }
 ],
 "metadata": {
  "kernelspec": {
   "display_name": "Python 3 (ipykernel)",
   "language": "python",
   "name": "python3"
  },
  "language_info": {
   "codemirror_mode": {
    "name": "ipython",
    "version": 3
   },
   "file_extension": ".py",
   "mimetype": "text/x-python",
   "name": "python",
   "nbconvert_exporter": "python",
   "pygments_lexer": "ipython3",
   "version": "3.11.5"
  }
 },
 "nbformat": 4,
 "nbformat_minor": 5
}
