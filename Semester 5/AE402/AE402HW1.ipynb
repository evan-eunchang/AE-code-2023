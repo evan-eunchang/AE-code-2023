{
 "cells": [
  {
   "cell_type": "code",
   "execution_count": 3,
   "id": "3a4380dc-4128-49d7-b205-a31d80847d4c",
   "metadata": {},
   "outputs": [],
   "source": [
    "import numpy as np\n",
    "from numpy import linalg as la\n",
    "import matplotlib.pyplot as plt"
   ]
  },
  {
   "cell_type": "code",
   "execution_count": 4,
   "id": "cd1a9174-6e51-47aa-9bf6-bbde65d6bc08",
   "metadata": {},
   "outputs": [],
   "source": [
    "#inputs\n",
    "r = np.array([0,2,0])\n",
    "v = np.array([-1, 1, 0]) / np.sqrt(2)"
   ]
  },
  {
   "cell_type": "code",
   "execution_count": 5,
   "id": "646b7ec6-284d-4242-8b7c-0e65f225b2c8",
   "metadata": {},
   "outputs": [
    {
     "data": {
      "text/plain": [
       "array([ 0.        , -0.        ,  1.41421356])"
      ]
     },
     "execution_count": 5,
     "metadata": {},
     "output_type": "execute_result"
    }
   ],
   "source": [
    "#calculate ang momentum\n",
    "h = np.cross(r,v)\n",
    "h"
   ]
  },
  {
   "cell_type": "code",
   "execution_count": 6,
   "id": "b711b6eb-1cb0-4d24-9573-6acf70ca560f",
   "metadata": {},
   "outputs": [
    {
     "data": {
      "text/plain": [
       "array([ 1.00000000e+00, -2.22044605e-16,  0.00000000e+00])"
      ]
     },
     "execution_count": 6,
     "metadata": {},
     "output_type": "execute_result"
    }
   ],
   "source": [
    "#calculate eccentricity\n",
    "e = ( np.cross(v,h) / 1 ) - r / la.norm(r)\n",
    "e"
   ]
  },
  {
   "cell_type": "code",
   "execution_count": 7,
   "id": "bf1e729c-db11-480f-8e5b-ae5ff15d1b42",
   "metadata": {},
   "outputs": [
    {
     "data": {
      "text/plain": [
       "0.0"
      ]
     },
     "execution_count": 7,
     "metadata": {},
     "output_type": "execute_result"
    }
   ],
   "source": [
    "#calculate dot product of h and e, should be 0\n",
    "np.dot(h,e)"
   ]
  },
  {
   "cell_type": "code",
   "execution_count": 8,
   "id": "cc025b5b-794e-4306-87a7-244a80b31da2",
   "metadata": {},
   "outputs": [
    {
     "data": {
      "text/plain": [
       "1.9999999999999996"
      ]
     },
     "execution_count": 8,
     "metadata": {},
     "output_type": "execute_result"
    }
   ],
   "source": [
    "h.dot(h)"
   ]
  },
  {
   "cell_type": "code",
   "execution_count": 9,
   "id": "a7add0e1-b231-4b55-befc-0cf3d05c0011",
   "metadata": {},
   "outputs": [
    {
     "data": {
      "text/plain": [
       "0.9999999999999998"
      ]
     },
     "execution_count": 9,
     "metadata": {},
     "output_type": "execute_result"
    }
   ],
   "source": [
    "#magnitude of eccentricity\n",
    "la.norm(e)"
   ]
  },
  {
   "cell_type": "code",
   "execution_count": 10,
   "id": "7b791673-64ca-4082-95c5-3a042574be46",
   "metadata": {},
   "outputs": [
    {
     "data": {
      "text/plain": [
       "4503599627370496.0"
      ]
     },
     "execution_count": 10,
     "metadata": {},
     "output_type": "execute_result"
    }
   ],
   "source": [
    "#calculate magnitudes of vectors for scalar equations\n",
    "r_mag = la.norm(r)\n",
    "v_mag = la.norm(v)\n",
    "e_mag = la.norm(e)\n",
    "#a = mu / ( (h**2 / r) - v^2/mu), this is a parabola so it is essentially infinity\n",
    "a = 1.0 / ( ( 2/r_mag ) - ( v_mag**2 ) )\n",
    "a"
   ]
  },
  {
   "cell_type": "code",
   "execution_count": 11,
   "id": "1eb6b750-667c-4d2b-803b-29faa217834c",
   "metadata": {},
   "outputs": [
    {
     "data": {
      "text/plain": [
       "90.00000000000001"
      ]
     },
     "execution_count": 11,
     "metadata": {},
     "output_type": "execute_result"
    }
   ],
   "source": [
    "##calculate E0 using tan eqn and then use f-E relations to find f0\n",
    "E_0 = np.arctan2(  np.dot(r,v) , np.sqrt(a) * (1 - (r_mag / a) ) )\n",
    "f_0 = 2 * np.arctan( np.sqrt( (1 + e_mag) / (1 - e_mag) ) * np.tan(E_0 / 2) )\n",
    "np.degrees(f_0)"
   ]
  },
  {
   "cell_type": "code",
   "execution_count": 12,
   "id": "964bc96a-b497-44e2-a997-7804c3af7bde",
   "metadata": {},
   "outputs": [
    {
     "data": {
      "text/plain": [
       "159.63586519368224"
      ]
     },
     "execution_count": 12,
     "metadata": {},
     "output_type": "execute_result"
    }
   ],
   "source": [
    "##solve for f using r(f) eqn. two possible angles\n",
    "f_32 = np.arccos( h.dot(h) / (e_mag * 32) - 1 /e_mag )\n",
    "np.degrees(f_32)"
   ]
  },
  {
   "cell_type": "code",
   "execution_count": 13,
   "id": "d05c2476-df37-4abe-928c-beb9b7ac9b66",
   "metadata": {},
   "outputs": [],
   "source": [
    "#velocity from vis viva\n",
    "v_32 = np.sqrt( 2/32 - 1/a)"
   ]
  },
  {
   "cell_type": "code",
   "execution_count": 14,
   "id": "27751d49-e643-4bf7-8d9e-68369eb7a151",
   "metadata": {},
   "outputs": [
    {
     "data": {
      "text/plain": [
       "0.24999999999999956"
      ]
     },
     "execution_count": 14,
     "metadata": {},
     "output_type": "execute_result"
    }
   ],
   "source": [
    "v_32"
   ]
  },
  {
   "cell_type": "code",
   "execution_count": 15,
   "id": "94760bf6-e0f2-4627-baee-1878f5245171",
   "metadata": {},
   "outputs": [],
   "source": [
    "#problem 2 inputs\n",
    "rfdot = 7.0 #km/s\n",
    "rdot = 3.5 #km/s\n",
    "r = 6378 + 600 #km\n",
    "## v**2 = rfdot**2 + rdot**2, cylindrical coord relation\n",
    "v_sqr = rfdot**2 + rdot**2 \n",
    "mu = 398600.4418 # km^3 / s^2"
   ]
  },
  {
   "cell_type": "code",
   "execution_count": 16,
   "id": "e425f5de-1cc9-4f23-91ed-fcff995d62ce",
   "metadata": {},
   "outputs": [
    {
     "data": {
      "text/plain": [
       "7521.487400250498"
      ]
     },
     "execution_count": 16,
     "metadata": {},
     "output_type": "execute_result"
    }
   ],
   "source": [
    "#calculate a = 1 / ( (2 / r) - v^2/mu\n",
    "a = 1 / ( (2/r) - (v_sqr / mu) )\n",
    "a"
   ]
  },
  {
   "cell_type": "code",
   "execution_count": 17,
   "id": "78c064c6-3a50-40a2-badf-f86c81013c7f",
   "metadata": {},
   "outputs": [
    {
     "data": {
      "text/plain": [
       "48846.0"
      ]
     },
     "execution_count": 17,
     "metadata": {},
     "output_type": "execute_result"
    }
   ],
   "source": [
    "##specific angular momentum equals radius times perpendicular velocity\n",
    "h = r * rfdot\n",
    "h"
   ]
  },
  {
   "cell_type": "code",
   "execution_count": 18,
   "id": "2bbe16b0-0325-4270-acec-4a7a2feb19f1",
   "metadata": {},
   "outputs": [
    {
     "data": {
      "text/plain": [
       "0.4518594595875744"
      ]
     },
     "execution_count": 18,
     "metadata": {},
     "output_type": "execute_result"
    }
   ],
   "source": [
    "##from h^2 = mu * a * (1 - e^2)\n",
    "e = np.sqrt(1 - (h**2 / (mu * a) ) )\n",
    "e"
   ]
  },
  {
   "cell_type": "code",
   "execution_count": 19,
   "id": "87c06900-2d3a-43c0-935a-b23d4d174362",
   "metadata": {},
   "outputs": [
    {
     "data": {
      "text/plain": [
       "108.34182945564665"
      ]
     },
     "execution_count": 19,
     "metadata": {},
     "output_type": "execute_result"
    }
   ],
   "source": [
    "##calculate f_0 from polar equation again\n",
    "f_0 = np.arccos( h**2 / (e * r * mu) - (1 / e) )\n",
    "np.degrees(f_0)"
   ]
  },
  {
   "cell_type": "code",
   "execution_count": 20,
   "id": "8acab896-ed64-4ce1-aec2-54a9c4d2190c",
   "metadata": {},
   "outputs": [
    {
     "data": {
      "text/plain": [
       "108.34182945564666"
      ]
     },
     "execution_count": 20,
     "metadata": {},
     "output_type": "execute_result"
    }
   ],
   "source": [
    "##verify with E_0 method, not sure if this means anything but I decided to use 108 degs even thought there are technically 2 possible angles\n",
    "E_0 = np.arctan2( r * rdot, np.sqrt(a * mu) * (1 - r / a) )\n",
    "f_0 = 2 * np.arctan( np.sqrt( (1 + e) / (1 - e) ) * np.tan(E_0 / 2) )\n",
    "np.degrees(f_0)"
   ]
  },
  {
   "cell_type": "code",
   "execution_count": 21,
   "id": "d0ea8fc7-36f4-47d3-a9d5-439979c5b108",
   "metadata": {},
   "outputs": [],
   "source": [
    "##inputs and scalars for inputs\n",
    "r_0 = np.array([-8903.833, 1208.356, 213.066]) #km\n",
    "v_0 = np.array([-0.971, -6.065, -1.069]) #km / s\n",
    "mu = 398600.0 # km^3 / s^2\n",
    "R = 6378.0\n",
    "t_end = 3 * 60 * 60 #3 hours in \n",
    "r_0mag = la.norm(r_0)\n",
    "v_0mag = la.norm(v_0)"
   ]
  },
  {
   "cell_type": "code",
   "execution_count": 22,
   "id": "eb47ec7f-e944-443f-9405-01f822818703",
   "metadata": {},
   "outputs": [],
   "source": [
    "##test case\n",
    "r_0 = np.array([-4743, 4743, 0]) #km\n",
    "v_0 = np.array([-5.879, -4.223, 0]) #km / s\n",
    "mu = 398600.0 # km^3 / s^2\n",
    "R = 6378.0\n",
    "r_0mag = la.norm(r_0)\n",
    "v_0mag = la.norm(v_0)"
   ]
  },
  {
   "cell_type": "code",
   "execution_count": 23,
   "id": "c64be5cd-2920-4221-8321-1c82ec33b872",
   "metadata": {},
   "outputs": [
    {
     "data": {
      "text/plain": [
       "5998.167901428763"
      ]
     },
     "execution_count": 23,
     "metadata": {},
     "output_type": "execute_result"
    }
   ],
   "source": [
    "##a = 1 / ( (2 / r) - v^2/mu\n",
    "a = 1.0 / ( ( 2/r_0mag ) - ( v_0mag**2 / mu) )\n",
    "a"
   ]
  },
  {
   "cell_type": "code",
   "execution_count": 24,
   "id": "3cfd97bf-16b8-40d9-bf84-e97a9516fb49",
   "metadata": {},
   "outputs": [
    {
     "name": "stdout",
     "output_type": "stream",
     "text": [
      "[    0.        0.    47913.786] 47913.78599999999\n"
     ]
    }
   ],
   "source": [
    "##h = r x v\n",
    "h = np.cross(r_0,v_0)\n",
    "h_mag = la.norm(h)\n",
    "np.set_printoptions(suppress=True)\n",
    "print(h, h_mag)"
   ]
  },
  {
   "cell_type": "code",
   "execution_count": 25,
   "id": "0cad8561-7c69-4c68-99ce-c9c63323600d",
   "metadata": {},
   "outputs": [
    {
     "name": "stdout",
     "output_type": "stream",
     "text": [
      "0.19948073600396923\n"
     ]
    }
   ],
   "source": [
    "# e = v x h / mu - r / r_mag\n",
    "e = ( np.cross(v_0,h) / mu ) - r_0 / r_0mag\n",
    "e_mag = la.norm(e)\n",
    "print(e_mag)"
   ]
  },
  {
   "cell_type": "code",
   "execution_count": 26,
   "id": "8faf45f2-de29-4bee-9e98-125a19370e07",
   "metadata": {},
   "outputs": [],
   "source": [
    "#E_0 from arctan vector eqn\n",
    "E_0 = np.arctan2(  np.dot(r_0,v_0) , np.sqrt(a * mu) * (1 - (r_0mag / a) ) )"
   ]
  },
  {
   "cell_type": "code",
   "execution_count": 27,
   "id": "1447b9a5-b615-41c4-918f-17d6e0fca928",
   "metadata": {},
   "outputs": [
    {
     "data": {
      "text/plain": [
       "2.2054837753322545"
      ]
     },
     "execution_count": 27,
     "metadata": {},
     "output_type": "execute_result"
    }
   ],
   "source": [
    "E_0"
   ]
  },
  {
   "cell_type": "code",
   "execution_count": 28,
   "id": "62eb7e4d-c82f-4fa0-9331-65eb3845d252",
   "metadata": {},
   "outputs": [
    {
     "name": "stdout",
     "output_type": "stream",
     "text": [
      "0.0013590665375406061 2.044850505199387\n"
     ]
    }
   ],
   "source": [
    "# n^2 = mu / a^3\n",
    "n = np.sqrt(mu / a**3)\n",
    "##calculate the time from periapsis using mean anomaly, to find mean anomaly at initial point.\n",
    "t0 = (E_0 - e_mag * np.sin(E_0))/n\n",
    "M0 = t0 * n\n",
    "print(n, M0)"
   ]
  },
  {
   "cell_type": "code",
   "execution_count": 29,
   "id": "7303dc97-5911-43c8-8fb8-7d8a5ee3f6dc",
   "metadata": {},
   "outputs": [
    {
     "data": {
      "text/plain": [
       "16.722769110637934"
      ]
     },
     "execution_count": 29,
     "metadata": {},
     "output_type": "execute_result"
    }
   ],
   "source": [
    "##mean anomaly at 3 hours, matches closely to true anomaly\n",
    "n * t_end + M0"
   ]
  },
  {
   "cell_type": "code",
   "execution_count": 30,
   "id": "350563cd-c64a-49e8-8375-05a3b35ab4d7",
   "metadata": {},
   "outputs": [],
   "source": [
    "##made a function to run Newton's method to find change in E since initial\n",
    "def getE(delta_t):\n",
    "    M_rel = n * delta_t\n",
    "    E_curr = M_rel\n",
    "    err = 1\n",
    "    tol = 1e-10\n",
    "    while (abs(err) > tol):\n",
    "        err = M_rel + E_0 - e_mag * np.sin(E_0) - E_curr + e_mag * np.sin(E_curr)\n",
    "        derrdE = -1 + e_mag * np.cos(E_curr)\n",
    "        E_next = E_curr - err / derrdE\n",
    "        E_curr = E_next\n",
    "    return E_curr"
   ]
  },
  {
   "cell_type": "code",
   "execution_count": 31,
   "id": "0a98dd78-f352-4ec9-887e-6d1ad6f382b9",
   "metadata": {},
   "outputs": [
    {
     "name": "stdout",
     "output_type": "stream",
     "text": [
      "16.57117667843485\n"
     ]
    }
   ],
   "source": [
    "##E_f using function, is close to mean anomaly\n",
    "E_f = getE(t_end)\n",
    "print(E_f)"
   ]
  },
  {
   "cell_type": "code",
   "execution_count": 32,
   "id": "435c5476-507f-4378-87ef-04de2dd1832f",
   "metadata": {},
   "outputs": [],
   "source": [
    "##made functions for F and G\n",
    "def F(delta_t, E):\n",
    "    return 1 - (a/r_0mag) * (1 - np.cos(E - E_0))\n",
    "def G(delta_t, E):\n",
    "    return delta_t - np.sqrt(a**3 / mu) * ( (E - E_0) - np.sin(E - E_0) )"
   ]
  },
  {
   "cell_type": "code",
   "execution_count": 33,
   "id": "bab714d7-ce84-4d89-967e-9d6ded467cfd",
   "metadata": {},
   "outputs": [
    {
     "name": "stdout",
     "output_type": "stream",
     "text": [
      "-0.09681388470337726 946.4047943572823\n",
      "[-5104.72553088 -4455.85570172     0.        ] 6775.903834924327\n"
     ]
    }
   ],
   "source": [
    "##find r at 3 hrs using F and G\n",
    "r_f = F(t_end, E_f) * r_0 + G(t_end, E_f) * v_0\n",
    "r_fmag = la.norm(r_f)\n",
    "print(F(t_end, E_f), G(t_end, E_f))\n",
    "print(r_f , r_fmag)"
   ]
  },
  {
   "cell_type": "code",
   "execution_count": 34,
   "id": "c55f3772-f426-41cc-bc0f-2ff861b5f2b8",
   "metadata": {},
   "outputs": [],
   "source": [
    "##made functions for Fdot and Gdot\n",
    "def Fdot(E, r):\n",
    "    return -np.sqrt(mu * a) * np.sin(E - E_0) / (r * r_0mag)\n",
    "def Gdot(E, r):\n",
    "    return 1 - (a/r) * (1 - np.cos(E - E_0))"
   ]
  },
  {
   "cell_type": "code",
   "execution_count": 35,
   "id": "2c4438d2-46fb-4c8c-8bfb-18d2f99aa2b2",
   "metadata": {},
   "outputs": [
    {
     "name": "stdout",
     "output_type": "stream",
     "text": [
      "-0.0010478574 -0.08575997589119555 [ 5.47417043 -4.60782315 -0.        ]\n"
     ]
    }
   ],
   "source": [
    "##velocity from functions.\n",
    "v_f = Fdot(E_f, r_fmag) * r_0 + Gdot(E_f, r_fmag) * v_0\n",
    "print('%.10f' % Fdot(E_f, r_fmag), Gdot(E_f, r_fmag), v_f)\n",
    "##it appears at 3 hrs, the object is close to periapsis while at initial time it was close to apoapsis. This is reflected as the radius \n",
    "##and velocity are roughly opposite of initial values"
   ]
  },
  {
   "cell_type": "code",
   "execution_count": 36,
   "id": "204ea257-6d07-48ac-a956-c34e40f71b10",
   "metadata": {},
   "outputs": [],
   "source": [
    "times = np.zeros((101,1)) #initialize array to hold times\n",
    "R = np.zeros((101,3)) #holder for radius vectors\n",
    "V = np.zeros((101,3)) #holder for velocity vectors\n",
    "for i in range(101):\n",
    "    times[i][0] = t_end / 100 * i"
   ]
  },
  {
   "cell_type": "code",
   "execution_count": 37,
   "id": "ce24bc6c-21bd-428a-a1bf-183a52663c3a",
   "metadata": {},
   "outputs": [],
   "source": [
    "##find and store radius and velocity at every time using the method we used to find final values for all of these\n",
    "for i in range(101):\n",
    "    delta_t = times[i][0]\n",
    "    E = getE(delta_t)\n",
    "    r = F(delta_t, E) * r_0 + G(delta_t, E) * v_0\n",
    "    r_mag = la.norm(r)\n",
    "    v = Fdot(E, r_mag) * r_0 + Gdot(E, r_mag) * v_0\n",
    "    R[i][0], R[i][1], R[i][2] = r[0], r[1], r[2]\n",
    "    V[i][0], V[i][1], V[i][2] = v[0], v[1], v[2]"
   ]
  },
  {
   "cell_type": "code",
   "execution_count": 38,
   "id": "709a9c55-4b45-4920-9868-ddbfcda79495",
   "metadata": {},
   "outputs": [],
   "source": [
    "#transpose to make plotting easier\n",
    "R = R.T"
   ]
  },
  {
   "cell_type": "code",
   "execution_count": 39,
   "id": "a3ec3fb4-ada1-4c1b-a921-829ae62068e8",
   "metadata": {
    "scrolled": true
   },
   "outputs": [
    {
     "data": {
      "image/png": "[encoded data removed]",
      "text/plain": [
       "<Figure size 640x480 with 1 Axes>"
      ]
     },
     "metadata": {},
     "output_type": "display_data"
    }
   ],
   "source": [
    "##make a plot\n",
    "fig = plt.figure()\n",
    "ax = fig.add_subplot(projection='3d')\n",
    "#ax.plot(R[:][0], R[:][1], R[:][2], label='parametric curve')\n",
    "ax.scatter(R[0], R[1], R[2], label='Orbit', marker = '.', c = 'blue')\n",
    "ax.set_zticks([-2500, 0, 2500])\n",
    "ax.set_xticks([-7000, -3500, 0, 3500, 7000])\n",
    "ax.set_yticks([-7000, -3500, 0, 3500, 7000])\n",
    "plt.xlabel(\"X (km)\")\n",
    "plt.ylabel(\"Y (km)\")\n",
    "ax.set_zlabel(\"Z (km)\")\n",
    "ax.set_aspect('equal')\n",
    "ax.view_init(elev=20)\n",
    "plt.title(\"Points of Orbit\")\n",
    "fig.legend()\n",
    "plt.show()"
   ]
  },
  {
   "cell_type": "code",
   "execution_count": 5,
   "id": "ea975135-2919-4fd8-8125-29850f4baef9",
   "metadata": {},
   "outputs": [
    {
     "data": {
      "text/plain": [
       "33.045953279746755"
      ]
     },
     "execution_count": 5,
     "metadata": {},
     "output_type": "execute_result"
    }
   ],
   "source": [
    "np.degrees(np.arctan2(2.906,4.467))"
   ]
  },
  {
   "cell_type": "code",
   "execution_count": null,
   "id": "86d89f2e-733b-4c7a-b89a-fe6a9bbd22df",
   "metadata": {},
   "outputs": [],
   "source": []
  }
 ],
 "metadata": {
  "kernelspec": {
   "display_name": "Python 3 (ipykernel)",
   "language": "python",
   "name": "python3"
  },
  "language_info": {
   "codemirror_mode": {
    "name": "ipython",
    "version": 3
   },
   "file_extension": ".py",
   "mimetype": "text/x-python",
   "name": "python",
   "nbconvert_exporter": "python",
   "pygments_lexer": "ipython3",
   "version": "3.11.5"
  }
 },
 "nbformat": 4,
 "nbformat_minor": 5
}
