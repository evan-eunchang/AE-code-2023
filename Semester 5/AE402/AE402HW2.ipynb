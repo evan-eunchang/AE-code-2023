{
 "cells": [
  {
   "cell_type": "code",
   "execution_count": 3,
   "id": "be428c43-32a0-4722-b464-42c2ca7e3e23",
   "metadata": {},
   "outputs": [],
   "source": [
    "import numpy as np\n",
    "from numpy import linalg as la\n",
    "np.set_printoptions(suppress=True)"
   ]
  },
  {
   "cell_type": "code",
   "execution_count": 4,
   "id": "b585ea18-e93a-4f87-9594-7fdfb94538ad",
   "metadata": {},
   "outputs": [],
   "source": [
    "mu = 398600 #km^3 / s^2\n",
    "#case 1\n",
    "# r_0 = np.array([-6115.75, -6586.18, -58.65]) #km\n",
    "# v_0 = np.array([4.42, -4.26,-1.08]) #km/s\n",
    "\n",
    "#case 2\n",
    "r_0 = np.array([6590, 0, 0]) #km\n",
    "v_0 = np.array([0, 10.153, 1.247]) #km/s"
   ]
  },
  {
   "cell_type": "code",
   "execution_count": 5,
   "id": "becce13e-9c92-48d2-a4bf-a9dba845047a",
   "metadata": {},
   "outputs": [
    {
     "data": {
      "text/plain": [
       "6590.0"
      ]
     },
     "execution_count": 5,
     "metadata": {},
     "output_type": "execute_result"
    }
   ],
   "source": [
    "r_0mag = la.norm(r_0)\n",
    "r_0mag"
   ]
  },
  {
   "cell_type": "code",
   "execution_count": 6,
   "id": "71204983-fd47-4f91-9a57-e4884230da25",
   "metadata": {},
   "outputs": [
    {
     "data": {
      "text/plain": [
       "10.229292155374193"
      ]
     },
     "execution_count": 6,
     "metadata": {},
     "output_type": "execute_result"
    }
   ],
   "source": [
    "v_0mag = la.norm(v_0)\n",
    "v_0mag "
   ]
  },
  {
   "cell_type": "code",
   "execution_count": 7,
   "id": "15743c7d-1e38-4e11-82be-74177e5a26d5",
   "metadata": {},
   "outputs": [
    {
     "data": {
      "text/plain": [
       "24404.95258510698"
      ]
     },
     "execution_count": 7,
     "metadata": {},
     "output_type": "execute_result"
    }
   ],
   "source": [
    "#semi-major axis\n",
    "a = 1 / ( (2/r_0mag) - ((v_0mag**2)/mu) )\n",
    "a"
   ]
  },
  {
   "cell_type": "code",
   "execution_count": 8,
   "id": "b93f15b6-a606-43e8-9dea-125aecc4e1d1",
   "metadata": {},
   "outputs": [
    {
     "data": {
      "text/plain": [
       "array([    0.  , -8217.73, 66908.27])"
      ]
     },
     "execution_count": 8,
     "metadata": {},
     "output_type": "execute_result"
    }
   ],
   "source": [
    "#angular momentum\n",
    "h = np.cross(r_0,v_0)\n",
    "h#la.norm(h)"
   ]
  },
  {
   "cell_type": "code",
   "execution_count": 9,
   "id": "3fc38e99-7c6e-47a3-93b4-448a4f277b9a",
   "metadata": {},
   "outputs": [
    {
     "data": {
      "text/plain": [
       "array([ 0.72997284,  0.        , -0.        ])"
      ]
     },
     "execution_count": 9,
     "metadata": {},
     "output_type": "execute_result"
    }
   ],
   "source": [
    "#eccentricity\n",
    "e = ( np.cross(v_0,h) / mu ) - r_0 / la.norm(r_0)\n",
    "e"
   ]
  },
  {
   "cell_type": "code",
   "execution_count": 10,
   "id": "f664a111-5f6a-4395-9c4d-e4bd7bfa300d",
   "metadata": {},
   "outputs": [
    {
     "data": {
      "text/plain": [
       "0.7299728414952336"
      ]
     },
     "execution_count": 10,
     "metadata": {},
     "output_type": "execute_result"
    }
   ],
   "source": [
    "la.norm(e)"
   ]
  },
  {
   "cell_type": "code",
   "execution_count": 11,
   "id": "a260e21a-77ae-49f9-b79b-285ee06659ee",
   "metadata": {},
   "outputs": [
    {
     "data": {
      "text/plain": [
       "array([ 0.12190482,  0.        , -0.        ])"
      ]
     },
     "execution_count": 11,
     "metadata": {},
     "output_type": "execute_result"
    }
   ],
   "source": [
    "K = np.array([0,0,1])\n",
    "I = np.array([1,0,0])\n",
    "#node\n",
    "n = np.cross(K,h) / la.norm(h)\n",
    "n"
   ]
  },
  {
   "cell_type": "code",
   "execution_count": 12,
   "id": "cf245b38-a1d7-42fe-979e-6dc8c0f0b451",
   "metadata": {},
   "outputs": [
    {
     "data": {
      "text/plain": [
       "0.0"
      ]
     },
     "execution_count": 12,
     "metadata": {},
     "output_type": "execute_result"
    }
   ],
   "source": [
    "little_omega = np.arccos( np.dot(n,e) / (la.norm(e) * la.norm(n)) )\n",
    "little_omega"
   ]
  },
  {
   "cell_type": "code",
   "execution_count": 13,
   "id": "01a5c6d6-bfa2-49e3-9de7-1d8d9a876229",
   "metadata": {},
   "outputs": [
    {
     "data": {
      "text/plain": [
       "0.0"
      ]
     },
     "execution_count": 13,
     "metadata": {},
     "output_type": "execute_result"
    }
   ],
   "source": [
    "big_omega = np.arccos(np.dot(n,I)/ la.norm(n))\n",
    "big_omega"
   ]
  },
  {
   "cell_type": "code",
   "execution_count": 14,
   "id": "5e87de3c-3b5b-48fd-bbcf-b47917a41365",
   "metadata": {},
   "outputs": [
    {
     "data": {
      "text/plain": [
       "0.0"
      ]
     },
     "execution_count": 14,
     "metadata": {},
     "output_type": "execute_result"
    }
   ],
   "source": [
    "f = np.arccos( np.dot(r_0,e) / (la.norm(e) * la.norm(r_0)) )\n",
    "f"
   ]
  },
  {
   "cell_type": "code",
   "execution_count": 15,
   "id": "b4d2ca83-a7c2-47e2-8662-0a4a627b19b0",
   "metadata": {},
   "outputs": [
    {
     "data": {
      "text/plain": [
       "0.0"
      ]
     },
     "execution_count": 15,
     "metadata": {},
     "output_type": "execute_result"
    }
   ],
   "source": [
    "np.dot(r_0,v_0)"
   ]
  },
  {
   "cell_type": "code",
   "execution_count": 16,
   "id": "b24325bf-8950-49bb-b7cf-afe8c2de8ea2",
   "metadata": {},
   "outputs": [
    {
     "data": {
      "text/plain": [
       "23.981955935439892"
      ]
     },
     "execution_count": 16,
     "metadata": {},
     "output_type": "execute_result"
    }
   ],
   "source": [
    "T = 2 * np.pi * np.sqrt(la.norm(a* (1+la.norm(e)))**3 / mu)\n",
    "T/(60*60)"
   ]
  },
  {
   "cell_type": "code",
   "execution_count": 17,
   "id": "82dce485-26fe-4d72-b328-eaa99ec13563",
   "metadata": {},
   "outputs": [
    {
     "data": {
      "text/plain": [
       "6.619615109785822"
      ]
     },
     "execution_count": 17,
     "metadata": {},
     "output_type": "execute_result"
    }
   ],
   "source": [
    "a * (1 + la.norm(e)) / 6378"
   ]
  },
  {
   "cell_type": "code",
   "execution_count": 18,
   "id": "60642a2c-d047-474a-9dd8-611e747ca5d8",
   "metadata": {},
   "outputs": [],
   "source": [
    "#orbital elements\n",
    "#case 1\n",
    "# a = 8000\n",
    "# e = 0.125\n",
    "# i = np.radians(10)\n",
    "# big_omega = np.radians(45)\n",
    "# lil_omega = np.radians(10)\n",
    "# M = np.radians(170)\n",
    "\n",
    "#case 2\n",
    "r_p = 6611\n",
    "e = 0.01\n",
    "a = r_p / (1 - e)\n",
    "i = np.radians(90)\n",
    "big_omega = 0\n",
    "lil_omega = 0\n",
    "M = np.radians(355)"
   ]
  },
  {
   "cell_type": "code",
   "execution_count": 19,
   "id": "0001cc86-6485-4ff9-acda-6c7962ee2bc2",
   "metadata": {},
   "outputs": [],
   "source": [
    "def getE(M):\n",
    "    E_curr = M\n",
    "    err = 1\n",
    "    tol = 1e-10\n",
    "    while (abs(err) > tol):\n",
    "        err = M - E_curr + e * np.sin(E_curr)\n",
    "        derrdE = -1 + e * np.cos(E_curr)\n",
    "        E_next = E_curr - err / derrdE\n",
    "        E_curr = E_next\n",
    "    return E_curr"
   ]
  },
  {
   "cell_type": "code",
   "execution_count": 20,
   "id": "d553fa66-66eb-420e-b6bb-b6de44325bd3",
   "metadata": {},
   "outputs": [
    {
     "data": {
      "text/plain": [
       "6.195038517721757"
      ]
     },
     "execution_count": 20,
     "metadata": {},
     "output_type": "execute_result"
    }
   ],
   "source": [
    "E = getE(M)\n",
    "E #- 2 * np.pi"
   ]
  },
  {
   "cell_type": "code",
   "execution_count": 21,
   "id": "3ef23435-dc65-4d59-a42a-8a15a6ef4c57",
   "metadata": {},
   "outputs": [
    {
     "data": {
      "text/plain": [
       "-0.08903154498063698"
      ]
     },
     "execution_count": 21,
     "metadata": {},
     "output_type": "execute_result"
    }
   ],
   "source": [
    "f = 2 * np.arctan2(np.tan(E/2) * np.sqrt(1 + e), np.sqrt(1-e))\n",
    "f #+ np.pi * 2"
   ]
  },
  {
   "cell_type": "code",
   "execution_count": 22,
   "id": "7ad7fbbd-78d3-442a-a243-ea9f9423ccfe",
   "metadata": {},
   "outputs": [
    {
     "data": {
      "text/plain": [
       "51589.68933808382"
      ]
     },
     "execution_count": 22,
     "metadata": {},
     "output_type": "execute_result"
    }
   ],
   "source": [
    "h = np.sqrt(mu * a * (1-e**2))\n",
    "h"
   ]
  },
  {
   "cell_type": "code",
   "execution_count": 23,
   "id": "ae9ca9cf-2e23-4c50-af7e-a137f4c40195",
   "metadata": {},
   "outputs": [
    {
     "data": {
      "text/plain": [
       "-0.08903154498063698"
      ]
     },
     "execution_count": 23,
     "metadata": {},
     "output_type": "execute_result"
    }
   ],
   "source": [
    "theta = lil_omega + f\n",
    "theta"
   ]
  },
  {
   "cell_type": "code",
   "execution_count": 24,
   "id": "f48f0d91-7295-4d20-aec3-29a9b5ae3655",
   "metadata": {},
   "outputs": [
    {
     "data": {
      "text/plain": [
       "6611.259258942783"
      ]
     },
     "execution_count": 24,
     "metadata": {},
     "output_type": "execute_result"
    }
   ],
   "source": [
    "r_mag = h**2 / (mu * ( 1 + e * np.cos(f) ) )\n",
    "r_mag"
   ]
  },
  {
   "cell_type": "code",
   "execution_count": 25,
   "id": "996e8b14-4236-4b0e-b10e-26b95df1595d",
   "metadata": {},
   "outputs": [
    {
     "data": {
      "text/plain": [
       "array([6585.07410572,   -0.        , -587.83331916])"
      ]
     },
     "execution_count": 25,
     "metadata": {},
     "output_type": "execute_result"
    }
   ],
   "source": [
    "r = r_mag * np.array([\n",
    "    np.cos(theta) * np.cos(big_omega) - np.cos(i) * np.sin(big_omega) * np.sin(theta),\n",
    "    np.cos(theta) * np.sin(big_omega) + np.cos(i) * np.cos(big_omega) * np.sin(theta),\n",
    "    np.sin(i) * np.sin(theta)\n",
    "])\n",
    "r"
   ]
  },
  {
   "cell_type": "code",
   "execution_count": 26,
   "id": "77ba0c2b-57b8-417b-bf42-3ea48c7c2de5",
   "metadata": {},
   "outputs": [
    {
     "data": {
      "text/plain": [
       "array([0.68698047, 0.        , 7.77301189])"
      ]
     },
     "execution_count": 26,
     "metadata": {},
     "output_type": "execute_result"
    }
   ],
   "source": [
    "v = -(mu/h) * np.array([\n",
    "    np.cos(big_omega) * (np.sin(theta) + e * np.sin(lil_omega)) + np.sin(big_omega) * (np.cos(theta) + e * np.cos(lil_omega)) * np.cos(i),\n",
    "    np.sin(big_omega) * (np.sin(theta) + e * np.sin(lil_omega)) - np.cos(big_omega) * (np.cos(theta) + e * np.cos(lil_omega)) * np.cos(i),\n",
    "    -(np.cos(theta) + e * np.cos(lil_omega)) * np.sin(i)\n",
    "])\n",
    "v"
   ]
  },
  {
   "cell_type": "code",
   "execution_count": 33,
   "id": "fe2657af-8969-4fff-92f6-34a58759f210",
   "metadata": {},
   "outputs": [],
   "source": [
    "#orbital elements\n",
    "a = 26553\n",
    "e = 0"
   ]
  },
  {
   "cell_type": "code",
   "execution_count": 37,
   "id": "408dc6df-f602-448c-bb22-57fe69e77714",
   "metadata": {},
   "outputs": [
    {
     "data": {
      "text/plain": [
       "42760.75243985843"
      ]
     },
     "execution_count": 37,
     "metadata": {},
     "output_type": "execute_result"
    }
   ],
   "source": [
    "T_og = 2.0 * np.pi * np.sqrt(a**3 / mu)\n",
    "T_ph = T_og - 5.0 * 60.0\n",
    "T_ph"
   ]
  },
  {
   "cell_type": "code",
   "execution_count": 46,
   "id": "09f80663-fadd-4432-99bc-40d5deaa22d0",
   "metadata": {},
   "outputs": [
    {
     "name": "stdout",
     "output_type": "stream",
     "text": [
      "correct 26429.528270537467\n"
     ]
    }
   ],
   "source": [
    "a_ph = ( mu * ( T_ph / (2 * np.pi) )**2 )**(1/3)\n",
    "print('correct', a_ph)"
   ]
  },
  {
   "cell_type": "code",
   "execution_count": 39,
   "id": "298f8939-0fa3-4f2c-bed0-0af26bbeb7a9",
   "metadata": {},
   "outputs": [
    {
     "data": {
      "text/plain": [
       "35.63396036654869"
      ]
     },
     "execution_count": 39,
     "metadata": {},
     "output_type": "execute_result"
    }
   ],
   "source": [
    "T_ph * 3 / (60 * 60)"
   ]
  },
  {
   "cell_type": "code",
   "execution_count": 40,
   "id": "eb472fbc-1fb9-4765-9844-66891abdb5bd",
   "metadata": {},
   "outputs": [
    {
     "data": {
      "text/plain": [
       "3.87446595817284"
      ]
     },
     "execution_count": 40,
     "metadata": {},
     "output_type": "execute_result"
    }
   ],
   "source": [
    "v_og = np.sqrt(mu/a)\n",
    "v_og"
   ]
  },
  {
   "cell_type": "code",
   "execution_count": 44,
   "id": "ee217312-449f-4e4f-a99f-eb015bd824be",
   "metadata": {},
   "outputs": [
    {
     "name": "stdout",
     "output_type": "stream",
     "text": [
      "correct 26306.056541074933\n"
     ]
    }
   ],
   "source": [
    "r_a = a\n",
    "r_p = 2 * a_ph - r_a\n",
    "print('correct', r_p)"
   ]
  },
  {
   "cell_type": "code",
   "execution_count": 42,
   "id": "111b4a46-e670-4a4d-9929-435878c3b97a",
   "metadata": {},
   "outputs": [
    {
     "data": {
      "text/plain": [
       "0.004671734137615105"
      ]
     },
     "execution_count": 42,
     "metadata": {},
     "output_type": "execute_result"
    }
   ],
   "source": [
    "e_ph = (r_a - r_p) / (r_a + r_p)\n",
    "e_ph"
   ]
  },
  {
   "cell_type": "code",
   "execution_count": 45,
   "id": "015c9e09-a625-416a-ba95-47a4677b099e",
   "metadata": {},
   "outputs": [
    {
     "name": "stdout",
     "output_type": "stream",
     "text": [
      "correct 102638.10230785028\n"
     ]
    }
   ],
   "source": [
    "h = np.sqrt(mu * a_ph * (1 - e_ph**2))\n",
    "print('correct', h)"
   ]
  },
  {
   "cell_type": "code",
   "execution_count": 73,
   "id": "f53c6480-0b34-4de5-9ef0-f29862cffd02",
   "metadata": {},
   "outputs": [
    {
     "data": {
      "text/plain": [
       "3.8668513580916106"
      ]
     },
     "execution_count": 73,
     "metadata": {},
     "output_type": "execute_result"
    }
   ],
   "source": [
    "v_a_ph = np.sqrt(mu * ((2/r_a) - (1/a_ph)) )\n",
    "v_a_ph"
   ]
  },
  {
   "cell_type": "code",
   "execution_count": 74,
   "id": "9b0e2683-b941-47a7-8ef5-73e9e67e24ce",
   "metadata": {},
   "outputs": [
    {
     "data": {
      "text/plain": [
       "0.01814913843639321"
      ]
     },
     "execution_count": 74,
     "metadata": {},
     "output_type": "execute_result"
    }
   ],
   "source": [
    "(v_og - v_a_ph) * 2"
   ]
  },
  {
   "cell_type": "code",
   "execution_count": null,
   "id": "cdcf8310-68a4-4684-9015-c609618563be",
   "metadata": {},
   "outputs": [],
   "source": []
  }
 ],
 "metadata": {
  "kernelspec": {
   "display_name": "Python 3 (ipykernel)",
   "language": "python",
   "name": "python3"
  },
  "language_info": {
   "codemirror_mode": {
    "name": "ipython",
    "version": 3
   },
   "file_extension": ".py",
   "mimetype": "text/x-python",
   "name": "python",
   "nbconvert_exporter": "python",
   "pygments_lexer": "ipython3",
   "version": "3.11.5"
  }
 },
 "nbformat": 4,
 "nbformat_minor": 5
}
