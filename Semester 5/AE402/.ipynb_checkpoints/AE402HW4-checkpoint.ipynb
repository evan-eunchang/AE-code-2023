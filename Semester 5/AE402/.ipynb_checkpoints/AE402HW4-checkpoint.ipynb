{
 "cells": [
  {
   "cell_type": "code",
   "execution_count": 1,
   "id": "97e276cf-1098-4970-b819-4c3b517a0370",
   "metadata": {},
   "outputs": [],
   "source": [
    "import numpy as np\n",
    "from numpy import linalg as la\n",
    "from scipy import integrate as sci\n",
    "import matplotlib.pyplot as plt\n",
    "np.set_printoptions(suppress=True)"
   ]
  },
  {
   "cell_type": "markdown",
   "id": "e05afe9a-8d61-4029-a18f-bb2037cc6439",
   "metadata": {},
   "source": [
    "## Problem 1"
   ]
  },
  {
   "cell_type": "markdown",
   "id": "ba4322fe-9898-43d2-bc57-7a2a425b2a91",
   "metadata": {},
   "source": [
    "### a)"
   ]
  },
  {
   "cell_type": "code",
   "execution_count": 2,
   "id": "b072f9e1-0d7a-4bd9-beca-000d214768e4",
   "metadata": {},
   "outputs": [],
   "source": [
    "mu_E = 398600\n",
    "a = 7000\n",
    "e = 0.05\n",
    "i = np.radians(35)\n",
    "big_omega = np.radians(100)\n",
    "lil_omega = np.radians(30)\n",
    "M = np.radians(0)\n",
    "\n",
    "# a = (6678 + 9940)/2\n",
    "# e = (9940 - 6678)/(9940+6678)\n",
    "# i = np.radians(28)\n",
    "# big_omega = np.radians(45)\n",
    "# lil_omega = np.radians(30)\n",
    "# f = np.radians(40)\n",
    "\n",
    "J_2 = 0.00108263\n",
    "R_E = 6378"
   ]
  },
  {
   "cell_type": "code",
   "execution_count": 3,
   "id": "8e72bdf3-44e3-48e9-8fe3-f7498ae652d9",
   "metadata": {},
   "outputs": [],
   "source": [
    "def getE(M):\n",
    "    E_curr = M\n",
    "    err = 1\n",
    "    tol = 1e-10\n",
    "    while (abs(err) > tol):\n",
    "        err = M - E_curr + e * np.sin(E_curr)\n",
    "        derrdE = -1 + e * np.cos(E_curr)\n",
    "        E_next = E_curr - err / derrdE\n",
    "        E_curr = E_next\n",
    "    return E_curr"
   ]
  },
  {
   "cell_type": "code",
   "execution_count": 4,
   "id": "86396c3b-2e5d-4bdd-a7ad-33568f6d689c",
   "metadata": {},
   "outputs": [
    {
     "data": {
      "text/plain": [
       "0.0"
      ]
     },
     "execution_count": 4,
     "metadata": {},
     "output_type": "execute_result"
    }
   ],
   "source": [
    "#get eccentric anomaly\n",
    "E = getE(M)\n",
    "E"
   ]
  },
  {
   "cell_type": "code",
   "execution_count": 5,
   "id": "cff472fa-dadd-4069-b071-0e4e69b673f7",
   "metadata": {},
   "outputs": [
    {
     "data": {
      "text/plain": [
       "0.0"
      ]
     },
     "execution_count": 5,
     "metadata": {},
     "output_type": "execute_result"
    }
   ],
   "source": [
    "#get f from E (unnecessary)\n",
    "f = 2 * np.arctan2(np.tan(E/2) * np.sqrt(1 + e), np.sqrt(1-e))\n",
    "f"
   ]
  },
  {
   "cell_type": "code",
   "execution_count": 6,
   "id": "87b75893-3cea-49b2-b0d2-f4f0b5d0f051",
   "metadata": {},
   "outputs": [
    {
     "data": {
      "text/plain": [
       "52756.274508346396"
      ]
     },
     "execution_count": 6,
     "metadata": {},
     "output_type": "execute_result"
    }
   ],
   "source": [
    "#calculate orbital elements\n",
    "h = np.sqrt(mu_E * a * (1-e**2))\n",
    "h"
   ]
  },
  {
   "cell_type": "code",
   "execution_count": 7,
   "id": "2a98abea-3168-4f79-8427-3622a9461e1a",
   "metadata": {},
   "outputs": [
    {
     "data": {
      "text/plain": [
       "0.5235987755982988"
      ]
     },
     "execution_count": 7,
     "metadata": {},
     "output_type": "execute_result"
    }
   ],
   "source": [
    "theta = lil_omega + f\n",
    "theta"
   ]
  },
  {
   "cell_type": "code",
   "execution_count": 8,
   "id": "c97a5284-115d-47bd-9824-2597249bb18c",
   "metadata": {},
   "outputs": [
    {
     "data": {
      "text/plain": [
       "6650.0"
      ]
     },
     "execution_count": 8,
     "metadata": {},
     "output_type": "execute_result"
    }
   ],
   "source": [
    "r_mag = h**2 / (mu_E * ( 1 + e * np.cos(f) ) )\n",
    "r_mag"
   ]
  },
  {
   "cell_type": "code",
   "execution_count": 9,
   "id": "4672a212-bda2-4c6e-9bdb-5f7ce14e3668",
   "metadata": {},
   "outputs": [
    {
     "data": {
      "text/plain": [
       "array([-3682.35354532,  5198.61357391,  1907.14165087])"
      ]
     },
     "execution_count": 9,
     "metadata": {},
     "output_type": "execute_result"
    }
   ],
   "source": [
    "#calculate initial radius and velocity\n",
    "r_0 = r_mag * np.array([\n",
    "    np.cos(theta) * np.cos(big_omega) - np.cos(i) * np.sin(big_omega) * np.sin(theta),\n",
    "    np.cos(theta) * np.sin(big_omega) + np.cos(i) * np.cos(big_omega) * np.sin(theta),\n",
    "    np.sin(i) * np.sin(theta)\n",
    "])\n",
    "r_0"
   ]
  },
  {
   "cell_type": "code",
   "execution_count": 10,
   "id": "aae65271-cf45-40e9-8b92-2b23426f6225",
   "metadata": {},
   "outputs": [
    {
     "data": {
      "text/plain": [
       "array([-4.85361623, -4.88365245,  3.94070938])"
      ]
     },
     "execution_count": 10,
     "metadata": {},
     "output_type": "execute_result"
    }
   ],
   "source": [
    "v_0 = -(mu_E/h) * np.array([\n",
    "    np.cos(big_omega) * (np.sin(theta) + e * np.sin(lil_omega)) + np.sin(big_omega) * (np.cos(theta) + e * np.cos(lil_omega)) * np.cos(i),\n",
    "    np.sin(big_omega) * (np.sin(theta) + e * np.sin(lil_omega)) - np.cos(big_omega) * (np.cos(theta) + e * np.cos(lil_omega)) * np.cos(i),\n",
    "    -(np.cos(theta) + e * np.cos(lil_omega)) * np.sin(i)\n",
    "])\n",
    "v_0"
   ]
  },
  {
   "cell_type": "markdown",
   "id": "92a7ce20-c293-425c-a5a7-60723887b0d9",
   "metadata": {},
   "source": [
    "### b)"
   ]
  },
  {
   "cell_type": "code",
   "execution_count": 11,
   "id": "d9f25343-6318-42a8-a4da-821882fbf1e3",
   "metadata": {},
   "outputs": [],
   "source": [
    "#time range of 10 initial periods\n",
    "t_f = 10 * 2 * np.pi * np.sqrt(a**3 / mu_E)"
   ]
  },
  {
   "cell_type": "code",
   "execution_count": 12,
   "id": "1957f8a0-c0af-4ad7-a832-89c781b93175",
   "metadata": {},
   "outputs": [],
   "source": [
    "#linearize system to be the position vector and the velocity vector on top of each other\n",
    "#change in x is velocity on top of acceleration, which we calculate using uniform and perturbed gravity\n",
    "def dxdt(t,x):\n",
    "    xdot = np.zeros_like(x)\n",
    "    r_mag = la.norm(x[0:3])\n",
    "\n",
    "    p = 1.5 * (J_2 * mu_E * R_E**2 / r_mag**4) * np.array([\n",
    "        (x[0] / r_mag) * (5 * (x[2] / r_mag)**2 - 1),\n",
    "        (x[1] / r_mag) * (5 * (x[2] / r_mag)**2 - 1),\n",
    "        (x[2] / r_mag) * (5 * (x[2] / r_mag)**2 - 3)\n",
    "    ])\n",
    "    \n",
    "    xdot[0] = x[3]\n",
    "    xdot[1] = x[4]\n",
    "    xdot[2] = x[5]\n",
    "    xdot[3] = -mu_E * x[0] / r_mag**3 + p[0]\n",
    "    xdot[4] = -mu_E * x[1] / r_mag**3 + p[1]\n",
    "    xdot[5] = -mu_E * x[2] / r_mag**3 + p[2]\n",
    "\n",
    "    return xdot"
   ]
  },
  {
   "cell_type": "code",
   "execution_count": 13,
   "id": "63cf7f68-7490-4b1d-b0af-505a60731a8f",
   "metadata": {},
   "outputs": [
    {
     "data": {
      "text/plain": [
       "array([-3682.35354532,  5198.61357391,  1907.14165087,    -4.85361623,\n",
       "          -4.88365245,     3.94070938])"
      ]
     },
     "execution_count": 13,
     "metadata": {},
     "output_type": "execute_result"
    }
   ],
   "source": [
    "#calculate initial state\n",
    "x_0 = np.concatenate((r_0,v_0), axis=0)\n",
    "x_0"
   ]
  },
  {
   "cell_type": "code",
   "execution_count": 14,
   "id": "ce06622c-2213-4b3b-a6c5-2178655f9498",
   "metadata": {},
   "outputs": [],
   "source": [
    "#use numerical integrator to solve for state over time\n",
    "soln = sci.solve_ivp(dxdt, (0,t_f), x_0, atol = 1e-10, rtol=1e-13)\n",
    "t = soln.t\n",
    "x = soln.y"
   ]
  },
  {
   "cell_type": "code",
   "execution_count": 15,
   "id": "d7ed3a54-7042-4a2a-a2c1-cc446771aaaa",
   "metadata": {},
   "outputs": [
    {
     "name": "stdout",
     "output_type": "stream",
     "text": [
      "6643\n"
     ]
    }
   ],
   "source": [
    "print(x.shape[1])"
   ]
  },
  {
   "cell_type": "code",
   "execution_count": 16,
   "id": "d042e5bb-6077-4436-9cf1-4bc4f7e23b8b",
   "metadata": {},
   "outputs": [
    {
     "data": {
      "text/plain": [
       "array([ 0.00000439, -0.0000062 , -0.00001   ])"
      ]
     },
     "execution_count": 16,
     "metadata": {},
     "output_type": "execute_result"
    }
   ],
   "source": [
    "#1.3\n",
    "#calculate initial radius and perturbation\n",
    "r_mag = la.norm(x_0[0:3])\n",
    "1.5 * (J_2 * mu_E * R_E**2 / r_mag**4) * np.array([\n",
    "        (x_0[0] / r_mag) * (5 * (x_0[2] / r_mag)**2 - 1),\n",
    "        (x_0[1] / r_mag) * (5 * (x_0[2] / r_mag)**2 - 1),\n",
    "        (x_0[2] / r_mag) * (5 * (x_0[2] / r_mag)**2 - 3)\n",
    "    ])"
   ]
  },
  {
   "cell_type": "code",
   "execution_count": 99,
   "id": "632e5ada-60dc-45a2-9fcf-def9e270ace1",
   "metadata": {},
   "outputs": [
    {
     "name": "stdout",
     "output_type": "stream",
     "text": [
      "-3017.9873979961426 5423.087106428289 3220.143207271979\n"
     ]
    }
   ],
   "source": [
    "#1.4\n",
    "#retrieve final position values\n",
    "print(x[0][-1], x[1][-1] , x[2][-1])"
   ]
  },
  {
   "cell_type": "code",
   "execution_count": 100,
   "id": "25316113-528e-4b37-86bb-22e0006243d2",
   "metadata": {},
   "outputs": [
    {
     "name": "stdout",
     "output_type": "stream",
     "text": [
      "-7.241215495427802 -3.4973840739493234 1.1724468192364914\n"
     ]
    }
   ],
   "source": [
    "#1.5\n",
    "#retrieve final velocity values\n",
    "print(x[3][-1], x[4][-1] , x[5][-1])"
   ]
  },
  {
   "cell_type": "code",
   "execution_count": 115,
   "id": "ef40e017-992c-408b-b307-06726f0acde9",
   "metadata": {},
   "outputs": [],
   "source": [
    "#plot orbit\n",
    "\n",
    "# fig = plt.figure(figsize=(8,8))\n",
    "# ax = fig.add_subplot(111, projection='3d')\n",
    "# ax.plot(x[0]/R_E, x[1]/R_E, x[2]/R_E, color='r', label='Orbit')\n",
    "# # ax.plot(0,0,0, marker=\"o\", markersize=1, color='b', label='Earth (not to scale)')\n",
    "# # ax.plot(0,0,0, marker=\"o\", markersize=50, color='b')\n",
    "# ax.set_xticks([-1, -0.5, 0, 0.5, 1])\n",
    "# ax.set_xlabel(\"x (RE)\")\n",
    "# ax.set_ylabel(\"y (RE)\")\n",
    "# ax.set_zlabel(\"z (RE)\")\n",
    "# ax.axis('equal')\n",
    "# ax.set_box_aspect(aspect=None,zoom=0.8)\n",
    "# ax.view_init(elev=20)\n",
    "# plt.title('J2 Perturbed Orbit Over 10 Periods')\n",
    "# plt.legend()\n",
    "# plt.tight_layout()\n",
    "# plt.show()"
   ]
  },
  {
   "cell_type": "code",
   "execution_count": 130,
   "id": "03e0b7c7-bc13-4afa-a964-03c7be7071b2",
   "metadata": {},
   "outputs": [],
   "source": [
    "fig.savefig('J2 Perturbed Orbit Over 10 Periods.png', facecolor='white', transparent=False)"
   ]
  },
  {
   "cell_type": "code",
   "execution_count": 102,
   "id": "d03c4e77-0aff-40e0-a48f-a3936145fc97",
   "metadata": {},
   "outputs": [],
   "source": [
    "#1.7-11\n",
    "a_orbit = np.zeros_like(t)\n",
    "e_orbit = np.zeros_like(t)\n",
    "i_orbit = np.zeros_like(t)\n",
    "lil_omega_orbit = np.zeros_like(t)\n",
    "big_omega_orbit = np.zeros_like(t)"
   ]
  },
  {
   "cell_type": "code",
   "execution_count": 103,
   "id": "e7b65a05-d163-4cb4-9d75-59c1615f7c5d",
   "metadata": {},
   "outputs": [],
   "source": [
    "#calculate orbital elemets at each time\n",
    "x_T = x.T\n",
    "K = np.array([0,0,1])\n",
    "I = np.array([1,0,0])\n",
    "\n",
    "for j in range(t.size):\n",
    "    r = x_T[j][0:3]\n",
    "    v = x_T[j][3:6]\n",
    "    r_mag = la.norm(r)\n",
    "    v_mag = la.norm(v)\n",
    "    h = np.cross(r,v)\n",
    "    e = ( np.cross(v,h) / mu_E ) - r / r_mag\n",
    "    n = np.cross(K,h)\n",
    "    i = np.arccos( np.dot(h,K) / la.norm(h))\n",
    "    lil_omega = np.arccos( np.dot(n,e) / (la.norm(e) * la.norm(n)) )\n",
    "    big_omega = np.arccos(np.dot(n,I)/ la.norm(n))\n",
    "    a = 1 / ( (2/r_mag) - ((v_mag**2)/mu_E) )\n",
    "    a_orbit[j] = a\n",
    "    e_orbit[j] = la.norm(e)\n",
    "    i_orbit[j] = i\n",
    "    lil_omega_orbit[j] = lil_omega\n",
    "    big_omega_orbit[j] = big_omega"
   ]
  },
  {
   "cell_type": "code",
   "execution_count": 104,
   "id": "d0e09f01-39c4-4ef3-ac28-ef7ab7e6af03",
   "metadata": {},
   "outputs": [
    {
     "name": "stdout",
     "output_type": "stream",
     "text": [
      "8308.457194518049\n",
      "0.19624417055956547\n",
      "27.99755795854984\n",
      "35.40934145808634\n",
      "41.69616687830313\n"
     ]
    }
   ],
   "source": [
    "#retrieve final values of elements\n",
    "print(a_orbit[-1])\n",
    "print(e_orbit[-1])\n",
    "print(np.degrees(i_orbit[-1]))\n",
    "print(np.degrees(lil_omega_orbit[-1]))\n",
    "print(np.degrees(big_omega_orbit[-1]))"
   ]
  },
  {
   "cell_type": "code",
   "execution_count": 114,
   "id": "bcb58452-9b82-42fb-9e09-4561de385030",
   "metadata": {},
   "outputs": [],
   "source": [
    "#1.12\n",
    "#plot and save elements\n",
    "\n",
    "# fig = plt.figure(figsize=(8,4)) \n",
    "# plt.plot(t/3600, a_orbit, color='b')\n",
    "# plt.xlabel(\"time (hr)\")\n",
    "# plt.ylabel(\"a (km)\")\n",
    "# plt.axis('equal')\n",
    "# plt.title('Semimajor Axis (a) Over 10 Periods')\n",
    "# plt.show()\n",
    "\n",
    "# fig.savefig('Semimajor Axis (a) Over 10 Periods.png', facecolor='white', transparent=False)"
   ]
  },
  {
   "cell_type": "code",
   "execution_count": 113,
   "id": "d9d75ad4-6a29-4c5c-9201-45e4967b5094",
   "metadata": {},
   "outputs": [],
   "source": [
    "# fig = plt.figure(figsize=(8,4)) \n",
    "# plt.plot(t/3600, e_orbit, color='b')\n",
    "# plt.xlabel(\"time (hr)\")\n",
    "# plt.ylabel(\"e\")\n",
    "# plt.title('Eccentricity (e) Over 10 Periods')\n",
    "# plt.show()\n",
    "\n",
    "# fig.savefig('Eccentricity (e) Over 10 Periods.png', facecolor='white', transparent=False)"
   ]
  },
  {
   "cell_type": "code",
   "execution_count": 112,
   "id": "b0cce75c-8481-45de-81a5-3a985f0b1df2",
   "metadata": {
    "scrolled": true
   },
   "outputs": [],
   "source": [
    "# fig = plt.figure(figsize=(8,4)) \n",
    "# plt.plot(t/3600, np.degrees(i_orbit), color='b')\n",
    "# plt.xlabel(\"time (hr)\")\n",
    "# plt.ylabel(\"i (deg) \")\n",
    "# plt.title('Inclination (i) Over 10 Periods')\n",
    "# plt.show()\n",
    "\n",
    "# fig.savefig('Inclination (i) Over 10 Periods.png', transparent=False)"
   ]
  },
  {
   "cell_type": "code",
   "execution_count": 111,
   "id": "26875694-2f32-45f8-b73c-05c820a93350",
   "metadata": {},
   "outputs": [],
   "source": [
    "# fig = plt.figure(figsize=(8,4)) \n",
    "# plt.plot(t/3600, np.degrees(lil_omega_orbit), color='b')\n",
    "# plt.xlabel(\"time (hr)\")\n",
    "# plt.ylabel(\"w (deg)\")\n",
    "# plt.title('Argument of Periapsis (w) Over 10 Periods')\n",
    "# plt.show()\n",
    "\n",
    "# fig.savefig('Argument of Periapsis (w) Over 10 Periods.png', transparent=False)"
   ]
  },
  {
   "cell_type": "code",
   "execution_count": 110,
   "id": "94c6c719-acfc-4bd0-a5bc-118ba9b94022",
   "metadata": {},
   "outputs": [],
   "source": [
    "# fig = plt.figure(figsize=(8,4)) \n",
    "# plt.plot(t/3600, np.degrees(big_omega_orbit), color='b')\n",
    "# plt.xlabel(\"time (hr)\")\n",
    "# plt.ylabel(\"RAAN (deg)\")\n",
    "# plt.title('Right Ascension of Ascending Node (RAAN) Over 10 Periods')\n",
    "# plt.show()\n",
    "\n",
    "# fig.savefig('Right Ascension of Ascending Node (RAAN) Over 10 Periods.png', transparent=False)"
   ]
  },
  {
   "cell_type": "markdown",
   "id": "eff6b65c-eba7-44fa-a76d-950e9d30b6bf",
   "metadata": {},
   "source": [
    "## Problem 2"
   ]
  },
  {
   "cell_type": "code",
   "execution_count": 46,
   "id": "64e1c8b5-6527-40fb-b5c6-a47ff5eae7c1",
   "metadata": {},
   "outputs": [],
   "source": [
    "#time, angles, and locations of observations\n",
    "\n",
    "t1 = 0 #s\n",
    "t2 = 118.1 #s\n",
    "t3 = 237.58 #s\n",
    "alpha_1 = np.radians(43.537)\n",
    "alpha_2 = np.radians(54.420)\n",
    "alpha_3 = np.radians(64.318)\n",
    "delta_1 = np.radians(-8.7883)\n",
    "delta_2 = np.radians(-12.074)\n",
    "delta_3 = np.radians(-15.105)\n",
    "R_1 = np.array([\n",
    "    3489.83, 3430.17, 4078.54\n",
    "])\n",
    "R_2 = np.array([\n",
    "    3460.13, 3460.13, 4078.54\n",
    "])\n",
    "R_3 = np.array([\n",
    "    3429.86, 3490.13, 4078.54\n",
    "])\n",
    "\n",
    "#represent R as a matrix to access easier\n",
    "R = np.array([R_1, R_2, R_3])"
   ]
  },
  {
   "cell_type": "code",
   "execution_count": 59,
   "id": "86eb3cf1-d70d-4f9a-8736-fc0ba6af739e",
   "metadata": {},
   "outputs": [],
   "source": [
    "#2.1\n",
    "#calculate time parameters, and direction of satellite from observations using angles\n",
    "\n",
    "tau_1 = t1 - t2\n",
    "tau_3 = t3 - t2\n",
    "tau = t3 - t1\n",
    "rho_1_hat = np.array([ np.cos(delta_1) * np.cos(alpha_1), np.cos(delta_1) * np.sin(alpha_1), np.sin(delta_1) ])\n",
    "rho_2_hat = np.array([ np.cos(delta_2) * np.cos(alpha_2), np.cos(delta_2) * np.sin(alpha_2), np.sin(delta_2) ])\n",
    "rho_3_hat = np.array([ np.cos(delta_3) * np.cos(alpha_3), np.cos(delta_3) * np.sin(alpha_3), np.sin(delta_3) ])\n",
    "\n",
    "#calculate cross products for later equations\n",
    "p = np.array([\n",
    "    np.cross(rho_2_hat, rho_3_hat), np.cross(rho_1_hat, rho_3_hat), np.cross(rho_1_hat, rho_2_hat)\n",
    "])\n",
    "\n",
    "# print(rho_1_hat)\n",
    "# print(rho_2_hat)\n",
    "# print(rho_3_hat)"
   ]
  },
  {
   "cell_type": "code",
   "execution_count": 60,
   "id": "e7b2dcd9-8c83-407e-ba3b-fa9552d0a41c",
   "metadata": {},
   "outputs": [],
   "source": [
    "#2.2\n",
    "#calculate parameter D_0\n",
    "D_0 = np.dot(rho_1_hat,p[0])"
   ]
  },
  {
   "cell_type": "code",
   "execution_count": 62,
   "id": "042ce06c-bdc8-4379-b7bd-048286f8a467",
   "metadata": {},
   "outputs": [],
   "source": [
    "#represent D scalars as a matrix. zero-indexing makes this tricky\n",
    "D = np.zeros((3,3))\n",
    "for i in range(3):\n",
    "    for j in range(3):\n",
    "        D[i][j] = np.dot(R[i],p[j])\n",
    "# print(D)"
   ]
  },
  {
   "cell_type": "code",
   "execution_count": 63,
   "id": "2e0acb82-d69a-4bec-88d9-25c04d8e09bb",
   "metadata": {},
   "outputs": [],
   "source": [
    "#calculate A, B, E, a, b, c parameters\n",
    "A = (1/D_0) * ( -D[0][1] * (tau_3/ tau) + D[1][1] + D[2][1] * (tau_1/tau) )\n",
    "B = ( 1 / ( 6 * D_0 ) ) * ( D[0][1] * (tau_3**2 - tau**2) * (tau_3/tau) + D[2][1] * (tau**2 - tau_1**2) * (tau_1/tau) )\n",
    "E = np.dot(R[1], rho_2_hat)\n",
    "a = - (A**2 + 2 * A * E + np.dot(R[1], R[1]))\n",
    "b = - 2 * mu_E * B * (A + E)\n",
    "c = - mu_E**2 * B**2"
   ]
  },
  {
   "cell_type": "code",
   "execution_count": 64,
   "id": "2d07e39f-b52b-48ba-87c0-e14853b87202",
   "metadata": {},
   "outputs": [
    {
     "name": "stdout",
     "output_type": "stream",
     "text": [
      "[-6584.94922689+4597.60581268j -6584.94922689-4597.60581268j\n",
      " -7027.79904045   +0.j          9228.07608707   +0.j\n",
      "   825.46197859+6881.21042704j   825.46197859-6881.21042704j\n",
      "  4659.34872499+4901.85635182j  4659.34872499-4901.85635182j]\n"
     ]
    }
   ],
   "source": [
    "#solve the polynomial, choose the reasonable root for r_2_mag\n",
    "soln = np.roots([1,0,a,0,0,b,0,0,c])\n",
    "print(soln)"
   ]
  },
  {
   "cell_type": "code",
   "execution_count": 130,
   "id": "9a25e371-6c46-48ce-9b1a-fa68fa3e09c9",
   "metadata": {},
   "outputs": [
    {
     "name": "stdout",
     "output_type": "stream",
     "text": [
      "3622.9875928841643 3848.4430843045398 4171.666859661507\n"
     ]
    }
   ],
   "source": [
    "#2.3\n",
    "#define r_2_mag as the most reasonable root\n",
    "#now we can calculate slant angle\n",
    "r_2_mag = 9228.07608707\n",
    "\n",
    "a_1 = 6 * ( D[2][0] * ( tau_1 / tau_3 ) + D[1][0] * ( tau / tau_3 ) ) * r_2_mag**3 + mu_E * D[2][0] * (tau**2 - tau_1**2) * ( tau_1 / tau_3 )\n",
    "b_1 = 6 * r_2_mag**3 + mu_E * ( tau**2 - tau_3**2 )\n",
    "rho_1 = (1/D_0) * ( a_1 / b_1 - D[0][0] )\n",
    "\n",
    "a_3 = 6 * ( D[0][2] * ( tau_3 / tau_1 ) - D[1][2] * ( tau / tau_1 ) ) * r_2_mag**3 + mu_E * D[0][2] * (tau**2 - tau_1**2) * ( tau_3 / tau_1 )\n",
    "b_3 = (6 * r_2_mag**3 + mu_E * ( tau**2 - tau_1**2 ) )\n",
    "rho_3 = (1/D_0) * ( a_3 / b_3 - D[2][2] )\n",
    "\n",
    "rho_2 = A + mu_E * B / r_2_mag**3\n",
    "\n",
    "print(rho_1, rho_2, rho_3)"
   ]
  },
  {
   "cell_type": "code",
   "execution_count": 67,
   "id": "1c04176b-ec48-4dd6-896f-78848c5422c9",
   "metadata": {},
   "outputs": [
    {
     "name": "stdout",
     "output_type": "stream",
     "text": [
      "[6085.40619165 5896.46736948 3525.00534268] [5649.7702502  6520.84378001 3273.54254368] [5175.29707537 7119.79806009 2991.4505016 ]\n"
     ]
    }
   ],
   "source": [
    "#calculate radius\n",
    "r_1 = R_1 + rho_1 * rho_1_hat\n",
    "r_2 = R_2 + rho_2 * rho_2_hat\n",
    "r_3 = R_3 + rho_3 * rho_3_hat\n",
    "print(r_1, r_2, r_3)"
   ]
  },
  {
   "cell_type": "code",
   "execution_count": 68,
   "id": "359ce4ae-d595-4643-8044-3ec2222e1cd5",
   "metadata": {},
   "outputs": [
    {
     "name": "stdout",
     "output_type": "stream",
     "text": [
      "[-3.83334281  5.15756953 -2.2473264 ]\n"
     ]
    }
   ],
   "source": [
    "#2.4\n",
    "#calculate v_2 from f and g estimates\n",
    "f1 = 1 - 0.5 * mu_E * tau_1**2 / r_2_mag**3\n",
    "f3 = 1 - 0.5 * mu_E * tau_3**2 / r_2_mag**3\n",
    "g1 = tau_1 - (1/6) * mu_E * tau_1**3 / r_2_mag**3\n",
    "g3 = tau_3 - (1/6) * mu_E * tau_3**3 / r_2_mag**3\n",
    "v_2 = (-f3 * r_1 + f1 * r_3) / (f1 * g3 - f3 * g1)\n",
    "print(v_2)"
   ]
  },
  {
   "cell_type": "code",
   "execution_count": 125,
   "id": "a72cae51-c1d5-47a7-8a46-1ad66e6881f0",
   "metadata": {},
   "outputs": [],
   "source": [
    "#2.5-10\n",
    "#calculate orbital elements\n",
    "K = np.array([0,0,1])\n",
    "I = np.array([1,0,0])\n",
    "r = r_2\n",
    "v = v_2\n",
    "r_mag = la.norm(r)\n",
    "v_mag = la.norm(v)\n",
    "h = np.cross(r,v)\n",
    "e = ( np.cross(v,h) / mu_E ) - r / r_mag\n",
    "n = np.cross(K,h)\n",
    "i = np.arccos( np.dot(h,K) / la.norm(h))\n",
    "lil_omega = np.arccos( np.dot(n,e) / (la.norm(e) * la.norm(n)) )\n",
    "big_omega = np.arccos(np.dot(n,I)/ la.norm(n))\n",
    "f = np.arccos(np.dot(r_2,e) / (r_2_mag * la.norm(e)))\n",
    "a = 1 / ( (2/r_mag) - ((v_mag**2)/mu_E) )"
   ]
  },
  {
   "cell_type": "code",
   "execution_count": 128,
   "id": "0e0fd66f-e6cc-4cec-bb37-85dcad6224a8",
   "metadata": {},
   "outputs": [
    {
     "name": "stdout",
     "output_type": "stream",
     "text": [
      "[  -148.26706323 -31537.98766479      0.        ] 4617.480404370952\n"
     ]
    }
   ],
   "source": [
    "#check if any elements need to be adjusted\n",
    "print(n, np.dot(r_2, v_2))\n",
    "#n.j < 0, need to adjust big omega\n",
    "big_omega = 2 * np.pi - big_omega"
   ]
  },
  {
   "cell_type": "code",
   "execution_count": 129,
   "id": "087a9838-dcc2-41d1-8067-5276ece963f6",
   "metadata": {},
   "outputs": [
    {
     "name": "stdout",
     "output_type": "stream",
     "text": [
      "semimajor axis:  9954.293837187999 \n",
      " eccentricity:  0.10342160428778187 \n",
      " inclination:  30.22418490345657 \n",
      " RAAN:  269.73064183832565\n",
      "argument of periapsis:  85.68839870993905 \n",
      " true anomaly:  49.50595785407631\n"
     ]
    }
   ],
   "source": [
    "#print final values\n",
    "print('semimajor axis: ', a, '\\n', 'eccentricity: ', la.norm(e), '\\n', 'inclination: ', np.degrees(i), '\\n', 'RAAN: ', np.degrees(big_omega))\n",
    "print('argument of periapsis: ', np.degrees(lil_omega), '\\n', 'true anomaly: ', np.degrees(f))"
   ]
  },
  {
   "cell_type": "code",
   "execution_count": null,
   "id": "2a930dbb-8ce5-4649-ac8a-f4389cbc0170",
   "metadata": {},
   "outputs": [],
   "source": []
  }
 ],
 "metadata": {
  "kernelspec": {
   "display_name": "Python 3 (ipykernel)",
   "language": "python",
   "name": "python3"
  },
  "language_info": {
   "codemirror_mode": {
    "name": "ipython",
    "version": 3
   },
   "file_extension": ".py",
   "mimetype": "text/x-python",
   "name": "python",
   "nbconvert_exporter": "python",
   "pygments_lexer": "ipython3",
   "version": "3.11.5"
  }
 },
 "nbformat": 4,
 "nbformat_minor": 5
}
