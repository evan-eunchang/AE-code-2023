{
 "cells": [
  {
   "cell_type": "markdown",
   "metadata": {},
   "source": [
    "# Assignment Instructions\n",
    "\n",
    "**Work through the \"Python Basics\" sections, then complete the \"YOUR TURN\" cells and save and submit your notebook to Gradescope.** You are encouraged to edit all code cells and run them to better understand what the code is doing. You will only be graded on completion of the \"YOUR TURN\" cells. The \"Advanced\" concepts cells are optional.\n",
    "\n",
    "You can run a code cell by pressing the SHIFT + ENTER keys (simultaneously).\n",
    "\n",
    "Code lines that start with the `#` symbol are comments."
   ]
  },
  {
   "cell_type": "markdown",
   "metadata": {},
   "source": [
    "## Python Basics\n",
    "\n",
    "The purpose of this refresher is to provide a short intoduction to (or reminder of) some Python basics. Python is the programming language used in this course, and learning (remembering) how to use it and some best-practices will help you write good, readable code for this course.\n",
    "\n",
    "If you encounter a section that contains unfamiliar topics, do your best to brush up on these topics by searching for other tutorials and videos online that cover them more in-depth. Stackoverflow, Geeks for Geeks, and individual library documentation are all freely available, so make liberal use of these resources. Search engines are your friend here and no programmer would survive without them. If you have tried everything you can think of and exhauseted these resources, reach out to a friend or the TA for assistance.\n",
    "\n",
    "See the official [Python tutorial](https://docs.python.org/3/tutorial/) for more details."
   ]
  },
  {
   "cell_type": "markdown",
   "metadata": {},
   "source": [
    "### Basic Data Types and Variables\n",
    "Python does not require declaration of the type of variable when defining it. This means assigning variables is as easy as writing `VARIABLE_NAME = VARIABLE_VALUE`. Matlab handles variable type assignment similarly, but languages like C++ and C require explicit declaration of a variable's type before assigning a value."
   ]
  },
  {
   "cell_type": "code",
   "execution_count": 1,
   "metadata": {
    "ExecuteTime": {
     "end_time": "2020-08-25T19:06:04.771716Z",
     "start_time": "2020-08-25T19:06:04.765731Z"
    }
   },
   "outputs": [
    {
     "name": "stdout",
     "output_type": "stream",
     "text": [
      "2\n",
      "3.0\n",
      "hello world\n",
      "1.0\n"
     ]
    }
   ],
   "source": [
    "# assigning variables in Python is as easy as\n",
    "a = 2\n",
    "b = 3.0\n",
    "c = \"hello world\"\n",
    "\n",
    "# you can also assign multiple variables at the same time\n",
    "x, y = 1.0, 2.0\n",
    "\n",
    "print(a)\n",
    "print(b)\n",
    "print(c)\n",
    "print(x)"
   ]
  },
  {
   "cell_type": "code",
   "execution_count": 2,
   "metadata": {
    "ExecuteTime": {
     "end_time": "2020-08-25T19:06:05.041994Z",
     "start_time": "2020-08-25T19:06:05.032020Z"
    }
   },
   "outputs": [
    {
     "name": "stdout",
     "output_type": "stream",
     "text": [
      "<class 'int'>\n",
      "<class 'float'>\n",
      "<class 'str'>\n"
     ]
    }
   ],
   "source": [
    "# common data types include\n",
    "# integers\n",
    "print(type(a))\n",
    "\n",
    "# floating-point numbers (used for decimals)\n",
    "print(type(b))\n",
    "\n",
    "# strings (used for text)\n",
    "print(type(c))\n"
   ]
  },
  {
   "cell_type": "code",
   "execution_count": 3,
   "metadata": {
    "ExecuteTime": {
     "end_time": "2020-08-25T19:06:05.193587Z",
     "start_time": "2020-08-25T19:06:05.184612Z"
    }
   },
   "outputs": [
    {
     "name": "stdout",
     "output_type": "stream",
     "text": [
      "5.0\n",
      "-1.0\n",
      "6.0\n",
      "0.6666666666666666\n",
      "4\n"
     ]
    }
   ],
   "source": [
    "# different data types can interact with each other\n",
    "# you can add, subtract, multiply, divide with ints and floats\n",
    "print(a + b)\n",
    "print(a - b)\n",
    "print(a * b)\n",
    "print(a / b)\n",
    "\n",
    "# you can also take powers of ints and floats\n",
    "print(a**2)\n"
   ]
  },
  {
   "cell_type": "code",
   "execution_count": 4,
   "metadata": {
    "ExecuteTime": {
     "end_time": "2020-08-25T16:36:20.761585Z",
     "start_time": "2020-08-25T16:36:20.755636Z"
    }
   },
   "outputs": [
    {
     "name": "stdout",
     "output_type": "stream",
     "text": [
      "1.3333333333333333\n",
      "1     1\n",
      "0.6666666666666666\n",
      "0     1\n"
     ]
    }
   ],
   "source": [
    "# numbers can be rounded \"toward zero\" using int(x), or rounded the normal way using round(x)\n",
    "print(2*a/b)\n",
    "print(int(2*a/b), \"   \", round(2*a/b))\n",
    "print(a/b)\n",
    "print(int(a/b), \"   \", round(a/b))\n"
   ]
  },
  {
   "cell_type": "code",
   "execution_count": 5,
   "metadata": {
    "ExecuteTime": {
     "end_time": "2020-08-25T18:05:32.825765Z",
     "start_time": "2020-08-25T18:05:32.820772Z"
    }
   },
   "outputs": [
    {
     "name": "stdout",
     "output_type": "stream",
     "text": [
      "hello world\n"
     ]
    }
   ],
   "source": [
    "# you can add (concatenate) strings as well\n",
    "str_1 = \"hello\"\n",
    "str_2 = \" world\"\n",
    "\n",
    "print(str_1 + str_2)"
   ]
  },
  {
   "cell_type": "markdown",
   "metadata": {},
   "source": [
    "### More Complex Data Types"
   ]
  },
  {
   "cell_type": "code",
   "execution_count": 6,
   "metadata": {
    "ExecuteTime": {
     "end_time": "2020-08-25T17:00:30.327975Z",
     "start_time": "2020-08-25T17:00:30.317964Z"
    }
   },
   "outputs": [
    {
     "name": "stdout",
     "output_type": "stream",
     "text": [
      "0\n",
      "[1.0]\n",
      "1\n",
      "[0, 1, 4, 9, 16, 25, 36, 49, 64, 81]\n",
      "[0, 1, 4, 9, 16, 25, 36, 49, 64, 81]\n"
     ]
    }
   ],
   "source": [
    "# lists are a very useful data structure in Python\n",
    "a = []\n",
    "\n",
    "# a is currently an empty list\n",
    "print(len(a))\n",
    "\n",
    "# adding elements to lists is easy\n",
    "a.append(1.0)\n",
    "print(a)\n",
    "\n",
    "# let's see how many items are contained in the list \n",
    "print(len(a))\n",
    "\n",
    "# list comprehensions can make adding many elements to a list easy\n",
    "a = [x**2 for x in range(0, 10)]\n",
    "print(a)\n",
    "\n",
    "# the above list comprehension could also be written long-form as\n",
    "a = []\n",
    "for i in range(0, 10):\n",
    "    a.append(i**2)\n",
    "print(a)\n"
   ]
  },
  {
   "cell_type": "code",
   "execution_count": 7,
   "metadata": {
    "ExecuteTime": {
     "end_time": "2020-08-25T17:03:37.904380Z",
     "start_time": "2020-08-25T17:03:37.898395Z"
    }
   },
   "outputs": [
    {
     "name": "stdout",
     "output_type": "stream",
     "text": [
      "0\n",
      "[0, 1, 4, 9, 16, 25, 36]\n",
      "[49, 64, 81]\n"
     ]
    }
   ],
   "source": [
    "# we can slice lists to pick out particular elements\n",
    "# remember, Python is 0-indexed (unlike Matlab, which is 1-indexed)\n",
    "start_idx = 0\n",
    "end_idx = 7 # non-inclusive\n",
    "\n",
    "# choose a single element of the list\n",
    "b = a[start_idx]\n",
    "print(b)\n",
    "\n",
    "# choose a subset of the list\n",
    "b = a[start_idx:end_idx]\n",
    "print(b)\n",
    "\n",
    "# you can also index from the end of a list using a negative index\n",
    "b = a[-3:]\n",
    "print(b)\n"
   ]
  },
  {
   "cell_type": "markdown",
   "metadata": {},
   "source": [
    "### Loops and Control Statements\n",
    "\n",
    "Loops and Control Statements form the backbone of any program that is worth using. Internet browsers, control systems, smartphone apps, and more are built on using loops to automate certain aspects of the program. Similarly, control statements, like `if`, `else`, `and`, `or`, `&` (the bitwise and operator), `|` (the bitwise or operator) allow you to implement logical decisions in your code.\n"
   ]
  },
  {
   "cell_type": "code",
   "execution_count": 8,
   "metadata": {},
   "outputs": [
    {
     "name": "stdout",
     "output_type": "stream",
     "text": [
      "[0, 1, 2, 4, 5, 6, 7, 8]\n",
      "[3, 9]\n"
     ]
    }
   ],
   "source": [
    "\n",
    "# we saw earlier that a for loop can be used to easily populate a list with elements\n",
    "# let's add some control statements to pick out only the items we want to add to the list\n",
    "\n",
    "# before running this code, carefully read through it and try to figure out what the lists a and b will look like\n",
    "# after the loop is complete\n",
    "a = []\n",
    "b = []\n",
    "\n",
    "for i in range(0, 10):\n",
    "    # check if the current number is divisible by 2 using the modulo (%) operator\n",
    "    # the == operator checks for equality, and returns a boolean True or False\n",
    "    # if the statement contained within the () is True, the lines in the indent will be \n",
    "    if (i % 2 == 0):\n",
    "        a.append(i)\n",
    "    \n",
    "    # the != operator checks for inequality\n",
    "    # in English, this statement would be written as \"else if the number i is not divisible by 3\"\n",
    "    elif (i % 3 != 0):\n",
    "        a.append(i)\n",
    "    \n",
    "    else:\n",
    "        b.append(i)\n",
    "\n",
    "print(a)\n",
    "print(b)"
   ]
  },
  {
   "cell_type": "code",
   "execution_count": 9,
   "metadata": {},
   "outputs": [
    {
     "name": "stdout",
     "output_type": "stream",
     "text": [
      "[0, 1, 2, 4, 5]\n",
      "[3]\n"
     ]
    }
   ],
   "source": [
    "# this loop is like the one above, but we've switched the for loop for a while loop\n",
    "# while loops are useful for creating infinitely running loops that only stop after some condition is met\n",
    "# the \"break\" and \"continue\" statements are used to control the loop.\n",
    "\n",
    "# how will lists a and b look after running this new loop?\n",
    "a = []\n",
    "b = []\n",
    "i = 0\n",
    "while i < 10:\n",
    "    # check if the current number is divisible by 2 using the modulo (%) operator\n",
    "    # the == operator checks for equality, and returns a boolean True or False\n",
    "    # if the statement contained within the () is True, the lines in the indent will be \n",
    "    if (i % 2 == 0):\n",
    "        a.append(i)\n",
    "    \n",
    "    # the != operator checks for inequality\n",
    "    # in English, this statement would be written as \"else if the number i is not divisible by 3\"\n",
    "    elif (i % 3 != 0):\n",
    "        a.append(i)\n",
    "\n",
    "    else:\n",
    "        b.append(i)\n",
    "    \n",
    "    # exit the loop when some condition is met\n",
    "    if (i >= 5):\n",
    "        break\n",
    "\n",
    "    i += 1\n",
    "    \n",
    "print(a)\n",
    "print(b)"
   ]
  },
  {
   "cell_type": "code",
   "execution_count": 10,
   "metadata": {},
   "outputs": [
    {
     "name": "stdout",
     "output_type": "stream",
     "text": [
      "[0, 1, 4, 9, 16, 25, 36, 49, 64, 81]\n"
     ]
    }
   ],
   "source": [
    "# list comprehensions can sometimes be used in place of simple for loops (recall the following example from \"More Complex Data Types\")\n",
    "a = [x**2 for x in range(0, 10)]\n",
    "print(a)"
   ]
  },
  {
   "cell_type": "markdown",
   "metadata": {},
   "source": [
    "### Functions and Variable Scope\n",
    "\n",
    "So far, we have used several functions from the Python standard library including `print`, `len`, `int`, and `round`. You can also create your own custom functions, which are critical to writing easy-to-debug, re-usable code.\n",
    "\n",
    "When writing functions is it important to break tasks down into smaller sub-tasks. Once you have the smallest possible action you can take on your data, create a function that carries out this action. Then, you can build up larger chains of actions from these elementary functions you've written.\n"
   ]
  },
  {
   "cell_type": "code",
   "execution_count": 11,
   "metadata": {
    "ExecuteTime": {
     "end_time": "2020-08-25T18:58:39.141074Z",
     "start_time": "2020-08-25T18:58:39.128112Z"
    }
   },
   "outputs": [
    {
     "name": "stdout",
     "output_type": "stream",
     "text": [
      "2\n",
      "4\n",
      "6\n",
      "None\n"
     ]
    }
   ],
   "source": [
    "# writing functions in Python is easy\n",
    "# don't forget to indent the function code, indenting is a critical part of Python's syntax \n",
    "def my_function():\n",
    "    # the scope of the `a1` variable is referred to as \"local\"\n",
    "    # i.e., this variable cannot be referenced outside this function's code\n",
    "    a1 = 1\n",
    "    return 2 * a1\n",
    "\n",
    "# functions can also have multiple inputs (known as arguments)\n",
    "def my_function_2(arg1, arg2, arg3=1):\n",
    "    # args 1 and 2 are required for this function to run\n",
    "    # arg 3 is optional, if it is not defined, it will take the default value of 1 (defined in the function definition)\n",
    "    return arg1 + arg2 + arg3\n",
    "\n",
    "def my_function_3(arg1, arg2):\n",
    "    return\n",
    "    # functions will exit after a return statement, any lines after the return statement will not be executed \n",
    "    print(arg1, arg2)\n",
    "\n",
    "# the scope of the \"func_output\" variable is referred to as \"global\"\n",
    "# i.e., it can be referenced by any function\n",
    "func_output = my_function()\n",
    "print(func_output)\n",
    "\n",
    "func_2_output = my_function_2(1, 2) \n",
    "print(func_2_output)\n",
    "\n",
    "func_2_output_optional = my_function_2(1, 2, 3)\n",
    "print(func_2_output_optional)\n",
    "\n",
    "func_3_output = my_function_3(1, 2)\n",
    "print(func_3_output)"
   ]
  },
  {
   "cell_type": "markdown",
   "metadata": {},
   "source": [
    "In standard Python, you must define a variable first, then you can use it in calculations. However in Jupyter notebooks, variables are kept in memory (similar to Matlab) until the kernel is reset. This can cause issues, especially with global variables, where you expect a variable to take one value, but the old value is still in your computer memory.\n",
    "\n",
    "If you want to clear all variables from the memory, click on the Kernel button at the top of the screen and click the \"Reset\" button.\n"
   ]
  },
  {
   "cell_type": "code",
   "execution_count": 12,
   "metadata": {
    "ExecuteTime": {
     "end_time": "2020-08-25T18:53:12.037360Z",
     "start_time": "2020-08-25T18:53:12.030382Z"
    },
    "scrolled": true
   },
   "outputs": [
    {
     "ename": "NameError",
     "evalue": "name 'a1' is not defined",
     "output_type": "error",
     "traceback": [
      "\u001b[1;31m---------------------------------------------------------------------------\u001b[0m",
      "\u001b[1;31mNameError\u001b[0m                                 Traceback (most recent call last)",
      "Cell \u001b[1;32mIn[12], line 2\u001b[0m\n\u001b[0;32m      1\u001b[0m \u001b[38;5;66;03m# this code will not run because a1 is not defined beyond the scope of the `my_function` function\u001b[39;00m\n\u001b[1;32m----> 2\u001b[0m \u001b[38;5;28mprint\u001b[39m(\u001b[43ma1\u001b[49m)\n",
      "\u001b[1;31mNameError\u001b[0m: name 'a1' is not defined"
     ]
    }
   ],
   "source": [
    "# this code will not run because a1 is not defined beyond the scope of the `my_function` function\n",
    "print(a1)"
   ]
  },
  {
   "cell_type": "code",
   "execution_count": 13,
   "metadata": {
    "ExecuteTime": {
     "end_time": "2020-08-25T18:53:09.846957Z",
     "start_time": "2020-08-25T18:53:09.841898Z"
    }
   },
   "outputs": [],
   "source": [
    "# however, if you run this cell, then try running the cell above, it will now run!\n",
    "# this is because you have now defined `a1` as a \"global\" variable within this notebook\n",
    "a1 = 5.0"
   ]
  },
  {
   "cell_type": "markdown",
   "metadata": {},
   "source": [
    "### Libraries / Modules \n",
    "\n",
    "Python's functionality can be extended through the use of external libraries (also referred to as modules).\n",
    "\n",
    "While you can implement your own versions of basic mathematical functions and classes, most people don't need to implement their own versions for most engineering purposes. Instead, highly-optimized implementations exist in the form of libraries. For scientific calculations, `numpy` provides Python with almost all of the same functionality that comes with Matlab.\n",
    "\n",
    "Most (if not all) of the Python libraries you will need for this class should already be installed to your environment through a default Anaconda installation."
   ]
  },
  {
   "cell_type": "code",
   "execution_count": 14,
   "metadata": {
    "ExecuteTime": {
     "end_time": "2020-08-25T19:03:44.499314Z",
     "start_time": "2020-08-25T19:03:42.805202Z"
    }
   },
   "outputs": [
    {
     "name": "stdout",
     "output_type": "stream",
     "text": [
      "[1 2 3 4]\n",
      "<class 'numpy.ndarray'>\n"
     ]
    }
   ],
   "source": [
    "# to use external libraries, simply import them\n",
    "# the \"as\" part of the import statement allows you to rename the library as you import it\n",
    "import numpy as np\n",
    "\n",
    "# numpy arrays are like lists, but you can create mulit-dimensional arrays to efficiently store data\n",
    "arr1 = np.array([1, 2, 3, 4])\n",
    "print(arr1)\n",
    "print(type(arr1))"
   ]
  },
  {
   "cell_type": "code",
   "execution_count": 15,
   "metadata": {},
   "outputs": [
    {
     "name": "stdout",
     "output_type": "stream",
     "text": [
      "[ 0.   2.5  5.   7.5 10. ]\n",
      "[0.  0.1 0.2 0.3 0.4 0.5 0.6 0.7 0.8 0.9 1.  1.1 1.2 1.3 1.4 1.5 1.6 1.7\n",
      " 1.8 1.9 2.  2.1 2.2 2.3 2.4 2.5 2.6 2.7 2.8 2.9 3.  3.1 3.2 3.3 3.4 3.5\n",
      " 3.6 3.7 3.8 3.9 4.  4.1 4.2 4.3 4.4 4.5 4.6 4.7 4.8 4.9]\n"
     ]
    }
   ],
   "source": [
    "# you can also easily create arrays using np.linspace or np.arange\n",
    "arr2 = np.linspace(start=0, stop=10, num=5)\n",
    "arr3 = np.arange(start=0, stop=5, step=0.1)\n",
    "print(arr2)\n",
    "print(arr3)\n",
    "\n",
    "# note that we did not need to \"re-import\" the numpy library for this cell, since the previous code cell already imported it for this notebook\n",
    "# (we will need to re-import libraries if the notebook is restarted)"
   ]
  },
  {
   "cell_type": "markdown",
   "metadata": {},
   "source": [
    "`numpy` and `matplotlib.pyplot`, as well as other key libraries like `pandas` (for handling data), `scikitlearn` (for basic statistical models), and `pytorch` (for deep learning models) are critical tools used every day to help solve engineering problems.\n",
    "\n"
   ]
  },
  {
   "cell_type": "markdown",
   "metadata": {},
   "source": [
    "### Plotting in Python\n",
    "\n",
    "For plotting, `matplotlib.pyplot` provides Python with almost all of the same functionality that comes with Matlab. A good tutorial (with example code) for plotting with `pyplot` is available here: https://matplotlib.org/stable/tutorials/introductory/pyplot.html#sphx-glr-tutorials-introductory-pyplot-py.\n"
   ]
  },
  {
   "cell_type": "code",
   "execution_count": 86,
   "metadata": {},
   "outputs": [
    {
     "name": "stdout",
     "output_type": "stream",
     "text": [
      "x values: [0 1 2 3]\n",
      "y values: [ 5 10 20 40]\n"
     ]
    },
    {
     "data": {
      "image/png": "[encoded data removed]",
      "text/plain": [
       "<Figure size 800x550 with 1 Axes>"
      ]
     },
     "metadata": {},
     "output_type": "display_data"
    },
    {
     "data": {
      "text/plain": [
       "<matplotlib.collections.PathCollection at 0x20d392097d0>"
      ]
     },
     "execution_count": 86,
     "metadata": {},
     "output_type": "execute_result"
    },
    {
     "data": {
      "image/png": "[encoded data removed]",
      "text/plain": [
       "<Figure size 800x550 with 1 Axes>"
      ]
     },
     "metadata": {},
     "output_type": "display_data"
    }
   ],
   "source": [
    "# import the pyplot library\n",
    "import matplotlib.pyplot as plt\n",
    "\n",
    "# create a list of data to plot\n",
    "y = np.array([5, 10, 20, 40])\n",
    "x = np.arange(len(y))\n",
    "print('x values:', x)\n",
    "print('y values:', y)\n",
    "\n",
    "# creating a line plot is easy!\n",
    "plt.plot(x, y)\n",
    "plt.show()  # ensures the line plot is shown without being overwritten by the scatterplot below (see what happens if you run this cell with this line commented out)\n",
    "\n",
    "# creating a scatterplot is easy too!\n",
    "plt.scatter(x, y)"
   ]
  },
  {
   "cell_type": "code",
   "execution_count": 87,
   "metadata": {},
   "outputs": [
    {
     "name": "stderr",
     "output_type": "stream",
     "text": [
      "C:\\Users\\phlee\\AppData\\Local\\Temp\\ipykernel_22744\\645981670.py:2: MatplotlibDeprecationWarning: The seaborn styles shipped by Matplotlib are deprecated since 3.6, as they no longer correspond to the styles shipped by seaborn. However, they will remain available as 'seaborn-v0_8-<style>'. Alternatively, directly use the seaborn API instead.\n",
      "  plt.style.use('seaborn')  # you can change the style background using this command (examples found here: https://matplotlib.org/stable/gallery/style_sheets/style_sheets_reference.html)\n"
     ]
    },
    {
     "data": {
      "text/plain": [
       "[<matplotlib.axis.XTick at 0x20d391d3f90>,\n",
       " <matplotlib.axis.XTick at 0x20d392143d0>,\n",
       " <matplotlib.axis.XTick at 0x20d391a6a50>,\n",
       " <matplotlib.axis.XTick at 0x20d39117990>]"
      ]
     },
     "execution_count": 87,
     "metadata": {},
     "output_type": "execute_result"
    },
    {
     "data": {
      "image/png": "[encoded data removed]",
      "text/plain": [
       "<Figure size 400x300 with 1 Axes>"
      ]
     },
     "metadata": {},
     "output_type": "display_data"
    }
   ],
   "source": [
    "# now let's format our figure to look nicer\n",
    "plt.style.use('seaborn')  # you can change the style background using this command (examples found here: https://matplotlib.org/stable/gallery/style_sheets/style_sheets_reference.html)\n",
    "fig = plt.figure(figsize=(4, 3))  # create an empty figure with width = 4\" and height = 3\"\n",
    "ax = fig.add_subplot(111)  # add a set of subplot axes to the figure (1 row, 1 column, index of 1)\n",
    "ax.plot(x, y, 'ro--')  # add a line plot to the figure axis with red 'o' markers and a '--' dashed line\n",
    "\n",
    "# adjust formatting\n",
    "ax.set_xlabel('# of AE370 Lectures Attended')\n",
    "ax.set_ylabel('Amazing Knowledge Obtained')\n",
    "ax.set_xticks([0, 1, 2, 3])  # set x tick labels shown\n",
    "# ax.set_xticks(x)  # this would also work"
   ]
  },
  {
   "cell_type": "code",
   "execution_count": 88,
   "metadata": {},
   "outputs": [
    {
     "data": {
      "text/plain": [
       "<matplotlib.legend.Legend at 0x20d3746e110>"
      ]
     },
     "execution_count": 88,
     "metadata": {},
     "output_type": "execute_result"
    },
    {
     "data": {
      "image/png": "[encoded data removed]",
      "text/plain": [
       "<Figure size 400x300 with 1 Axes>"
      ]
     },
     "metadata": {},
     "output_type": "display_data"
    }
   ],
   "source": [
    "# now let's plot multiple series on a plot\n",
    "\n",
    "# same plot as before\n",
    "fig = plt.figure(figsize=(4, 3))  # create an empty figure with width = 4\" and height = 3\"\n",
    "ax = fig.add_subplot(111)  # add a set of subplot axes to the figure (1 row, 1 column, index of 1)\n",
    "ax.plot(x, y, 'ro--', label='Taught by Andres')  # add a line plot to the figure axis with red 'o' markers and a '--' dashed line\n",
    "ax.set_xlabel('# of AE370 Lectures Attended')\n",
    "ax.set_ylabel('Amazing Knowledge Obtained')\n",
    "ax.set_xticks([0, 1, 2, 3])  # set x tick labels shown\n",
    "\n",
    "# add second series\n",
    "y2 = y + 10  # create a second data set (series) to plot (assuming the same x-values)\n",
    "ax.plot(x, y2, 'go-', label='Taught by Huy')  # add a line plot to the figure axis with red 'o' markers and a '--' dashed line\n",
    "ax.legend()  # add legend"
   ]
  },
  {
   "cell_type": "code",
   "execution_count": 89,
   "metadata": {},
   "outputs": [
    {
     "data": {
      "image/png": "[encoded data removed]",
      "text/plain": [
       "<Figure size 600x400 with 2 Axes>"
      ]
     },
     "metadata": {},
     "output_type": "display_data"
    }
   ],
   "source": [
    "# now let's create a subplot with multiple plots and save it\n",
    "\n",
    "# create figure and add first subplot\n",
    "fig = plt.figure(figsize=(6, 4))\n",
    "ax1 = fig.add_subplot(121)  # note that the # of columns = 2 this time\n",
    "ax1.plot(x, y)\n",
    "ax1.set_xlabel('# of AE370 Lectures Attended')\n",
    "ax1.set_ylabel('Amazing Knowledge Obtained')\n",
    "ax1.set_xticks([0, 1, 2, 3])  # set x tick labels shown}\n",
    "\n",
    "# add second subplot\n",
    "ax2 = fig.add_subplot(122)  # note that the index = 2 this time\n",
    "ax2.plot(x, y, 'ro')\n",
    "ax2.set_xlabel('# of AE370 Lectures Attended')\n",
    "\n",
    "# save figure\n",
    "fig.savefig('tutorial-figure.png')"
   ]
  },
  {
   "cell_type": "markdown",
   "metadata": {},
   "source": [
    "## YOUR TURN\n",
    "\n",
    "Complete the following parts. You can test your functions by running the assertion cells below them. If no error appears, then your function passed the test!"
   ]
  },
  {
   "cell_type": "markdown",
   "metadata": {},
   "source": [
    "### Part 1: Functions\n",
    "\n",
    "Complete the following cell by writing a function to cube the input argument. The comments at the top of the function define the purpose, input arguments, and outputs of the function. This documentation style is known as [NumPy docstring](https://numpydoc.readthedocs.io/en/latest/format.html#docstring-standard)."
   ]
  },
  {
   "cell_type": "code",
   "execution_count": 90,
   "metadata": {},
   "outputs": [],
   "source": [
    "def cube(x):\n",
    "    \"\"\"A function that returns the cube of x.\n",
    "    \n",
    "    Parameters\n",
    "    ----------\n",
    "    x : float_like\n",
    "        Input argument to be squared\n",
    "        \n",
    "    Returns\n",
    "    -------\n",
    "    x2 : float_like\n",
    "        cube of x (i.e., x^3)\n",
    "    \n",
    "    \"\"\"\n",
    "    \n",
    "    ### YOUR CODE HERE ###\n",
    "    return x**3\n",
    "    "
   ]
  },
  {
   "cell_type": "code",
   "execution_count": 91,
   "metadata": {},
   "outputs": [
    {
     "name": "stdout",
     "output_type": "stream",
     "text": [
      "x:  5\n",
      "y:  125\n",
      "TESTS PASSED\n"
     ]
    }
   ],
   "source": [
    "\"\"\"Check the function\"\"\"\n",
    "\n",
    "test_input = 5\n",
    "test_output = cube(test_input)\n",
    "\n",
    "# check output\n",
    "assert test_output == 125\n",
    "print('x: ', test_input)\n",
    "print('y: ', test_output)\n",
    "print('TESTS PASSED')"
   ]
  },
  {
   "cell_type": "markdown",
   "metadata": {},
   "source": [
    "### Part 2: For Loops\n",
    "\n",
    "Complete the following cell by writing a function to return the cube of each element in an input list. You can do this using a for loop or list comprehension."
   ]
  },
  {
   "cell_type": "code",
   "execution_count": 30,
   "metadata": {},
   "outputs": [],
   "source": [
    "def cube_list(x_list):\n",
    "    \"\"\"A function that returns the cube of each element in x_list.\n",
    "    \n",
    "    Parameters\n",
    "    ----------\n",
    "    x_list : list_like\n",
    "        Input list of elements to be cubed\n",
    "        \n",
    "    Returns\n",
    "    -------\n",
    "    x2_list : list_like\n",
    "        List of each element of x cubed (i.e., [x_1^3, x_2^3, ..., x_n^3)\n",
    "    \n",
    "    \"\"\"\n",
    "\n",
    "    to_return = [x**3 for x in x_list]\n",
    "\n",
    "    return to_return\n",
    "    ### YOUR CODE HERE ###\n",
    "    "
   ]
  },
  {
   "cell_type": "code",
   "execution_count": 31,
   "metadata": {},
   "outputs": [
    {
     "name": "stdout",
     "output_type": "stream",
     "text": [
      "x:  [1, 2, 3, 4, 5]\n",
      "y:  [1, 8, 27, 64, 125]\n",
      "TESTS PASSED\n"
     ]
    }
   ],
   "source": [
    "\"\"\"Check the function\"\"\"\n",
    "\n",
    "test_input = [1, 2, 3, 4, 5]\n",
    "test_output = cube_list(test_input)\n",
    "\n",
    "# check output\n",
    "assert test_output == [1, 8, 27, 64, 125]\n",
    "print('x: ', test_input)\n",
    "print('y: ', test_output)\n",
    "print('TESTS PASSED')"
   ]
  },
  {
   "cell_type": "markdown",
   "metadata": {},
   "source": [
    "\n",
    "### Part 3: Plotting\n",
    "Complete the following cell by writing code to create a figure with 2 plots of the function $f(x) = x^3$. The left plot should show the function in a linear scale. The right plot should show the function in a log-log scale.\n",
    "\n",
    "Use 50 equally spaced points in the interval $x \\in [1, 100]$ for both plots.\n",
    "\n",
    "Make sure you label your axes and add meaningful subplot titles. \n",
    "\n",
    "Hint: see the pyplot documentation for xscale for plotting in a log scale (https://matplotlib.org/stable/api/_as_gen/matplotlib.pyplot.xscale.html)."
   ]
  },
  {
   "cell_type": "code",
   "execution_count": 122,
   "metadata": {},
   "outputs": [
    {
     "data": {
      "image/png": "[encoded data removed]",
      "text/plain": [
       "<Figure size 600x400 with 2 Axes>"
      ]
     },
     "metadata": {},
     "output_type": "display_data"
    }
   ],
   "source": [
    "### YOUR CODE HERE ###\n",
    "\n",
    "from matplotlib.ticker import ScalarFormatter , NullFormatter\n",
    "\n",
    "x = np.linspace(start = 1, stop = 100, num = 50)\n",
    "y = cube_list(x)\n",
    "\n",
    "fig = plt.figure(figsize=(6, 4))\n",
    "ax1 = fig.add_subplot(121)  # note that the # of columns = 2 this time\n",
    "ax1.plot(x, y)\n",
    "ax1.set_xlabel('x')\n",
    "ax1.set_ylabel('f(x)')\n",
    "ax1.set_xticks([1, 25, 50, 75, 100])  # set x tick labels shown}\n",
    "ax1.set_title('Linear Scale')\n",
    "ax1.yaxis.set_major_formatter(ScalarFormatter())\n",
    "\n",
    "ax2 = fig.add_subplot(122)\n",
    "ax2.plot(x, y, 'r-') \n",
    "ax2.set_xlabel('x (log scale)')\n",
    "ax2.set_ylabel('f(x) (log scale)')\n",
    "ax2.set_title('Log-Log Scale')\n",
    "\n",
    "plt.yscale('log')\n",
    "plt.xscale('log')\n",
    "\n",
    "ax2.set_xticks([1, 10**0.5, 10, 10**1.5, 100])  # set x tick labels show\n",
    "\n",
    "ax2.xaxis.set_major_formatter(ScalarFormatter())\n",
    "\n",
    "plt.subplots_adjust(wspace = 0.4)\n",
    "fig.suptitle('x vs f(x) = x**3, plotted with different scales')\n",
    "plt.show()"
   ]
  },
  {
   "cell_type": "markdown",
   "metadata": {},
   "source": [
    "### Part 4: Submission\n",
    "Save your notebook and submit it on Gradescope (as a `.ipynb` file). Make sure your run your submitted code cells and their assertion cells (i.e., the outputs are available in your submission) before saving."
   ]
  },
  {
   "cell_type": "markdown",
   "metadata": {},
   "source": [
    "## Advanced Topics (Optional)"
   ]
  },
  {
   "cell_type": "markdown",
   "metadata": {},
   "source": [
    "### Classes\n",
    "Classes are a way of creating custom objects in Python. They allow you to create abstract data structures that can be used in many different situations.\n",
    "\n",
    "Lists are an example of a custom class that is defined in the Python source code. You can create your own custom objects easily too.\n"
   ]
  },
  {
   "cell_type": "code",
   "execution_count": 25,
   "metadata": {
    "ExecuteTime": {
     "end_time": "2020-08-25T16:20:30.044871Z",
     "start_time": "2020-08-25T16:20:30.031908Z"
    }
   },
   "outputs": [],
   "source": [
    "# let's create a class for an airplane\n",
    "class airplane(object):\n",
    "    \n",
    "    # the __init__ function is used to process arguments when instantiating a class (see below)\n",
    "    def __init__(self, wing_span, wing_area):\n",
    "        \n",
    "        # attributes of the class\n",
    "        self.wing_span = wing_span\n",
    "        self.wing_area = wing_area\n",
    "        \n",
    "        # this line uses a method (see below) to automatically calculate the wing aspect ratio when this class is instantiated\n",
    "        self.aspect_ratio = self.calculate_aspect_ratio(self.wing_span, self.wing_area)\n",
    "\n",
    "    # methods are functions defined within the scope of a class\n",
    "    # you must be mindful of scoping within classes, the first argument of a method is always \"self\", \n",
    "    # which tells Python that this function is associated with this particular class\n",
    "    # methods can be used anywhere within a class definition, even in the __init__ function\n",
    "    def calculate_aspect_ratio(self, wing_span, wing_area):\n",
    "        return wing_span ** 2 / wing_area\n"
   ]
  },
  {
   "cell_type": "code",
   "execution_count": 26,
   "metadata": {
    "ExecuteTime": {
     "end_time": "2020-08-25T16:26:11.265257Z",
     "start_time": "2020-08-25T16:26:11.255246Z"
    }
   },
   "outputs": [
    {
     "name": "stdout",
     "output_type": "stream",
     "text": [
      "Boeing 747 Wing Span 68.4 meters\n",
      "Boeing 747 Wing Area 524.9 meters^2\n",
      "Boeing 747 Aspect Ratio 8.913240617260431\n",
      "Piper 140 Wing Span 10.7 meters\n",
      "Piper 140 Wing Area 15.8 meters^2\n",
      "Piper 140 Aspect Ratio 7.246202531645568\n"
     ]
    }
   ],
   "source": [
    "# now we can create an instance of the airplane class\n",
    "# a class instance is the result of assigning real values to the abstract class\n",
    "# the process of creating an instance is known as \"instantiating\" the class\n",
    "boeing_747 = airplane(68.4, 524.9)\n",
    "print(\"Boeing 747 Wing Span\", boeing_747.wing_span, \"meters\")\n",
    "print(\"Boeing 747 Wing Area\", boeing_747.wing_area, \"meters^2\")\n",
    "print(\"Boeing 747 Aspect Ratio\", boeing_747.aspect_ratio)\n",
    "\n",
    "# classes allow us to easily create many different airplanes\n",
    "# the automation of the aspect ratio calculation in the __init__ function means we never have to \n",
    "# perform this calculation manually\n",
    "piper_140 = airplane(10.7, 15.8) \n",
    "print(\"Piper 140 Wing Span\", piper_140.wing_span, \"meters\")\n",
    "print(\"Piper 140 Wing Area\", piper_140.wing_area, \"meters^2\")\n",
    "print(\"Piper 140 Aspect Ratio\", piper_140.aspect_ratio)\n"
   ]
  },
  {
   "cell_type": "markdown",
   "metadata": {},
   "source": [
    "### Debugging in Python\n",
    "At some point, your code won't work and you won't know why. Thankfully, Python gives fairly rich error messages when errors (syntax, runtime, etc.) occur. However, many students (including grad students I've worked with!) don't know how to use a debugger to effectively find and fix errors in their code."
   ]
  },
  {
   "cell_type": "code",
   "execution_count": 124,
   "metadata": {
    "ExecuteTime": {
     "start_time": "2020-08-25T16:48:39.836Z"
    },
    "code_folding": [],
    "scrolled": true
   },
   "outputs": [
    {
     "name": "stdout",
     "output_type": "stream",
     "text": [
      "breakpoint 1\n",
      "--Return--\n",
      "None\n",
      "> \u001b[1;32mc:\\users\\phlee\\appdata\\local\\temp\\ipykernel_22744\\1782404131.py\u001b[0m(19)\u001b[0;36m<module>\u001b[1;34m()\u001b[0m\n",
      "\n"
     ]
    },
    {
     "name": "stdin",
     "output_type": "stream",
     "text": [
      "ipdb>  c\n"
     ]
    },
    {
     "name": "stdout",
     "output_type": "stream",
     "text": [
      "breakpoint 2\n",
      "--Return--\n",
      "None\n",
      "> \u001b[1;32mc:\\users\\phlee\\appdata\\local\\temp\\ipykernel_22744\\1782404131.py\u001b[0m(33)\u001b[0;36m<module>\u001b[1;34m()\u001b[0m\n",
      "\n"
     ]
    },
    {
     "name": "stdin",
     "output_type": "stream",
     "text": [
      "ipdb>  c\n"
     ]
    },
    {
     "name": "stdout",
     "output_type": "stream",
     "text": [
      "1.618 3.141\n",
      "hello world\n"
     ]
    }
   ],
   "source": [
    "# first import the python debugger library\n",
    "import pdb\n",
    "\n",
    "# At a breakpoint, you can execute code with in-memory variables.\n",
    "# For example, if your code was malfunctioning, you could double check the values of relevant variables.\n",
    "\n",
    "# Let's imagine we're doing complex operations with variables a1 and a2, and we want to double check their values\n",
    "# at a certain point in our code.\n",
    "a1 = 1.618\n",
    "a2 = 3.141\n",
    "\n",
    "# imagine complex operations here\n",
    "\n",
    "# The statement below sets a breakpoint in Python.\n",
    "# Run this code, and an interactive python terminal should appear below this cell.\n",
    "# Double check the values of a1 and a2 by typing their variable names.\n",
    "# Try summing them in the interactive terminal as well.\n",
    "print(\"breakpoint 1\")\n",
    "pdb.set_trace()\n",
    "\n",
    "# Imagine that the value of a1 was supposed to be the Golden Ratio, and was not as expected.\n",
    "# Since you have now isolated the issue with your code, you can fix it.\n",
    "# Quit the execution of your code by typing \"q\" (for quit) and pressing \"Enter\" in the interactive terminal.\n",
    "# Update the value of a1 to be 1.618 in the code above and rerun this cell.\n",
    "\n",
    "# Check the values of a1 and a2 in the interactive terminal. They should be 1.618 and 3.141 respectively.\n",
    "# Now that you have found the issue with your code, you can continue running the rest of the code\n",
    "# by typing \"c\" (for continue) and pressing \"Enter\" in the interactive terminal. \n",
    "\n",
    "# This will bring you to the second breakpoint, at which point you can continue to the end of the program.\n",
    "\n",
    "print(\"breakpoint 2\")\n",
    "pdb.set_trace()\n",
    "\n",
    "# You can now delete the breakpoints and the print statements associated with them.\n",
    "# You debugged the issue, and they are no longer needed.\n",
    "print(a1, a2)\n",
    "print(\"hello world\")\n",
    "\n",
    "# There are other control statements for pdb that you may find useful that were not included in this tutorial. "
   ]
  },
  {
   "cell_type": "markdown",
   "metadata": {},
   "source": [
    "The above example was fairly straightforward, but debugging is critical skill to have to isolate issues in more complex codebases. At some point in your career, you will likely have to work on code that somebody else wrote. As a professional engineer, you need the skills to inherit a project that consists of dozens of functions, across multiple files that are each hundreds of lines long. Debugging tools exist to quickly resolve issues in code you are using, there is no reason NOT to use them. \n",
    "\n",
    "If you don't want to be a great engineer, don't learn how to debug. If you don't want to stand out among your peers as an excellent programmer, don't bother going above and beyond what is required to write basic code. Always try to go a few steps beyond what your classes teach you, and do what you can to take responsibility for your own education.\n"
   ]
  }
 ],
 "metadata": {
  "kernelspec": {
   "display_name": "Python 3 (ipykernel)",
   "language": "python",
   "name": "python3"
  },
  "language_info": {
   "codemirror_mode": {
    "name": "ipython",
    "version": 3
   },
   "file_extension": ".py",
   "mimetype": "text/x-python",
   "name": "python",
   "nbconvert_exporter": "python",
   "pygments_lexer": "ipython3",
   "version": "3.11.5"
  },
  "toc": {
   "base_numbering": 1,
   "nav_menu": {},
   "number_sections": true,
   "sideBar": true,
   "skip_h1_title": false,
   "title_cell": "Table of Contents",
   "title_sidebar": "Contents",
   "toc_cell": false,
   "toc_position": {},
   "toc_section_display": true,
   "toc_window_display": false
  },
  "varInspector": {
   "cols": {
    "lenName": 16,
    "lenType": 16,
    "lenVar": 40
   },
   "kernels_config": {
    "python": {
     "delete_cmd_postfix": "",
     "delete_cmd_prefix": "del ",
     "library": "var_list.py",
     "varRefreshCmd": "print(var_dic_list())"
    },
    "r": {
     "delete_cmd_postfix": ") ",
     "delete_cmd_prefix": "rm(",
     "library": "var_list.r",
     "varRefreshCmd": "cat(var_dic_list()) "
    }
   },
   "types_to_exclude": [
    "module",
    "function",
    "builtin_function_or_method",
    "instance",
    "_Feature"
   ],
   "window_display": false
  }
 },
 "nbformat": 4,
 "nbformat_minor": 4
}
