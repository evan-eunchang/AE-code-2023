{
 "cells": [
  {
   "cell_type": "markdown",
   "metadata": {
    "id": "ezU_A6t5up8G"
   },
   "source": [
    "# Assignment Instructions\n",
    "\n",
    "Complete the following problems. Then save your notebook and submit it on Gradescope (as an `.ipynb` file). Make sure you run all code cells (including assertion cells) before saving and submitting; i.e., make sure all required outputs are visible in your submission.\n",
    "\n",
    "Hints:\n",
    "- The problem parts are meant to build upon each other (i.e., your functions might call or copy code from earlier functions).\n",
    "- Some functions have comments that describe the general process for my solutions. These comments may help you think about and structure your code solutions. There are, of course, many ways to solve these problems.\n",
    "- We suggest you add code cells to test your code as you work on it (it is often easier to test code outside of a function). Just delete added cells before submitting.\n",
    "- Google (especially stack overflow) is your friend for code questions."
   ]
  },
  {
   "cell_type": "markdown",
   "metadata": {
    "id": "Cv10uXecup8L"
   },
   "source": [
    "# Part 0: Supplementary code\n",
    "\n",
    "Run the following cell to access supplementary functions that may help you complete this assignment. You can use the test cells below them to experiment and see what the functions do."
   ]
  },
  {
   "cell_type": "code",
   "execution_count": 1,
   "metadata": {
    "executionInfo": {
     "elapsed": 6,
     "status": "ok",
     "timestamp": 1673573450734,
     "user": {
      "displayName": "Andres Goza",
      "userId": "09612224859468590650"
     },
     "user_tz": 360
    },
    "id": "T49lo7p2up8M"
   },
   "outputs": [],
   "source": [
    "import numpy as np\n",
    "\n",
    "def chebyshev(a, b, n):\n",
    "    \"\"\"Returns a Chebyshev point distribution of n points in the domain [a, b].\n",
    "    \n",
    "    Parameters\n",
    "    ----------\n",
    "    a : float_like\n",
    "        Lower bound of domain (inclusive)\n",
    "    b : float_like\n",
    "        Upper bound of domain (inclusive)\n",
    "    n : integer\n",
    "        Number of data points to return\n",
    "        \n",
    "    Returns\n",
    "    -------\n",
    "    x : list_like\n",
    "        List or array of data points (in ascending order)\n",
    "\n",
    "    Examples\n",
    "    --------\n",
    "    >>> chebyshev(2, 5, 4)\n",
    "    array([5.0, 4.25, 2.7500000000000004, 2.0])\n",
    "    \n",
    "    \"\"\"\n",
    "    \n",
    "    x = [0.5 * (a + b) + 0.5 * (b - a) * np.cos(j * np.pi / (n - 1)) for j in range(0, n)]\n",
    "    \n",
    "    return x\n",
    "\n",
    "def f_true(x):\n",
    "    \"\"\"Returns the value of the true function at x.\n",
    "    \n",
    "    Parameters\n",
    "    ----------\n",
    "    x : float_like\n",
    "        Input x value\n",
    "        \n",
    "    Returns\n",
    "    -------\n",
    "    y : float_like\n",
    "        Output for f(x)\n",
    "\n",
    "    Examples\n",
    "    --------\n",
    "    >>> f_true(0.5)\n",
    "    array([2.  , 2.75, 4.25, 5.  ])\n",
    "    0.07067822452613834\n",
    "    \"\"\"\n",
    "    \n",
    "    return np.sin(np.cos(3 * x))"
   ]
  },
  {
   "cell_type": "code",
   "execution_count": 2,
   "metadata": {
    "colab": {
     "base_uri": "https://localhost:8080/"
    },
    "executionInfo": {
     "elapsed": 148,
     "status": "ok",
     "timestamp": 1673573454604,
     "user": {
      "displayName": "Andres Goza",
      "userId": "09612224859468590650"
     },
     "user_tz": 360
    },
    "id": "YDTnsLjfup8O",
    "outputId": "bc01d8c3-813a-4d73-85c4-99ba16805820"
   },
   "outputs": [
    {
     "name": "stdout",
     "output_type": "stream",
     "text": [
      "chebyshev:  [5.0, 4.25, 2.7500000000000004, 2.0]\n",
      "f_true:  0.07067822452613834\n"
     ]
    }
   ],
   "source": [
    "\"\"\"Check the function\"\"\"\n",
    "# test chebyshev function\n",
    "a, b, n = 2, 5, 4\n",
    "x_interpolate = chebyshev(a, b, n)\n",
    "print('chebyshev: ', x_interpolate)\n",
    "\n",
    "# test f_true function\n",
    "x = 0.5\n",
    "f = f_true(x)\n",
    "print('f_true: ', f)"
   ]
  },
  {
   "cell_type": "markdown",
   "metadata": {
    "id": "0eKJVSzDup8P"
   },
   "source": [
    "# Problem 1: Polynomial interpolation using the monomial basis\n",
    "\n",
    "We discussed in class that when performing polynomial interpolation, a linear system $\\boldsymbol{Ac} = \\boldsymbol{f}$ arises to solve for coefficients $\\boldsymbol{c}$ that express the interpolant in the particular basis used to build $\\boldsymbol{A}$.\n",
    "\n",
    "This problem will have you code a solution for performing polynomial interpolation of the true function $f(x) = \\sin(\\cos(3x))$ over the interval $[2, 5]$ using the **monomial basis.**\n",
    "\n",
    "Use the Chebyshev points described in class."
   ]
  },
  {
   "cell_type": "markdown",
   "metadata": {
    "id": "rjLATGtFup8Q"
   },
   "source": [
    "YOUR ANSWER HERE\n",
    "\n",
    "1. $\\mathcal{B} = \\{1, x, x^2, x^3 \\}$\n",
    "1.\n",
    "$$\n",
    "\\begin{bmatrix}\n",
    "    1 & x_0 & x_0^2 & x_0^3 \\\\\n",
    "    1 & x_1 & x_1^2 & x_1^3 \\\\\n",
    "    1 & x_2 & x_2^2 & x_2^3 \\\\\n",
    "    1 & x_3 & x_3^2 & x_3^3 \\\\\n",
    "\\end{bmatrix}\n",
    "\\begin{bmatrix}\n",
    "    c_0 \\\\\n",
    "    c_1 \\\\\n",
    "    c_2 \\\\\n",
    "    c_3 \\\\\n",
    "\\end{bmatrix}\n",
    "=\n",
    "\\begin{bmatrix}\n",
    "    f(x_0) \\\\\n",
    "    f(x_1) \\\\\n",
    "    f(x_2) \\\\\n",
    "    f(x_3) \\\\\n",
    "\\end{bmatrix}\n",
    "$$"
   ]
  },
  {
   "cell_type": "markdown",
   "metadata": {
    "id": "VDDNSOinup8P"
   },
   "source": [
    "## Part 1a: Monomial basis (concept question)\n",
    "\n",
    "You will be asked to interpolate $f(x)$ using a polynomial of degree $n$ with a **monomial basis**. Before coding your solution, answer the following concept questions in the next Markdown cell.\n",
    "\n",
    "1. Write out the set of monomial basis vectors, $\\mathcal{B} = \\{b_0(x), b_1(x), \\dots, b_{n}(x) \\}$, for your polynomial approximation function with $n = 3$.\n",
    "1. Symbolically derive the matrix system $\\boldsymbol{Ac} = \\boldsymbol{f}$ for using this basis (with $n = 3$). I.e., show the complete matrix equation.\n",
    "\n",
    "**Tips for writing in Jupyter notebooks:**\n",
    "\n",
    "Jupyter notebooks allow you to write in Markdown cells (like this one and the next one) and code cells (included later in this file). Markdown is a lightweight markup language that you can use to format text in Jupyter notebooks (and other plaintext text documents). A handy cheatsheet for Markdown syntax can be found here: https://www.markdownguide.org/cheat-sheet/.\n",
    "\n",
    "One useful aspect of Markdown is that it allows the use of LaTeX for writing math. A handy intro to using LaTeX in Jupyter notebook Markdown cells can be found here: https://personal.math.ubc.ca/~pwalls/math-python/jupyter/latex/.\n",
    "\n",
    "You can also click inside this cell to see how the matrix equation below (and the math above) can be written in Markdown using LaTeX:\n",
    "\n",
    "$$\n",
    "\\boldsymbol{A} =\n",
    "\\begin{bmatrix}\n",
    "    1 & 2 & 1 \\\\\n",
    "    3 & 0 & 1 \\\\\n",
    "    0 & 2 & 4\n",
    "\\end{bmatrix}\n",
    "$$\n",
    "\n",
    "Make sure you run the cell (using SHIFT + ENTER) once you are done editing to display the output."
   ]
  },
  {
   "cell_type": "markdown",
   "metadata": {
    "id": "LHFQhvaEup8R"
   },
   "source": [
    "## Part 1b: Monomial $\\boldsymbol{A}$ matrix\n",
    "\n",
    "Complete a function to return the $\\boldsymbol{A}$ matrix for polynomomial interpolation of degree $n$ in the domain $[a, b]$ (i.e., using a subspace of $\\mathcal{P}^n[a, b]$) with a **monomial basis**.\n",
    "\n",
    "Hints:\n",
    "- Use Chebyshev points (don't forget you need $n + 1$ data points to interpolate a polynomial of degree $n$).\n",
    "- Don't forget Python is 0-indexed.\n",
    "- You can initialize a 2-d numpy array (i.e., matrix) of 0's using numpy's `zeros()` function: https://numpy.org/doc/stable/reference/generated/numpy.zeros.html.\n",
    "- Here is a stack overflow post discussing one way to select (or replace) the row of a 2-d numpy array: https://stackoverflow.com/questions/26975769/modify-a-particular-row-column-of-a-numpy-array.\n",
    "- You can iterate through the indices of a list AND its elements simultaneously using Python's `enumerate()` function: https://stackoverflow.com/questions/22171558/what-does-enumerate-mean"
   ]
  },
  {
   "cell_type": "code",
   "execution_count": 3,
   "metadata": {
    "executionInfo": {
     "elapsed": 175,
     "status": "ok",
     "timestamp": 1673573465270,
     "user": {
      "displayName": "Andres Goza",
      "userId": "09612224859468590650"
     },
     "user_tz": 360
    },
    "id": "A-PFlnQkup8R"
   },
   "outputs": [],
   "source": [
    "# don't forget to import any Python libraries required for your function...\n",
    "\n",
    "def A_monomial(a, b, n):\n",
    "    \"\"\"Returns the A matrix for polynomial interpolation of degree n in the domain [a, b] with a monomial basis.\n",
    "    \n",
    "    Parameters\n",
    "    ----------\n",
    "    a : float_like\n",
    "        Lower bound of domain (inclusive)\n",
    "    b : float_like\n",
    "        Upper bound of domain (inclusive)\n",
    "    n : integer\n",
    "        Polynomial degree\n",
    "        \n",
    "    Returns\n",
    "    -------\n",
    "    A : array_like\n",
    "        A matrix for polynomial interpolation satisfying Ac = f\n",
    "    \n",
    "    \"\"\"\n",
    "    \n",
    "    ### YOUR CODE HERE ###\n",
    "    # get interpolation points (Chebyshev)\n",
    "    x_interpolate = chebyshev(a, b, n + 1)\n",
    "\n",
    "    # build A matrix\n",
    "    A = np.zeros((n + 1, n + 1))    # initialize n+1 x n+1 matrix of 0's\n",
    "    for row_num, x in enumerate(x_interpolate): # loop through each interpolation point (i.e., each row of A)\n",
    "        # print(x, row_num)  # for debugging\n",
    "        row_values = np.zeros(n + 1)   # initialize n+1 vector of 0's for current row of A\n",
    "        for k in range(n + 1):  # loop through each column of A (i.e., each basis)\n",
    "            row_values[k] = x ** k\n",
    "        A[row_num] = row_values # update current row of A\n",
    "\n",
    "    # # build A matrix (alternate)\n",
    "    # A = np.zeros((n + 1, n + 1))\n",
    "    # for row_num, x in enumerate(x_interpolate): # loop through each interpolation point (i.e., each row of A)\n",
    "    #     A[row_num] = [x ** k for k in range(n + 1)]  # an alternative 1-liner that can replace the k for-loop\n",
    "\n",
    "    return A"
   ]
  },
  {
   "cell_type": "code",
   "execution_count": 4,
   "metadata": {
    "colab": {
     "base_uri": "https://localhost:8080/"
    },
    "executionInfo": {
     "elapsed": 151,
     "status": "ok",
     "timestamp": 1673573467336,
     "user": {
      "displayName": "Andres Goza",
      "userId": "09612224859468590650"
     },
     "user_tz": 360
    },
    "id": "BwDD052_up8S",
    "outputId": "5aa7a06a-4140-421d-f31f-d0e73db3787d"
   },
   "outputs": [
    {
     "name": "stdout",
     "output_type": "stream",
     "text": [
      "solution:  [[  1.         5.        25.       125.      ]\n",
      " [  1.         4.25      18.0625    76.765625]\n",
      " [  1.         2.75       7.5625    20.796875]\n",
      " [  1.         2.         4.         8.      ]]\n",
      "output:  [[  1.         5.        25.       125.      ]\n",
      " [  1.         4.25      18.0625    76.765625]\n",
      " [  1.         2.75       7.5625    20.796875]\n",
      " [  1.         2.         4.         8.      ]]\n",
      "TESTS PASSED\n"
     ]
    }
   ],
   "source": [
    "\"\"\"Check the function\"\"\"\n",
    "a, b, n = 2, 5, 3\n",
    "A = A_monomial(a, b, n)\n",
    "\n",
    "# check output\n",
    "A_solution = np.array([[1, 5, 25, 125], [1, 4.25, 18.0625, 76.765625], [1, 2.75, 7.5625, 20.796875], [1, 2, 4, 8]])\n",
    "print('solution: ', A_solution)\n",
    "print('output: ', A)\n",
    "np.testing.assert_allclose(A, A_solution)\n",
    "print('TESTS PASSED')"
   ]
  },
  {
   "cell_type": "markdown",
   "metadata": {
    "id": "UFyFXbb7up8T"
   },
   "source": [
    "## Part 1c: Monomial solution\n",
    "\n",
    "Complete a function to return:\n",
    "- the $\\boldsymbol{c}$ vector of coefficients for polynomomial interpolation of degree $n$ in the domain $[a, b]$ with a **monomial basis**,\n",
    "- the $\\boldsymbol{A}$ matrix,\n",
    "- the condition number of the $\\boldsymbol{A}$ matrix.\n",
    "\n",
    "The condition number of a matrix is a measure of how sensitive a matrix system is to perturbation error. The condition number is defined as $||\\boldsymbol{A}||||\\boldsymbol{A}^{-1}||$ and varies between $1$ and $\\infty$. The larger the condition number, the more sensitive the system is to perturbation.\n",
    "\n",
    "Requirements:\n",
    "- Use numpy's `linalg.inv()` function to calculate the inverse of $\\boldsymbol{A}$.\n",
    "- Do NOT use numpy's `linalg.solve()` function for this exercise (or any other pre-built matrix solver).\n",
    "- Use numpy's `linalg.cond()` function to calculate $cond(\\boldsymbol{A})$.\n",
    "- Assume your `f_true()` function is globally defined and accessible within your function."
   ]
  },
  {
   "cell_type": "code",
   "execution_count": 5,
   "metadata": {
    "executionInfo": {
     "elapsed": 125,
     "status": "ok",
     "timestamp": 1673573479586,
     "user": {
      "displayName": "Andres Goza",
      "userId": "09612224859468590650"
     },
     "user_tz": 360
    },
    "id": "QPriy3Q6up8T"
   },
   "outputs": [],
   "source": [
    "# don't forget to import any Python libraries required for your function...\n",
    "\n",
    "def solve_monomial(a, b, n):\n",
    "    \"\"\"Returns the solution to polynomial interpolation of degree n in the domain [a, b] with a monomial basis.\n",
    "\n",
    "    This function assumes an f_true(x) function is globally available for calculating the true function value at x.\n",
    "    \n",
    "    Parameters\n",
    "    ----------\n",
    "    a : float_like\n",
    "        Lower bound of domain (inclusive)\n",
    "    b : float_like\n",
    "        Upper bound of domain (inclusive)\n",
    "    n : integer\n",
    "        Polynomial degree\n",
    "        \n",
    "    Returns\n",
    "    -------\n",
    "    c : array_like\n",
    "        c vector of coefficients for polynomial interpolation satisfying Ac = f\n",
    "    A : array_like\n",
    "        A matrix for polynomial interpolation satisfying Ac = f\n",
    "    condition : float_like\n",
    "        Condition number for the A matrix\n",
    "    \n",
    "    \"\"\"\n",
    "    \n",
    "    ### YOUR CODE HERE ###\n",
    "    # get interpolation points (Chebyshev)\n",
    "    x_interpolate = chebyshev(a, b, n + 1)\n",
    "\n",
    "    # build A matrix (alternate)\n",
    "    A = np.zeros((n + 1, n + 1))\n",
    "    for row_num, x in enumerate(x_interpolate): # loop through each interpolation point (i.e., each row of A)\n",
    "        A[row_num] = [x ** k for k in range(n + 1)]  # an alternative 1-liner that can replace the k for-loop\n",
    "\n",
    "    # get f (vector of true function values for interpolation points)\n",
    "    f = [f_true(x) for x in x_interpolate]\n",
    "\n",
    "    # solve matrix system\n",
    "    c = np.linalg.inv(A).dot(f)\n",
    "\n",
    "    # get cond(A)\n",
    "    condition = np.linalg.cond(A)\n",
    "\n",
    "    return c, A, condition"
   ]
  },
  {
   "cell_type": "code",
   "execution_count": 6,
   "metadata": {
    "colab": {
     "base_uri": "https://localhost:8080/"
    },
    "executionInfo": {
     "elapsed": 154,
     "status": "ok",
     "timestamp": 1673573481950,
     "user": {
      "displayName": "Andres Goza",
      "userId": "09612224859468590650"
     },
     "user_tz": 360
    },
    "id": "zC7-mu2Aup8U",
    "outputId": "830bb97b-0b09-4cef-fd23-68b2eae4e8ae"
   },
   "outputs": [
    {
     "name": "stdout",
     "output_type": "stream",
     "text": [
      "c solution:  [ 27.99638068 -26.57603744   8.04437345  -0.7753138 ]\n",
      "A solution:  [[  1.         5.        25.       125.      ]\n",
      " [  1.         4.25      18.0625    76.765625]\n",
      " [  1.         2.75       7.5625    20.796875]\n",
      " [  1.         2.         4.         8.      ]]\n",
      "Condition(A) solution:  5004.355003421\n",
      "c output:  [ 27.99638068 -26.57603744   8.04437345  -0.7753138 ]\n",
      "A output:  [[  1.         5.        25.       125.      ]\n",
      " [  1.         4.25      18.0625    76.765625]\n",
      " [  1.         2.75       7.5625    20.796875]\n",
      " [  1.         2.         4.         8.      ]]\n",
      "Condition(A) output:  5004.3550034211\n",
      "TESTS PASSED\n"
     ]
    }
   ],
   "source": [
    "\"\"\"Check the function\"\"\"\n",
    "a, b, n = 2, 5, 3\n",
    "c, A, condition = solve_monomial(a, b, n)\n",
    "\n",
    "# check output\n",
    "c_solution = np.array([27.99638068, -26.57603744, 8.04437345, -0.7753138])\n",
    "A_solution = np.array([[1, 5, 25, 125], [1, 4.25, 18.0625, 76.765625], [1, 2.75, 7.5625, 20.796875], [1, 2, 4, 8]])\n",
    "condition_solution = 5004.3550034210\n",
    "print('c solution: ', c_solution)\n",
    "print('A solution: ', A_solution)\n",
    "print('Condition(A) solution: ', condition_solution)\n",
    "print('c output: ', c)\n",
    "print('A output: ', A)\n",
    "print('Condition(A) output: ', condition)\n",
    "np.testing.assert_allclose(c, c_solution)\n",
    "np.testing.assert_allclose(A, A_solution)\n",
    "np.testing.assert_almost_equal(condition, condition_solution)\n",
    "print('TESTS PASSED')"
   ]
  },
  {
   "cell_type": "markdown",
   "metadata": {
    "id": "nlFcbXgAup8U"
   },
   "source": [
    "## Part 1d: Monomial approximation\n",
    "\n",
    "Complete a function to return:\n",
    "- the approximated $f_a(x)$ values for all $x \\in \\boldsymbol{x_{test}}$, where $f_a(x)$ is a polynomomial interpolation in the domain $[a, b]$ with a **monomial basis**,\n",
    "- the true $f(x)$ values for all $x \\in \\boldsymbol{x_{test}}$,\n",
    "- the approximation error $|| \\boldsymbol{e} ||$ for $\\boldsymbol{x_{test}}$.\n",
    "\n",
    "Calculate the error as $|| \\boldsymbol{e} || = \\sqrt{\\boldsymbol{e}^T \\boldsymbol{e}}$, where $\\boldsymbol{e} = f(\\boldsymbol{x_{test}}) - f_a(\\boldsymbol{x_{test}})$.\n",
    "\n",
    "Requirements:\n",
    "- Assume $\\boldsymbol{x_{test}} \\subseteq [a, b]$.\n",
    "- Assume your `f_true()` function is globally defined and accessible within your function."
   ]
  },
  {
   "cell_type": "code",
   "execution_count": 7,
   "metadata": {
    "executionInfo": {
     "elapsed": 123,
     "status": "ok",
     "timestamp": 1673573486973,
     "user": {
      "displayName": "Andres Goza",
      "userId": "09612224859468590650"
     },
     "user_tz": 360
    },
    "id": "oPETDdVnup8U"
   },
   "outputs": [],
   "source": [
    "# don't forget to import any Python libraries required for your function...\n",
    "\n",
    "def approximate_monomial(c, x_test):\n",
    "    \"\"\"Returns the interpolation error for a polynomial with a monomial basis.\n",
    "\n",
    "    This function assumes an f_true(x) function is globally available for calculating the true function value at x.\n",
    "    \n",
    "    Parameters\n",
    "    ----------\n",
    "    c : array_like\n",
    "        c vector for polynomial interpolation satisfying Ac = f\n",
    "    x_test : array_like\n",
    "        List of inputs to evaluate the approximated function over\n",
    "        \n",
    "    Returns\n",
    "    -------\n",
    "    fa : array_like\n",
    "        Vector of approximated function values for each x in x_test\n",
    "    f : array_like\n",
    "        Vector of true function\n",
    "    err : float_like\n",
    "        Error calculated as a 2-norm using x_test\n",
    "    \n",
    "    \"\"\"\n",
    "    \n",
    "    ### YOUR CODE HERE ###\n",
    "    # get fa (vector of approximated function values for x_test)\n",
    "    fa = []\n",
    "    n = len(c) - 1  # polynomial degree\n",
    "    for x in x_test:\n",
    "        fa_terms = [coeff * (x ** k) for coeff, k in zip(c, range(n + 1))]\n",
    "        fa.append(sum(fa_terms))\n",
    "\n",
    "    # get f (vector of true function values for x_test)\n",
    "    f = np.array([f_true(x) for x in x_test])\n",
    "\n",
    "    # get e (error vector)\n",
    "    e = f - fa\n",
    "\n",
    "    # calculate error (2-norm)\n",
    "    err = np.sqrt(np.dot(e, e))\n",
    "    # err = np.linalg.norm(e)\n",
    "\n",
    "    return fa, f, err"
   ]
  },
  {
   "cell_type": "code",
   "execution_count": 8,
   "metadata": {
    "colab": {
     "base_uri": "https://localhost:8080/"
    },
    "executionInfo": {
     "elapsed": 119,
     "status": "ok",
     "timestamp": 1673573489482,
     "user": {
      "displayName": "Andres Goza",
      "userId": "09612224859468590650"
     },
     "user_tz": 360
    },
    "id": "bOa31uv5up8V",
    "outputId": "2a29b9d9-a6f4-4b73-87c6-ff21ff86b4e7"
   },
   "outputs": [
    {
     "name": "stdout",
     "output_type": "stream",
     "text": [
      "error solution:  1.1032593316064347\n",
      "error output:  1.1032593316064347\n",
      "TESTS PASSED\n"
     ]
    }
   ],
   "source": [
    "\"\"\"Check the function\"\"\"\n",
    "c = np.array([27.99638068, -26.57603744, 8.04437345, -0.7753138])\n",
    "a, b = 2, 5\n",
    "x_test = np.linspace(a, b, 7)\n",
    "fa, f, err = approximate_monomial(c, x_test)\n",
    "\n",
    "# check output\n",
    "err_sol = 1.1032593316064347\n",
    "print('error solution: ', err_sol)\n",
    "print('error output: ', err)\n",
    "np.testing.assert_almost_equal(err, err_sol)\n",
    "print('TESTS PASSED')"
   ]
  },
  {
   "cell_type": "markdown",
   "metadata": {
    "id": "MaiTVLYDup8V"
   },
   "source": [
    "## Part 1e: Monomial experiment\n",
    "\n",
    "Write code to create the following (separate) plots:\n",
    "1. plot the approximated and true function for polynomial degrees $n = 3, 10, 20, 40$ (make a subplot with one subplot for each $n$),\n",
    "1. plot the approximation error as a function of polynomial degree for $n = 3, 10, 20, 40$,\n",
    "1. plot the condition number for $\\boldsymbol{A}$ as a function of polynomial degree for $n = 3, 10, 20, 40$.\n",
    "\n",
    "Define $x_{test}$ as 1000 equally spaced points in the domain.\n",
    "\n",
    "Hints:\n",
    "- Use matplotlib's `tight_layout()` function to help with subplot axes arrangement. E.g., create your figure using `fig = plt.figure(figsize=(6, 4), tight_layout=True)`."
   ]
  },
  {
   "cell_type": "code",
   "execution_count": 11,
   "metadata": {
    "colab": {
     "base_uri": "https://localhost:8080/",
     "height": 235
    },
    "executionInfo": {
     "elapsed": 431,
     "status": "error",
     "timestamp": 1643760043680,
     "user": {
      "displayName": "Srikumar Balasubramanian",
      "photoUrl": "https://lh3.googleusercontent.com/a/default-user=s64",
      "userId": "17994048219854042011"
     },
     "user_tz": 360
    },
    "id": "gukaKYU4up8V",
    "outputId": "9d394e27-29fb-4828-93c1-aa8522a1101a"
   },
   "outputs": [
    {
     "data": {
      "image/png": "[encoded data removed]",
      "text/plain": [
       "<Figure size 800x600 with 4 Axes>"
      ]
     },
     "metadata": {},
     "output_type": "display_data"
    },
    {
     "data": {
      "image/png": "[encoded data removed]",
      "text/plain": [
       "<Figure size 400x300 with 1 Axes>"
      ]
     },
     "metadata": {},
     "output_type": "display_data"
    },
    {
     "data": {
      "image/png": "[encoded data removed]",
      "text/plain": [
       "<Figure size 400x300 with 1 Axes>"
      ]
     },
     "metadata": {},
     "output_type": "display_data"
    }
   ],
   "source": [
    "### YOUR CODE HERE ###\n",
    "import matplotlib.pyplot as plt\n",
    "plt.style.use('default')\n",
    "\n",
    "# define a, b, n values and x_test points\n",
    "a, b = 2, 5\n",
    "n_list = [3, 10, 20, 40]\n",
    "x_test = np.linspace(a, b, 1000)\n",
    "\n",
    "# initialize lists for saving data\n",
    "x_interpolate_list = []\n",
    "f_interpolate_list = []\n",
    "fa_list = []\n",
    "f_list = []\n",
    "err_list = []\n",
    "condition_list = []\n",
    "\n",
    "# get data for each degree n\n",
    "for n in n_list:\n",
    "    # get interpolation points (Chebyshev)\n",
    "    x_interpolate = chebyshev(a, b, n + 1)\n",
    "\n",
    "    # get true function values for interpolation points (for plotting)\n",
    "    f_interpolate = [f_true(x) for x in x_interpolate]\n",
    "\n",
    "    # get monomial solution\n",
    "    c, A, condition = solve_monomial(a, b, n)\n",
    "\n",
    "    # get monomial approximation for x_test\n",
    "    fa, f, err = approximate_monomial(c, x_test)\n",
    "\n",
    "    # save data to lists\n",
    "    x_interpolate_list.append(x_interpolate)\n",
    "    f_interpolate_list.append(f_interpolate)\n",
    "    fa_list.append(fa)\n",
    "    f_list.append(f)\n",
    "    err_list.append(err)\n",
    "    condition_list.append(condition)\n",
    "\n",
    "# plot interpolated and true functions\n",
    "fig = plt.figure(figsize=(8, 6), tight_layout=True)\n",
    "ax1 = fig.add_subplot(221)\n",
    "ax1.plot(x_test, f_list[0], 'k-', label='$f(x)$')\n",
    "ax1.plot(x_test, fa_list[0], 'r--', label='$f_a(x)$')\n",
    "ax1.plot(x_interpolate_list[0], f_interpolate_list[0], 'bo', label='$f(x_j)$')\n",
    "ax1.set_xlabel('$x$')\n",
    "ax1.set_ylabel('')\n",
    "ax1.set_ylim(-1, 1)\n",
    "ax1.set_title('$n$ = 3')\n",
    "ax1.legend()\n",
    "\n",
    "ax2 = fig.add_subplot(222)\n",
    "ax2.plot(x_test, f_list[1], 'k-', label='$f(x)$')\n",
    "ax2.plot(x_test, fa_list[1], 'r--', label='$f_a(x)$')\n",
    "ax2.plot(x_interpolate_list[1], f_interpolate_list[1], 'bo', label='$f(x_j)$')\n",
    "ax2.set_xlabel('$x$')\n",
    "ax2.set_ylabel('')\n",
    "ax2.set_ylim(-1, 1)\n",
    "ax2.set_title('$n$ = 10')\n",
    "ax2.legend()\n",
    "\n",
    "ax3 = fig.add_subplot(223)\n",
    "ax3.plot(x_test, f_list[2], 'k-', label='$f(x)$')\n",
    "ax3.plot(x_test, fa_list[2], 'r--', label='$f_a(x)$')\n",
    "ax3.plot(x_interpolate_list[2], f_interpolate_list[2], 'bo', label='$f(x_j)$')\n",
    "ax3.set_xlabel('$x$')\n",
    "ax3.set_ylabel('')\n",
    "ax3.set_title('$n$ = 20')\n",
    "ax3.legend()\n",
    "\n",
    "ax3 = fig.add_subplot(224)\n",
    "ax3.plot(x_test, f_list[3], 'k-', label='$f(x)$')\n",
    "ax3.plot(x_test, fa_list[3], 'r--', label='$f_a(x)$')\n",
    "ax3.plot(x_interpolate_list[3], f_interpolate_list[3], 'bo', label='$f(x_j)$')\n",
    "ax3.set_xlabel('$x$')\n",
    "ax3.set_ylabel('')\n",
    "ax3.set_title('$n$ = 40')\n",
    "ax3.legend()\n",
    "# fig.savefig('solution-figures/part1e-functions.png')\n",
    "\n",
    "# plot error vs. n\n",
    "fig = plt.figure(figsize=(4, 3), tight_layout=True)\n",
    "ax = fig.add_subplot(111)\n",
    "ax.plot(n_list, err_list, 'ko')\n",
    "ax.set_xlabel('Polynomial Degree, $n$')\n",
    "ax.set_ylabel('Error, $||e||$')\n",
    "ax.set_yscale('log')\n",
    "# fig.savefig('solution-figures/part1e-error.png')\n",
    "\n",
    "# plot condition number vs. n\n",
    "fig = plt.figure(figsize=(4, 3), tight_layout=True)\n",
    "ax = fig.add_subplot(111)\n",
    "ax.plot(n_list, condition_list, 'ko')\n",
    "ax.set_xlabel('Polynomial Degree, $n$')\n",
    "ax.set_ylabel('Condition Number, $\\kappa(A)$')\n",
    "ax.set_yscale('log')\n",
    "# fig.savefig('solution-figures/part1e-condition.png')"
   ]
  },
  {
   "cell_type": "markdown",
   "metadata": {
    "id": "7T2ZDrJcup8W"
   },
   "source": [
    "# Problem 2: Is the Lagrange basis really better than the monomial basis for polynomial interpolation?\n",
    "\n",
    "We discussed in class that the Lagrange basis is vastly superior to the monomial basis. You will demonstrate that for yourself in this problem.\n",
    "\n",
    "Use the Chebyshev points described in class."
   ]
  },
  {
   "cell_type": "markdown",
   "metadata": {
    "id": "2KJ28RZAup8W"
   },
   "source": [
    "## Part 2a: Lagrange basis (concept question)\n",
    "\n",
    "You will be asked to interpolate $f(x)$ using a polynomial of degree $n$ with a **Lagrange basis**. Before coding your solution, answer the following concept questions in the next Markdown cell.\n",
    "\n",
    "1. Write out the set of Lagrange basis vectors, $\\mathcal{B} = \\{b_0(x), b_1(x), \\dots, b_{n}(x) \\}$, for your polynomial approximation function with $n = 3$.\n",
    "1. Symbolically derive the matrix system $\\boldsymbol{Ac} = \\boldsymbol{f}$ for using this basis (with $n = 3$). I.e., show the complete matrix equation."
   ]
  },
  {
   "cell_type": "markdown",
   "metadata": {
    "id": "phG_1dVFup8X"
   },
   "source": [
    "YOUR ANSWER HERE"
   ]
  },
  {
   "cell_type": "markdown",
   "metadata": {
    "id": "7PGw_hmYup8X"
   },
   "source": [
    "## Part 2b: Lagrange solution and approximation\n",
    "\n",
    "Complete a function to return:\n",
    "- the $\\boldsymbol{c}$ vector of coefficients for polynomomial interpolation of degree $n$ in the domain $[a, b]$ with a **Lagrange basis**,\n",
    "- the $\\boldsymbol{A}$ matrix,\n",
    "- the condition number of the $\\boldsymbol{A}$ matrix,\n",
    "- the interpolation points used.\n",
    "\n",
    "Complete a function to return:\n",
    "- the approximated $f_a(x)$ values for all $x \\in \\boldsymbol{x_{test}}$, where $f_a(x)$ is a polynomomial interpolation in the domain $[a, b]$ with a **Lagrange basis**,\n",
    "- the true $f(x)$ values for all $x \\in \\boldsymbol{x_{test}}$,\n",
    "- the approximation error $|| \\boldsymbol{e} ||$ for $\\boldsymbol{x_{test}}$.\n",
    "\n",
    "Calculate the error as $|| \\boldsymbol{e} || = \\sqrt{\\boldsymbol{e}^T \\boldsymbol{e}}$, where $\\boldsymbol{e} = f(\\boldsymbol{x_{test}}) - f_a(\\boldsymbol{x_{test}})$."
   ]
  },
  {
   "cell_type": "code",
   "execution_count": null,
   "metadata": {
    "id": "xesKPfGyup8X"
   },
   "outputs": [],
   "source": [
    "# don't forget to import any Python libraries required for your function...\n",
    "\n",
    "def solve_lagrange(a, b, n):\n",
    "    \"\"\"Returns the solution to polynomial interpolation of degree n in the domain [a, b] with a Lagrange basis.\n",
    "\n",
    "    This function assumes an f_true(x) function is globally available for calculating the true function value at x.\n",
    "    \n",
    "    Parameters\n",
    "    ----------\n",
    "    a : float_like\n",
    "        Lower bound of domain (inclusive)\n",
    "    b : float_like\n",
    "        Upper bound of domain (inclusive)\n",
    "    n : integer\n",
    "        Polynomial degree\n",
    "        \n",
    "    Returns\n",
    "    -------\n",
    "    c : array_like\n",
    "        c vector of coefficients for polynomial interpolation satisfying Ac = f\n",
    "    A : array_like\n",
    "        A matrix for polynomial interpolation satisfying Ac = f\n",
    "    condition : float_like\n",
    "        Condition number for the A matrix\n",
    "    x_interpolate : array_like\n",
    "        List of interpolation points (i.e., x-values) used\n",
    "    \n",
    "    \"\"\"\n",
    "    \n",
    "    ### YOUR CODE HERE ###\n",
    "    # get interpolation points (Chebyshev)\n",
    "\n",
    "    # build A matrix\n",
    "    \n",
    "    # get f (vector of true function values for interpolation points)\n",
    "    \n",
    "    # solve matrix system\n",
    "    \n",
    "    # get cond(A)\n",
    "    \n",
    "\n",
    "def approximate_lagrange(c, x_interpolate, x_test):\n",
    "    \"\"\"Returns the interpolation error for a polynomial with a Lagrange basis.\n",
    "\n",
    "    This function assumes an f_true(x) function is globally available for calculating the true function value at x.\n",
    "    \n",
    "    Parameters\n",
    "    ----------\n",
    "    c : array_like\n",
    "        c vector for polynomial interpolation satisfying Ac = f\n",
    "    x_interpolate : array_like\n",
    "        List of interpolation points (i.e., x-values) used\n",
    "    x_test : array_like\n",
    "        List of inputs to evaluate the approximated function over\n",
    "        \n",
    "    Returns\n",
    "    -------\n",
    "    fa : array_like\n",
    "        Vector of approximated function values for each x in x_test\n",
    "    f : array_like\n",
    "        Vector of true function\n",
    "    err : float_like\n",
    "        Error calculated as a 2-norm using x_test\n",
    "    \n",
    "    \"\"\"\n",
    "    \n",
    "    ### YOUR CODE HERE ###\n",
    "    # get fa (vector of approximated function values for x_test)\n",
    "    \n",
    "    # get f (vector of true function values for x_test)\n",
    "\n",
    "    # get e (error vector)\n",
    "\n",
    "    # calculate error (2-norm)"
   ]
  },
  {
   "cell_type": "code",
   "execution_count": null,
   "metadata": {
    "id": "zcKcBPWXup8Y"
   },
   "outputs": [],
   "source": [
    "\"\"\"Check the solve_lagrange function\"\"\"\n",
    "a, b, n = 2, 5, 3\n",
    "c, A, condition, x_interpolate = solve_lagrange(a, b, n)\n",
    "\n",
    "# check output\n",
    "c_sol = np.array([-0.6886951995658905, 0.8322686285099006, -0.37625221889548544, 0.819289219220601])\n",
    "A_sol = np.array([[1, 0, 0, 0], [0, 1, 0, 0], [0, 0, 1, 0], [0, 0, 0, 1]])\n",
    "cond_sol = 1\n",
    "x_sol = [5, 4.25, 2.75, 2]\n",
    "print('c solution: ', c_sol)\n",
    "print('A solution: ', A_sol)\n",
    "print('Condition(A) solution: ', cond_sol)\n",
    "print('Interpolation points solution: ', x_sol)\n",
    "print('c output: ', c)\n",
    "print('A output: ', A)\n",
    "print('Condition(A) output: ', condition)\n",
    "print('Interpolation points output: ', x_interpolate)\n",
    "np.testing.assert_allclose(c, c_sol)\n",
    "np.testing.assert_allclose(A, A_sol)\n",
    "np.testing.assert_almost_equal(condition, cond_sol)\n",
    "np.testing.assert_allclose(x_interpolate, x_sol)\n",
    "print('TESTS PASSED')"
   ]
  },
  {
   "cell_type": "code",
   "execution_count": null,
   "metadata": {
    "id": "mKKzYZQaup8Y"
   },
   "outputs": [],
   "source": [
    "\"\"\"Check the approximate_lagrange function\"\"\"\n",
    "a, b, n = 2, 5, 3\n",
    "c = [0.819289219220601, -0.37625221889548544, 0.8322686285099006, -0.6886951995658905]\n",
    "x_interpolate = [2, 2.75, 4.25, 5]\n",
    "x_test = np.linspace(a, b, 7)\n",
    "fa, f, err = approximate_lagrange(c, x_interpolate, x_test)\n",
    "\n",
    "# check output\n",
    "fa_sol = [0.819289219220601, -0.28065695641855654, -0.2658431561710738, 0.2822452698004917, 0.7821229713335826, 0.652304598265641, -0.6886951995658905]\n",
    "f_sol = [0.81928922, 0.33973518, -0.79019693, -0.45781587, 0.74720996, 0.56044305, -0.6886952]\n",
    "err_sol = 1.1032593680772769\n",
    "print('fa solution: ', fa_sol)\n",
    "print('f solution: ', f_sol)\n",
    "print('err solution: ', err_sol)\n",
    "print('fa output: ', fa)\n",
    "print('f output: ', f)\n",
    "print('err output: ', err)\n",
    "np.testing.assert_allclose(fa, fa_sol)\n",
    "np.testing.assert_allclose(f, f_sol)\n",
    "np.testing.assert_almost_equal(err, err_sol)\n",
    "print('TESTS PASSED')\n",
    "print(' ')"
   ]
  },
  {
   "cell_type": "markdown",
   "metadata": {
    "id": "4Oi1Mcxuup8Y"
   },
   "source": [
    "## Part 2c: Lagrange vs. monomial experiment\n",
    "\n",
    "Write code to create the following (separate) plots:\n",
    "1. plot the approximated and true function for polynomial degrees $n = 3, 10, 20, 40$ (make a subplot with one subplot for each $n$),\n",
    "1. plot the approximation error as a function of polynomial degree for $n = 3, 10, 20, 40$ **for the monomial AND Lagrange bases**,\n",
    "1. plot the condition number for $\\boldsymbol{A}$ as a function of polynomial degree for $n = 3, 10, 20, 40$ **for the monomial AND Lagrange bases**.\n",
    "\n",
    "Define $x_{test}$ as 1000 equally spaced points in the domain.\n",
    "\n",
    "Hints:\n",
    "- Use matplotlib's `tight_layout()` function to help with subplot axes arrangement. E.g., create your figure using `fig = plt.figure(figsize=(6, 4), tight_layout=True)`."
   ]
  },
  {
   "cell_type": "code",
   "execution_count": null,
   "metadata": {
    "id": "pkDbY4Rvup8Z"
   },
   "outputs": [],
   "source": [
    "### YOUR CODE HERE ###\n",
    "\n",
    "# define a, b, n values and x_test points\n",
    "\n",
    "# initialize lists for saving data\n",
    "\n",
    "# get data for each degree n\n",
    "    # get interpolation points (Chebyshev)\n",
    "    \n",
    "    # get true function values for interpolation points (for plotting)\n",
    "    \n",
    "    # get monomial and Lagrange solutions\n",
    "    \n",
    "    # get monomial and Lagrange approximations for x_test\n",
    "    \n",
    "    # save data to lists\n",
    "    \n",
    "# plot interpolated and true functions (Lagrange)\n",
    "\n",
    "# plot error vs. n\n",
    "\n",
    "# plot condition number vs. n\n"
   ]
  },
  {
   "cell_type": "markdown",
   "metadata": {
    "id": "McV31DvZup8a"
   },
   "source": [
    "## Part 2d: Discussion (concept question)\n",
    "\n",
    "Discuss the following in the Markdown cell below.\n",
    "1. Use the plots from Part 2c to argue why the Lagrange basis is betted suited to polynomial interpolation than the monomial basis.\n",
    "1. Why does the monomial basis still give large errors even when using Chebyshev points?"
   ]
  },
  {
   "cell_type": "markdown",
   "metadata": {
    "id": "2a3xoAarup8a"
   },
   "source": [
    "YOUR ANSWER HERE"
   ]
  },
  {
   "cell_type": "markdown",
   "metadata": {
    "id": "3D0SWbJrup8a"
   },
   "source": [
    "# Problem 3: The importance of point distribution in polynomial interpolation\n",
    "\n",
    "Runge's problem is a famous case of when polynomial interpolation can go dramatically wrong. In fact, it is one of the primary reasons why many experts believe that polynomial interpolation is doomed to fail, when this is in fact **not true** provided that one uses the right set of interpolation points!\n",
    "\n",
    "We will investigate behavior of polynomial interpolants on Runge's problem now: consider interpolating $f(x) = \\frac{1}{1+x^2}$ over the interval $-5\\le x\\le 5$.\n",
    "\n",
    "Hint:\n",
    "- You may want to redefine the `f_true()` function to be $f(x) = \\frac{1}{1+x^2}$ for this problem. Just make sure you re-run the original `f_true()` function to set $f(x) = \\sin(\\cos(3x))$ if you re-run code for Problems 1 and 2 after running code for this problem. You can also modify the Lagrange functions created earlier to have an input argument specifying which $f(x)$ to assume."
   ]
  },
  {
   "cell_type": "markdown",
   "metadata": {
    "id": "DIGupo8oup8a"
   },
   "source": [
    "## Part 3a: Interpolation using equally spaced points\n",
    "\n",
    "Write code to interpolate $f(x)$ using equally spaced points with the Lagrange basis for polynomials of degree $n$."
   ]
  },
  {
   "cell_type": "code",
   "execution_count": null,
   "metadata": {
    "id": "pZ3CzLPnup8b"
   },
   "outputs": [],
   "source": [
    "def solve_lagrange_equispaced(a, b, n):\n",
    "    \"\"\"Returns the solution to polynomial interpolation of degree n in the domain [a, b] with a Lagrange basis using equispaced points.\n",
    "\n",
    "    This function assumes an f_true(x) function is globally available for calculating the true function value at x.\n",
    "    \n",
    "    Parameters\n",
    "    ----------\n",
    "    a : float_like\n",
    "        Lower bound of domain (inclusive)\n",
    "    b : float_like\n",
    "        Upper bound of domain (inclusive)\n",
    "    n : integer\n",
    "        Polynomial degree\n",
    "        \n",
    "    Returns\n",
    "    -------\n",
    "    c : array_like\n",
    "        c vector of coefficients for polynomial interpolation satisfying Ac = f\n",
    "    A : array_like\n",
    "        A matrix for polynomial interpolation satisfying Ac = f\n",
    "    condition : float_like\n",
    "        Condition number for the A matrix\n",
    "    x_interpolate : array_like\n",
    "        List of interpolation points (i.e., x-values) used\n",
    "    \n",
    "    \"\"\"\n",
    "    \n",
    "    ### YOUR CODE HERE ###\n",
    "    # get interpolation points\n",
    "\n",
    "    # build A matrix\n",
    "    \n",
    "    # get f (vector of true function values for interpolation points)\n",
    "    \n",
    "    # solve matrix system\n",
    "    \n",
    "    # get cond(A)\n",
    "    "
   ]
  },
  {
   "cell_type": "markdown",
   "metadata": {
    "id": "3jpbSAxXup8b"
   },
   "source": [
    "## Part 3b: Equally spaced vs. Chebyshev points experiment \n",
    "\n",
    "Write code to create the following (separate) plots:\n",
    "1. plot the approximated and true function for polynomial interpolation using the Lagrange basis with degrees $n = 5, 10, 10$ (make a subplot with one subplot for each $n$) **when using equally spaced points AND Chebyshev points**,\n",
    "1. plot the approximation error as a function of polynomial degree for $n = 5, 10, 20$ **when using equally spaced AND Chebyshev points**.\n",
    "\n",
    "Define $x_{test}$ as 1000 equally spaced points in the domain."
   ]
  },
  {
   "cell_type": "code",
   "execution_count": null,
   "metadata": {
    "id": "ML1qYa06up8b"
   },
   "outputs": [],
   "source": [
    "### YOUR CODE HERE ###\n",
    "\n",
    "# redefine f_true\n",
    "\n",
    "# define a, b, n values and x_test points\n",
    "\n",
    "# initialize lists for saving data\n",
    "\n",
    "# get data for each degree n\n",
    "    # get equal and Chebyshev solutions\n",
    "\n",
    "    # get monomial and Lagrange approximations for x_test\n",
    "\n",
    "    # save data to lists\n",
    "\n",
    "# plot interpolated and true functions\n"
   ]
  }
 ],
 "metadata": {
  "colab": {
   "provenance": []
  },
  "interpreter": {
   "hash": "a97ac6eb1163bf65c33d5aec8c99a9b30947bb9e54942e8592cdb1fb5752fc4d"
  },
  "kernelspec": {
   "display_name": "Python 3 (ipykernel)",
   "language": "python",
   "name": "python3"
  },
  "language_info": {
   "codemirror_mode": {
    "name": "ipython",
    "version": 3
   },
   "file_extension": ".py",
   "mimetype": "text/x-python",
   "name": "python",
   "nbconvert_exporter": "python",
   "pygments_lexer": "ipython3",
   "version": "3.11.5"
  }
 },
 "nbformat": 4,
 "nbformat_minor": 4
}
